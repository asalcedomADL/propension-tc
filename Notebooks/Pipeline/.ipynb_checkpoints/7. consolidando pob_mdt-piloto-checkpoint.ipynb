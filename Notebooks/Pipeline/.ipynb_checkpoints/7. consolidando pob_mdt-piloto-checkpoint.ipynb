{
 "cells": [
  {
   "cell_type": "markdown",
   "metadata": {},
   "source": [
    "# Consolidando MDT"
   ]
  },
  {
   "cell_type": "code",
   "execution_count": 1,
   "metadata": {},
   "outputs": [],
   "source": [
    "import pandas as pd\n",
    "import numpy as np\n",
    "import gc\n",
    "\n",
    "pd.set_option('display.max_columns',None)"
   ]
  },
  {
   "cell_type": "markdown",
   "metadata": {},
   "source": [
    "### Cargando Poblacion"
   ]
  },
  {
   "cell_type": "code",
   "execution_count": 2,
   "metadata": {},
   "outputs": [],
   "source": [
    "### Cargando Base\n",
    "poblacion_total = pd.read_parquet(\"s3://adl-refined-dev-popular/parquet/TC_adquisicion/base_ini202111\",engine='pyarrow')"
   ]
  },
  {
   "cell_type": "code",
   "execution_count": 3,
   "metadata": {},
   "outputs": [],
   "source": [
    "poblacion_total = poblacion_total.drop_duplicates(subset=['id_numero_cliente','fecha_camp'], keep='first')"
   ]
  },
  {
   "cell_type": "code",
   "execution_count": 4,
   "metadata": {},
   "outputs": [],
   "source": [
    "poblacion_total['periodo'] = '11-2021'"
   ]
  },
  {
   "cell_type": "code",
   "execution_count": 5,
   "metadata": {},
   "outputs": [
    {
     "data": {
      "text/plain": [
       "11-2021    326737\n",
       "Name: periodo, dtype: int64"
      ]
     },
     "execution_count": 5,
     "metadata": {},
     "output_type": "execute_result"
    }
   ],
   "source": [
    "poblacion_total['periodo'].value_counts().sort_index()"
   ]
  },
  {
   "cell_type": "code",
   "execution_count": 6,
   "metadata": {},
   "outputs": [],
   "source": [
    "## TODO: POR AHORA SOLO INFO 2019\n",
    "#poblacion_total = poblacion_total[poblacion_total['mes_campaña']<'2020-01-01']"
   ]
  },
  {
   "cell_type": "code",
   "execution_count": 7,
   "metadata": {},
   "outputs": [],
   "source": [
    "#Creación de fecha correspondiente para cruzar con la base buró\n",
    "poblacion_total['data_camp']=np.where((poblacion_total['periodo']=='11-2021') ,202110,\n",
    "                                      199901)"
   ]
  },
  {
   "cell_type": "code",
   "execution_count": 8,
   "metadata": {},
   "outputs": [],
   "source": [
    "#Creación de fecha correspondiente para cruzar con la base buró\n",
    "poblacion_total['fecha_buro']=np.where((poblacion_total['periodo']=='11-2021') ,202110,\n",
    "                                       199901)"
   ]
  },
  {
   "cell_type": "code",
   "execution_count": 9,
   "metadata": {},
   "outputs": [],
   "source": [
    "#Creación de fecha correspondiente para cruzar con la base activo\n",
    "poblacion_total['fecha_activos']=np.where((poblacion_total['periodo']=='11-2021') ,202109,\n",
    "                                         199901)"
   ]
  },
  {
   "cell_type": "code",
   "execution_count": 10,
   "metadata": {},
   "outputs": [],
   "source": [
    "#Creación de fecha correspondiente para cruzar con la base pasivo\n",
    "poblacion_total['fecha_pasivo']=np.where((poblacion_total['periodo']=='11-2021') ,202108,\n",
    "                                         199901)"
   ]
  },
  {
   "cell_type": "code",
   "execution_count": 11,
   "metadata": {},
   "outputs": [],
   "source": [
    "#Creación de fecha correspondiente para cruzar con la base libranza\n",
    "poblacion_total['fecha_lib']=np.where((poblacion_total['periodo']=='11-2021') ,202110,\n",
    "                                         199901)"
   ]
  },
  {
   "cell_type": "code",
   "execution_count": 12,
   "metadata": {},
   "outputs": [],
   "source": [
    "#Creación de fecha correspondiente para cruzar con la base tx pasivo\n",
    "poblacion_total['fecha_tx_pav']=np.where((poblacion_total['periodo']=='11-2021') ,202110,\n",
    "                                         199901)"
   ]
  },
  {
   "cell_type": "code",
   "execution_count": 13,
   "metadata": {},
   "outputs": [
    {
     "data": {
      "text/html": [
       "<div>\n",
       "<style scoped>\n",
       "    .dataframe tbody tr th:only-of-type {\n",
       "        vertical-align: middle;\n",
       "    }\n",
       "\n",
       "    .dataframe tbody tr th {\n",
       "        vertical-align: top;\n",
       "    }\n",
       "\n",
       "    .dataframe thead th {\n",
       "        text-align: right;\n",
       "    }\n",
       "</style>\n",
       "<table border=\"1\" class=\"dataframe\">\n",
       "  <thead>\n",
       "    <tr style=\"text-align: right;\">\n",
       "      <th></th>\n",
       "      <th>id_numero_cliente</th>\n",
       "      <th>id_tp_cd</th>\n",
       "      <th>id_cliente</th>\n",
       "      <th>fecha_camp</th>\n",
       "      <th>periodo</th>\n",
       "      <th>data_camp</th>\n",
       "      <th>fecha_buro</th>\n",
       "      <th>fecha_activos</th>\n",
       "      <th>fecha_pasivo</th>\n",
       "      <th>fecha_lib</th>\n",
       "      <th>fecha_tx_pav</th>\n",
       "    </tr>\n",
       "  </thead>\n",
       "  <tbody>\n",
       "    <tr>\n",
       "      <th>0</th>\n",
       "      <td>13544804</td>\n",
       "      <td>1000003</td>\n",
       "      <td>102652295880533801</td>\n",
       "      <td>202110</td>\n",
       "      <td>11-2021</td>\n",
       "      <td>202110</td>\n",
       "      <td>202110</td>\n",
       "      <td>202109</td>\n",
       "      <td>202108</td>\n",
       "      <td>202110</td>\n",
       "      <td>202110</td>\n",
       "    </tr>\n",
       "    <tr>\n",
       "      <th>1</th>\n",
       "      <td>6880226</td>\n",
       "      <td>1000003</td>\n",
       "      <td>102652295151150201</td>\n",
       "      <td>202110</td>\n",
       "      <td>11-2021</td>\n",
       "      <td>202110</td>\n",
       "      <td>202110</td>\n",
       "      <td>202109</td>\n",
       "      <td>202108</td>\n",
       "      <td>202110</td>\n",
       "      <td>202110</td>\n",
       "    </tr>\n",
       "    <tr>\n",
       "      <th>2</th>\n",
       "      <td>41311613</td>\n",
       "      <td>1000003</td>\n",
       "      <td>102652314595088801</td>\n",
       "      <td>202110</td>\n",
       "      <td>11-2021</td>\n",
       "      <td>202110</td>\n",
       "      <td>202110</td>\n",
       "      <td>202109</td>\n",
       "      <td>202108</td>\n",
       "      <td>202110</td>\n",
       "      <td>202110</td>\n",
       "    </tr>\n",
       "    <tr>\n",
       "      <th>3</th>\n",
       "      <td>36695801</td>\n",
       "      <td>1000003</td>\n",
       "      <td>102652308842687701</td>\n",
       "      <td>202110</td>\n",
       "      <td>11-2021</td>\n",
       "      <td>202110</td>\n",
       "      <td>202110</td>\n",
       "      <td>202109</td>\n",
       "      <td>202108</td>\n",
       "      <td>202110</td>\n",
       "      <td>202110</td>\n",
       "    </tr>\n",
       "    <tr>\n",
       "      <th>4</th>\n",
       "      <td>23173372</td>\n",
       "      <td>1000003</td>\n",
       "      <td>103552297266851902</td>\n",
       "      <td>202110</td>\n",
       "      <td>11-2021</td>\n",
       "      <td>202110</td>\n",
       "      <td>202110</td>\n",
       "      <td>202109</td>\n",
       "      <td>202108</td>\n",
       "      <td>202110</td>\n",
       "      <td>202110</td>\n",
       "    </tr>\n",
       "    <tr>\n",
       "      <th>...</th>\n",
       "      <td>...</td>\n",
       "      <td>...</td>\n",
       "      <td>...</td>\n",
       "      <td>...</td>\n",
       "      <td>...</td>\n",
       "      <td>...</td>\n",
       "      <td>...</td>\n",
       "      <td>...</td>\n",
       "      <td>...</td>\n",
       "      <td>...</td>\n",
       "      <td>...</td>\n",
       "    </tr>\n",
       "    <tr>\n",
       "      <th>326732</th>\n",
       "      <td>38225363</td>\n",
       "      <td>1000003</td>\n",
       "      <td>167163008185214713</td>\n",
       "      <td>202110</td>\n",
       "      <td>11-2021</td>\n",
       "      <td>202110</td>\n",
       "      <td>202110</td>\n",
       "      <td>202109</td>\n",
       "      <td>202108</td>\n",
       "      <td>202110</td>\n",
       "      <td>202110</td>\n",
       "    </tr>\n",
       "    <tr>\n",
       "      <th>326733</th>\n",
       "      <td>11426435</td>\n",
       "      <td>1000003</td>\n",
       "      <td>211263578316689502</td>\n",
       "      <td>202110</td>\n",
       "      <td>11-2021</td>\n",
       "      <td>202110</td>\n",
       "      <td>202110</td>\n",
       "      <td>202109</td>\n",
       "      <td>202108</td>\n",
       "      <td>202110</td>\n",
       "      <td>202110</td>\n",
       "    </tr>\n",
       "    <tr>\n",
       "      <th>326734</th>\n",
       "      <td>1094728009</td>\n",
       "      <td>1000003</td>\n",
       "      <td>171063576803460602</td>\n",
       "      <td>202110</td>\n",
       "      <td>11-2021</td>\n",
       "      <td>202110</td>\n",
       "      <td>202110</td>\n",
       "      <td>202109</td>\n",
       "      <td>202108</td>\n",
       "      <td>202110</td>\n",
       "      <td>202110</td>\n",
       "    </tr>\n",
       "    <tr>\n",
       "      <th>326735</th>\n",
       "      <td>6256520</td>\n",
       "      <td>1000003</td>\n",
       "      <td>325563590406932202</td>\n",
       "      <td>202110</td>\n",
       "      <td>11-2021</td>\n",
       "      <td>202110</td>\n",
       "      <td>202110</td>\n",
       "      <td>202109</td>\n",
       "      <td>202108</td>\n",
       "      <td>202110</td>\n",
       "      <td>202110</td>\n",
       "    </tr>\n",
       "    <tr>\n",
       "      <th>326736</th>\n",
       "      <td>1097638172</td>\n",
       "      <td>1000003</td>\n",
       "      <td>533763590005395202</td>\n",
       "      <td>202110</td>\n",
       "      <td>11-2021</td>\n",
       "      <td>202110</td>\n",
       "      <td>202110</td>\n",
       "      <td>202109</td>\n",
       "      <td>202108</td>\n",
       "      <td>202110</td>\n",
       "      <td>202110</td>\n",
       "    </tr>\n",
       "  </tbody>\n",
       "</table>\n",
       "<p>326737 rows × 11 columns</p>\n",
       "</div>"
      ],
      "text/plain": [
       "        id_numero_cliente  id_tp_cd          id_cliente  fecha_camp  periodo  \\\n",
       "0                13544804   1000003  102652295880533801      202110  11-2021   \n",
       "1                 6880226   1000003  102652295151150201      202110  11-2021   \n",
       "2                41311613   1000003  102652314595088801      202110  11-2021   \n",
       "3                36695801   1000003  102652308842687701      202110  11-2021   \n",
       "4                23173372   1000003  103552297266851902      202110  11-2021   \n",
       "...                   ...       ...                 ...         ...      ...   \n",
       "326732           38225363   1000003  167163008185214713      202110  11-2021   \n",
       "326733           11426435   1000003  211263578316689502      202110  11-2021   \n",
       "326734         1094728009   1000003  171063576803460602      202110  11-2021   \n",
       "326735            6256520   1000003  325563590406932202      202110  11-2021   \n",
       "326736         1097638172   1000003  533763590005395202      202110  11-2021   \n",
       "\n",
       "        data_camp  fecha_buro  fecha_activos  fecha_pasivo  fecha_lib  \\\n",
       "0          202110      202110         202109        202108     202110   \n",
       "1          202110      202110         202109        202108     202110   \n",
       "2          202110      202110         202109        202108     202110   \n",
       "3          202110      202110         202109        202108     202110   \n",
       "4          202110      202110         202109        202108     202110   \n",
       "...           ...         ...            ...           ...        ...   \n",
       "326732     202110      202110         202109        202108     202110   \n",
       "326733     202110      202110         202109        202108     202110   \n",
       "326734     202110      202110         202109        202108     202110   \n",
       "326735     202110      202110         202109        202108     202110   \n",
       "326736     202110      202110         202109        202108     202110   \n",
       "\n",
       "        fecha_tx_pav  \n",
       "0             202110  \n",
       "1             202110  \n",
       "2             202110  \n",
       "3             202110  \n",
       "4             202110  \n",
       "...              ...  \n",
       "326732        202110  \n",
       "326733        202110  \n",
       "326734        202110  \n",
       "326735        202110  \n",
       "326736        202110  \n",
       "\n",
       "[326737 rows x 11 columns]"
      ]
     },
     "execution_count": 13,
     "metadata": {},
     "output_type": "execute_result"
    }
   ],
   "source": [
    "poblacion_total"
   ]
  },
  {
   "cell_type": "code",
   "execution_count": 14,
   "metadata": {},
   "outputs": [],
   "source": [
    "# tx activos t-1\n",
    "# tx pasivos t-1"
   ]
  },
  {
   "cell_type": "code",
   "execution_count": 15,
   "metadata": {},
   "outputs": [
    {
     "data": {
      "text/plain": [
       "id_numero_cliente     int64\n",
       "id_tp_cd              int64\n",
       "id_cliente            int64\n",
       "fecha_camp            int64\n",
       "periodo              object\n",
       "data_camp             int64\n",
       "fecha_buro            int64\n",
       "fecha_activos         int64\n",
       "fecha_pasivo          int64\n",
       "fecha_lib             int64\n",
       "fecha_tx_pav          int64\n",
       "dtype: object"
      ]
     },
     "execution_count": 15,
     "metadata": {},
     "output_type": "execute_result"
    }
   ],
   "source": [
    "poblacion_total.dtypes"
   ]
  },
  {
   "cell_type": "code",
   "execution_count": 16,
   "metadata": {},
   "outputs": [
    {
     "data": {
      "text/plain": [
       "id_numero_cliente    326737\n",
       "id_tp_cd             326737\n",
       "id_cliente           326737\n",
       "fecha_camp           326737\n",
       "periodo              326737\n",
       "data_camp            326737\n",
       "fecha_buro           326737\n",
       "fecha_activos        326737\n",
       "fecha_pasivo         326737\n",
       "fecha_lib            326737\n",
       "fecha_tx_pav         326737\n",
       "dtype: int64"
      ]
     },
     "execution_count": 16,
     "metadata": {},
     "output_type": "execute_result"
    }
   ],
   "source": [
    "poblacion_total.count()"
   ]
  },
  {
   "cell_type": "code",
   "execution_count": 17,
   "metadata": {},
   "outputs": [],
   "source": [
    "# Cast ID\n",
    "poblacion_total = poblacion_total[poblacion_total['id_numero_cliente'].notnull()]\n",
    "poblacion_total['id_cliente'] = poblacion_total['id_cliente'].astype(int)\n",
    "poblacion_total['id_numero_cliente'] = poblacion_total['id_numero_cliente'].astype(int)"
   ]
  },
  {
   "cell_type": "code",
   "execution_count": 18,
   "metadata": {},
   "outputs": [],
   "source": [
    "poblacion_total = poblacion_total.drop_duplicates()"
   ]
  },
  {
   "cell_type": "markdown",
   "metadata": {},
   "source": [
    "### Guardando base pob"
   ]
  },
  {
   "cell_type": "code",
   "execution_count": 19,
   "metadata": {},
   "outputs": [
    {
     "data": {
      "text/plain": [
       "(326737, 11)"
      ]
     },
     "execution_count": 19,
     "metadata": {},
     "output_type": "execute_result"
    }
   ],
   "source": [
    "poblacion_total.shape"
   ]
  },
  {
   "cell_type": "code",
   "execution_count": 20,
   "metadata": {},
   "outputs": [],
   "source": [
    "### Guardando Base:\n",
    "path_final = 's3://adl-refined-dev-popular/parquet/TC_adquisicion/base_poblacion_M202111'\n",
    "\n",
    "poblacion_total.to_parquet(path_final, engine = 'pyarrow', index = False)"
   ]
  },
  {
   "cell_type": "code",
   "execution_count": 21,
   "metadata": {},
   "outputs": [
    {
     "ename": "NameError",
     "evalue": "name 'aaaaaaa' is not defined",
     "output_type": "error",
     "traceback": [
      "\u001b[0;31m---------------------------------------------------------------------------\u001b[0m",
      "\u001b[0;31mNameError\u001b[0m                                 Traceback (most recent call last)",
      "\u001b[0;32m<ipython-input-21-11be6ffe7b7e>\u001b[0m in \u001b[0;36m<module>\u001b[0;34m\u001b[0m\n\u001b[0;32m----> 1\u001b[0;31m \u001b[0maaaaaaa\u001b[0m\u001b[0;34m\u001b[0m\u001b[0;34m\u001b[0m\u001b[0m\n\u001b[0m",
      "\u001b[0;31mNameError\u001b[0m: name 'aaaaaaa' is not defined"
     ]
    }
   ],
   "source": [
    "aaaaaaa"
   ]
  },
  {
   "cell_type": "markdown",
   "metadata": {},
   "source": [
    "### Base tx pasv"
   ]
  },
  {
   "cell_type": "code",
   "execution_count": null,
   "metadata": {},
   "outputs": [],
   "source": [
    "import s3fs\n",
    "import pyarrow.parquet as pq\n",
    "\n",
    "fs = s3fs.S3FileSystem()\n",
    "\n",
    "input_path = \"s3://adl-refined-dev-popular/parquet/TC_adquisicion/tx_pasivo_202101_vars_finales_model_ambos2\"\n",
    "#input_path = \"s3://adl-refined-dev-popular/parquet/TC_adquisicion/total_tdc_piloto_sep\"\n",
    "\n",
    "input = input_path\n",
    "dataset = pq.ParquetDataset(input, filesystem=fs)\n",
    "lib = dataset.read()\n",
    "lib = lib.to_pandas()\n",
    "\n",
    "del dataset"
   ]
  },
  {
   "cell_type": "code",
   "execution_count": null,
   "metadata": {},
   "outputs": [],
   "source": [
    "lib.count().head(50)"
   ]
  },
  {
   "cell_type": "code",
   "execution_count": null,
   "metadata": {},
   "outputs": [],
   "source": [
    "lib.head()"
   ]
  },
  {
   "cell_type": "code",
   "execution_count": null,
   "metadata": {},
   "outputs": [],
   "source": [
    "lib = lib.drop_duplicates(subset=['ID_CLI'], keep='first')"
   ]
  },
  {
   "cell_type": "code",
   "execution_count": null,
   "metadata": {},
   "outputs": [],
   "source": [
    "lib.count()"
   ]
  },
  {
   "cell_type": "code",
   "execution_count": null,
   "metadata": {},
   "outputs": [],
   "source": [
    "lib['fecha_tx_pav'] = lib['PERIODO'].astype('int')"
   ]
  },
  {
   "cell_type": "code",
   "execution_count": null,
   "metadata": {},
   "outputs": [],
   "source": [
    "lib.to_parquet(\"s3://adl-refined-dev-popular/parquet/TC_adquisicion/tx_pasivo_202101_vars_finales_model_ambos2\", engine = 'pyarrow', index=False)"
   ]
  }
 ],
 "metadata": {
  "kernelspec": {
   "display_name": "Python 3",
   "language": "python",
   "name": "python3"
  },
  "language_info": {
   "codemirror_mode": {
    "name": "ipython",
    "version": 3
   },
   "file_extension": ".py",
   "mimetype": "text/x-python",
   "name": "python",
   "nbconvert_exporter": "python",
   "pygments_lexer": "ipython3",
   "version": "3.7.3"
  }
 },
 "nbformat": 4,
 "nbformat_minor": 2
}
