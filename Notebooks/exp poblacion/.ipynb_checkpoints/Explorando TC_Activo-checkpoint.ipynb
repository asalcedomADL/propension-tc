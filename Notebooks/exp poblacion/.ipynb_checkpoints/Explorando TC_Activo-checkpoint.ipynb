{
 "cells": [
  {
   "cell_type": "markdown",
   "metadata": {},
   "source": [
    "## Explorando Transacciones de TC"
   ]
  },
  {
   "cell_type": "markdown",
   "metadata": {},
   "source": [
    "Código para explorar la información de trasacciones del activo"
   ]
  },
  {
   "cell_type": "code",
   "execution_count": 1,
   "metadata": {},
   "outputs": [],
   "source": [
    "import pandas as pd\n",
    "import numpy as np\n",
    "import pickle\n",
    "import seaborn as sns; sns.set()\n",
    "import matplotlib.pyplot as plt\n",
    "import pandas_profiling\n",
    "import os\n",
    "from datetime import datetime, timedelta\n",
    "import dateutil.relativedelta\n",
    "import gc\n",
    "\n",
    "pd.set_option('display.max_columns',None)"
   ]
  },
  {
   "cell_type": "markdown",
   "metadata": {},
   "source": [
    "### Code to read csv with errors"
   ]
  },
  {
   "cell_type": "code",
   "execution_count": 2,
   "metadata": {},
   "outputs": [
    {
     "ename": "FileNotFoundError",
     "evalue": "[Errno 2] No such file or directory: 's3://adl-refined-dev-popular/data_orig/transacciones/tarjeta-credito/transacciones_tarjeta-credito_repgesco-masterfile_M202002.csv'",
     "output_type": "error",
     "traceback": [
      "\u001b[0;31m---------------------------------------------------------------------------\u001b[0m",
      "\u001b[0;31mFileNotFoundError\u001b[0m                         Traceback (most recent call last)",
      "\u001b[0;32m<ipython-input-2-4f4ae9b03bea>\u001b[0m in \u001b[0;36m<module>\u001b[0;34m\u001b[0m\n\u001b[1;32m      1\u001b[0m \u001b[0mpath_file\u001b[0m\u001b[0;34m=\u001b[0m\u001b[0;34m's3://adl-refined-dev-popular/data_orig/transacciones/tarjeta-credito/transacciones_tarjeta-credito_repgesco-masterfile_M202002.csv'\u001b[0m\u001b[0;34m\u001b[0m\u001b[0;34m\u001b[0m\u001b[0m\n\u001b[1;32m      2\u001b[0m \u001b[0;34m\u001b[0m\u001b[0m\n\u001b[0;32m----> 3\u001b[0;31m \u001b[0mfile\u001b[0m \u001b[0;34m=\u001b[0m \u001b[0mopen\u001b[0m\u001b[0;34m(\u001b[0m\u001b[0mpath_file\u001b[0m\u001b[0;34m,\u001b[0m \u001b[0;34m\"r\"\u001b[0m\u001b[0;34m)\u001b[0m\u001b[0;34m\u001b[0m\u001b[0;34m\u001b[0m\u001b[0m\n\u001b[0m\u001b[1;32m      4\u001b[0m \u001b[0;32mfor\u001b[0m \u001b[0mix\u001b[0m\u001b[0;34m,\u001b[0m\u001b[0mline\u001b[0m \u001b[0;32min\u001b[0m \u001b[0menumerate\u001b[0m\u001b[0;34m(\u001b[0m\u001b[0mfile\u001b[0m\u001b[0;34m)\u001b[0m\u001b[0;34m:\u001b[0m\u001b[0;34m\u001b[0m\u001b[0;34m\u001b[0m\u001b[0m\n\u001b[1;32m      5\u001b[0m     \u001b[0;32mif\u001b[0m \u001b[0mix\u001b[0m\u001b[0;34m<\u001b[0m\u001b[0;36m10\u001b[0m\u001b[0;34m:\u001b[0m\u001b[0;34m\u001b[0m\u001b[0;34m\u001b[0m\u001b[0m\n",
      "\u001b[0;31mFileNotFoundError\u001b[0m: [Errno 2] No such file or directory: 's3://adl-refined-dev-popular/data_orig/transacciones/tarjeta-credito/transacciones_tarjeta-credito_repgesco-masterfile_M202002.csv'"
     ]
    }
   ],
   "source": [
    "# path_file='/mnt/s3-refined-popular/data_orig/transacciones/tarjeta-credito/transacciones_tarjeta-credito_repgesco-masterfile_M202002.csv'\n",
    "\n",
    "# file = open(path_file, \"r\")\n",
    "# for ix,line in enumerate(file):\n",
    "#     if ix<10:\n",
    "#         print(line)\n"
   ]
  },
  {
   "cell_type": "code",
   "execution_count": 3,
   "metadata": {},
   "outputs": [
    {
     "name": "stderr",
     "output_type": "stream",
     "text": [
      "/home/jupyter/anaconda3/lib/python3.7/site-packages/IPython/core/interactiveshell.py:3049: DtypeWarning: Columns (0,3,7,17,18,21,23,24,26,28,30) have mixed types. Specify dtype option on import or set low_memory=False.\n",
      "  interactivity=interactivity, compiler=compiler, result=result)\n"
     ]
    }
   ],
   "source": [
    "path_file='s3://adl-refined-dev-popular/data_orig/transacciones/tarjeta-credito/transacciones_tarjeta-credito_repgesco-masterfile_M202002.csv'\n",
    "\n",
    "data = pd.read_csv(path_file, sep = '|', encoding='ISO8859-1',quoting=1, dtype={'CONT_ID':str})"
   ]
  },
  {
   "cell_type": "code",
   "execution_count": 4,
   "metadata": {},
   "outputs": [
    {
     "data": {
      "text/plain": [
       "(289402, 33)"
      ]
     },
     "execution_count": 4,
     "metadata": {},
     "output_type": "execute_result"
    }
   ],
   "source": [
    "data.shape"
   ]
  },
  {
   "cell_type": "code",
   "execution_count": 5,
   "metadata": {},
   "outputs": [
    {
     "data": {
      "text/html": [
       "<div>\n",
       "<style scoped>\n",
       "    .dataframe tbody tr th:only-of-type {\n",
       "        vertical-align: middle;\n",
       "    }\n",
       "\n",
       "    .dataframe tbody tr th {\n",
       "        vertical-align: top;\n",
       "    }\n",
       "\n",
       "    .dataframe thead th {\n",
       "        text-align: right;\n",
       "    }\n",
       "</style>\n",
       "<table border=\"1\" class=\"dataframe\">\n",
       "  <thead>\n",
       "    <tr style=\"text-align: right;\">\n",
       "      <th></th>\n",
       "      <th>TIPO_ID</th>\n",
       "      <th>TIPO_ID_HOMOL</th>\n",
       "      <th>CONT_ID</th>\n",
       "      <th>IDENTIFICACION_CLIENTE</th>\n",
       "      <th>NRO_CUENTA</th>\n",
       "      <th>NUMERO_TARJETA</th>\n",
       "      <th>BIN</th>\n",
       "      <th>COD_UNICO_TRX</th>\n",
       "      <th>DESCRIPCION_TRX</th>\n",
       "      <th>FECHA_TRANSACCION</th>\n",
       "      <th>HORA_TRANSACCION</th>\n",
       "      <th>FECHA_PROCESO</th>\n",
       "      <th>TIPO_DE_PRODUCTO_TC</th>\n",
       "      <th>CODIGO_SERVICIO</th>\n",
       "      <th>VALOR_TOTAL</th>\n",
       "      <th>VALOR_IVA</th>\n",
       "      <th>VALOR_PROPINA</th>\n",
       "      <th>REFERENCIA</th>\n",
       "      <th>TIPO_TRANSACCION</th>\n",
       "      <th>NOMBRE_COMERCIO</th>\n",
       "      <th>CIUDAD_COMERCIO</th>\n",
       "      <th>ESTADO_COMERCIO</th>\n",
       "      <th>FECHA_TRX_INT</th>\n",
       "      <th>VALOR_MONEDA_ORIGEN</th>\n",
       "      <th>COD_MONEDA_ORIGEN</th>\n",
       "      <th>MODULO_LOGICO</th>\n",
       "      <th>COD_AUTORIZA</th>\n",
       "      <th>MCC</th>\n",
       "      <th>COD_ESTABLE</th>\n",
       "      <th>CUOTAS</th>\n",
       "      <th>REFEREN_UNIVERSAL</th>\n",
       "      <th>FUENTE</th>\n",
       "      <th>FECHA_PERIODO</th>\n",
       "    </tr>\n",
       "  </thead>\n",
       "  <tbody>\n",
       "    <tr>\n",
       "      <th>289397</th>\n",
       "      <td>1</td>\n",
       "      <td>1000003</td>\n",
       "      <td>489152297293594301</td>\n",
       "      <td>23550107</td>\n",
       "      <td>5392386036191081979</td>\n",
       "      <td>000539******0847</td>\n",
       "      <td>539238</td>\n",
       "      <td>MT200420260000010002140</td>\n",
       "      <td>AVANCE PINPAD BANCO POPULAR</td>\n",
       "      <td>11/02/2020</td>\n",
       "      <td>12:14:54</td>\n",
       "      <td>11/02/2020</td>\n",
       "      <td>TRADICIONAL</td>\n",
       "      <td>6011.0</td>\n",
       "      <td>2000000.0</td>\n",
       "      <td>0.0</td>\n",
       "      <td>0.0</td>\n",
       "      <td>MT200420260000010002140</td>\n",
       "      <td>D</td>\n",
       "      <td>AVANCE PINPAD BANCO PO</td>\n",
       "      <td>ULAR</td>\n",
       "      <td></td>\n",
       "      <td>/E /AVAN</td>\n",
       "      <td>NPAD BANCO POP</td>\n",
       "      <td>LAR</td>\n",
       "      <td>1.0</td>\n",
       "      <td>Z09348</td>\n",
       "      <td>6011.0</td>\n",
       "      <td>000000000000066</td>\n",
       "      <td>36</td>\n",
       "      <td>20200420000002027401464</td>\n",
       "      <td>MASTERFILE</td>\n",
       "      <td>02/2020</td>\n",
       "    </tr>\n",
       "    <tr>\n",
       "      <th>289398</th>\n",
       "      <td>1</td>\n",
       "      <td>1000003</td>\n",
       "      <td>958052306001453702</td>\n",
       "      <td>55229788</td>\n",
       "      <td>5392386032337817053</td>\n",
       "      <td>000539******3417</td>\n",
       "      <td>539238</td>\n",
       "      <td>MT200480168000010000906</td>\n",
       "      <td>AVANCE CAJERO RED AVAL</td>\n",
       "      <td>15/02/2020</td>\n",
       "      <td>15:19:08</td>\n",
       "      <td>17/02/2020</td>\n",
       "      <td>TRADICIONAL</td>\n",
       "      <td>6011.0</td>\n",
       "      <td>400000.0</td>\n",
       "      <td>0.0</td>\n",
       "      <td>0.0</td>\n",
       "      <td>MT200480168000010000906</td>\n",
       "      <td>D</td>\n",
       "      <td>AVANCE CAJERO RED AVAL</td>\n",
       "      <td></td>\n",
       "      <td></td>\n",
       "      <td>/E /AVAN</td>\n",
       "      <td>JERO RED AVAL</td>\n",
       "      <td></td>\n",
       "      <td>1.0</td>\n",
       "      <td>Z09617</td>\n",
       "      <td>6011.0</td>\n",
       "      <td>000000000000000</td>\n",
       "      <td>36</td>\n",
       "      <td>20200460000004330026687</td>\n",
       "      <td>MASTERFILE</td>\n",
       "      <td>02/2020</td>\n",
       "    </tr>\n",
       "    <tr>\n",
       "      <th>289399</th>\n",
       "      <td>1</td>\n",
       "      <td>1000003</td>\n",
       "      <td>144652304659467802</td>\n",
       "      <td>88000057</td>\n",
       "      <td>5392386038590920013</td>\n",
       "      <td>000539******5827</td>\n",
       "      <td>539238</td>\n",
       "      <td>MT200410170000010000683</td>\n",
       "      <td>AVANCE CAJERO RED AVAL</td>\n",
       "      <td>08/02/2020</td>\n",
       "      <td>15:57:52</td>\n",
       "      <td>10/02/2020</td>\n",
       "      <td>TRADICIONAL</td>\n",
       "      <td>6011.0</td>\n",
       "      <td>120000.0</td>\n",
       "      <td>0.0</td>\n",
       "      <td>0.0</td>\n",
       "      <td>MT200410170000010000683</td>\n",
       "      <td>D</td>\n",
       "      <td>AVANCE CAJERO RED AVAL</td>\n",
       "      <td></td>\n",
       "      <td></td>\n",
       "      <td>/E /AVAN</td>\n",
       "      <td>JERO RED AVAL</td>\n",
       "      <td></td>\n",
       "      <td>1.0</td>\n",
       "      <td>Z09826</td>\n",
       "      <td>6011.0</td>\n",
       "      <td>000000000000000</td>\n",
       "      <td>36</td>\n",
       "      <td>20200390000004660034557</td>\n",
       "      <td>MASTERFILE</td>\n",
       "      <td>02/2020</td>\n",
       "    </tr>\n",
       "    <tr>\n",
       "      <th>289400</th>\n",
       "      <td>1</td>\n",
       "      <td>1000003</td>\n",
       "      <td>213152307484967801</td>\n",
       "      <td>52428034</td>\n",
       "      <td>5392386039150735395</td>\n",
       "      <td>000539******0553</td>\n",
       "      <td>539238</td>\n",
       "      <td>MT200360260000010002207</td>\n",
       "      <td>AVANCE CAJERO RED AVAL</td>\n",
       "      <td>05/02/2020</td>\n",
       "      <td>60:64:1</td>\n",
       "      <td>05/02/2020</td>\n",
       "      <td>TRADICIONAL</td>\n",
       "      <td>6011.0</td>\n",
       "      <td>100000.0</td>\n",
       "      <td>0.0</td>\n",
       "      <td>0.0</td>\n",
       "      <td>MT200360260000010002207</td>\n",
       "      <td>D</td>\n",
       "      <td>AVANCE CAJERO RED AVAL</td>\n",
       "      <td></td>\n",
       "      <td></td>\n",
       "      <td>/E /AVAN</td>\n",
       "      <td>JERO RED AVAL</td>\n",
       "      <td></td>\n",
       "      <td>1.0</td>\n",
       "      <td>Z09883</td>\n",
       "      <td>6011.0</td>\n",
       "      <td>000000000000000</td>\n",
       "      <td>36</td>\n",
       "      <td>20200360000004380013116</td>\n",
       "      <td>MASTERFILE</td>\n",
       "      <td>02/2020</td>\n",
       "    </tr>\n",
       "    <tr>\n",
       "      <th>289401</th>\n",
       "      <td>1</td>\n",
       "      <td>1000003</td>\n",
       "      <td>881452310430482501</td>\n",
       "      <td>43497352</td>\n",
       "      <td>5392386033567628764</td>\n",
       "      <td>000539******4477</td>\n",
       "      <td>539238</td>\n",
       "      <td>MT200480168000010000883</td>\n",
       "      <td>AVANCE CAJERO RED AVAL</td>\n",
       "      <td>15/02/2020</td>\n",
       "      <td>14:48:15</td>\n",
       "      <td>17/02/2020</td>\n",
       "      <td>TRADICIONAL</td>\n",
       "      <td>6011.0</td>\n",
       "      <td>210000.0</td>\n",
       "      <td>0.0</td>\n",
       "      <td>0.0</td>\n",
       "      <td>MT200480168000010000883</td>\n",
       "      <td>D</td>\n",
       "      <td>AVANCE CAJERO RED AVAL</td>\n",
       "      <td></td>\n",
       "      <td></td>\n",
       "      <td>/E /AVAN</td>\n",
       "      <td>JERO RED AVAL</td>\n",
       "      <td></td>\n",
       "      <td>1.0</td>\n",
       "      <td>Z09980</td>\n",
       "      <td>6011.0</td>\n",
       "      <td>000000000000000</td>\n",
       "      <td>36</td>\n",
       "      <td>20200460000004980090132</td>\n",
       "      <td>MASTERFILE</td>\n",
       "      <td>02/2020</td>\n",
       "    </tr>\n",
       "  </tbody>\n",
       "</table>\n",
       "</div>"
      ],
      "text/plain": [
       "       TIPO_ID  TIPO_ID_HOMOL             CONT_ID IDENTIFICACION_CLIENTE  \\\n",
       "289397       1        1000003  489152297293594301               23550107   \n",
       "289398       1        1000003  958052306001453702               55229788   \n",
       "289399       1        1000003  144652304659467802               88000057   \n",
       "289400       1        1000003  213152307484967801               52428034   \n",
       "289401       1        1000003  881452310430482501               43497352   \n",
       "\n",
       "                 NRO_CUENTA    NUMERO_TARJETA     BIN  \\\n",
       "289397  5392386036191081979  000539******0847  539238   \n",
       "289398  5392386032337817053  000539******3417  539238   \n",
       "289399  5392386038590920013  000539******5827  539238   \n",
       "289400  5392386039150735395  000539******0553  539238   \n",
       "289401  5392386033567628764  000539******4477  539238   \n",
       "\n",
       "                  COD_UNICO_TRX                           DESCRIPCION_TRX  \\\n",
       "289397  MT200420260000010002140  AVANCE PINPAD BANCO POPULAR                \n",
       "289398  MT200480168000010000906  AVANCE CAJERO RED AVAL                     \n",
       "289399  MT200410170000010000683  AVANCE CAJERO RED AVAL                     \n",
       "289400  MT200360260000010002207  AVANCE CAJERO RED AVAL                     \n",
       "289401  MT200480168000010000883  AVANCE CAJERO RED AVAL                     \n",
       "\n",
       "       FECHA_TRANSACCION HORA_TRANSACCION FECHA_PROCESO TIPO_DE_PRODUCTO_TC  \\\n",
       "289397        11/02/2020         12:14:54    11/02/2020         TRADICIONAL   \n",
       "289398        15/02/2020         15:19:08    17/02/2020         TRADICIONAL   \n",
       "289399        08/02/2020         15:57:52    10/02/2020         TRADICIONAL   \n",
       "289400        05/02/2020          60:64:1    05/02/2020         TRADICIONAL   \n",
       "289401        15/02/2020         14:48:15    17/02/2020         TRADICIONAL   \n",
       "\n",
       "        CODIGO_SERVICIO  VALOR_TOTAL  VALOR_IVA  VALOR_PROPINA  \\\n",
       "289397           6011.0    2000000.0        0.0            0.0   \n",
       "289398           6011.0     400000.0        0.0            0.0   \n",
       "289399           6011.0     120000.0        0.0            0.0   \n",
       "289400           6011.0     100000.0        0.0            0.0   \n",
       "289401           6011.0     210000.0        0.0            0.0   \n",
       "\n",
       "                     REFERENCIA TIPO_TRANSACCION         NOMBRE_COMERCIO  \\\n",
       "289397  MT200420260000010002140                D  AVANCE PINPAD BANCO PO   \n",
       "289398  MT200480168000010000906                D  AVANCE CAJERO RED AVAL   \n",
       "289399  MT200410170000010000683                D  AVANCE CAJERO RED AVAL   \n",
       "289400  MT200360260000010002207                D  AVANCE CAJERO RED AVAL   \n",
       "289401  MT200480168000010000883                D  AVANCE CAJERO RED AVAL   \n",
       "\n",
       "       CIUDAD_COMERCIO ESTADO_COMERCIO FECHA_TRX_INT VALOR_MONEDA_ORIGEN  \\\n",
       "289397   ULAR                               /E /AVAN      NPAD BANCO POP   \n",
       "289398                                      /E /AVAN      JERO RED AVAL    \n",
       "289399                                      /E /AVAN      JERO RED AVAL    \n",
       "289400                                      /E /AVAN      JERO RED AVAL    \n",
       "289401                                      /E /AVAN      JERO RED AVAL    \n",
       "\n",
       "       COD_MONEDA_ORIGEN  MODULO_LOGICO COD_AUTORIZA     MCC  \\\n",
       "289397               LAR            1.0       Z09348  6011.0   \n",
       "289398                              1.0       Z09617  6011.0   \n",
       "289399                              1.0       Z09826  6011.0   \n",
       "289400                              1.0       Z09883  6011.0   \n",
       "289401                              1.0       Z09980  6011.0   \n",
       "\n",
       "             COD_ESTABLE  CUOTAS        REFEREN_UNIVERSAL      FUENTE  \\\n",
       "289397  000000000000066       36  20200420000002027401464  MASTERFILE   \n",
       "289398  000000000000000       36  20200460000004330026687  MASTERFILE   \n",
       "289399  000000000000000       36  20200390000004660034557  MASTERFILE   \n",
       "289400  000000000000000       36  20200360000004380013116  MASTERFILE   \n",
       "289401  000000000000000       36  20200460000004980090132  MASTERFILE   \n",
       "\n",
       "       FECHA_PERIODO  \n",
       "289397       02/2020  \n",
       "289398       02/2020  \n",
       "289399       02/2020  \n",
       "289400       02/2020  \n",
       "289401       02/2020  "
      ]
     },
     "execution_count": 5,
     "metadata": {},
     "output_type": "execute_result"
    }
   ],
   "source": [
    "data.tail()"
   ]
  },
  {
   "cell_type": "code",
   "execution_count": 6,
   "metadata": {},
   "outputs": [
    {
     "data": {
      "text/plain": [
       "['TIPO_ID',\n",
       " 'CONT_ID',\n",
       " 'IDENTIFICACION_CLIENTE',\n",
       " 'NUMERO_TARJETA',\n",
       " 'COD_UNICO_TRX',\n",
       " 'DESCRIPCION_TRX',\n",
       " 'FECHA_TRANSACCION',\n",
       " 'HORA_TRANSACCION',\n",
       " 'FECHA_PROCESO',\n",
       " 'TIPO_DE_PRODUCTO_TC',\n",
       " 'REFERENCIA',\n",
       " 'TIPO_TRANSACCION',\n",
       " 'NOMBRE_COMERCIO',\n",
       " 'CIUDAD_COMERCIO',\n",
       " 'ESTADO_COMERCIO',\n",
       " 'FECHA_TRX_INT',\n",
       " 'VALOR_MONEDA_ORIGEN',\n",
       " 'COD_MONEDA_ORIGEN',\n",
       " 'COD_AUTORIZA',\n",
       " 'COD_ESTABLE',\n",
       " 'REFEREN_UNIVERSAL',\n",
       " 'FUENTE',\n",
       " 'FECHA_PERIODO']"
      ]
     },
     "execution_count": 6,
     "metadata": {},
     "output_type": "execute_result"
    }
   ],
   "source": [
    "col_obj = list(data.dtypes[data.dtypes=='object'].index)\n",
    "col_obj"
   ]
  },
  {
   "cell_type": "code",
   "execution_count": 7,
   "metadata": {},
   "outputs": [],
   "source": [
    "# Eliminate blank spaces\n",
    "data.loc[:,col_obj] = data[col_obj].apply(lambda col: col.str.strip(), axis=1)"
   ]
  },
  {
   "cell_type": "code",
   "execution_count": 8,
   "metadata": {},
   "outputs": [
    {
     "data": {
      "text/plain": [
       "REPGESCODES    198548\n",
       "MASTERFILE      90854\n",
       "Name: FUENTE, dtype: int64"
      ]
     },
     "execution_count": 8,
     "metadata": {},
     "output_type": "execute_result"
    }
   ],
   "source": [
    "data['FUENTE'].value_counts()"
   ]
  },
  {
   "cell_type": "code",
   "execution_count": 9,
   "metadata": {},
   "outputs": [
    {
     "data": {
      "text/plain": [
       "Expres         145658\n",
       "TRADICIONAL     90854\n",
       "LA 14           47736\n",
       "Name: TIPO_DE_PRODUCTO_TC, dtype: int64"
      ]
     },
     "execution_count": 9,
     "metadata": {},
     "output_type": "execute_result"
    }
   ],
   "source": [
    "data['TIPO_DE_PRODUCTO_TC'].value_counts()"
   ]
  },
  {
   "cell_type": "code",
   "execution_count": 14,
   "metadata": {},
   "outputs": [
    {
     "data": {
      "text/plain": [
       "31091222694.380005"
      ]
     },
     "execution_count": 14,
     "metadata": {},
     "output_type": "execute_result"
    }
   ],
   "source": [
    "data.loc[data['TIPO_DE_PRODUCTO_TC']=='TRADICIONAL','VALOR_TOTAL'].sum()"
   ]
  },
  {
   "cell_type": "code",
   "execution_count": 11,
   "metadata": {},
   "outputs": [
    {
     "data": {
      "text/plain": [
       "CO     58363\n",
       "       24015\n",
       "CA      1385\n",
       "GB      1330\n",
       "GR       818\n",
       "       ...  \n",
       "TR         1\n",
       "MS         1\n",
       "MLT        1\n",
       "ADC        1\n",
       "KY         1\n",
       "Name: ESTADO_COMERCIO, Length: 144, dtype: int64"
      ]
     },
     "execution_count": 11,
     "metadata": {},
     "output_type": "execute_result"
    }
   ],
   "source": [
    "data['ESTADO_COMERCIO'].value_counts()"
   ]
  },
  {
   "cell_type": "code",
   "execution_count": 12,
   "metadata": {},
   "outputs": [
    {
     "data": {
      "text/plain": [
       "              190141\n",
       "BOGOTA DC      28218\n",
       "LAR             5364\n",
       "CALI            5256\n",
       "Athens          4182\n",
       "               ...  \n",
       "05212              1\n",
       "Washington         1\n",
       "ASHVILLE           1\n",
       "25035              1\n",
       "Poznan             1\n",
       "Name: CIUDAD_COMERCIO, Length: 2561, dtype: int64"
      ]
     },
     "execution_count": 12,
     "metadata": {},
     "output_type": "execute_result"
    }
   ],
   "source": [
    "data['CIUDAD_COMERCIO'].value_counts()"
   ]
  },
  {
   "cell_type": "code",
   "execution_count": 28,
   "metadata": {},
   "outputs": [],
   "source": [
    "## Filtrando tarjetas tradicionales\n",
    "data_trad = data[data['TIPO_DE_PRODUCTO_TC']=='TRADICIONAL']\n",
    "data_expr = data[data['TIPO_DE_PRODUCTO_TC']=='Expres']\n",
    "data_14 = data[data['TIPO_DE_PRODUCTO_TC']=='LA 14']"
   ]
  },
  {
   "cell_type": "code",
   "execution_count": 31,
   "metadata": {},
   "outputs": [
    {
     "name": "stdout",
     "output_type": "stream",
     "text": [
      "------------------- Total ---------------------------\n",
      "Número de transacciones en febrero: 289402\n",
      "Valor total de transacciones en febrero: 60487035472.99\n",
      "Número de clientes que realizaron una transacción: 73254\n",
      "Transacciones promedio de clientes: 3.33\n",
      "------------------- Tradicional ---------------------------\n",
      "Número de transacciones en febrero TC tradicional: 90854\n",
      "Valor total de transacciones en febrero tc tradicional: 31091222694.38\n",
      "Número de clientes que realizaron una transacción de tc tradicional: 28231\n",
      "Transacciones promedio de clientes de tc tradicional: 3.2\n",
      "------------------- Express---------------------------\n",
      "Número de transacciones en febrero TC Express: 145658\n",
      "Valor total de transacciones en febrero tc Express: 20642210290.01\n",
      "Número de clientes que realizaron una transacción de tc Express: 32906\n",
      "Transacciones promedio de clientes de tc Express: 3.39\n",
      "------------------- La 14---------------------------\n",
      "Número de transacciones en febrero TC la 14: 47736\n",
      "Valor total de transacciones en febrero tc La 14: 7243098023.63\n",
      "Número de clientes que realizaron una transacción de tc la 14: 11278\n",
      "Transacciones promedio de clientes de tc la 14: 3.37\n"
     ]
    }
   ],
   "source": [
    "print('------------------- Total ---------------------------')\n",
    "print('Número de transacciones en febrero:', len(data))\n",
    "print('Valor total de transacciones en febrero:', round(data['VALOR_TOTAL'].sum(),3))\n",
    "print('Número de clientes que realizaron una transacción:', data['CONT_ID'].nunique())\n",
    "print('Transacciones promedio de clientes:', round(data.groupby('CONT_ID').size().mean(),2))\n",
    "print('------------------- Tradicional ---------------------------')\n",
    "## Clientes TC trad\n",
    "print('Número de transacciones en febrero TC tradicional:', len(data_trad))\n",
    "print('Valor total de transacciones en febrero tc tradicional:', round(data_trad['VALOR_TOTAL'].sum(),3))\n",
    "print('Número de clientes que realizaron una transacción de tc tradicional:', data_trad['CONT_ID'].nunique())\n",
    "print('Transacciones promedio de clientes de tc tradicional:', round(data_trad.groupby('CONT_ID').size().mean(),2))\n",
    "print('------------------- Express---------------------------')\n",
    "## Clientes TC expr\n",
    "print('Número de transacciones en febrero TC Express:', len(data_expr))\n",
    "print('Valor total de transacciones en febrero tc Express:', round(data_expr['VALOR_TOTAL'].sum(),3))\n",
    "print('Número de clientes que realizaron una transacción de tc Express:', data_expr['CONT_ID'].nunique())\n",
    "print('Transacciones promedio de clientes de tc Express:', round(data_expr.groupby('CONT_ID').size().mean(),2))\n",
    "print('------------------- La 14---------------------------')\n",
    "## Clientes TC la 14\n",
    "print('Número de transacciones en febrero TC la 14:', len(data_14))\n",
    "print('Valor total de transacciones en febrero tc La 14:', round(data_14['VALOR_TOTAL'].sum(),3))\n",
    "print('Número de clientes que realizaron una transacción de tc la 14:', data_14['CONT_ID'].nunique())\n",
    "print('Transacciones promedio de clientes de tc la 14:', round(data_14.groupby('CONT_ID').size().mean(),2))\n"
   ]
  }
 ],
 "metadata": {
  "kernelspec": {
   "display_name": "Python 3",
   "language": "python",
   "name": "python3"
  },
  "language_info": {
   "codemirror_mode": {
    "name": "ipython",
    "version": 3
   },
   "file_extension": ".py",
   "mimetype": "text/x-python",
   "name": "python",
   "nbconvert_exporter": "python",
   "pygments_lexer": "ipython3",
   "version": "3.7.3"
  }
 },
 "nbformat": 4,
 "nbformat_minor": 2
}
