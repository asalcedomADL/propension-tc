{
 "cells": [
  {
   "cell_type": "markdown",
   "metadata": {},
   "source": [
    "# Consolidando MDT"
   ]
  },
  {
   "cell_type": "code",
   "execution_count": 1,
   "metadata": {},
   "outputs": [],
   "source": [
    "import pandas as pd\n",
    "import numpy as np\n",
    "import gc\n",
    "\n",
    "pd.set_option('display.max_columns',None)"
   ]
  },
  {
   "cell_type": "markdown",
   "metadata": {},
   "source": [
    "### Cargando Poblacion"
   ]
  },
  {
   "cell_type": "code",
   "execution_count": 2,
   "metadata": {},
   "outputs": [],
   "source": [
    "### Cargando Base\n",
    "poblacion_total = pd.read_parquet(\"s3://adl-refined-dev-popular/parquet/TC_adquisicion/base_pilotoAgosto\",engine='pyarrow')"
   ]
  },
  {
   "cell_type": "code",
   "execution_count": 3,
   "metadata": {},
   "outputs": [],
   "source": [
    "poblacion_total['periodo'] = '08-2020'"
   ]
  },
  {
   "cell_type": "code",
   "execution_count": 4,
   "metadata": {},
   "outputs": [
    {
     "data": {
      "text/plain": [
       "08-2020    342602\n",
       "Name: periodo, dtype: int64"
      ]
     },
     "execution_count": 4,
     "metadata": {},
     "output_type": "execute_result"
    }
   ],
   "source": [
    "poblacion_total['periodo'].value_counts().sort_index()"
   ]
  },
  {
   "cell_type": "code",
   "execution_count": 5,
   "metadata": {},
   "outputs": [],
   "source": [
    "## TODO: POR AHORA SOLO INFO 2019\n",
    "#poblacion_total = poblacion_total[poblacion_total['mes_campaña']<'2020-01-01']"
   ]
  },
  {
   "cell_type": "code",
   "execution_count": 5,
   "metadata": {},
   "outputs": [],
   "source": [
    "#Creación de fecha correspondiente para cruzar con la base buró\n",
    "poblacion_total['data_camp']=np.where((poblacion_total['periodo']=='08-2020') ,202006,\n",
    "                                      199901)"
   ]
  },
  {
   "cell_type": "code",
   "execution_count": 6,
   "metadata": {},
   "outputs": [],
   "source": [
    "#Creación de fecha correspondiente para cruzar con la base buró\n",
    "poblacion_total['fecha_buro']=np.where((poblacion_total['periodo']=='08-2020') ,202004,\n",
    "                                       199901)"
   ]
  },
  {
   "cell_type": "code",
   "execution_count": 7,
   "metadata": {},
   "outputs": [],
   "source": [
    "#Creación de fecha correspondiente para cruzar con la base activo\n",
    "poblacion_total['fecha_activo']=np.where((poblacion_total['periodo']=='08-2020') ,202006,\n",
    "                                         199901)"
   ]
  },
  {
   "cell_type": "code",
   "execution_count": 8,
   "metadata": {},
   "outputs": [],
   "source": [
    "#Creación de fecha correspondiente para cruzar con la base pasivo\n",
    "poblacion_total['fecha_pasivo']=np.where((poblacion_total['periodo']=='08-2020') ,202006,\n",
    "                                         199901)"
   ]
  },
  {
   "cell_type": "code",
   "execution_count": 9,
   "metadata": {},
   "outputs": [],
   "source": [
    "#Creación de fecha correspondiente para cruzar con la base libranza\n",
    "poblacion_total['fecha_lib']=np.where((poblacion_total['periodo']=='08-2020') ,202007,\n",
    "                                         199901)"
   ]
  },
  {
   "cell_type": "code",
   "execution_count": 10,
   "metadata": {},
   "outputs": [],
   "source": [
    "#Creación de fecha correspondiente para cruzar con la base tx activo\n",
    "poblacion_total['fecha_tx_act']=np.where((poblacion_total['periodo']=='08-2020') ,202007,\n",
    "                                         199901)"
   ]
  },
  {
   "cell_type": "code",
   "execution_count": 11,
   "metadata": {},
   "outputs": [],
   "source": [
    "#Creación de fecha correspondiente para cruzar con la base tx pasivo\n",
    "poblacion_total['fecha_tx_pav']=np.where((poblacion_total['periodo']=='08-2020') ,202006,\n",
    "                                         199901)"
   ]
  },
  {
   "cell_type": "code",
   "execution_count": 12,
   "metadata": {},
   "outputs": [
    {
     "data": {
      "text/html": [
       "<div>\n",
       "<style scoped>\n",
       "    .dataframe tbody tr th:only-of-type {\n",
       "        vertical-align: middle;\n",
       "    }\n",
       "\n",
       "    .dataframe tbody tr th {\n",
       "        vertical-align: top;\n",
       "    }\n",
       "\n",
       "    .dataframe thead th {\n",
       "        text-align: right;\n",
       "    }\n",
       "</style>\n",
       "<table border=\"1\" class=\"dataframe\">\n",
       "  <thead>\n",
       "    <tr style=\"text-align: right;\">\n",
       "      <th></th>\n",
       "      <th>id_cliente</th>\n",
       "      <th>grupo</th>\n",
       "      <th>grupo_piloto</th>\n",
       "      <th>periodo</th>\n",
       "      <th>data_camp</th>\n",
       "      <th>fecha_buro</th>\n",
       "      <th>fecha_activo</th>\n",
       "      <th>fecha_pasivo</th>\n",
       "      <th>fecha_lib</th>\n",
       "      <th>fecha_tx_act</th>\n",
       "      <th>fecha_tx_pav</th>\n",
       "    </tr>\n",
       "  </thead>\n",
       "  <tbody>\n",
       "    <tr>\n",
       "      <th>0</th>\n",
       "      <td>102652303931898101</td>\n",
       "      <td>1</td>\n",
       "      <td>control</td>\n",
       "      <td>08-2020</td>\n",
       "      <td>202006</td>\n",
       "      <td>202004</td>\n",
       "      <td>202006</td>\n",
       "      <td>202006</td>\n",
       "      <td>202007</td>\n",
       "      <td>202007</td>\n",
       "      <td>202006</td>\n",
       "    </tr>\n",
       "    <tr>\n",
       "      <th>1</th>\n",
       "      <td>102652295880533801</td>\n",
       "      <td>2</td>\n",
       "      <td>priorizado</td>\n",
       "      <td>08-2020</td>\n",
       "      <td>202006</td>\n",
       "      <td>202004</td>\n",
       "      <td>202006</td>\n",
       "      <td>202006</td>\n",
       "      <td>202007</td>\n",
       "      <td>202007</td>\n",
       "      <td>202006</td>\n",
       "    </tr>\n",
       "    <tr>\n",
       "      <th>2</th>\n",
       "      <td>102652296797857801</td>\n",
       "      <td>1</td>\n",
       "      <td>control</td>\n",
       "      <td>08-2020</td>\n",
       "      <td>202006</td>\n",
       "      <td>202004</td>\n",
       "      <td>202006</td>\n",
       "      <td>202006</td>\n",
       "      <td>202007</td>\n",
       "      <td>202007</td>\n",
       "      <td>202006</td>\n",
       "    </tr>\n",
       "    <tr>\n",
       "      <th>3</th>\n",
       "      <td>102652296820136301</td>\n",
       "      <td>2</td>\n",
       "      <td>priorizado</td>\n",
       "      <td>08-2020</td>\n",
       "      <td>202006</td>\n",
       "      <td>202004</td>\n",
       "      <td>202006</td>\n",
       "      <td>202006</td>\n",
       "      <td>202007</td>\n",
       "      <td>202007</td>\n",
       "      <td>202006</td>\n",
       "    </tr>\n",
       "    <tr>\n",
       "      <th>4</th>\n",
       "      <td>102652298458155701</td>\n",
       "      <td>2</td>\n",
       "      <td>priorizado</td>\n",
       "      <td>08-2020</td>\n",
       "      <td>202006</td>\n",
       "      <td>202004</td>\n",
       "      <td>202006</td>\n",
       "      <td>202006</td>\n",
       "      <td>202007</td>\n",
       "      <td>202007</td>\n",
       "      <td>202006</td>\n",
       "    </tr>\n",
       "    <tr>\n",
       "      <th>...</th>\n",
       "      <td>...</td>\n",
       "      <td>...</td>\n",
       "      <td>...</td>\n",
       "      <td>...</td>\n",
       "      <td>...</td>\n",
       "      <td>...</td>\n",
       "      <td>...</td>\n",
       "      <td>...</td>\n",
       "      <td>...</td>\n",
       "      <td>...</td>\n",
       "      <td>...</td>\n",
       "    </tr>\n",
       "    <tr>\n",
       "      <th>342597</th>\n",
       "      <td>624859635235423902</td>\n",
       "      <td>2</td>\n",
       "      <td>priorizado</td>\n",
       "      <td>08-2020</td>\n",
       "      <td>202006</td>\n",
       "      <td>202004</td>\n",
       "      <td>202006</td>\n",
       "      <td>202006</td>\n",
       "      <td>202007</td>\n",
       "      <td>202007</td>\n",
       "      <td>202006</td>\n",
       "    </tr>\n",
       "    <tr>\n",
       "      <th>342598</th>\n",
       "      <td>133959641475029202</td>\n",
       "      <td>1</td>\n",
       "      <td>control</td>\n",
       "      <td>08-2020</td>\n",
       "      <td>202006</td>\n",
       "      <td>202004</td>\n",
       "      <td>202006</td>\n",
       "      <td>202006</td>\n",
       "      <td>202007</td>\n",
       "      <td>202007</td>\n",
       "      <td>202006</td>\n",
       "    </tr>\n",
       "    <tr>\n",
       "      <th>342599</th>\n",
       "      <td>703659639027269402</td>\n",
       "      <td>1</td>\n",
       "      <td>control</td>\n",
       "      <td>08-2020</td>\n",
       "      <td>202006</td>\n",
       "      <td>202004</td>\n",
       "      <td>202006</td>\n",
       "      <td>202006</td>\n",
       "      <td>202007</td>\n",
       "      <td>202007</td>\n",
       "      <td>202006</td>\n",
       "    </tr>\n",
       "    <tr>\n",
       "      <th>342600</th>\n",
       "      <td>218159639017533402</td>\n",
       "      <td>1</td>\n",
       "      <td>control</td>\n",
       "      <td>08-2020</td>\n",
       "      <td>202006</td>\n",
       "      <td>202004</td>\n",
       "      <td>202006</td>\n",
       "      <td>202006</td>\n",
       "      <td>202007</td>\n",
       "      <td>202007</td>\n",
       "      <td>202006</td>\n",
       "    </tr>\n",
       "    <tr>\n",
       "      <th>342601</th>\n",
       "      <td>728059634810685302</td>\n",
       "      <td>1</td>\n",
       "      <td>control</td>\n",
       "      <td>08-2020</td>\n",
       "      <td>202006</td>\n",
       "      <td>202004</td>\n",
       "      <td>202006</td>\n",
       "      <td>202006</td>\n",
       "      <td>202007</td>\n",
       "      <td>202007</td>\n",
       "      <td>202006</td>\n",
       "    </tr>\n",
       "  </tbody>\n",
       "</table>\n",
       "<p>342602 rows × 11 columns</p>\n",
       "</div>"
      ],
      "text/plain": [
       "                id_cliente  grupo grupo_piloto  periodo  data_camp  \\\n",
       "0       102652303931898101      1      control  08-2020     202006   \n",
       "1       102652295880533801      2   priorizado  08-2020     202006   \n",
       "2       102652296797857801      1      control  08-2020     202006   \n",
       "3       102652296820136301      2   priorizado  08-2020     202006   \n",
       "4       102652298458155701      2   priorizado  08-2020     202006   \n",
       "...                    ...    ...          ...      ...        ...   \n",
       "342597  624859635235423902      2   priorizado  08-2020     202006   \n",
       "342598  133959641475029202      1      control  08-2020     202006   \n",
       "342599  703659639027269402      1      control  08-2020     202006   \n",
       "342600  218159639017533402      1      control  08-2020     202006   \n",
       "342601  728059634810685302      1      control  08-2020     202006   \n",
       "\n",
       "        fecha_buro  fecha_activo  fecha_pasivo  fecha_lib  fecha_tx_act  \\\n",
       "0           202004        202006        202006     202007        202007   \n",
       "1           202004        202006        202006     202007        202007   \n",
       "2           202004        202006        202006     202007        202007   \n",
       "3           202004        202006        202006     202007        202007   \n",
       "4           202004        202006        202006     202007        202007   \n",
       "...            ...           ...           ...        ...           ...   \n",
       "342597      202004        202006        202006     202007        202007   \n",
       "342598      202004        202006        202006     202007        202007   \n",
       "342599      202004        202006        202006     202007        202007   \n",
       "342600      202004        202006        202006     202007        202007   \n",
       "342601      202004        202006        202006     202007        202007   \n",
       "\n",
       "        fecha_tx_pav  \n",
       "0             202006  \n",
       "1             202006  \n",
       "2             202006  \n",
       "3             202006  \n",
       "4             202006  \n",
       "...              ...  \n",
       "342597        202006  \n",
       "342598        202006  \n",
       "342599        202006  \n",
       "342600        202006  \n",
       "342601        202006  \n",
       "\n",
       "[342602 rows x 11 columns]"
      ]
     },
     "execution_count": 12,
     "metadata": {},
     "output_type": "execute_result"
    }
   ],
   "source": [
    "poblacion_total"
   ]
  },
  {
   "cell_type": "code",
   "execution_count": 14,
   "metadata": {},
   "outputs": [],
   "source": [
    "# tx activos t-1\n",
    "# tx pasivos t-1"
   ]
  },
  {
   "cell_type": "code",
   "execution_count": 13,
   "metadata": {},
   "outputs": [],
   "source": [
    "# Cast ID\n",
    "poblacion_total['id_cliente']=poblacion_total['id_cliente'].astype(int)"
   ]
  },
  {
   "cell_type": "code",
   "execution_count": 14,
   "metadata": {},
   "outputs": [],
   "source": [
    "poblacion_total = poblacion_total.drop_duplicates()"
   ]
  },
  {
   "cell_type": "markdown",
   "metadata": {},
   "source": [
    "### Guardando base pob"
   ]
  },
  {
   "cell_type": "code",
   "execution_count": 15,
   "metadata": {},
   "outputs": [
    {
     "data": {
      "text/plain": [
       "(342602, 11)"
      ]
     },
     "execution_count": 15,
     "metadata": {},
     "output_type": "execute_result"
    }
   ],
   "source": [
    "poblacion_total.shape"
   ]
  },
  {
   "cell_type": "code",
   "execution_count": 16,
   "metadata": {},
   "outputs": [],
   "source": [
    "### Guardando Base:\n",
    "path_final = 's3://adl-refined-dev-popular/parquet/TC_adquisicion/base_poblacionPilotoAg'\n",
    "\n",
    "poblacion_total.to_parquet(path_final, engine = 'pyarrow', index = False)"
   ]
  },
  {
   "cell_type": "code",
   "execution_count": null,
   "metadata": {},
   "outputs": [],
   "source": []
  },
  {
   "cell_type": "markdown",
   "metadata": {},
   "source": [
    "### Base tx pasv"
   ]
  },
  {
   "cell_type": "code",
   "execution_count": 26,
   "metadata": {},
   "outputs": [],
   "source": [
    "import s3fs\n",
    "import pyarrow.parquet as pq\n",
    "\n",
    "fs = s3fs.S3FileSystem()\n",
    "\n",
    "#input_path = \"s3://adl-refined-dev-popular/parquet/TC_adquisicion/tx_pasivo_202006_vars_finales_model\"\n",
    "input_path = \"s3://adl-refined-dev-popular/parquet/TC_adquisicion/total_tdc_piloto_sep\"\n",
    "\n",
    "input = input_path\n",
    "dataset = pq.ParquetDataset(input, filesystem=fs)\n",
    "lib = dataset.read()\n",
    "lib = lib.to_pandas()\n",
    "\n",
    "del dataset"
   ]
  },
  {
   "cell_type": "code",
   "execution_count": 27,
   "metadata": {},
   "outputs": [
    {
     "data": {
      "text/plain": [
       "id_cliente                        342602\n",
       "fecha_tx_pav                      342602\n",
       "fecha_pasivo                      342602\n",
       "fecha_lib                         342602\n",
       "fecha_activo                      342602\n",
       "fecha_buro                        342602\n",
       "grupo                             342602\n",
       "grupo_piloto                      342602\n",
       "data_camp                         342602\n",
       "fecha_tx_act                      342602\n",
       "acep_oferta_prev                     205\n",
       "num_act_utl_meses                    205\n",
       "num_camp_ult_meses                   205\n",
       "num_meses_ult_actv                     1\n",
       "num_meses_ult_camp                   205\n",
       "num_no_aceptado                      205\n",
       "prom_cupo_aprob                        0\n",
       "numero_obligaciones_activasdif    331559\n",
       "porcentaje_utilizacion            331559\n",
       "quanto_mod                        331559\n",
       "valor_cuotas_codeudores_smlv      331559\n",
       "valor_utilizado_smlv              331559\n",
       "num_aper_ultim_1meses_LB          335834\n",
       "num_aper_ultim_1meses_TC          335834\n",
       "num_aper_ultim_1meses_NV          335834\n",
       "num_aper_ultim_1meses_CH          335834\n",
       "num_aper_ultim_1meses_CE          335834\n",
       "num_aper_ultim_1meses_LE          335834\n",
       "num_aper_ultim_1meses_ME          335834\n",
       "num_aper_ultim_1meses_SO          335834\n",
       "num_aper_ultim_1meses_CC          335834\n",
       "num_aper_ultim_3meses_LB          335834\n",
       "num_aper_ultim_3meses_TC          335834\n",
       "num_aper_ultim_3meses_NV          335834\n",
       "num_aper_ultim_3meses_CH          335834\n",
       "num_aper_ultim_3meses_CE          335834\n",
       "num_aper_ultim_3meses_LE          335834\n",
       "num_aper_ultim_3meses_ME          335834\n",
       "num_aper_ultim_3meses_SO          335834\n",
       "num_aper_ultim_3meses_CC          335834\n",
       "num_aper_ultim_6meses_LB          335834\n",
       "num_aper_ultim_6meses_TC          335834\n",
       "num_aper_ultim_6meses_NV          335834\n",
       "num_aper_ultim_6meses_CH          335834\n",
       "num_aper_ultim_6meses_CE          335834\n",
       "num_aper_ultim_6meses_LE          335834\n",
       "num_aper_ultim_6meses_ME          335834\n",
       "num_aper_ultim_6meses_SO          335834\n",
       "num_aper_ultim_6meses_CC          335834\n",
       "num_aper_ultim_12meses_LB         335834\n",
       "dtype: int64"
      ]
     },
     "execution_count": 27,
     "metadata": {},
     "output_type": "execute_result"
    }
   ],
   "source": [
    "lib.count().head(50)"
   ]
  },
  {
   "cell_type": "code",
   "execution_count": 18,
   "metadata": {},
   "outputs": [
    {
     "data": {
      "text/html": [
       "<div>\n",
       "<style scoped>\n",
       "    .dataframe tbody tr th:only-of-type {\n",
       "        vertical-align: middle;\n",
       "    }\n",
       "\n",
       "    .dataframe tbody tr th {\n",
       "        vertical-align: top;\n",
       "    }\n",
       "\n",
       "    .dataframe thead th {\n",
       "        text-align: right;\n",
       "    }\n",
       "</style>\n",
       "<table border=\"1\" class=\"dataframe\">\n",
       "  <thead>\n",
       "    <tr style=\"text-align: right;\">\n",
       "      <th></th>\n",
       "      <th>id_cliente</th>\n",
       "      <th>PERIODO</th>\n",
       "      <th>num_tx_ult_1mes_ahr</th>\n",
       "      <th>sum_tx_linea_ahr</th>\n",
       "      <th>dias_desde_ult_tx_ahr</th>\n",
       "      <th>sum_tx_linea</th>\n",
       "      <th>sum_tx_nolinea</th>\n",
       "    </tr>\n",
       "  </thead>\n",
       "  <tbody>\n",
       "    <tr>\n",
       "      <th>0</th>\n",
       "      <td>101958376376088702</td>\n",
       "      <td>202006</td>\n",
       "      <td>1.000000</td>\n",
       "      <td>1.0</td>\n",
       "      <td>28</td>\n",
       "      <td>1.0</td>\n",
       "      <td>NaN</td>\n",
       "    </tr>\n",
       "    <tr>\n",
       "      <th>1</th>\n",
       "      <td>102652294123116001</td>\n",
       "      <td>202006</td>\n",
       "      <td>2.333333</td>\n",
       "      <td>NaN</td>\n",
       "      <td>11</td>\n",
       "      <td>NaN</td>\n",
       "      <td>3.0</td>\n",
       "    </tr>\n",
       "    <tr>\n",
       "      <th>2</th>\n",
       "      <td>102652294793663401</td>\n",
       "      <td>202006</td>\n",
       "      <td>2.666667</td>\n",
       "      <td>3.0</td>\n",
       "      <td>4</td>\n",
       "      <td>3.0</td>\n",
       "      <td>NaN</td>\n",
       "    </tr>\n",
       "    <tr>\n",
       "      <th>3</th>\n",
       "      <td>102652295678115801</td>\n",
       "      <td>202006</td>\n",
       "      <td>1.000000</td>\n",
       "      <td>1.0</td>\n",
       "      <td>4</td>\n",
       "      <td>1.0</td>\n",
       "      <td>NaN</td>\n",
       "    </tr>\n",
       "    <tr>\n",
       "      <th>4</th>\n",
       "      <td>102652296335428801</td>\n",
       "      <td>202006</td>\n",
       "      <td>3.000000</td>\n",
       "      <td>5.0</td>\n",
       "      <td>11</td>\n",
       "      <td>5.0</td>\n",
       "      <td>NaN</td>\n",
       "    </tr>\n",
       "  </tbody>\n",
       "</table>\n",
       "</div>"
      ],
      "text/plain": [
       "           id_cliente PERIODO  num_tx_ult_1mes_ahr  sum_tx_linea_ahr  \\\n",
       "0  101958376376088702  202006             1.000000               1.0   \n",
       "1  102652294123116001  202006             2.333333               NaN   \n",
       "2  102652294793663401  202006             2.666667               3.0   \n",
       "3  102652295678115801  202006             1.000000               1.0   \n",
       "4  102652296335428801  202006             3.000000               5.0   \n",
       "\n",
       "   dias_desde_ult_tx_ahr  sum_tx_linea  sum_tx_nolinea  \n",
       "0                     28           1.0             NaN  \n",
       "1                     11           NaN             3.0  \n",
       "2                      4           3.0             NaN  \n",
       "3                      4           1.0             NaN  \n",
       "4                     11           5.0             NaN  "
      ]
     },
     "execution_count": 18,
     "metadata": {},
     "output_type": "execute_result"
    }
   ],
   "source": [
    "lib.head()"
   ]
  },
  {
   "cell_type": "code",
   "execution_count": 21,
   "metadata": {},
   "outputs": [
    {
     "data": {
      "text/plain": [
       "id_cliente                object\n",
       "PERIODO                   object\n",
       "num_tx_ult_1mes_ahr      float64\n",
       "sum_tx_linea_ahr         float64\n",
       "dias_desde_ult_tx_ahr      int32\n",
       "sum_tx_linea             float64\n",
       "sum_tx_nolinea           float64\n",
       "fecha_tx_pav               int64\n",
       "dtype: object"
      ]
     },
     "execution_count": 21,
     "metadata": {},
     "output_type": "execute_result"
    }
   ],
   "source": [
    "lib.dtypes"
   ]
  },
  {
   "cell_type": "code",
   "execution_count": 20,
   "metadata": {},
   "outputs": [],
   "source": [
    "lib['fecha_tx_pav'] = lib['PERIODO'].astype('int')"
   ]
  },
  {
   "cell_type": "code",
   "execution_count": 22,
   "metadata": {},
   "outputs": [],
   "source": [
    "lib.to_parquet(\"s3://adl-refined-dev-popular/parquet/TC_adquisicion/tx_pasivo_202006_vars_finales_model\", engine = 'pyarrow', index=False)"
   ]
  }
 ],
 "metadata": {
  "kernelspec": {
   "display_name": "Python 3",
   "language": "python",
   "name": "python3"
  },
  "language_info": {
   "codemirror_mode": {
    "name": "ipython",
    "version": 3
   },
   "file_extension": ".py",
   "mimetype": "text/x-python",
   "name": "python",
   "nbconvert_exporter": "python",
   "pygments_lexer": "ipython3",
   "version": "3.7.3"
  }
 },
 "nbformat": 4,
 "nbformat_minor": 2
}
