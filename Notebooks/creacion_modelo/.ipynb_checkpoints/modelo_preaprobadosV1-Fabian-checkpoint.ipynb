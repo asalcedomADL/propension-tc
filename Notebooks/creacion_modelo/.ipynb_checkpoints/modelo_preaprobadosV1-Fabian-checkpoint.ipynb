{
 "cells": [
  {
   "cell_type": "code",
   "execution_count": 1,
   "metadata": {},
   "outputs": [],
   "source": [
    "import pandas as pd\n",
    "import numpy as np\n",
    "from sklearn.tree import DecisionTreeClassifier , export_graphviz\n",
    "from sklearn.model_selection import train_test_split # Import train_test_split function\n",
    "import os\n",
    "import s3fs\n",
    "import pyarrow.parquet as pq\n",
    "\n",
    "pd.set_option('max_rows',100)\n",
    "pd.set_option('max_columns',None)\n",
    "\n",
    "# os.chdir('/../mnt')\n",
    "\n",
    "def train_tree(mdt, y_var, params_dict):\n",
    "    \"\"\"\n",
    "    Trains the tree to produce the profile\n",
    "    :param params_dict:\n",
    "    :return:\n",
    "    \"\"\"\n",
    "    # Parameters\n",
    "    predictive_vars = params_dict['predictive_cols']\n",
    "    min_percent_leaf = params_dict['min_percent_leaf']\n",
    "\n",
    "    mdt = mdt[predictive_vars]\n",
    "\n",
    "    reg_tree = DecisionTreeClassifier(criterion=\"entropy\", max_depth=3,min_samples_leaf=int(mdt.shape[0] * min_percent_leaf))\n",
    "\n",
    "    reg_tree.fit(mdt, y_var)\n",
    "\n",
    "    return reg_tree\n",
    "\n",
    "\n",
    "def produce_dot_file(trained_tree, file_name):\n",
    "    full_path = params_dict['output_path'] + file_name\n",
    "    export_graphviz(trained_tree, feature_names=params_dict['predictive_cols'],\n",
    "                    out_file=full_path,\n",
    "                    filled=True, proportion=True,\n",
    "                    rounded=True)\n",
    "\n",
    "\n",
    "def main(mdt, y_var):\n",
    "    name = 'tree_'+params_dict['segment_name']+'_V0.dot'\n",
    "    my_tree = train_tree(mdt, y_var, params_dict)\n",
    "    produce_dot_file(my_tree, name)\n",
    "    print('Tree produced')\n",
    "    return my_tree\n",
    "\n"
   ]
  },
  {
   "cell_type": "code",
   "execution_count": 2,
   "metadata": {},
   "outputs": [],
   "source": [
    "# Definir parámetros\n",
    "params_dict = {'min_percent_leaf': 0.05,\n",
    "               'input_path':'s3://adl-refined-dev-popular/parquet/TC_adquisicion/total_tdc_paprob',\n",
    "              'output_path':'/mnt/work/CU_adquisicionTC/Notebooks/creacion modelo/resultados_arbolV0/',\n",
    "              'segment_name':'preaprobados'}"
   ]
  },
  {
   "cell_type": "code",
   "execution_count": 3,
   "metadata": {},
   "outputs": [],
   "source": [
    "fs = s3fs.S3FileSystem()\n",
    "\n",
    "# Leyendo base\n",
    "input = params_dict['input_path']\n",
    "dataset = pq.ParquetDataset(input, filesystem=fs)\n",
    "table = dataset.read()\n",
    "mdt = table.to_pandas()\n",
    "\n",
    "del input, dataset, table\n",
    "\n",
    "# Definiendo Var Obj'var_final'etivo\n",
    "y_var = '30first_use'"
   ]
  },
  {
   "cell_type": "code",
   "execution_count": 4,
   "metadata": {},
   "outputs": [
    {
     "data": {
      "text/plain": [
       "(35614, 1559)"
      ]
     },
     "execution_count": 4,
     "metadata": {},
     "output_type": "execute_result"
    }
   ],
   "source": [
    "mdt.shape"
   ]
  },
  {
   "cell_type": "code",
   "execution_count": 6,
   "metadata": {},
   "outputs": [
    {
     "data": {
      "text/plain": [
       "Index(['id_cliente', 'fecha_tx_pav', 'fecha_tx_act', 'fecha_pasivo',\n",
       "       'fecha_lib', 'fecha_activo', 'fecha_buro', 'data_camp', 'mes_campaña',\n",
       "       'venta',\n",
       "       ...\n",
       "       'prom_mov_ult_3meses_ahr', 'prom_mov_ult_4meses_ahr',\n",
       "       'prom_mov_ult_6meses_ahr', 'mode_dia_ahr', 'estado_cta_actual_ahr',\n",
       "       'tipo_transaccion_ahr', 'sum_tx_linea_ahr', 'sum_tx_nolinea_ahr',\n",
       "       'fecha_ult_tx_ahr', 'dias_desde_ult_tx_ahr'],\n",
       "      dtype='object', length=1559)"
      ]
     },
     "execution_count": 6,
     "metadata": {},
     "output_type": "execute_result"
    }
   ],
   "source": [
    "mdt.columns"
   ]
  },
  {
   "cell_type": "code",
   "execution_count": 7,
   "metadata": {},
   "outputs": [],
   "source": [
    "np.random.seed(seed=4321) # Semilla\n",
    "## Muestra del 50%\n",
    "#Se generan numeros aleatorios entre 0 y 1\n",
    "#mdt['ran']=np.random.random(size=mdt.shape[0])\n",
    "\n",
    "#Se seleccion train : 50% \n",
    "mdt_v0=mdt.copy()\n",
    "\n",
    "# quitando otras variables VO\n",
    "mdt_v0.drop(columns=['var_final','mes_campaña','venta', 'fecha_activo', 'fecha_buro', 'fecha_data', 'fecha_envio',\n",
    "                     'tipo_campana', 'periodo','cedulaenc','tipo_cliente','tipo_id','derogatorio',\n",
    "                     'fecha_real','fecha_mas_antigua_apertura','timestamp','lag_t_6_saldo_tot_tot_SMLV', \n",
    "                     'lag_t_1_cuota_tot_LB_SMLV', 'lag_t_6_cuota_tot_LB_SMLV', 'lag_t_6_cuota_tot_tot_SMLV', \n",
    "                     'lag_t_1_amortizacion_prom_LB', 'lag_t_6_amortizacion_prom_LB', 'lag_t_1_amortizacion_prom_tot', \n",
    "                     'lag_t_6_amortizacion_prom_tot', 'lag_t_6_saldo_tot_LB_SMLV', 'lag_t_1_saldo_tot_tot_SMLV', \n",
    "                     'lag_t_1_cuota_tot_tot_SMLV', 'lag_t_6_cupo_tot_LB_SMLV', 'lag_t_1_cupo_tot_tot_SMLV', 'lag_t_6_cupo_tot_tot_SMLV'], inplace = True)"
   ]
  },
  {
   "cell_type": "code",
   "execution_count": 8,
   "metadata": {},
   "outputs": [
    {
     "data": {
      "text/plain": [
       "(35614, 1529)"
      ]
     },
     "execution_count": 8,
     "metadata": {},
     "output_type": "execute_result"
    }
   ],
   "source": [
    "mdt_v0.shape"
   ]
  },
  {
   "cell_type": "code",
   "execution_count": 9,
   "metadata": {},
   "outputs": [],
   "source": [
    "## Vars modelo:\n",
    "\n",
    "top_vars = [\n",
    "'acierta_a_financiero',\n",
    "'acep_oferta_prev',\n",
    "'amortizacion_max_LB',\n",
    "'amortizacion_max_tot',\n",
    "'amortizacion_min_LB',\n",
    "'amortizacion_min_tot',\n",
    "'amortizacion_prom_LB',\n",
    "'amortizacion_prom_LB_ult3_meses',\n",
    "'amortizacion_prom_LB_ult9_meses',\n",
    "'amortizacion_prom_tot',\n",
    "'amortizacion_prom_tot_ult3_meses',\n",
    "'amortizacion_prom_tot_ult9_meses',\n",
    "'ano_po',\n",
    "'antiguedad_tot_conlibranza',\n",
    "'cartera_banca_alt_max_de_mora_was_is',\n",
    "'cartera_coope_alt_max_de_mora_was_is',\n",
    "'cartera_hipote_alt_max_de_mora_was_is',\n",
    "'ctas_de_ahorro_act_ctas_bancadif',\n",
    "'cuota_max_LB_SMLV',\n",
    "'cuota_max_tot_SMLV',\n",
    "'cuota_paga_prom_ult3_meses_total',\n",
    "'cuota_paga_prom_ult7_meses_total',\n",
    "'cuota_prom_LB_SMLV',\n",
    "'cuota_prom_tot_SMLV',\n",
    "'cuota_tot_LB_SMLV',\n",
    "'cuota_tot_LB_SMLV_ult3_meses',\n",
    "'cuota_tot_LB_SMLV_ult8_meses',\n",
    "'cuota_tot_tot_SMLV',\n",
    "'cuota_tot_tot_SMLV_ult3_meses',\n",
    "'cuota_tot_tot_SMLV_ult8_meses',\n",
    "'cuota_mercado_smlv',\n",
    "'cupo_max_LB_SMLV',\n",
    "'cupo_max_tot_SMLV',\n",
    "'cupo_mercadodif',\n",
    "'cupo_prom_LB_SMLV',\n",
    "'cupo_prom_tot_SMLV',\n",
    "'cupo_tot_LB_SMLV',\n",
    "'cupo_tot_LB_SMLV_ult3_meses',\n",
    "'cupo_tot_LB_SMLV_ult9_meses',\n",
    "'cupo_tot_tot_SMLV',\n",
    "'cupo_tot_tot_SMLV_ult3_meses',\n",
    "'cupo_tot_tot_SMLV_ult9_meses',\n",
    "'cuposectorbancario_sin_popular_smlv',\n",
    "'dias_desde_ult_tx_ahr',\n",
    "'dias_desde_ult_tx_cdt',\n",
    "'dias_desde_ult_tx_cte',\n",
    "'dias_desde_ult_tx_pasv',\n",
    "'dif_porc_t_1_amortizacion_prom_LB',\n",
    "'dif_porc_t_1_amortizacion_prom_tot',\n",
    "'dif_porc_t_6_amortizacion_prom_LB',\n",
    "'dif_porc_t_6_amortizacion_prom_tot',\n",
    "'dif_porc_t_6_saldo_tot_tot_SMLV',\n",
    "'estado_cta_actual_ahr',\n",
    "'estado_cta_actual_cdt',\n",
    "'estado_cta_actual_cte',\n",
    "'estado_cta_actual_pasv',\n",
    "'fec_mas_anti_aper_tdc_sin_popu',\n",
    "'fecantiapersectorbancasinpopu',\n",
    "'fecha',\n",
    "'fecha_lib',\n",
    "'fecha_pasivo',\n",
    "'fecha_tx_act',\n",
    "'fecha_tx_pav',\n",
    "'fecha_ult_tx_ahr',\n",
    "'fecha_ult_tx_cdt',\n",
    "'fecha_ult_tx_cte',\n",
    "'fecha_ult_tx_pasv',\n",
    "'lag_t_1_cupo_tot_LB_SMLV',\n",
    "'lag_t_1_saldo_tot_LB_SMLV',\n",
    "'marca_derogatorio',\n",
    "'max_cupo_tdc_sin_populardif',\n",
    "'max_dias_procesamiento',\n",
    "'maxcuposectorbancasin_popular_smlv',\n",
    "'meses_ultim_aper_LB',\n",
    "'meses_ultim_aper_tot',\n",
    "'mode_dia_ahr',\n",
    "'mode_dia_cdt',\n",
    "'mode_dia_cte',\n",
    "'mode_dia_pasv',\n",
    "'moramax_mercado_was_is',\n",
    "'n_novaciones',\n",
    "'num_act_utl_meses',\n",
    "'num_aper_ultim_12meses_LB',\n",
    "'num_aper_ultim_12meses_tot',\n",
    "'num_aper_ultim_6meses_LB',\n",
    "'num_aper_ultim_6meses_tot',\n",
    "'num_camp_ult_meses',\n",
    "'num_lib_solicitadas',\n",
    "'num_meses_ult_camp',\n",
    "'num_no_aceptado',\n",
    "'num_tx_ult_1mes_ahr',\n",
    "'num_tx_ult_1mes_cdt',\n",
    "'num_tx_ult_1mes_cte',\n",
    "'num_tx_ult_1mes_pasv',\n",
    "'num_tx_ult_2meses_ahr',\n",
    "'num_tx_ult_2meses_cdt',\n",
    "'num_tx_ult_2meses_cte',\n",
    "'num_tx_ult_2meses_pasv',\n",
    "'num_tx_ult_3meses_ahr',\n",
    "'num_tx_ult_3meses_cdt',\n",
    "'num_tx_ult_3meses_cte',\n",
    "'num_tx_ult_3meses_pasv',\n",
    "'num_tx_ult_4meses_ahr',\n",
    "'num_tx_ult_4meses_cdt',\n",
    "'num_tx_ult_4meses_cte',\n",
    "'num_tx_ult_4meses_pasv',\n",
    "'num_tx_ult_6meses_ahr',\n",
    "'num_tx_ult_6meses_cdt',\n",
    "'num_tx_ult_6meses_cte',\n",
    "'num_tx_ult_6meses_pasv',\n",
    "'numero_creditos_cf',\n",
    "'numero_creditos_codeudores',\n",
    "'numero_obligaciones_activasdif',\n",
    "'numoblvigensectorbancasin_popu',\n",
    "'pasv_antig_total',\n",
    "'pasv_dias_desde_ultima_trans',\n",
    "'pasv_num_ctas_vig_ca',\n",
    "'pasv_num_ctas_vig_cc',\n",
    "'pasv_num_ctas_vig_cdt',\n",
    "'pasv_num_ctas_vig_tot',\n",
    "'pasv_num_meses_ult_apertura',\n",
    "'pasv_saldo_ca_1mes_atras',\n",
    "'pasv_saldo_ca_3mes_atras',\n",
    "'pasv_saldo_ca_6mes_atras',\n",
    "'pasv_saldo_ca_fin_mes_smlv',\n",
    "'pasv_saldo_cc_1mes_atras',\n",
    "'pasv_saldo_cc_3mes_atras',\n",
    "'pasv_saldo_cc_6mes_atras',\n",
    "'pasv_saldo_cc_fin_mes_smlv',\n",
    "'pasv_saldo_cdt_1mes_atras',\n",
    "'pasv_saldo_cdt_3mes_atras',\n",
    "'pasv_saldo_cdt_6mes_atras',\n",
    "'pasv_saldo_cdt_fin_mes_smlv',\n",
    "'pasv_saldo_max_ca_fin_mes_smlv',\n",
    "'pasv_saldo_max_cc_fin_mes_smlv',\n",
    "'pasv_saldo_max_cdt_fin_mes_smlv',\n",
    "'pasv_saldo_max_fin_mes_smlv',\n",
    "'pasv_saldo_min_ca_fin_mes_smlv',\n",
    "'pasv_saldo_min_cc_fin_mes_smlv',\n",
    "'pasv_saldo_min_cdt_fin_mes_smlv',\n",
    "'pasv_saldo_min_fin_mes_smlv',\n",
    "'pasv_saldo_tot_fin_mes_smlv',\n",
    "'pasv_saldo_total_1mes_atras',\n",
    "'pasv_saldo_total_3mes_atras',\n",
    "'pasv_saldo_total_6mes_atras',\n",
    "'peor_calif_trim_2_endeud',\n",
    "'peor_califi_trim_1_endeud',\n",
    "'prom_dias_procesamiento',\n",
    "'prom_monto_aprobado',\n",
    "'prom_monto_desembolsado',\n",
    "'prom_monto_novado',\n",
    "'prom_monto_solicitado',\n",
    "'prom_n_cuotas',\n",
    "'prom_prop_desembolso',\n",
    "'prom_tasa',\n",
    "'prom_tx_ult_1meses_ahr',\n",
    "'prom_tx_ult_1meses_cdt',\n",
    "'prom_tx_ult_1meses_cte',\n",
    "'prom_tx_ult_1meses_pasv',\n",
    "'prom_tx_ult_2meses_ahr',\n",
    "'prom_tx_ult_2meses_cdt',\n",
    "'prom_tx_ult_2meses_cte',\n",
    "'prom_tx_ult_2meses_pasv',\n",
    "'prom_tx_ult_3meses_ahr',\n",
    "'prom_tx_ult_3meses_cdt',\n",
    "'prom_tx_ult_3meses_cte',\n",
    "'prom_tx_ult_3meses_pasv',\n",
    "'prom_tx_ult_4meses_ahr',\n",
    "'prom_tx_ult_4meses_cdt',\n",
    "'prom_tx_ult_4meses_cte',\n",
    "'prom_tx_ult_4meses_pasv',\n",
    "'prom_tx_ult_6meses_ahr',\n",
    "'prom_tx_ult_6meses_cdt',\n",
    "'prom_tx_ult_6meses_cte',\n",
    "'prom_tx_ult_6meses_pasv',\n",
    "'prom_valor_cuota',\n",
    "'promcuposectorbancasin_popular_smlv',\n",
    "'quanto_mod',\n",
    "'rango_2',\n",
    "'rango_4',\n",
    "'rango_5',\n",
    "'saldo_max_LB_SMLV',\n",
    "'saldo_max_tot_SMLV',\n",
    "'saldo_prom_LB_SMLV',\n",
    "'saldo_prom_tot_SMLV',\n",
    "'saldo_prom_ult3_meses_total',\n",
    "'saldo_prom_ult6_meses_total',\n",
    "'saldo_prom_ult7_meses_total',\n",
    "'saldo_tot_LB_SMLV',\n",
    "'saldo_tot_LB_SMLV_ult3_meses',\n",
    "'saldo_tot_LB_SMLV_ult7_meses',\n",
    "'saldo_tot_tot_SMLV',\n",
    "'saldo_tot_tot_SMLV_ult3_meses',\n",
    "'saldo_tot_tot_SMLV_ult7_meses',\n",
    "'sector_ultlibranza',\n",
    "'subsector_ultlibranza',\n",
    "'sum_tx_linea_ahr',\n",
    "'sum_tx_linea_cte',\n",
    "'sum_tx_linea_pasv',\n",
    "'sum_tx_nolinea_ahr',\n",
    "'sum_tx_nolinea_cdt',\n",
    "'sum_tx_nolinea_pasv',\n",
    "'tdc_altura_maxima_de_mora_was_is',\n",
    "'tiene_cartfinanciera',\n",
    "'tiene_codeudor',\n",
    "'tiene_sectorreal',\n",
    "'tipo_pagaduria_ultlibranza',\n",
    "'tipo_transaccion',\n",
    "'tipo_transaccion_ahr',\n",
    "'tipo_transaccion_cdt',\n",
    "'tipo_transaccion_cte',\n",
    "'utilizacion_sin_popular',\n",
    "'util_prom_ult3_meses_total',\n",
    "'util_prom_ult6_meses_total',\n",
    "'util_prom_ult9_meses_total',\n",
    "'util_sector_banca_sin_popular',\n",
    "'val_cuo_sector_banca_sin_popu',\n",
    "'valor_cuotas_cbdif',\n",
    "'valor_cuotas_codeudores_smlv',\n",
    "'valor_cuotas_sr_smlv',\n",
    "'valor_inicial_cbdif',\n",
    "'valor_inicial_cf_smlv',\n",
    "'valor_saldo_codeudores_smlv',\n",
    "'valor_saldo_cbdif',\n",
    "'valor_saldo_srdif',\n",
    "'valor_saldo_sr_smlv',\n",
    "'valor_utilisectorbancasin_popu_smlv',\n",
    "'valor_utilisectorbancasin_popudif',\n",
    "'valor_utilizado_smlv',\n",
    "'valor_utilizadodif',\n",
    "'was_is_CC',\n",
    "'was_is_CE',\n",
    "'was_is_CH',\n",
    "'was_is_LB',\n",
    "'was_is_LE',\n",
    "'was_is_ME',\n",
    "'was_is_NV',\n",
    "'was_is_SO',\n",
    "'was_is_TC',\n",
    "'was_is_TC_T',\n",
    "'was_is_TC_X',\n",
    "'porcentaje_utilizacion'\n",
    "]"
   ]
  },
  {
   "cell_type": "code",
   "execution_count": 10,
   "metadata": {},
   "outputs": [],
   "source": [
    "mdt_v0 = mdt_v0[['id_cliente','data_camp','30first_use']+top_vars]"
   ]
  },
  {
   "cell_type": "code",
   "execution_count": 11,
   "metadata": {},
   "outputs": [],
   "source": [
    "mdt_v0['num_nulos'] = mdt_v0.apply(lambda row: (row.isnull()).sum(), axis=1)\n",
    "mdt_v0 = mdt_v0[mdt_v0['num_nulos']<50]"
   ]
  },
  {
   "cell_type": "code",
   "execution_count": 12,
   "metadata": {},
   "outputs": [
    {
     "data": {
      "text/plain": [
       "0    95.63374\n",
       "1     4.36626\n",
       "Name: 30first_use, dtype: float64"
      ]
     },
     "execution_count": 12,
     "metadata": {},
     "output_type": "execute_result"
    }
   ],
   "source": [
    "mdt['30first_use'].value_counts(normalize=True)*100"
   ]
  },
  {
   "cell_type": "code",
   "execution_count": 13,
   "metadata": {},
   "outputs": [
    {
     "data": {
      "text/plain": [
       "0    95.109385\n",
       "1     4.890615\n",
       "Name: 30first_use, dtype: float64"
      ]
     },
     "execution_count": 13,
     "metadata": {},
     "output_type": "execute_result"
    }
   ],
   "source": [
    "mdt_v0['30first_use'].value_counts(normalize=True)*100"
   ]
  },
  {
   "cell_type": "code",
   "execution_count": 14,
   "metadata": {},
   "outputs": [],
   "source": [
    "mdt_v0.set_index(['id_cliente','data_camp'], inplace=True)"
   ]
  },
  {
   "cell_type": "code",
   "execution_count": 15,
   "metadata": {},
   "outputs": [
    {
     "data": {
      "text/plain": [
       "['cartera_banca_alt_max_de_mora_was_is',\n",
       " 'cartera_coope_alt_max_de_mora_was_is',\n",
       " 'cartera_hipote_alt_max_de_mora_was_is',\n",
       " 'estado_cta_actual_ahr',\n",
       " 'estado_cta_actual_cdt',\n",
       " 'estado_cta_actual_cte',\n",
       " 'estado_cta_actual_pasv',\n",
       " 'fecha_ult_tx_ahr',\n",
       " 'fecha_ult_tx_cdt',\n",
       " 'fecha_ult_tx_cte',\n",
       " 'fecha_ult_tx_pasv',\n",
       " 'marca_derogatorio',\n",
       " 'mode_dia_ahr',\n",
       " 'mode_dia_cdt',\n",
       " 'mode_dia_cte',\n",
       " 'mode_dia_pasv',\n",
       " 'moramax_mercado_was_is',\n",
       " 'peor_calif_trim_2_endeud',\n",
       " 'peor_califi_trim_1_endeud',\n",
       " 'sector_ultlibranza',\n",
       " 'subsector_ultlibranza',\n",
       " 'tdc_altura_maxima_de_mora_was_is',\n",
       " 'tipo_pagaduria_ultlibranza',\n",
       " 'tipo_transaccion',\n",
       " 'tipo_transaccion_ahr',\n",
       " 'tipo_transaccion_cdt',\n",
       " 'tipo_transaccion_cte',\n",
       " 'was_is_CC',\n",
       " 'was_is_CE',\n",
       " 'was_is_CH',\n",
       " 'was_is_LB',\n",
       " 'was_is_LE',\n",
       " 'was_is_ME',\n",
       " 'was_is_NV',\n",
       " 'was_is_SO',\n",
       " 'was_is_TC',\n",
       " 'was_is_TC_T',\n",
       " 'was_is_TC_X',\n",
       " 'fecha']"
      ]
     },
     "execution_count": 15,
     "metadata": {},
     "output_type": "execute_result"
    }
   ],
   "source": [
    "cat_cols = list(mdt_v0.dtypes[mdt_v0.dtypes=='object'].index)\n",
    "cat_cols = cat_cols + ['fecha']\n",
    "\n",
    "cat_cols"
   ]
  },
  {
   "cell_type": "code",
   "execution_count": 16,
   "metadata": {},
   "outputs": [
    {
     "ename": "KeyError",
     "evalue": "'was_is_tot'",
     "output_type": "error",
     "traceback": [
      "\u001b[0;31m---------------------------------------------------------------------------\u001b[0m",
      "\u001b[0;31mKeyError\u001b[0m                                  Traceback (most recent call last)",
      "\u001b[0;32m~/anaconda3/lib/python3.7/site-packages/pandas/core/indexes/base.py\u001b[0m in \u001b[0;36mget_loc\u001b[0;34m(self, key, method, tolerance)\u001b[0m\n\u001b[1;32m   2896\u001b[0m             \u001b[0;32mtry\u001b[0m\u001b[0;34m:\u001b[0m\u001b[0;34m\u001b[0m\u001b[0;34m\u001b[0m\u001b[0m\n\u001b[0;32m-> 2897\u001b[0;31m                 \u001b[0;32mreturn\u001b[0m \u001b[0mself\u001b[0m\u001b[0;34m.\u001b[0m\u001b[0m_engine\u001b[0m\u001b[0;34m.\u001b[0m\u001b[0mget_loc\u001b[0m\u001b[0;34m(\u001b[0m\u001b[0mkey\u001b[0m\u001b[0;34m)\u001b[0m\u001b[0;34m\u001b[0m\u001b[0;34m\u001b[0m\u001b[0m\n\u001b[0m\u001b[1;32m   2898\u001b[0m             \u001b[0;32mexcept\u001b[0m \u001b[0mKeyError\u001b[0m\u001b[0;34m:\u001b[0m\u001b[0;34m\u001b[0m\u001b[0;34m\u001b[0m\u001b[0m\n",
      "\u001b[0;32mpandas/_libs/index.pyx\u001b[0m in \u001b[0;36mpandas._libs.index.IndexEngine.get_loc\u001b[0;34m()\u001b[0m\n",
      "\u001b[0;32mpandas/_libs/index.pyx\u001b[0m in \u001b[0;36mpandas._libs.index.IndexEngine.get_loc\u001b[0;34m()\u001b[0m\n",
      "\u001b[0;32mpandas/_libs/hashtable_class_helper.pxi\u001b[0m in \u001b[0;36mpandas._libs.hashtable.PyObjectHashTable.get_item\u001b[0;34m()\u001b[0m\n",
      "\u001b[0;32mpandas/_libs/hashtable_class_helper.pxi\u001b[0m in \u001b[0;36mpandas._libs.hashtable.PyObjectHashTable.get_item\u001b[0;34m()\u001b[0m\n",
      "\u001b[0;31mKeyError\u001b[0m: 'was_is_tot'",
      "\nDuring handling of the above exception, another exception occurred:\n",
      "\u001b[0;31mKeyError\u001b[0m                                  Traceback (most recent call last)",
      "\u001b[0;32m<ipython-input-16-778c97be5f8f>\u001b[0m in \u001b[0;36m<module>\u001b[0;34m\u001b[0m\n\u001b[1;32m     23\u001b[0m \u001b[0mmdt_v0\u001b[0m\u001b[0;34m[\u001b[0m\u001b[0;34m'was_is_TC_X_cat'\u001b[0m\u001b[0;34m]\u001b[0m \u001b[0;34m=\u001b[0m \u001b[0;34m(\u001b[0m\u001b[0mmdt_v0\u001b[0m\u001b[0;34m[\u001b[0m\u001b[0;34m'was_is_TC_X'\u001b[0m\u001b[0;34m]\u001b[0m \u001b[0;34m==\u001b[0m \u001b[0;34m'mantiene'\u001b[0m\u001b[0;34m)\u001b[0m\u001b[0;34m.\u001b[0m\u001b[0mastype\u001b[0m\u001b[0;34m(\u001b[0m\u001b[0;34m'int'\u001b[0m\u001b[0;34m)\u001b[0m\u001b[0;34m\u001b[0m\u001b[0;34m\u001b[0m\u001b[0m\n\u001b[1;32m     24\u001b[0m \u001b[0mmdt_v0\u001b[0m\u001b[0;34m[\u001b[0m\u001b[0;34m'was_is_TC_T_cat'\u001b[0m\u001b[0;34m]\u001b[0m \u001b[0;34m=\u001b[0m \u001b[0;34m(\u001b[0m\u001b[0mmdt_v0\u001b[0m\u001b[0;34m[\u001b[0m\u001b[0;34m'was_is_TC_T'\u001b[0m\u001b[0;34m]\u001b[0m \u001b[0;34m==\u001b[0m \u001b[0;34m'mantiene'\u001b[0m\u001b[0;34m)\u001b[0m\u001b[0;34m.\u001b[0m\u001b[0mastype\u001b[0m\u001b[0;34m(\u001b[0m\u001b[0;34m'int'\u001b[0m\u001b[0;34m)\u001b[0m\u001b[0;34m\u001b[0m\u001b[0;34m\u001b[0m\u001b[0m\n\u001b[0;32m---> 25\u001b[0;31m \u001b[0mmdt_v0\u001b[0m\u001b[0;34m[\u001b[0m\u001b[0;34m'was_is_tot_cat'\u001b[0m\u001b[0;34m]\u001b[0m \u001b[0;34m=\u001b[0m \u001b[0;34m(\u001b[0m\u001b[0mmdt_v0\u001b[0m\u001b[0;34m[\u001b[0m\u001b[0;34m'was_is_tot'\u001b[0m\u001b[0;34m]\u001b[0m \u001b[0;34m==\u001b[0m \u001b[0;34m'mantiene'\u001b[0m\u001b[0;34m)\u001b[0m\u001b[0;34m.\u001b[0m\u001b[0mastype\u001b[0m\u001b[0;34m(\u001b[0m\u001b[0;34m'int'\u001b[0m\u001b[0;34m)\u001b[0m\u001b[0;34m\u001b[0m\u001b[0;34m\u001b[0m\u001b[0m\n\u001b[0m\u001b[1;32m     26\u001b[0m \u001b[0;34m\u001b[0m\u001b[0m\n\u001b[1;32m     27\u001b[0m \u001b[0mmdt_v0\u001b[0m\u001b[0;34m[\u001b[0m\u001b[0;34m'tipo_transaccion_cat'\u001b[0m\u001b[0;34m]\u001b[0m \u001b[0;34m=\u001b[0m \u001b[0;34m(\u001b[0m\u001b[0mmdt_v0\u001b[0m\u001b[0;34m[\u001b[0m\u001b[0;34m'tipo_transaccion'\u001b[0m\u001b[0;34m]\u001b[0m \u001b[0;34m==\u001b[0m \u001b[0;34m'2'\u001b[0m\u001b[0;34m)\u001b[0m\u001b[0;34m.\u001b[0m\u001b[0mastype\u001b[0m\u001b[0;34m(\u001b[0m\u001b[0;34m'int'\u001b[0m\u001b[0;34m)\u001b[0m\u001b[0;34m\u001b[0m\u001b[0;34m\u001b[0m\u001b[0m\n",
      "\u001b[0;32m~/anaconda3/lib/python3.7/site-packages/pandas/core/frame.py\u001b[0m in \u001b[0;36m__getitem__\u001b[0;34m(self, key)\u001b[0m\n\u001b[1;32m   2993\u001b[0m             \u001b[0;32mif\u001b[0m \u001b[0mself\u001b[0m\u001b[0;34m.\u001b[0m\u001b[0mcolumns\u001b[0m\u001b[0;34m.\u001b[0m\u001b[0mnlevels\u001b[0m \u001b[0;34m>\u001b[0m \u001b[0;36m1\u001b[0m\u001b[0;34m:\u001b[0m\u001b[0;34m\u001b[0m\u001b[0;34m\u001b[0m\u001b[0m\n\u001b[1;32m   2994\u001b[0m                 \u001b[0;32mreturn\u001b[0m \u001b[0mself\u001b[0m\u001b[0;34m.\u001b[0m\u001b[0m_getitem_multilevel\u001b[0m\u001b[0;34m(\u001b[0m\u001b[0mkey\u001b[0m\u001b[0;34m)\u001b[0m\u001b[0;34m\u001b[0m\u001b[0;34m\u001b[0m\u001b[0m\n\u001b[0;32m-> 2995\u001b[0;31m             \u001b[0mindexer\u001b[0m \u001b[0;34m=\u001b[0m \u001b[0mself\u001b[0m\u001b[0;34m.\u001b[0m\u001b[0mcolumns\u001b[0m\u001b[0;34m.\u001b[0m\u001b[0mget_loc\u001b[0m\u001b[0;34m(\u001b[0m\u001b[0mkey\u001b[0m\u001b[0;34m)\u001b[0m\u001b[0;34m\u001b[0m\u001b[0;34m\u001b[0m\u001b[0m\n\u001b[0m\u001b[1;32m   2996\u001b[0m             \u001b[0;32mif\u001b[0m \u001b[0mis_integer\u001b[0m\u001b[0;34m(\u001b[0m\u001b[0mindexer\u001b[0m\u001b[0;34m)\u001b[0m\u001b[0;34m:\u001b[0m\u001b[0;34m\u001b[0m\u001b[0;34m\u001b[0m\u001b[0m\n\u001b[1;32m   2997\u001b[0m                 \u001b[0mindexer\u001b[0m \u001b[0;34m=\u001b[0m \u001b[0;34m[\u001b[0m\u001b[0mindexer\u001b[0m\u001b[0;34m]\u001b[0m\u001b[0;34m\u001b[0m\u001b[0;34m\u001b[0m\u001b[0m\n",
      "\u001b[0;32m~/anaconda3/lib/python3.7/site-packages/pandas/core/indexes/base.py\u001b[0m in \u001b[0;36mget_loc\u001b[0;34m(self, key, method, tolerance)\u001b[0m\n\u001b[1;32m   2897\u001b[0m                 \u001b[0;32mreturn\u001b[0m \u001b[0mself\u001b[0m\u001b[0;34m.\u001b[0m\u001b[0m_engine\u001b[0m\u001b[0;34m.\u001b[0m\u001b[0mget_loc\u001b[0m\u001b[0;34m(\u001b[0m\u001b[0mkey\u001b[0m\u001b[0;34m)\u001b[0m\u001b[0;34m\u001b[0m\u001b[0;34m\u001b[0m\u001b[0m\n\u001b[1;32m   2898\u001b[0m             \u001b[0;32mexcept\u001b[0m \u001b[0mKeyError\u001b[0m\u001b[0;34m:\u001b[0m\u001b[0;34m\u001b[0m\u001b[0;34m\u001b[0m\u001b[0m\n\u001b[0;32m-> 2899\u001b[0;31m                 \u001b[0;32mreturn\u001b[0m \u001b[0mself\u001b[0m\u001b[0;34m.\u001b[0m\u001b[0m_engine\u001b[0m\u001b[0;34m.\u001b[0m\u001b[0mget_loc\u001b[0m\u001b[0;34m(\u001b[0m\u001b[0mself\u001b[0m\u001b[0;34m.\u001b[0m\u001b[0m_maybe_cast_indexer\u001b[0m\u001b[0;34m(\u001b[0m\u001b[0mkey\u001b[0m\u001b[0;34m)\u001b[0m\u001b[0;34m)\u001b[0m\u001b[0;34m\u001b[0m\u001b[0;34m\u001b[0m\u001b[0m\n\u001b[0m\u001b[1;32m   2900\u001b[0m         \u001b[0mindexer\u001b[0m \u001b[0;34m=\u001b[0m \u001b[0mself\u001b[0m\u001b[0;34m.\u001b[0m\u001b[0mget_indexer\u001b[0m\u001b[0;34m(\u001b[0m\u001b[0;34m[\u001b[0m\u001b[0mkey\u001b[0m\u001b[0;34m]\u001b[0m\u001b[0;34m,\u001b[0m \u001b[0mmethod\u001b[0m\u001b[0;34m=\u001b[0m\u001b[0mmethod\u001b[0m\u001b[0;34m,\u001b[0m \u001b[0mtolerance\u001b[0m\u001b[0;34m=\u001b[0m\u001b[0mtolerance\u001b[0m\u001b[0;34m)\u001b[0m\u001b[0;34m\u001b[0m\u001b[0;34m\u001b[0m\u001b[0m\n\u001b[1;32m   2901\u001b[0m         \u001b[0;32mif\u001b[0m \u001b[0mindexer\u001b[0m\u001b[0;34m.\u001b[0m\u001b[0mndim\u001b[0m \u001b[0;34m>\u001b[0m \u001b[0;36m1\u001b[0m \u001b[0;32mor\u001b[0m \u001b[0mindexer\u001b[0m\u001b[0;34m.\u001b[0m\u001b[0msize\u001b[0m \u001b[0;34m>\u001b[0m \u001b[0;36m1\u001b[0m\u001b[0;34m:\u001b[0m\u001b[0;34m\u001b[0m\u001b[0;34m\u001b[0m\u001b[0m\n",
      "\u001b[0;32mpandas/_libs/index.pyx\u001b[0m in \u001b[0;36mpandas._libs.index.IndexEngine.get_loc\u001b[0;34m()\u001b[0m\n",
      "\u001b[0;32mpandas/_libs/index.pyx\u001b[0m in \u001b[0;36mpandas._libs.index.IndexEngine.get_loc\u001b[0;34m()\u001b[0m\n",
      "\u001b[0;32mpandas/_libs/hashtable_class_helper.pxi\u001b[0m in \u001b[0;36mpandas._libs.hashtable.PyObjectHashTable.get_item\u001b[0;34m()\u001b[0m\n",
      "\u001b[0;32mpandas/_libs/hashtable_class_helper.pxi\u001b[0m in \u001b[0;36mpandas._libs.hashtable.PyObjectHashTable.get_item\u001b[0;34m()\u001b[0m\n",
      "\u001b[0;31mKeyError\u001b[0m: 'was_is_tot'"
     ]
    }
   ],
   "source": [
    "#feature engineering\n",
    "\n",
    "#mdt_v0['ciudad_de_expedicion_cat'] = (mdt_v0['ciudad_de_expedicion'] == 'BOGOTA D.C.').astype('int')\n",
    "#mdt_v0['genero_cat'] = (mdt_v0['genero'] == 'F').astype('int')\n",
    "mdt_v0['peor_califi_trim_1_endeud_cat'] = (mdt_v0['peor_califi_trim_1_endeud'] == 'mantiene').astype('int')\n",
    "mdt_v0['peor_calif_trim_2_endeud_cat'] = (mdt_v0['peor_calif_trim_2_endeud'] == 'mantiene').astype('int')\n",
    "#mdt_v0['rango_aproximado_edad_cat'] = (mdt_v0['rango_aproximado_edad'] == 'mantiene').astype('int')\n",
    "mdt_v0['marca_derogatorio_cat'] = (mdt_v0['marca_derogatorio'] == 'aprobado').astype('int')\n",
    "mdt_v0['tdc_altura_maxima_de_mora_was_is_cat'] = (mdt_v0['tdc_altura_maxima_de_mora_was_is'] == 'mantiene').astype('int')\n",
    "mdt_v0['cartera_banca_alt_max_de_mora_was_is_cat'] = (mdt_v0['cartera_banca_alt_max_de_mora_was_is'] == 'mantiene').astype('int')\n",
    "mdt_v0['cartera_coope_alt_max_de_mora_was_is_cat'] = (mdt_v0['cartera_coope_alt_max_de_mora_was_is'] == 'mantiene').astype('int')\n",
    "mdt_v0['cartera_hipote_alt_max_de_mora_was_is_cat'] = (mdt_v0['cartera_hipote_alt_max_de_mora_was_is'] == 'mantiene').astype('int')\n",
    "mdt_v0['moramax_mercado_was_is_cat'] = (mdt_v0['moramax_mercado_was_is'] == 'mantiene').astype('int')\n",
    "mdt_v0['was_is_LB_cat'] = (mdt_v0['was_is_LB'] == 'mantiene').astype('int')\n",
    "mdt_v0['was_is_TC_cat'] = (mdt_v0['was_is_TC'] == 'mantiene').astype('int')\n",
    "mdt_v0['was_is_NV_cat'] = (mdt_v0['was_is_NV'] == 'mantiene').astype('int')\n",
    "mdt_v0['was_is_CH_cat'] = (mdt_v0['was_is_CH'] == 'mantiene').astype('int')\n",
    "mdt_v0['was_is_CE_cat'] = (mdt_v0['was_is_CE'] == 'mantiene').astype('int')\n",
    "mdt_v0['was_is_LE_cat'] = (mdt_v0['was_is_LE'] == 'mantiene').astype('int')\n",
    "mdt_v0['was_is_ME_cat'] = (mdt_v0['was_is_ME'] == 'mantiene').astype('int')\n",
    "mdt_v0['was_is_SO_cat'] = (mdt_v0['was_is_SO'] == 'mantiene').astype('int')\n",
    "mdt_v0['was_is_CC_cat'] = (mdt_v0['was_is_CC'] == 'mantiene').astype('int')\n",
    "mdt_v0['was_is_TC_X_cat'] = (mdt_v0['was_is_TC_X'] == 'mantiene').astype('int')\n",
    "mdt_v0['was_is_TC_T_cat'] = (mdt_v0['was_is_TC_T'] == 'mantiene').astype('int')\n",
    "mdt_v0['was_is_tot_cat'] = (mdt_v0['was_is_tot'] == 'mantiene').astype('int')\n",
    "\n",
    "mdt_v0['tipo_transaccion_cat'] = (mdt_v0['tipo_transaccion'] == '2').astype('int')\n",
    "mdt_v0['tipo_transaccion_ahr_cat'] = (mdt_v0['tipo_transaccion_ahr'] == '2').astype('int')\n",
    "mdt_v0['tipo_transaccion_cdt_cat'] = (mdt_v0['tipo_transaccion_cdt'] == '2').astype('int')\n",
    "mdt_v0['tipo_transaccion_cte_cat'] = (mdt_v0['tipo_transaccion_cte'] == '2').astype('int')\n",
    "\n",
    "# mdt_v0['tiene_sector_libranza'] = (mdt_v0['sector_ultlibranza'].notnull()).astype('int')\n",
    "# mdt_v0['tiene_subsector_libranza'] = (mdt_v0['subsector_ultlibranza'] == 'mantiene').astype('int')\n",
    "# mdt_v0['tiene_pagaduria_libranza'] = (mdt_v0['tipo_pagaduria_ultlibranza'] == 'mantiene').astype('int')\n",
    "# mdt_v0['estado_cta_actual_pasv1'] = (mdt_v0['estado_cta_actual_pasv'] == '1').astype('int')\n",
    "\n",
    "# mdt_v0['tipo_transaccion_pasv2'] = (mdt_v0['tipo_transaccion'] == '2').astype('int')\n",
    "# mdt_v0['estado_cta_actual_pasv1'] = (mdt_v0['estado_cta_actual_pasv'] == '1').astype('int')\n",
    "\n",
    "# mdt_v0['tipo_transaccion_cte2'] = (mdt_v0['tipo_transaccion_cte'] == '2').astype('int')\n",
    "# mdt_v0['estado_cta_actual_cte1'] = (mdt_v0['estado_cta_actual_cte'] == '1').astype('int')\n",
    "\n",
    "# mdt_v0['tipo_transaccion_ahr2'] = (mdt_v0['tipo_transaccion_ahr'] == '2').astype('int')\n",
    "# mdt_v0['estado_cta_actual_ahr1'] = (mdt_v0['estado_cta_actual_ahr'] == '1').astype('int')\n",
    "\n",
    "# mdt_v0['tipo_transaccion_pasv2'] = (mdt_v0['tipo_transaccion'] == '2').astype('int')\n",
    "# mdt_v0['estado_cta_actual_pasv1'] = (mdt_v0['estado_cta_actual_pasv'] == '1').astype('int')"
   ]
  },
  {
   "cell_type": "code",
   "execution_count": null,
   "metadata": {},
   "outputs": [],
   "source": [
    "mdt_v0.reset_index(inplace=True)"
   ]
  },
  {
   "cell_type": "code",
   "execution_count": null,
   "metadata": {},
   "outputs": [],
   "source": [
    "# Fill missing con categoria 'missing' para variables categoricas existentes\n",
    "vars_cat = ['estado_cta_actual_ahr',\n",
    "'estado_cta_actual_cdt',\n",
    "'estado_cta_actual_cte',\n",
    "'estado_cta_actual_pasv',\n",
    "'mode_dia_ahr',\n",
    "'mode_dia_cdt',\n",
    "'mode_dia_cte',\n",
    "'mode_dia_pasv',\n",
    "'sector_ultlibranza']\n",
    "\n",
    "mdt_v0[vars_cat] = mdt_v0[vars_cat].apply(lambda x: x.fillna('missing'))"
   ]
  },
  {
   "cell_type": "code",
   "execution_count": null,
   "metadata": {},
   "outputs": [],
   "source": [
    "mdt_v0['estado_cta_actual_ahr'] = pd.Categorical(\n",
    "                   mdt_v0.estado_cta_actual_ahr,\n",
    "                   ['missing','1','4','0']\n",
    "                   )\n",
    "\n",
    "mdt_v0['estado_cta_actual_cdt'] = pd.Categorical(\n",
    "                   mdt_v0.estado_cta_actual_cdt,\n",
    "                   ['missing','1','4','0']\n",
    "                   )\n",
    "\n",
    "mdt_v0['estado_cta_actual_cte'] = pd.Categorical(\n",
    "                   mdt_v0.estado_cta_actual_cte,\n",
    "                   ['missing','1']\n",
    "                   )\n",
    "\n",
    "mdt_v0['estado_cta_actual_pasv'] = pd.Categorical(\n",
    "                   mdt_v0.estado_cta_actual_pasv,\n",
    "                   ['missing','1','4','0']\n",
    "                   )\n",
    "\n",
    "mdt_v0['mode_dia_ahr'] = pd.Categorical(\n",
    "                   mdt_v0.mode_dia_ahr,\n",
    "                   ['missing','Friday','Tuesday','Thursday', 'Monday', 'Wednesday', 'Saturday', 'Sunday']\n",
    "                   )\n",
    "\n",
    "mdt_v0['mode_dia_cdt'] = pd.Categorical(\n",
    "                   mdt_v0.mode_dia_cdt,\n",
    "                   ['missing','Friday','Tuesday','Thursday', 'Monday', 'Wednesday', 'Saturday', 'Sunday']\n",
    "                   )\n",
    "\n",
    "mdt_v0['mode_dia_pasv'] = pd.Categorical(\n",
    "                   mdt_v0.mode_dia_pasv,\n",
    "                   ['missing','Friday','Tuesday','Thursday', 'Monday', 'Wednesday', 'Saturday', 'Sunday']\n",
    "                   )\n",
    "\n",
    "mdt_v0['sector_ultlibranza'] = pd.Categorical(\n",
    "                   mdt_v0.sector_ultlibranza,\n",
    "                   ['missing','PENSIONADOS','ENTES TERRITORIALES','ORDEN NACIONAL', 'ENTES DESENTRALIZADOS', 'PRIVADO']\n",
    "                   )"
   ]
  },
  {
   "cell_type": "code",
   "execution_count": null,
   "metadata": {},
   "outputs": [],
   "source": [
    "## Categorizing variables\n",
    "mdt_v0 = mdt_v0.join(pd.get_dummies(mdt_v0[[\n",
    "'estado_cta_actual_ahr',\n",
    "'estado_cta_actual_cdt',\n",
    "'estado_cta_actual_cte',\n",
    "'estado_cta_actual_pasv',\n",
    "'mode_dia_ahr',\n",
    "'mode_dia_cdt',\n",
    "'mode_dia_cte',\n",
    "'mode_dia_pasv',\n",
    "'sector_ultlibranza'\n",
    "]]), how='left')"
   ]
  },
  {
   "cell_type": "code",
   "execution_count": null,
   "metadata": {},
   "outputs": [],
   "source": [
    "mdt_v0.drop(columns=['data_camp']+cat_cols, inplace = True)"
   ]
  },
  {
   "cell_type": "code",
   "execution_count": null,
   "metadata": {},
   "outputs": [],
   "source": [
    "mdt_v0.reset_index(inplace=True)"
   ]
  },
  {
   "cell_type": "code",
   "execution_count": null,
   "metadata": {},
   "outputs": [],
   "source": [
    "mdt_v0.drop(columns=['index'], inplace = True)"
   ]
  },
  {
   "cell_type": "code",
   "execution_count": null,
   "metadata": {},
   "outputs": [],
   "source": [
    "mdt_v0.set_index(['id_cliente'], inplace=True)"
   ]
  },
  {
   "cell_type": "code",
   "execution_count": null,
   "metadata": {},
   "outputs": [],
   "source": [
    "np.random.seed(seed=1234) # Semilla\n",
    "\n",
    "#Se generan numeros aleatorios entre 0 y 1\n",
    "mdt_v0['ran2']=np.random.random(size=mdt_v0.shape[0])\n",
    "\n",
    "#Se seleccion train : 50% \n",
    "mdt_train=mdt_v0[mdt_v0['ran2']<=0.7]\n",
    "mdt_test=mdt_v0[mdt_v0['ran2']>0.7]\n",
    "\n",
    "###\n",
    "y = mdt_train['30first_use']\n",
    "y_test = mdt_test['30first_use']\n",
    "\n",
    "mdt_train.drop(columns=['30first_use','ran2'],inplace=True)\n",
    "mdt_test.drop(columns=['30first_use','ran2'],inplace=True)"
   ]
  },
  {
   "cell_type": "code",
   "execution_count": null,
   "metadata": {},
   "outputs": [],
   "source": [
    "mdt['30first_use'].value_counts(normalize=True)"
   ]
  },
  {
   "cell_type": "code",
   "execution_count": null,
   "metadata": {},
   "outputs": [],
   "source": [
    "mdt_v0['30first_use'].value_counts(normalize=True)"
   ]
  },
  {
   "cell_type": "code",
   "execution_count": null,
   "metadata": {},
   "outputs": [],
   "source": [
    "y.value_counts(normalize=True)"
   ]
  },
  {
   "cell_type": "code",
   "execution_count": null,
   "metadata": {},
   "outputs": [],
   "source": [
    "y_test.value_counts(normalize=True)"
   ]
  },
  {
   "cell_type": "code",
   "execution_count": null,
   "metadata": {},
   "outputs": [],
   "source": [
    "cols_modelo = mdt_train.columns\n",
    "params_dict['predictive_cols'] = cols_modelo"
   ]
  },
  {
   "cell_type": "code",
   "execution_count": null,
   "metadata": {},
   "outputs": [],
   "source": [
    "np.random.seed(seed=1234) # Semilla\n",
    "# Split dataset into training set and test set\n",
    "X_train, X_val, y_train, y_val = train_test_split(mdt_train, y, test_size=0.3, random_state=1) # 70% training and 30% test"
   ]
  },
  {
   "cell_type": "code",
   "execution_count": null,
   "metadata": {},
   "outputs": [],
   "source": [
    "y_train.value_counts(normalize=True)*100"
   ]
  },
  {
   "cell_type": "code",
   "execution_count": null,
   "metadata": {},
   "outputs": [],
   "source": [
    "y_val.value_counts(normalize=True)*100"
   ]
  },
  {
   "cell_type": "code",
   "execution_count": null,
   "metadata": {},
   "outputs": [],
   "source": [
    "y_test.value_counts(normalize=True)*100"
   ]
  },
  {
   "cell_type": "code",
   "execution_count": null,
   "metadata": {},
   "outputs": [],
   "source": [
    "vars_final = list(cols_modelo)\n",
    "# vars_final = ['acep_oferta_prev', 'num_act_utl_meses', 'num_camp_ult_meses', 'num_meses_ult_camp', 'num_no_aceptado', \n",
    "# 'num_lib_solicitadas', 'prom_monto_solicitado', 'prom_monto_aprobado', 'prom_monto_desembolsado', 'prom_monto_novado', \n",
    "# 'prom_prop_desembolso', 'prom_n_cuotas', 'prom_valor_cuota', 'prom_tasa', 'prom_dias_procesamiento', 'max_dias_procesamiento', \n",
    "# 'n_novaciones', 'pasv_num_ctas_vig_tot', 'pasv_num_ctas_vig_cc', 'pasv_num_ctas_vig_ca', 'pasv_num_ctas_vig_cdt', \n",
    "# 'pasv_dias_desde_ultima_trans', 'pasv_antig_total', 'pasv_num_meses_ult_apertura', 'pasv_saldo_tot_fin_mes_smlv', \n",
    "# 'pasv_saldo_cc_fin_mes_smlv', 'pasv_saldo_ca_fin_mes_smlv', 'pasv_saldo_cdt_fin_mes_smlv', 'pasv_saldo_min_fin_mes_smlv', \n",
    "# 'pasv_saldo_min_cc_fin_mes_smlv', 'pasv_saldo_min_ca_fin_mes_smlv', 'pasv_saldo_min_cdt_fin_mes_smlv', \n",
    "# 'pasv_saldo_max_fin_mes_smlv', 'pasv_saldo_max_cc_fin_mes_smlv', 'pasv_saldo_max_ca_fin_mes_smlv', \n",
    "# 'pasv_saldo_max_cdt_fin_mes_smlv', 'pasv_saldo_total_1mes_atras', 'pasv_saldo_cc_1mes_atras', 'pasv_saldo_ca_1mes_atras', \n",
    "# 'pasv_saldo_cdt_1mes_atras', 'pasv_saldo_total_3mes_atras', 'pasv_saldo_cc_3mes_atras', 'pasv_saldo_ca_3mes_atras', \n",
    "# 'pasv_saldo_cdt_3mes_atras', 'pasv_saldo_total_6mes_atras', 'pasv_saldo_cc_6mes_atras', 'pasv_saldo_ca_6mes_atras', \n",
    "# 'pasv_saldo_cdt_6mes_atras', 'tiene_sector_libranza', 'tiene_subsector_libranza', 'tiene_pagaduria_libranza']"
   ]
  },
  {
   "cell_type": "code",
   "execution_count": null,
   "metadata": {},
   "outputs": [],
   "source": [
    "list(cols_modelo)"
   ]
  },
  {
   "cell_type": "markdown",
   "metadata": {},
   "source": [
    "### Modelo V0 1200 variables"
   ]
  },
  {
   "cell_type": "code",
   "execution_count": null,
   "metadata": {},
   "outputs": [],
   "source": [
    "import shap\n",
    "import scikitplot as skplt\n",
    "from sklearn import metrics\n",
    "from sklearn.model_selection import train_test_split\n",
    "import xgboost as xgb\n",
    "from sklearn.model_selection import GridSearchCV\n",
    "from sklearn.model_selection import StratifiedKFold\n",
    "\n",
    "#Se ajusta el modelo con las mejores variables best_20_v3\n",
    "#'multi:softmax'\n",
    "xgb_model = xgb.XGBClassifier(objective = 'binary:logistic', \n",
    "                              seed = 1,  \n",
    "                              max_depth = 5, \n",
    "                              colsample_bytree = 0.8,\n",
    "                              learning_rate = 0.08,\n",
    "                              gamma=0.2,\n",
    "                              scale_pos_weight=np.ceil(y_train.shape[0]/y_train.sum()).astype(int),\n",
    "                              n_estimators=300, min_child_weight = 5)\n",
    "\n",
    "xgb_model.fit(X_train[vars_final], y_train, \n",
    "              eval_set = [(X_train[vars_final], y_train), (X_val[vars_final], y_val)],\n",
    "              early_stopping_rounds=100)"
   ]
  },
  {
   "cell_type": "code",
   "execution_count": null,
   "metadata": {},
   "outputs": [],
   "source": [
    "# Predecir probabilidades para data test (20%)\n",
    "\n",
    "probs_test = xgb_model.predict_proba(mdt_test[vars_final])\n",
    "\n",
    "fpr, tpr, thresholds = metrics.roc_curve(y_test, probs_test[:, 1])\n",
    "\n",
    "#AUC\n",
    "metrics.auc(fpr, tpr)"
   ]
  },
  {
   "cell_type": "code",
   "execution_count": null,
   "metadata": {},
   "outputs": [],
   "source": [
    "#Matriz de confusión\n",
    "predict_test = (probs_test[:, 1] < 0.00036)*1\n",
    "metrics.confusion_matrix(y_test,predict_test)"
   ]
  },
  {
   "cell_type": "code",
   "execution_count": null,
   "metadata": {},
   "outputs": [],
   "source": [
    "#Accuracy\n",
    "mdt_test['probs'] = probs_test[:, 1]\n",
    "metrics.accuracy_score(y_test, predict_test)"
   ]
  },
  {
   "cell_type": "code",
   "execution_count": null,
   "metadata": {},
   "outputs": [],
   "source": [
    "#Recall\n",
    "metrics.recall_score(y_test, predict_test)"
   ]
  },
  {
   "cell_type": "code",
   "execution_count": null,
   "metadata": {},
   "outputs": [],
   "source": [
    "import seaborn as sns\n",
    "import matplotlib.pyplot as plt\n",
    "import matplotlib.font_manager\n",
    "%matplotlib inline\n",
    "\n",
    "# Graficar probabilidades según Fraude/No Fraude observado (real)\n",
    "\n",
    "subset_si = mdt_test[y_test == 1]\n",
    "\n",
    "subset_no = mdt_test[y_test == 0]\n",
    "\n",
    "sns.distplot(subset_no[['probs']], hist = True, norm_hist = True, bins = 10, kde = False, kde_kws = {'linewidth' : 3},\n",
    "            label = 'No usa', color = 'green')\n",
    "\n",
    "sns.distplot(subset_si[['probs']], hist = True, norm_hist = True, bins = 10, kde = False, kde_kws = {'linewidth' : 3},\n",
    "            label = 'Si usa', color = 'red')\n",
    "\n",
    "plt.legend(prop = {'size' : 10})\n",
    "plt.title('Distribución de scores según Primer uso')\n",
    "plt.xlabel('Probabilidad')\n",
    "plt.ylabel('Porcentaje')\n",
    "plt.show()"
   ]
  },
  {
   "cell_type": "code",
   "execution_count": null,
   "metadata": {},
   "outputs": [],
   "source": [
    "skplt.metrics.plot_cumulative_gain(y_test, probs_test)"
   ]
  },
  {
   "cell_type": "code",
   "execution_count": null,
   "metadata": {},
   "outputs": [],
   "source": [
    "shap_values = shap.TreeExplainer(xgb_model).shap_values(mdt_test[vars_final])\n",
    "shap.summary_plot(shap_values, mdt_test[vars_final])\n"
   ]
  },
  {
   "cell_type": "code",
   "execution_count": null,
   "metadata": {},
   "outputs": [],
   "source": [
    "shap.summary_plot(shap_values, mdt_test[vars_final], plot_type = 'bar')"
   ]
  },
  {
   "cell_type": "markdown",
   "metadata": {},
   "source": [
    "## Grid Search"
   ]
  },
  {
   "cell_type": "code",
   "execution_count": null,
   "metadata": {},
   "outputs": [],
   "source": [
    "param_test1 = {\n",
    " 'max_depth':range(3,10,2),\n",
    " 'min_child_weight':range(1,6,2)\n",
    "}\n",
    "gsearch1 = GridSearchCV(estimator = xgb.XGBClassifier( learning_rate =0.1, n_estimators=150, max_depth=5,\n",
    " scale_pos_weight=np.ceil(y_train.shape[0]/y_train.sum()).astype(int),\n",
    " min_child_weight=1, gamma=0, subsample=0.8, colsample_bytree=0.8,\n",
    " objective= 'binary:logistic', nthread=4, seed=27), \n",
    " param_grid = param_test1, scoring='roc_auc',n_jobs=4,iid=False, cv=5)\n",
    "gsearch1.fit(X_train,y_train)"
   ]
  },
  {
   "cell_type": "code",
   "execution_count": null,
   "metadata": {},
   "outputs": [],
   "source": [
    "gsearch1.best_score_,gsearch1.best_params_, gsearch1.best_score_"
   ]
  },
  {
   "cell_type": "code",
   "execution_count": null,
   "metadata": {},
   "outputs": [],
   "source": [
    "param_test2 = {\n",
    " 'max_depth':[8,9,10],\n",
    " 'min_child_weight':[1,2,3]\n",
    "}\n",
    "gsearch2 = GridSearchCV(estimator = xgb.XGBClassifier( learning_rate=0.1, n_estimators=150, max_depth=9,\n",
    " min_child_weight=1, gamma=0, subsample=0.8, colsample_bytree=0.8,\n",
    " objective= 'binary:logistic', nthread=4, scale_pos_weight=np.ceil(y_train.shape[0]/y_train.sum()).astype(int)\n",
    "                                                      ,seed=27), \n",
    " param_grid = param_test2, scoring='roc_auc',n_jobs=4,iid=False, cv=5)\n",
    "gsearch2.fit(X_train,y_train)\n",
    "gsearch2.best_params_, gsearch2.best_score_"
   ]
  },
  {
   "cell_type": "code",
   "execution_count": null,
   "metadata": {},
   "outputs": [],
   "source": [
    "param_test3 = {\n",
    " 'gamma':[i/10.0 for i in range(0,5)]\n",
    "}\n",
    "gsearch3 = GridSearchCV(estimator = xgb.XGBClassifier( learning_rate=0.1, n_estimators=150, max_depth=5,\n",
    " min_child_weight=5, gamma=0, subsample=0.8, colsample_bytree=0.8,\n",
    " objective= 'binary:logistic', nthread=4, scale_pos_weight=np.ceil(y_train.shape[0]/y_train.sum()).astype(int)\n",
    "                                                      ,seed=27), \n",
    "param_grid = param_test3, scoring='roc_auc',n_jobs=4,iid=False, cv=5)\n",
    "gsearch3.fit(X_train,y_train)\n",
    "gsearch3.best_params_, gsearch3.best_score_"
   ]
  },
  {
   "cell_type": "code",
   "execution_count": null,
   "metadata": {},
   "outputs": [],
   "source": [
    "param_test4 = {\n",
    " 'subsample':[i/10.0 for i in range(6,10)],\n",
    " 'colsample_bytree':[i/10.0 for i in range(6,10)]\n",
    "}\n",
    "gsearch4 = GridSearchCV(estimator = xgb.XGBClassifier( learning_rate=0.1, n_estimators=150, max_depth=5,\n",
    " min_child_weight=5, gamma=0.2, subsample=0.8, colsample_bytree=0.8,\n",
    " objective= 'binary:logistic', nthread=4, scale_pos_weight=np.ceil(y_train.shape[0]/y_train.sum()).astype(int)\n",
    "                                                      ,seed=27), \n",
    "param_grid = param_test4, scoring='roc_auc',n_jobs=4,iid=False, cv=5)\n",
    "gsearch4.fit(X_train,y_train)\n",
    "gsearch4.best_params_, gsearch4.best_score_"
   ]
  },
  {
   "cell_type": "code",
   "execution_count": null,
   "metadata": {},
   "outputs": [],
   "source": [
    "param_test2 = {\n",
    " 'max_depth':[4,5,6],\n",
    " 'min_child_weight':[4,5,6]\n",
    "}\n",
    "gsearch2 = GridSearchCV(estimator = xgb.XGBClassifier( learning_rate=0.1, n_estimators=150, max_depth=5,\n",
    " min_child_weight=5, gamma=0, subsample=0.8, colsample_bytree=0.8,\n",
    " objective= 'binary:logistic', nthread=4, scale_pos_weight=np.ceil(y_train.shape[0]/y_train.sum()).astype(int)\n",
    "                                                      ,seed=27), \n",
    " param_grid = param_test2, scoring='roc_auc',n_jobs=4,iid=False, cv=5)\n",
    "gsearch2.fit(X_train,y_train)\n",
    "gsearch2.best_params_, gsearch2.best_score_"
   ]
  },
  {
   "cell_type": "code",
   "execution_count": null,
   "metadata": {},
   "outputs": [],
   "source": [
    "# #Grid seach on subsample and max_features\n",
    "# #Choose all predictors except target & IDcols\n",
    "# #kappa_scorer=make_scorer(cohen_kappa_score)\n",
    "# scoring = {'Precision': 'precision', 'Recall': 'recall', 'Roc':'roc_auc'}\n",
    "# param_test1 = {\n",
    "#     'max_depth': range(4,12,2),\n",
    "#     'min_child_weight':range(4,8,2),\n",
    "#     'learning_rate': [0.01, 0.1, 0.2]\n",
    "# }\n",
    "# gsearch1 = GridSearchCV(estimator = xgb.XGBClassifier(learning_rate =0.1, n_estimators=150, max_depth=5, min_child_weight=1, gamma=0, subsample=0.8, colsample_bytree=0.8, objective= 'binary:logistic', nthread=4,                                       \n",
    "#                                                       scale_pos_weight=np.ceil(y_train.shape[0]/y_train.sum()).astype(int), seed=None), \n",
    "#                        param_grid = param_test1, scoring=scoring, n_jobs=4,iid=False, cv=3)\n",
    "# gsearch1.fit(X_train,y_train)"
   ]
  },
  {
   "cell_type": "markdown",
   "metadata": {},
   "source": [
    "### Modelo con variables más importantes (top 60)"
   ]
  },
  {
   "cell_type": "code",
   "execution_count": null,
   "metadata": {},
   "outputs": [],
   "source": [
    "def train_eval_xgboost(df, features, y, model_num, df_importance):\n",
    "    \n",
    "    \"\"\"\n",
    "    Función que realiza lo siguiente: \n",
    "    1. A partir de Train, realiza un sampling aleatorio 70-30 para Train y Validación\n",
    "    2. Entrena un modelo XGBoost con la data de Train, usando tanto la data Train como Validación \n",
    "        para evaluar (métrica: AUC)\n",
    "    3. Calcula mean(|SHAP Value|) por variable para base de Train y guarda el valor en df_importance\n",
    "    4. Calcula auc, accuracy y recall sobre base de Test y guarda los valores en df_metricas, utilizando\n",
    "    un threshold determinado por el usuario (0.5 por default)\n",
    "    \"\"\"\n",
    "    \n",
    "    X_train, X_val, y_train, y_val = train_test_split(df[features], y, test_size = .3)\n",
    "    \n",
    "    print(model_num)\n",
    "    \n",
    "    \"Entrenar modelo XGBoost\"\n",
    "    \n",
    "    xgb_model = xgb.XGBClassifier(objective = 'binary:logistic', \n",
    "                              seed = 1,  \n",
    "                              max_depth = 9, \n",
    "                              colsample_bytree = 0.8,\n",
    "                              learning_rate = 0.08,\n",
    "                              gamma=0.2,\n",
    "                              scale_pos_weight=np.ceil(y_train.shape[0]/y_train.sum()).astype(int),\n",
    "                              n_estimators=150, min_child_weight = 1)\n",
    "\n",
    "    xgb_model.fit(X_train, y_train, \n",
    "                  eval_set = [(X_train, y_train), (X_val, y_val)], \n",
    "                  early_stopping_rounds = 500, \n",
    "                  verbose = False)\n",
    "    \n",
    "    print('Modelo entrenado')\n",
    "    \n",
    "    \"Calcular y guardar SHAP Values\"\n",
    "    \n",
    "    shap_values = shap.TreeExplainer(xgb_model).shap_values(df[features])\n",
    "    shap_feature = np.abs(shap_values).mean(axis = 0)\n",
    "    \n",
    "    df_importance['mean_SHAP_'+model_num] = shap_feature\n",
    "    \n",
    "    print('SHAP Values guardados')"
   ]
  },
  {
   "cell_type": "code",
   "execution_count": null,
   "metadata": {},
   "outputs": [],
   "source": [
    "features_x = cols_modelo\n",
    "feature_importances = pd.DataFrame({'feature_name' : features_x}, columns = ['feature_name'])"
   ]
  },
  {
   "cell_type": "code",
   "execution_count": null,
   "metadata": {},
   "outputs": [],
   "source": [
    "cols_modelo"
   ]
  },
  {
   "cell_type": "code",
   "execution_count": null,
   "metadata": {},
   "outputs": [],
   "source": [
    "#Se ejecuta 10 veces la función train_eval_xgboost para la base train (80% de la base total de desarrollo) \n",
    "# y se calculan los shap values (para las 10 iteraciones) que quedan guardados en el feature_importances\n",
    "\n",
    "#for i in range(1, 3):\n",
    "for i in range(1, 11):\n",
    "    \n",
    "    model_num = 'model_'+str(i)\n",
    "    \n",
    "    train_eval_xgboost(mdt_train, features_x, y, model_num, feature_importances)"
   ]
  },
  {
   "cell_type": "code",
   "execution_count": null,
   "metadata": {},
   "outputs": [],
   "source": [
    "#A partir de los shap values guardados en feature_importances, se otorga un ranking a las variables y se ordenan según ese ranking\n",
    "\n",
    "for col in feature_importances.columns[1:]:\n",
    "    \n",
    "    feature_importances[col + '_rank'] = feature_importances[col].rank(ascending = False)"
   ]
  },
  {
   "cell_type": "code",
   "execution_count": null,
   "metadata": {},
   "outputs": [],
   "source": [
    "feature_importances"
   ]
  },
  {
   "cell_type": "code",
   "execution_count": null,
   "metadata": {},
   "outputs": [],
   "source": [
    "# Se seleccionan las 20 mejores variables según ranking anterior\n",
    "# OJO!!!!!En feature_importances.columns[5:9] se debe poner la posicion de la primera variable _rank hasta la posicion de la ultima variable _rank\n",
    "principales = []\n",
    "for col in feature_importances.columns[11:]:\n",
    "    \n",
    "    best_60 = [x for x in feature_importances[feature_importances[col] < 40].feature_name.values]\n",
    "    principales.extend(best_60)"
   ]
  },
  {
   "cell_type": "code",
   "execution_count": null,
   "metadata": {},
   "outputs": [],
   "source": [
    "# Se seleccionan las 20 mejores variables según ranking anterior\n",
    "# OJO!!!!!En feature_importances.columns[5:9] se debe poner la posicion de la primera variable _rank hasta la posicion de la ultima variable _rank\n",
    "peores = []\n",
    "for col in feature_importances.columns[11:]:\n",
    "    \n",
    "    peorest = [x for x in feature_importances[feature_importances[col] > 90].feature_name.values]\n",
    "    peores.extend(peorest)"
   ]
  },
  {
   "cell_type": "code",
   "execution_count": null,
   "metadata": {},
   "outputs": [],
   "source": [
    "peores"
   ]
  },
  {
   "cell_type": "code",
   "execution_count": null,
   "metadata": {},
   "outputs": [],
   "source": [
    "best_60"
   ]
  },
  {
   "cell_type": "code",
   "execution_count": null,
   "metadata": {},
   "outputs": [],
   "source": [
    "best_60 = ['acierta_a_financiero',\n",
    "'amortizacion_prom_tot',\n",
    "'cuota_paga_prom_ult3_meses_total',\n",
    "'cuota_mercado_smlv',\n",
    "'cupo_mercadodif',\n",
    "'dif_porc_t_6_saldo_tot_tot_SMLV',\n",
    "#'lag_t_1_saldo_tot_LB_SMLV',\n",
    "'max_dias_procesamiento',\n",
    "'meses_ultim_aper_LB',\n",
    "'num_tx_ult_1mes_ahr',\n",
    "'num_tx_ult_6meses_ahr',\n",
    "'num_tx_ult_6meses_pasv',\n",
    "'pasv_antig_total',\n",
    "# 'pasv_dias_desde_ultima_trans',\n",
    "'pasv_num_meses_ult_apertura',\n",
    "'pasv_saldo_ca_3mes_atras',\n",
    "'pasv_saldo_ca_6mes_atras',\n",
    "'pasv_saldo_ca_fin_mes_smlv',\n",
    "'pasv_saldo_min_fin_mes_smlv',\n",
    "'pasv_saldo_total_6mes_atras',\n",
    "'prom_dias_procesamiento',\n",
    "'prom_monto_aprobado',\n",
    "'prom_monto_desembolsado',\n",
    "'prom_monto_novado',\n",
    "'prom_n_cuotas',\n",
    "'prom_prop_desembolso',\n",
    "'prom_tasa',\n",
    "'quanto_mod',\n",
    "'sum_tx_linea_ahr',\n",
    "'sum_tx_nolinea_ahr',\n",
    "'util_sector_banca_sin_popular',\n",
    "'valor_saldo_cbdif',\n",
    "'valor_utilizado_smlv',\n",
    "'porcentaje_utilizacion'\n",
    "]"
   ]
  },
  {
   "cell_type": "code",
   "execution_count": null,
   "metadata": {},
   "outputs": [],
   "source": [
    "#Se ajusta el modelo con las mejores variables best_20_v3\n",
    "#'multi:softmax'\n",
    "xgb_model_v2 = xgb.XGBClassifier(objective = 'binary:logistic', \n",
    "                              seed = 1,  \n",
    "                              max_depth = 9, \n",
    "                              colsample_bytree = 0.8,\n",
    "                              learning_rate = 0.1,\n",
    "                              gamma=0.4,\n",
    "                              scale_pos_weight=np.ceil(y_train.shape[0]/y_train.sum()).astype(int)*2,\n",
    "                              n_estimators=300, min_child_weight = 1)\n",
    "\n",
    "xgb_model_v2.fit(X_train[best_60], y_train, \n",
    "              eval_set = [(X_train[best_60], y_train), (X_val[best_60], y_val)],\n",
    "              early_stopping_rounds=100)"
   ]
  },
  {
   "cell_type": "code",
   "execution_count": null,
   "metadata": {},
   "outputs": [],
   "source": [
    "# Predecir probabilidades para data test (20%)\n",
    "\n",
    "probs_test = xgb_model_v2.predict_proba(mdt_test[best_60])\n",
    "\n",
    "fpr, tpr, thresholds = metrics.roc_curve(y_test, probs_test[:, 1])\n",
    "\n",
    "#AUC\n",
    "metrics.auc(fpr, tpr)"
   ]
  },
  {
   "cell_type": "code",
   "execution_count": null,
   "metadata": {},
   "outputs": [],
   "source": [
    "#Matriz de confusión\n",
    "predict_test = (probs_test[:, 1] < 0.005)*1\n",
    "metrics.confusion_matrix(y_test,predict_test)\n"
   ]
  },
  {
   "cell_type": "code",
   "execution_count": null,
   "metadata": {},
   "outputs": [],
   "source": [
    "#Accuracy\n",
    "mdt_test['probs'] = probs_test[:, 1]\n",
    "metrics.accuracy_score(y_test, predict_test)\n"
   ]
  },
  {
   "cell_type": "code",
   "execution_count": null,
   "metadata": {},
   "outputs": [],
   "source": [
    "#Recall\n",
    "metrics.recall_score(y_test, predict_test)"
   ]
  },
  {
   "cell_type": "code",
   "execution_count": null,
   "metadata": {},
   "outputs": [],
   "source": [
    "# Graficar probabilidades según Fraude/No Fraude observado (real)\n",
    "\n",
    "subset_si = mdt_test[y_test == 1]\n",
    "\n",
    "subset_no = mdt_test[y_test == 0]\n",
    "\n",
    "sns.distplot(subset_no[['probs']], hist = True, norm_hist = True, bins = 10, kde = False, kde_kws = {'linewidth' : 3},\n",
    "            label = 'No usa < 30D', color = 'green')\n",
    "\n",
    "sns.distplot(subset_si[['probs']], hist = True, norm_hist = True, bins = 10, kde = False, kde_kws = {'linewidth' : 3},\n",
    "            label = 'Si usa < 30D', color = 'red')\n",
    "\n",
    "plt.legend(prop = {'size' : 10})\n",
    "plt.title('Distribución de scores según Primer uso')\n",
    "plt.xlabel('Probabilidad')\n",
    "plt.ylabel('Porcentaje')\n",
    "plt.show()"
   ]
  },
  {
   "cell_type": "code",
   "execution_count": null,
   "metadata": {},
   "outputs": [],
   "source": [
    "skplt.metrics.plot_cumulative_gain(y_test, probs_test)"
   ]
  },
  {
   "cell_type": "code",
   "execution_count": null,
   "metadata": {},
   "outputs": [],
   "source": [
    "shap_values = shap.TreeExplainer(xgb_model_v2).shap_values(mdt_test[best_60])\n",
    "shap.summary_plot(shap_values, mdt_test[best_60])"
   ]
  },
  {
   "cell_type": "code",
   "execution_count": null,
   "metadata": {},
   "outputs": [],
   "source": [
    "shap.summary_plot(shap_values, mdt_test[best_60], plot_type = 'bar')"
   ]
  },
  {
   "cell_type": "markdown",
   "metadata": {},
   "source": [
    "## Tablas de validación"
   ]
  },
  {
   "cell_type": "code",
   "execution_count": null,
   "metadata": {},
   "outputs": [],
   "source": [
    "#Test\n",
    "mdt_test['probs'] = xgb_model_v2.predict_proba(mdt_test[best_60])[:, 1]\n",
    "mdt_test['decil_ModSinAcierta']=pd.qcut(mdt_test['probs'].rank(method='first'),9, labels=False)\n",
    "pd.crosstab(mdt_test['decil_ModSinAcierta'],y_test, margins=False)"
   ]
  },
  {
   "cell_type": "code",
   "execution_count": null,
   "metadata": {},
   "outputs": [],
   "source": [
    "#Train\n",
    "mdt_test['probs'] = xgb_model_v2.predict_proba(mdt_test[best_60])[:, 1]\n",
    "mdt_test['decil_ModSinAcierta']=pd.qcut(mdt_test['probs'].rank(method='first'),9, labels=False)\n",
    "pd.crosstab(mdt_test['decil_ModSinAcierta'],y_test, margins=False)"
   ]
  },
  {
   "cell_type": "code",
   "execution_count": null,
   "metadata": {},
   "outputs": [],
   "source": []
  },
  {
   "cell_type": "code",
   "execution_count": null,
   "metadata": {},
   "outputs": [],
   "source": []
  },
  {
   "cell_type": "code",
   "execution_count": null,
   "metadata": {},
   "outputs": [],
   "source": [
    "## Correr arbol\n",
    "#main(X_train,y_train)\n"
   ]
  },
  {
   "cell_type": "code",
   "execution_count": null,
   "metadata": {},
   "outputs": [],
   "source": [
    "# Testing tree\n",
    "my_tree(X_test)"
   ]
  },
  {
   "cell_type": "code",
   "execution_count": null,
   "metadata": {},
   "outputs": [],
   "source": [
    "# Model Accuracy, how often is the classifier correct?\n",
    "print(\"Accuracy:\",metrics.accuracy_score(y_test, y_pred))"
   ]
  }
 ],
 "metadata": {
  "kernelspec": {
   "display_name": "Python 3",
   "language": "python",
   "name": "python3"
  },
  "language_info": {
   "codemirror_mode": {
    "name": "ipython",
    "version": 3
   },
   "file_extension": ".py",
   "mimetype": "text/x-python",
   "name": "python",
   "nbconvert_exporter": "python",
   "pygments_lexer": "ipython3",
   "version": "3.7.3"
  }
 },
 "nbformat": 4,
 "nbformat_minor": 2
}
