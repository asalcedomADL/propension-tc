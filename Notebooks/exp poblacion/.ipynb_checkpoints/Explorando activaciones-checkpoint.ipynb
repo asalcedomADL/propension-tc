{
 "cells": [
  {
   "cell_type": "markdown",
   "metadata": {},
   "source": [
    "## Explorando bases de activaciones TC"
   ]
  },
  {
   "cell_type": "markdown",
   "metadata": {},
   "source": [
    "Código para explorar la información de activaciones de TC tradicional"
   ]
  },
  {
   "cell_type": "code",
   "execution_count": 1,
   "metadata": {},
   "outputs": [],
   "source": [
    "import pandas as pd\n",
    "import numpy as np\n",
    "import pickle\n",
    "import seaborn as sns; sns.set()\n",
    "import matplotlib.pyplot as plt\n",
    "import pandas_profiling\n",
    "import os\n",
    "from datetime import datetime, timedelta\n",
    "import dateutil.relativedelta\n",
    "import gc\n",
    "\n",
    "pd.set_option('display.max_columns',None)"
   ]
  },
  {
   "cell_type": "code",
   "execution_count": 2,
   "metadata": {},
   "outputs": [
    {
     "name": "stdout",
     "output_type": "stream",
     "text": [
      "(40422, 6)\n"
     ]
    },
    {
     "data": {
      "text/html": [
       "<div>\n",
       "<style scoped>\n",
       "    .dataframe tbody tr th:only-of-type {\n",
       "        vertical-align: middle;\n",
       "    }\n",
       "\n",
       "    .dataframe tbody tr th {\n",
       "        vertical-align: top;\n",
       "    }\n",
       "\n",
       "    .dataframe thead th {\n",
       "        text-align: right;\n",
       "    }\n",
       "</style>\n",
       "<table border=\"1\" class=\"dataframe\">\n",
       "  <thead>\n",
       "    <tr style=\"text-align: right;\">\n",
       "      <th></th>\n",
       "      <th>Numero_cuenta</th>\n",
       "      <th>Numero_tarjeta</th>\n",
       "      <th>Identificacion</th>\n",
       "      <th>Tipo_identificacion</th>\n",
       "      <th>fecha_activacion</th>\n",
       "      <th>ID_CLIENTE</th>\n",
       "    </tr>\n",
       "  </thead>\n",
       "  <tbody>\n",
       "    <tr>\n",
       "      <th>0</th>\n",
       "      <td>5392386030737574936</td>\n",
       "      <td>539238******7338</td>\n",
       "      <td>72376</td>\n",
       "      <td>2</td>\n",
       "      <td>29/01/2018</td>\n",
       "      <td>489152311997977401</td>\n",
       "    </tr>\n",
       "    <tr>\n",
       "      <th>1</th>\n",
       "      <td>4205594037122388692</td>\n",
       "      <td>420559******1701</td>\n",
       "      <td>72376</td>\n",
       "      <td>2</td>\n",
       "      <td>29/01/2018</td>\n",
       "      <td>489152311997977401</td>\n",
       "    </tr>\n",
       "    <tr>\n",
       "      <th>2</th>\n",
       "      <td>5391686024870915922</td>\n",
       "      <td>539168******9961</td>\n",
       "      <td>131658</td>\n",
       "      <td>2</td>\n",
       "      <td>29/10/2019</td>\n",
       "      <td>851557066763798702</td>\n",
       "    </tr>\n",
       "    <tr>\n",
       "      <th>3</th>\n",
       "      <td>4544054304149486544</td>\n",
       "      <td>454405******9846</td>\n",
       "      <td>131658</td>\n",
       "      <td>2</td>\n",
       "      <td>29/10/2019</td>\n",
       "      <td>851557066763798702</td>\n",
       "    </tr>\n",
       "    <tr>\n",
       "      <th>4</th>\n",
       "      <td>4205594035742557191</td>\n",
       "      <td>420559******1788</td>\n",
       "      <td>132796</td>\n",
       "      <td>2</td>\n",
       "      <td>27/09/2019</td>\n",
       "      <td>139052309749044702</td>\n",
       "    </tr>\n",
       "  </tbody>\n",
       "</table>\n",
       "</div>"
      ],
      "text/plain": [
       "         Numero_cuenta    Numero_tarjeta  Identificacion  Tipo_identificacion  \\\n",
       "0  5392386030737574936  539238******7338           72376                    2   \n",
       "1  4205594037122388692  420559******1701           72376                    2   \n",
       "2  5391686024870915922  539168******9961          131658                    2   \n",
       "3  4544054304149486544  454405******9846          131658                    2   \n",
       "4  4205594035742557191  420559******1788          132796                    2   \n",
       "\n",
       "  fecha_activacion          ID_CLIENTE  \n",
       "0       29/01/2018  489152311997977401  \n",
       "1       29/01/2018  489152311997977401  \n",
       "2       29/10/2019  851557066763798702  \n",
       "3       29/10/2019  851557066763798702  \n",
       "4       27/09/2019  139052309749044702  "
      ]
     },
     "execution_count": 2,
     "metadata": {},
     "output_type": "execute_result"
    }
   ],
   "source": [
    "path_file='s3://adl-refined-dev-popular/data_orig/productos/activo-tarjeta-credito-nueva/productos_activos-tarjeta-credito-activadas_masterfile_H20180101-20200327.csv'\n",
    "\n",
    "data = pd.read_csv(path_file, sep = '|', encoding='ISO8859-1',quoting=1, dtype={'ID_CLIENTE':str})\n"
   ]
  },
  {
   "cell_type": "code",
   "execution_count": 5,
   "metadata": {},
   "outputs": [],
   "source": [
    "# Casting variables\n",
    "data['fecha_activacion'] = pd.to_datetime(data['fecha_activacion'],format='%d/%m/%Y')\n",
    "data['mes_activacion'] = pd.to_datetime(data['fecha_activacion'].dt.strftime('%Y-%m'),format='%Y-%m')"
   ]
  },
  {
   "cell_type": "code",
   "execution_count": 6,
   "metadata": {},
   "outputs": [
    {
     "name": "stdout",
     "output_type": "stream",
     "text": [
      "(40422, 7)\n"
     ]
    },
    {
     "data": {
      "text/html": [
       "<div>\n",
       "<style scoped>\n",
       "    .dataframe tbody tr th:only-of-type {\n",
       "        vertical-align: middle;\n",
       "    }\n",
       "\n",
       "    .dataframe tbody tr th {\n",
       "        vertical-align: top;\n",
       "    }\n",
       "\n",
       "    .dataframe thead th {\n",
       "        text-align: right;\n",
       "    }\n",
       "</style>\n",
       "<table border=\"1\" class=\"dataframe\">\n",
       "  <thead>\n",
       "    <tr style=\"text-align: right;\">\n",
       "      <th></th>\n",
       "      <th>Numero_cuenta</th>\n",
       "      <th>Numero_tarjeta</th>\n",
       "      <th>Identificacion</th>\n",
       "      <th>Tipo_identificacion</th>\n",
       "      <th>fecha_activacion</th>\n",
       "      <th>ID_CLIENTE</th>\n",
       "      <th>mes_activacion</th>\n",
       "    </tr>\n",
       "  </thead>\n",
       "  <tbody>\n",
       "    <tr>\n",
       "      <th>0</th>\n",
       "      <td>5392386030737574936</td>\n",
       "      <td>539238******7338</td>\n",
       "      <td>72376</td>\n",
       "      <td>2</td>\n",
       "      <td>2018-01-29</td>\n",
       "      <td>489152311997977401</td>\n",
       "      <td>2018-01-01</td>\n",
       "    </tr>\n",
       "    <tr>\n",
       "      <th>1</th>\n",
       "      <td>4205594037122388692</td>\n",
       "      <td>420559******1701</td>\n",
       "      <td>72376</td>\n",
       "      <td>2</td>\n",
       "      <td>2018-01-29</td>\n",
       "      <td>489152311997977401</td>\n",
       "      <td>2018-01-01</td>\n",
       "    </tr>\n",
       "    <tr>\n",
       "      <th>2</th>\n",
       "      <td>5391686024870915922</td>\n",
       "      <td>539168******9961</td>\n",
       "      <td>131658</td>\n",
       "      <td>2</td>\n",
       "      <td>2019-10-29</td>\n",
       "      <td>851557066763798702</td>\n",
       "      <td>2019-10-01</td>\n",
       "    </tr>\n",
       "    <tr>\n",
       "      <th>3</th>\n",
       "      <td>4544054304149486544</td>\n",
       "      <td>454405******9846</td>\n",
       "      <td>131658</td>\n",
       "      <td>2</td>\n",
       "      <td>2019-10-29</td>\n",
       "      <td>851557066763798702</td>\n",
       "      <td>2019-10-01</td>\n",
       "    </tr>\n",
       "    <tr>\n",
       "      <th>4</th>\n",
       "      <td>4205594035742557191</td>\n",
       "      <td>420559******1788</td>\n",
       "      <td>132796</td>\n",
       "      <td>2</td>\n",
       "      <td>2019-09-27</td>\n",
       "      <td>139052309749044702</td>\n",
       "      <td>2019-09-01</td>\n",
       "    </tr>\n",
       "  </tbody>\n",
       "</table>\n",
       "</div>"
      ],
      "text/plain": [
       "         Numero_cuenta    Numero_tarjeta  Identificacion  Tipo_identificacion  \\\n",
       "0  5392386030737574936  539238******7338           72376                    2   \n",
       "1  4205594037122388692  420559******1701           72376                    2   \n",
       "2  5391686024870915922  539168******9961          131658                    2   \n",
       "3  4544054304149486544  454405******9846          131658                    2   \n",
       "4  4205594035742557191  420559******1788          132796                    2   \n",
       "\n",
       "  fecha_activacion          ID_CLIENTE mes_activacion  \n",
       "0       2018-01-29  489152311997977401     2018-01-01  \n",
       "1       2018-01-29  489152311997977401     2018-01-01  \n",
       "2       2019-10-29  851557066763798702     2019-10-01  \n",
       "3       2019-10-29  851557066763798702     2019-10-01  \n",
       "4       2019-09-27  139052309749044702     2019-09-01  "
      ]
     },
     "execution_count": 6,
     "metadata": {},
     "output_type": "execute_result"
    }
   ],
   "source": [
    "print(data.shape)\n",
    "data.head()"
   ]
  },
  {
   "cell_type": "code",
   "execution_count": 7,
   "metadata": {},
   "outputs": [
    {
     "data": {
      "text/plain": [
       "mes_activacion\n",
       "2018-01-01     777\n",
       "2018-02-01     985\n",
       "2018-03-01     870\n",
       "2018-04-01    1134\n",
       "2018-05-01    1243\n",
       "2018-06-01    1181\n",
       "2018-07-01    1169\n",
       "2018-08-01    1229\n",
       "2018-09-01    1335\n",
       "2018-10-01    1317\n",
       "2018-11-01    1175\n",
       "2018-12-01    1192\n",
       "2019-01-01    1273\n",
       "2019-02-01    1538\n",
       "2019-03-01    1659\n",
       "2019-04-01    1747\n",
       "2019-05-01    1815\n",
       "2019-06-01    1556\n",
       "2019-07-01    1830\n",
       "2019-08-01    1641\n",
       "2019-09-01    2014\n",
       "2019-10-01    2061\n",
       "2019-11-01    1294\n",
       "2019-12-01    1964\n",
       "2020-01-01    1743\n",
       "2020-02-01    2565\n",
       "2020-03-01    2115\n",
       "dtype: int64"
      ]
     },
     "execution_count": 7,
     "metadata": {},
     "output_type": "execute_result"
    }
   ],
   "source": [
    "# Volumenes mensuales:\n",
    "data.groupby('mes_activacion').size()"
   ]
  },
  {
   "cell_type": "code",
   "execution_count": 10,
   "metadata": {},
   "outputs": [
    {
     "data": {
      "text/plain": [
       "Text(0, 0.5, 'Mes de activación')"
      ]
     },
     "execution_count": 10,
     "metadata": {},
     "output_type": "execute_result"
    },
    {
     "data": {
      "image/png": "[encoded data removed]",
      "text/plain": [
       "<Figure size 720x432 with 1 Axes>"
      ]
     },
     "metadata": {
      "needs_background": "light"
     },
     "output_type": "display_data"
    }
   ],
   "source": [
    "plt.figure(figsize=(10, 6))\n",
    "data.groupby('mes_activacion').size().plot()\n",
    "plt.title('Tarjetas activas capaña de TC')\n",
    "plt.ylabel('Número de tarjetas activadas')\n",
    "plt.ylabel('Mes de activación')"
   ]
  }
 ],
 "metadata": {
  "kernelspec": {
   "display_name": "Python 3",
   "language": "python",
   "name": "python3"
  },
  "language_info": {
   "codemirror_mode": {
    "name": "ipython",
    "version": 3
   },
   "file_extension": ".py",
   "mimetype": "text/x-python",
   "name": "python",
   "nbconvert_exporter": "python",
   "pygments_lexer": "ipython3",
   "version": "3.7.3"
  }
 },
 "nbformat": 4,
 "nbformat_minor": 2
}
