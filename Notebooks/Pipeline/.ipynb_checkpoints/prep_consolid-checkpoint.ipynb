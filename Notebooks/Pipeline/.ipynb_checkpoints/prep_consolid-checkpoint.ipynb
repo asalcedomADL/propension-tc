{
 "cells": [
  {
   "cell_type": "markdown",
   "metadata": {},
   "source": [
    "# Construcción Master table"
   ]
  },
  {
   "cell_type": "code",
   "execution_count": 1,
   "metadata": {},
   "outputs": [],
   "source": [
    "import pandas as pd\n",
    "import numpy as np"
   ]
  },
  {
   "cell_type": "code",
   "execution_count": 2,
   "metadata": {},
   "outputs": [],
   "source": [
    "import s3fs\n",
    "import pyarrow.parquet as pq\n",
    "\n",
    "def spark_read_parquet(s3_url: str, **args):\n",
    "    fs = s3fs.S3FileSystem()\n",
    "    # Leyendo base\n",
    "    dataset = pq.ParquetDataset(s3_url, filesystem=fs)\n",
    "    table = dataset.read()\n",
    "    dataframe = table.to_pandas()\n",
    "\n",
    "    del dataset, table\n",
    "\n",
    "    return dataframe"
   ]
  },
  {
   "cell_type": "markdown",
   "metadata": {},
   "source": [
    "## Variables Campañas"
   ]
  },
  {
   "cell_type": "code",
   "execution_count": 3,
   "metadata": {},
   "outputs": [
    {
     "name": "stderr",
     "output_type": "stream",
     "text": [
      "/home/jupyter/anaconda3/lib/python3.7/site-packages/pyarrow/pandas_compat.py:708: FutureWarning: .labels was deprecated in version 0.24.0. Use .codes instead.\n",
      "  labels = getattr(columns, 'labels', None) or [\n",
      "/home/jupyter/anaconda3/lib/python3.7/site-packages/pyarrow/pandas_compat.py:735: FutureWarning: the 'labels' keyword is deprecated, use 'codes' instead\n",
      "  return pd.MultiIndex(levels=new_levels, labels=labels, names=columns.names)\n",
      "/home/jupyter/anaconda3/lib/python3.7/site-packages/pyarrow/pandas_compat.py:752: FutureWarning: .labels was deprecated in version 0.24.0. Use .codes instead.\n",
      "  labels, = index.labels\n"
     ]
    }
   ],
   "source": [
    "data_camp = spark_read_parquet(\"s3://adl-refined-dev-popular/parquet/TC_adquisicion/data_camp_act_M202106\")"
   ]
  },
  {
   "cell_type": "code",
   "execution_count": 4,
   "metadata": {},
   "outputs": [
    {
     "data": {
      "text/plain": [
       "Index(['cedula', 'mes_campaña', 'acep_oferta_prev', 'mes_ult_act',\n",
       "       'mes_ult_camp', 'num_act_utl_meses', 'num_camp_ult_meses',\n",
       "       'num_meses_ult_actv', 'num_meses_ult_camp', 'num_no_aceptado',\n",
       "       'data_camp'],\n",
       "      dtype='object')"
      ]
     },
     "execution_count": 4,
     "metadata": {},
     "output_type": "execute_result"
    }
   ],
   "source": [
    "data_camp.columns"
   ]
  },
  {
   "cell_type": "code",
   "execution_count": 5,
   "metadata": {},
   "outputs": [
    {
     "data": {
      "text/plain": [
       "Series([], dtype: int64)"
      ]
     },
     "execution_count": 5,
     "metadata": {},
     "output_type": "execute_result"
    }
   ],
   "source": [
    "#Se valida que no haya duplicados\n",
    "data_camp.groupby(['cedula','data_camp']).count().filter('count > 1').count()"
   ]
  },
  {
   "cell_type": "code",
   "execution_count": 6,
   "metadata": {},
   "outputs": [
    {
     "data": {
      "text/html": [
       "<div>\n",
       "<style scoped>\n",
       "    .dataframe tbody tr th:only-of-type {\n",
       "        vertical-align: middle;\n",
       "    }\n",
       "\n",
       "    .dataframe tbody tr th {\n",
       "        vertical-align: top;\n",
       "    }\n",
       "\n",
       "    .dataframe thead th {\n",
       "        text-align: right;\n",
       "    }\n",
       "</style>\n",
       "<table border=\"1\" class=\"dataframe\">\n",
       "  <thead>\n",
       "    <tr style=\"text-align: right;\">\n",
       "      <th></th>\n",
       "      <th>cedula</th>\n",
       "      <th>mes_campaña</th>\n",
       "      <th>acep_oferta_prev</th>\n",
       "      <th>mes_ult_act</th>\n",
       "      <th>mes_ult_camp</th>\n",
       "      <th>num_act_utl_meses</th>\n",
       "      <th>num_camp_ult_meses</th>\n",
       "      <th>num_meses_ult_actv</th>\n",
       "      <th>num_meses_ult_camp</th>\n",
       "      <th>num_no_aceptado</th>\n",
       "      <th>data_camp</th>\n",
       "    </tr>\n",
       "  </thead>\n",
       "  <tbody>\n",
       "    <tr>\n",
       "      <th>0</th>\n",
       "      <td>3709</td>\n",
       "      <td>2019-12-01</td>\n",
       "      <td>NaN</td>\n",
       "      <td>NaT</td>\n",
       "      <td>NaT</td>\n",
       "      <td>NaN</td>\n",
       "      <td>NaN</td>\n",
       "      <td>NaN</td>\n",
       "      <td>NaN</td>\n",
       "      <td>NaN</td>\n",
       "      <td>201912</td>\n",
       "    </tr>\n",
       "    <tr>\n",
       "      <th>1</th>\n",
       "      <td>3876</td>\n",
       "      <td>2019-11-01</td>\n",
       "      <td>NaN</td>\n",
       "      <td>NaT</td>\n",
       "      <td>NaT</td>\n",
       "      <td>NaN</td>\n",
       "      <td>NaN</td>\n",
       "      <td>NaN</td>\n",
       "      <td>NaN</td>\n",
       "      <td>NaN</td>\n",
       "      <td>201911</td>\n",
       "    </tr>\n",
       "    <tr>\n",
       "      <th>2</th>\n",
       "      <td>4444</td>\n",
       "      <td>2019-05-01</td>\n",
       "      <td>NaN</td>\n",
       "      <td>NaT</td>\n",
       "      <td>NaT</td>\n",
       "      <td>NaN</td>\n",
       "      <td>NaN</td>\n",
       "      <td>NaN</td>\n",
       "      <td>NaN</td>\n",
       "      <td>NaN</td>\n",
       "      <td>201905</td>\n",
       "    </tr>\n",
       "    <tr>\n",
       "      <th>3</th>\n",
       "      <td>8205</td>\n",
       "      <td>2019-06-01</td>\n",
       "      <td>NaN</td>\n",
       "      <td>NaT</td>\n",
       "      <td>NaT</td>\n",
       "      <td>NaN</td>\n",
       "      <td>NaN</td>\n",
       "      <td>NaN</td>\n",
       "      <td>NaN</td>\n",
       "      <td>NaN</td>\n",
       "      <td>201906</td>\n",
       "    </tr>\n",
       "    <tr>\n",
       "      <th>4</th>\n",
       "      <td>15237</td>\n",
       "      <td>2019-06-01</td>\n",
       "      <td>NaN</td>\n",
       "      <td>NaT</td>\n",
       "      <td>NaT</td>\n",
       "      <td>NaN</td>\n",
       "      <td>NaN</td>\n",
       "      <td>NaN</td>\n",
       "      <td>NaN</td>\n",
       "      <td>NaN</td>\n",
       "      <td>201906</td>\n",
       "    </tr>\n",
       "  </tbody>\n",
       "</table>\n",
       "</div>"
      ],
      "text/plain": [
       "   cedula mes_campaña  acep_oferta_prev mes_ult_act mes_ult_camp  \\\n",
       "0    3709  2019-12-01               NaN         NaT          NaT   \n",
       "1    3876  2019-11-01               NaN         NaT          NaT   \n",
       "2    4444  2019-05-01               NaN         NaT          NaT   \n",
       "3    8205  2019-06-01               NaN         NaT          NaT   \n",
       "4   15237  2019-06-01               NaN         NaT          NaT   \n",
       "\n",
       "   num_act_utl_meses  num_camp_ult_meses  num_meses_ult_actv  \\\n",
       "0                NaN                 NaN                 NaN   \n",
       "1                NaN                 NaN                 NaN   \n",
       "2                NaN                 NaN                 NaN   \n",
       "3                NaN                 NaN                 NaN   \n",
       "4                NaN                 NaN                 NaN   \n",
       "\n",
       "   num_meses_ult_camp  num_no_aceptado  data_camp  \n",
       "0                 NaN              NaN     201912  \n",
       "1                 NaN              NaN     201911  \n",
       "2                 NaN              NaN     201905  \n",
       "3                 NaN              NaN     201906  \n",
       "4                 NaN              NaN     201906  "
      ]
     },
     "execution_count": 6,
     "metadata": {},
     "output_type": "execute_result"
    }
   ],
   "source": [
    "data_camp.head(5)"
   ]
  },
  {
   "cell_type": "code",
   "execution_count": 7,
   "metadata": {},
   "outputs": [],
   "source": [
    "data_camp=data_camp.drop(columns=['mes_campaña','mes_ult_act','mes_ult_camp'])"
   ]
  },
  {
   "cell_type": "code",
   "execution_count": 8,
   "metadata": {},
   "outputs": [],
   "source": [
    "data_camp = data_camp.rename(columns={'cedula':'id_numero_cliente','data_camp':'fecha_camp'})"
   ]
  },
  {
   "cell_type": "markdown",
   "metadata": {},
   "source": [
    "## Lectura Buro"
   ]
  },
  {
   "cell_type": "code",
   "execution_count": 9,
   "metadata": {},
   "outputs": [],
   "source": [
    "data_buro = spark_read_parquet(\"s3://adl-refined-dev-popular/parquet/TC_adquisicion/base_buro_M202101\")"
   ]
  },
  {
   "cell_type": "code",
   "execution_count": 10,
   "metadata": {},
   "outputs": [],
   "source": [
    "data_buro['tipo_id_homologado'] = data_buro['tipo_id_homologado'].astype('int')"
   ]
  },
  {
   "cell_type": "code",
   "execution_count": 11,
   "metadata": {},
   "outputs": [
    {
     "data": {
      "text/plain": [
       "Index(['tipo_id', 'tipo_id_homologado', 'no_identificacion', 'id_cliente',\n",
       "       'fecha_buro', 'numero_obligaciones_activasdif',\n",
       "       'porcentaje_utilizacion', 'quanto_mod', 'valor_cuotas_codeudores_smlv',\n",
       "       'valor_utilizado_smlv'],\n",
       "      dtype='object')"
      ]
     },
     "execution_count": 11,
     "metadata": {},
     "output_type": "execute_result"
    }
   ],
   "source": [
    "data_buro.columns"
   ]
  },
  {
   "cell_type": "code",
   "execution_count": 12,
   "metadata": {},
   "outputs": [
    {
     "data": {
      "text/plain": [
       "Series([], dtype: int64)"
      ]
     },
     "execution_count": 12,
     "metadata": {},
     "output_type": "execute_result"
    }
   ],
   "source": [
    "#Se valida que no haya duplicados\n",
    "data_buro.groupby(['no_identificacion','fecha_buro']).count().filter('count > 1').count()"
   ]
  },
  {
   "cell_type": "code",
   "execution_count": 13,
   "metadata": {},
   "outputs": [
    {
     "data": {
      "text/plain": [
       "fecha_buro\n",
       "202101    532424\n",
       "Name: no_identificacion, dtype: int64"
      ]
     },
     "execution_count": 13,
     "metadata": {},
     "output_type": "execute_result"
    }
   ],
   "source": [
    "data_buro.groupby(['fecha_buro'])['no_identificacion'].count().head(30)"
   ]
  },
  {
   "cell_type": "code",
   "execution_count": 14,
   "metadata": {},
   "outputs": [],
   "source": [
    "data_buro = data_buro.rename(columns={'no_identificacion':'id_numero_cliente','tipo_id_homologado':'id_tp_cd'})"
   ]
  },
  {
   "cell_type": "code",
   "execution_count": 15,
   "metadata": {},
   "outputs": [],
   "source": [
    "data_buro=data_buro.drop(columns='id_cliente')"
   ]
  },
  {
   "cell_type": "code",
   "execution_count": 16,
   "metadata": {},
   "outputs": [
    {
     "data": {
      "text/html": [
       "<div>\n",
       "<style scoped>\n",
       "    .dataframe tbody tr th:only-of-type {\n",
       "        vertical-align: middle;\n",
       "    }\n",
       "\n",
       "    .dataframe tbody tr th {\n",
       "        vertical-align: top;\n",
       "    }\n",
       "\n",
       "    .dataframe thead th {\n",
       "        text-align: right;\n",
       "    }\n",
       "</style>\n",
       "<table border=\"1\" class=\"dataframe\">\n",
       "  <thead>\n",
       "    <tr style=\"text-align: right;\">\n",
       "      <th></th>\n",
       "      <th>tipo_id</th>\n",
       "      <th>id_tp_cd</th>\n",
       "      <th>id_numero_cliente</th>\n",
       "      <th>fecha_buro</th>\n",
       "      <th>numero_obligaciones_activasdif</th>\n",
       "      <th>porcentaje_utilizacion</th>\n",
       "      <th>quanto_mod</th>\n",
       "      <th>valor_cuotas_codeudores_smlv</th>\n",
       "      <th>valor_utilizado_smlv</th>\n",
       "    </tr>\n",
       "  </thead>\n",
       "  <tbody>\n",
       "    <tr>\n",
       "      <th>0</th>\n",
       "      <td>1</td>\n",
       "      <td>1000003</td>\n",
       "      <td>206</td>\n",
       "      <td>202101</td>\n",
       "      <td>0.000000</td>\n",
       "      <td>0.0000</td>\n",
       "      <td>3669000.0</td>\n",
       "      <td>0.0</td>\n",
       "      <td>0.000000</td>\n",
       "    </tr>\n",
       "    <tr>\n",
       "      <th>1</th>\n",
       "      <td>1</td>\n",
       "      <td>1000003</td>\n",
       "      <td>357</td>\n",
       "      <td>202101</td>\n",
       "      <td>-0.166667</td>\n",
       "      <td>2.1094</td>\n",
       "      <td>3432000.0</td>\n",
       "      <td>0.0</td>\n",
       "      <td>1.973526</td>\n",
       "    </tr>\n",
       "    <tr>\n",
       "      <th>2</th>\n",
       "      <td>1</td>\n",
       "      <td>1000003</td>\n",
       "      <td>1112</td>\n",
       "      <td>202101</td>\n",
       "      <td>-0.333333</td>\n",
       "      <td>0.0000</td>\n",
       "      <td>1676000.0</td>\n",
       "      <td>0.0</td>\n",
       "      <td>0.000000</td>\n",
       "    </tr>\n",
       "    <tr>\n",
       "      <th>3</th>\n",
       "      <td>1</td>\n",
       "      <td>1000003</td>\n",
       "      <td>1272</td>\n",
       "      <td>202101</td>\n",
       "      <td>0.142857</td>\n",
       "      <td>0.7924</td>\n",
       "      <td>18188000.0</td>\n",
       "      <td>0.0</td>\n",
       "      <td>66.737771</td>\n",
       "    </tr>\n",
       "    <tr>\n",
       "      <th>4</th>\n",
       "      <td>1</td>\n",
       "      <td>1000003</td>\n",
       "      <td>1898</td>\n",
       "      <td>202101</td>\n",
       "      <td>0.000000</td>\n",
       "      <td>0.0000</td>\n",
       "      <td>2782000.0</td>\n",
       "      <td>0.0</td>\n",
       "      <td>0.000000</td>\n",
       "    </tr>\n",
       "    <tr>\n",
       "      <th>5</th>\n",
       "      <td>1</td>\n",
       "      <td>1000003</td>\n",
       "      <td>1974</td>\n",
       "      <td>202101</td>\n",
       "      <td>0.000000</td>\n",
       "      <td>0.0938</td>\n",
       "      <td>8058000.0</td>\n",
       "      <td>0.0</td>\n",
       "      <td>12.219793</td>\n",
       "    </tr>\n",
       "    <tr>\n",
       "      <th>6</th>\n",
       "      <td>1</td>\n",
       "      <td>1000003</td>\n",
       "      <td>2245</td>\n",
       "      <td>202101</td>\n",
       "      <td>0.000000</td>\n",
       "      <td>0.0000</td>\n",
       "      <td>3002000.0</td>\n",
       "      <td>0.0</td>\n",
       "      <td>0.000000</td>\n",
       "    </tr>\n",
       "    <tr>\n",
       "      <th>7</th>\n",
       "      <td>1</td>\n",
       "      <td>1000003</td>\n",
       "      <td>2460</td>\n",
       "      <td>202101</td>\n",
       "      <td>0.000000</td>\n",
       "      <td>0.0000</td>\n",
       "      <td>5521000.0</td>\n",
       "      <td>0.0</td>\n",
       "      <td>0.000000</td>\n",
       "    </tr>\n",
       "    <tr>\n",
       "      <th>8</th>\n",
       "      <td>1</td>\n",
       "      <td>1000003</td>\n",
       "      <td>2538</td>\n",
       "      <td>202101</td>\n",
       "      <td>-0.200000</td>\n",
       "      <td>0.0000</td>\n",
       "      <td>2238000.0</td>\n",
       "      <td>0.0</td>\n",
       "      <td>0.000000</td>\n",
       "    </tr>\n",
       "    <tr>\n",
       "      <th>9</th>\n",
       "      <td>1</td>\n",
       "      <td>1000003</td>\n",
       "      <td>2567</td>\n",
       "      <td>202101</td>\n",
       "      <td>-0.111111</td>\n",
       "      <td>1.0298</td>\n",
       "      <td>7452000.0</td>\n",
       "      <td>0.0</td>\n",
       "      <td>28.220436</td>\n",
       "    </tr>\n",
       "  </tbody>\n",
       "</table>\n",
       "</div>"
      ],
      "text/plain": [
       "  tipo_id  id_tp_cd  id_numero_cliente  fecha_buro  \\\n",
       "0       1   1000003                206      202101   \n",
       "1       1   1000003                357      202101   \n",
       "2       1   1000003               1112      202101   \n",
       "3       1   1000003               1272      202101   \n",
       "4       1   1000003               1898      202101   \n",
       "5       1   1000003               1974      202101   \n",
       "6       1   1000003               2245      202101   \n",
       "7       1   1000003               2460      202101   \n",
       "8       1   1000003               2538      202101   \n",
       "9       1   1000003               2567      202101   \n",
       "\n",
       "   numero_obligaciones_activasdif  porcentaje_utilizacion  quanto_mod  \\\n",
       "0                        0.000000                  0.0000   3669000.0   \n",
       "1                       -0.166667                  2.1094   3432000.0   \n",
       "2                       -0.333333                  0.0000   1676000.0   \n",
       "3                        0.142857                  0.7924  18188000.0   \n",
       "4                        0.000000                  0.0000   2782000.0   \n",
       "5                        0.000000                  0.0938   8058000.0   \n",
       "6                        0.000000                  0.0000   3002000.0   \n",
       "7                        0.000000                  0.0000   5521000.0   \n",
       "8                       -0.200000                  0.0000   2238000.0   \n",
       "9                       -0.111111                  1.0298   7452000.0   \n",
       "\n",
       "   valor_cuotas_codeudores_smlv  valor_utilizado_smlv  \n",
       "0                           0.0              0.000000  \n",
       "1                           0.0              1.973526  \n",
       "2                           0.0              0.000000  \n",
       "3                           0.0             66.737771  \n",
       "4                           0.0              0.000000  \n",
       "5                           0.0             12.219793  \n",
       "6                           0.0              0.000000  \n",
       "7                           0.0              0.000000  \n",
       "8                           0.0              0.000000  \n",
       "9                           0.0             28.220436  "
      ]
     },
     "execution_count": 16,
     "metadata": {},
     "output_type": "execute_result"
    }
   ],
   "source": [
    "data_buro.head(10)"
   ]
  },
  {
   "cell_type": "markdown",
   "metadata": {},
   "source": [
    "## Lectura archivo activos"
   ]
  },
  {
   "cell_type": "code",
   "execution_count": 17,
   "metadata": {},
   "outputs": [],
   "source": [
    "data_activo = spark_read_parquet(\"s3://adl-refined-dev-popular/parquet/TC_adquisicion/base_activos_M202105\")"
   ]
  },
  {
   "cell_type": "code",
   "execution_count": 18,
   "metadata": {},
   "outputs": [
    {
     "data": {
      "text/plain": [
       "nroident               315616\n",
       "tipo_ident_hom         315616\n",
       "fecha_activos          315616\n",
       "amortizacion_min_lb    315616\n",
       "cuota_max_lb_smlv      315616\n",
       "dtype: int64"
      ]
     },
     "execution_count": 18,
     "metadata": {},
     "output_type": "execute_result"
    }
   ],
   "source": [
    "data_activo.count()"
   ]
  },
  {
   "cell_type": "code",
   "execution_count": 19,
   "metadata": {},
   "outputs": [
    {
     "data": {
      "text/plain": [
       "Series([], dtype: int64)"
      ]
     },
     "execution_count": 19,
     "metadata": {},
     "output_type": "execute_result"
    }
   ],
   "source": [
    "#Revisar si tiene duplicados or id y fecha\n",
    "data_activo.groupby(['nroident','fecha_activos']).count().filter('count > 1').count()"
   ]
  },
  {
   "cell_type": "code",
   "execution_count": 20,
   "metadata": {},
   "outputs": [
    {
     "data": {
      "text/html": [
       "<div>\n",
       "<style scoped>\n",
       "    .dataframe tbody tr th:only-of-type {\n",
       "        vertical-align: middle;\n",
       "    }\n",
       "\n",
       "    .dataframe tbody tr th {\n",
       "        vertical-align: top;\n",
       "    }\n",
       "\n",
       "    .dataframe thead th {\n",
       "        text-align: right;\n",
       "    }\n",
       "</style>\n",
       "<table border=\"1\" class=\"dataframe\">\n",
       "  <thead>\n",
       "    <tr style=\"text-align: right;\">\n",
       "      <th></th>\n",
       "      <th>nroident</th>\n",
       "      <th>tipo_ident_hom</th>\n",
       "      <th>fecha_activos</th>\n",
       "      <th>amortizacion_min_lb</th>\n",
       "      <th>cuota_max_lb_smlv</th>\n",
       "    </tr>\n",
       "  </thead>\n",
       "  <tbody>\n",
       "    <tr>\n",
       "      <th>0</th>\n",
       "      <td>206</td>\n",
       "      <td>1000003</td>\n",
       "      <td>202105</td>\n",
       "      <td>0.861739</td>\n",
       "      <td>0.531937</td>\n",
       "    </tr>\n",
       "    <tr>\n",
       "      <th>1</th>\n",
       "      <td>1112</td>\n",
       "      <td>1000003</td>\n",
       "      <td>202105</td>\n",
       "      <td>0.433114</td>\n",
       "      <td>0.312141</td>\n",
       "    </tr>\n",
       "    <tr>\n",
       "      <th>2</th>\n",
       "      <td>1272</td>\n",
       "      <td>1000003</td>\n",
       "      <td>202105</td>\n",
       "      <td>0.980259</td>\n",
       "      <td>1.563886</td>\n",
       "    </tr>\n",
       "    <tr>\n",
       "      <th>3</th>\n",
       "      <td>1974</td>\n",
       "      <td>1000003</td>\n",
       "      <td>202105</td>\n",
       "      <td>0.349558</td>\n",
       "      <td>0.835206</td>\n",
       "    </tr>\n",
       "    <tr>\n",
       "      <th>4</th>\n",
       "      <td>2460</td>\n",
       "      <td>1000003</td>\n",
       "      <td>202105</td>\n",
       "      <td>0.527590</td>\n",
       "      <td>1.785160</td>\n",
       "    </tr>\n",
       "    <tr>\n",
       "      <th>5</th>\n",
       "      <td>2538</td>\n",
       "      <td>1000003</td>\n",
       "      <td>202105</td>\n",
       "      <td>0.117525</td>\n",
       "      <td>0.225080</td>\n",
       "    </tr>\n",
       "    <tr>\n",
       "      <th>6</th>\n",
       "      <td>2567</td>\n",
       "      <td>1000003</td>\n",
       "      <td>202105</td>\n",
       "      <td>0.552581</td>\n",
       "      <td>0.575778</td>\n",
       "    </tr>\n",
       "    <tr>\n",
       "      <th>7</th>\n",
       "      <td>3109</td>\n",
       "      <td>1000003</td>\n",
       "      <td>202105</td>\n",
       "      <td>0.075249</td>\n",
       "      <td>1.039104</td>\n",
       "    </tr>\n",
       "    <tr>\n",
       "      <th>8</th>\n",
       "      <td>3169</td>\n",
       "      <td>1000003</td>\n",
       "      <td>202105</td>\n",
       "      <td>0.192496</td>\n",
       "      <td>0.318537</td>\n",
       "    </tr>\n",
       "    <tr>\n",
       "      <th>9</th>\n",
       "      <td>3170</td>\n",
       "      <td>1000003</td>\n",
       "      <td>202105</td>\n",
       "      <td>0.334414</td>\n",
       "      <td>0.367906</td>\n",
       "    </tr>\n",
       "    <tr>\n",
       "      <th>10</th>\n",
       "      <td>3254</td>\n",
       "      <td>1000003</td>\n",
       "      <td>202105</td>\n",
       "      <td>0.029175</td>\n",
       "      <td>0.994690</td>\n",
       "    </tr>\n",
       "    <tr>\n",
       "      <th>11</th>\n",
       "      <td>3543</td>\n",
       "      <td>1000003</td>\n",
       "      <td>202105</td>\n",
       "      <td>0.991000</td>\n",
       "      <td>1.763317</td>\n",
       "    </tr>\n",
       "    <tr>\n",
       "      <th>12</th>\n",
       "      <td>4058</td>\n",
       "      <td>1000003</td>\n",
       "      <td>202105</td>\n",
       "      <td>0.037095</td>\n",
       "      <td>0.233786</td>\n",
       "    </tr>\n",
       "    <tr>\n",
       "      <th>13</th>\n",
       "      <td>5171</td>\n",
       "      <td>1000003</td>\n",
       "      <td>202105</td>\n",
       "      <td>0.569548</td>\n",
       "      <td>0.593401</td>\n",
       "    </tr>\n",
       "    <tr>\n",
       "      <th>14</th>\n",
       "      <td>5198</td>\n",
       "      <td>1000003</td>\n",
       "      <td>202105</td>\n",
       "      <td>0.210552</td>\n",
       "      <td>1.428451</td>\n",
       "    </tr>\n",
       "    <tr>\n",
       "      <th>15</th>\n",
       "      <td>5590</td>\n",
       "      <td>1000003</td>\n",
       "      <td>202105</td>\n",
       "      <td>0.769536</td>\n",
       "      <td>0.452338</td>\n",
       "    </tr>\n",
       "    <tr>\n",
       "      <th>16</th>\n",
       "      <td>5701</td>\n",
       "      <td>1000003</td>\n",
       "      <td>202105</td>\n",
       "      <td>0.598374</td>\n",
       "      <td>0.517314</td>\n",
       "    </tr>\n",
       "    <tr>\n",
       "      <th>17</th>\n",
       "      <td>6126</td>\n",
       "      <td>1000003</td>\n",
       "      <td>202105</td>\n",
       "      <td>0.104719</td>\n",
       "      <td>1.159786</td>\n",
       "    </tr>\n",
       "    <tr>\n",
       "      <th>18</th>\n",
       "      <td>6201</td>\n",
       "      <td>1000003</td>\n",
       "      <td>202105</td>\n",
       "      <td>0.301913</td>\n",
       "      <td>0.497779</td>\n",
       "    </tr>\n",
       "    <tr>\n",
       "      <th>19</th>\n",
       "      <td>6299</td>\n",
       "      <td>1000003</td>\n",
       "      <td>202105</td>\n",
       "      <td>0.658457</td>\n",
       "      <td>0.454562</td>\n",
       "    </tr>\n",
       "    <tr>\n",
       "      <th>20</th>\n",
       "      <td>6385</td>\n",
       "      <td>1000003</td>\n",
       "      <td>202105</td>\n",
       "      <td>0.106409</td>\n",
       "      <td>0.814892</td>\n",
       "    </tr>\n",
       "    <tr>\n",
       "      <th>21</th>\n",
       "      <td>7902</td>\n",
       "      <td>1000003</td>\n",
       "      <td>202105</td>\n",
       "      <td>0.067660</td>\n",
       "      <td>1.976574</td>\n",
       "    </tr>\n",
       "    <tr>\n",
       "      <th>22</th>\n",
       "      <td>8109</td>\n",
       "      <td>1000003</td>\n",
       "      <td>202105</td>\n",
       "      <td>0.709401</td>\n",
       "      <td>0.575420</td>\n",
       "    </tr>\n",
       "    <tr>\n",
       "      <th>23</th>\n",
       "      <td>8677</td>\n",
       "      <td>1000003</td>\n",
       "      <td>202105</td>\n",
       "      <td>0.092830</td>\n",
       "      <td>0.514603</td>\n",
       "    </tr>\n",
       "    <tr>\n",
       "      <th>24</th>\n",
       "      <td>9271</td>\n",
       "      <td>1000003</td>\n",
       "      <td>202105</td>\n",
       "      <td>0.447445</td>\n",
       "      <td>1.000035</td>\n",
       "    </tr>\n",
       "    <tr>\n",
       "      <th>25</th>\n",
       "      <td>9344</td>\n",
       "      <td>1000003</td>\n",
       "      <td>202105</td>\n",
       "      <td>0.462321</td>\n",
       "      <td>0.634222</td>\n",
       "    </tr>\n",
       "    <tr>\n",
       "      <th>26</th>\n",
       "      <td>9913</td>\n",
       "      <td>1000003</td>\n",
       "      <td>202105</td>\n",
       "      <td>0.226498</td>\n",
       "      <td>1.963843</td>\n",
       "    </tr>\n",
       "    <tr>\n",
       "      <th>27</th>\n",
       "      <td>10306</td>\n",
       "      <td>1000003</td>\n",
       "      <td>202105</td>\n",
       "      <td>0.202790</td>\n",
       "      <td>0.292754</td>\n",
       "    </tr>\n",
       "    <tr>\n",
       "      <th>28</th>\n",
       "      <td>10755</td>\n",
       "      <td>1000003</td>\n",
       "      <td>202105</td>\n",
       "      <td>0.759942</td>\n",
       "      <td>0.158292</td>\n",
       "    </tr>\n",
       "    <tr>\n",
       "      <th>29</th>\n",
       "      <td>11085</td>\n",
       "      <td>1000003</td>\n",
       "      <td>202105</td>\n",
       "      <td>0.733046</td>\n",
       "      <td>0.366076</td>\n",
       "    </tr>\n",
       "  </tbody>\n",
       "</table>\n",
       "</div>"
      ],
      "text/plain": [
       "    nroident  tipo_ident_hom  fecha_activos  amortizacion_min_lb  \\\n",
       "0        206         1000003         202105             0.861739   \n",
       "1       1112         1000003         202105             0.433114   \n",
       "2       1272         1000003         202105             0.980259   \n",
       "3       1974         1000003         202105             0.349558   \n",
       "4       2460         1000003         202105             0.527590   \n",
       "5       2538         1000003         202105             0.117525   \n",
       "6       2567         1000003         202105             0.552581   \n",
       "7       3109         1000003         202105             0.075249   \n",
       "8       3169         1000003         202105             0.192496   \n",
       "9       3170         1000003         202105             0.334414   \n",
       "10      3254         1000003         202105             0.029175   \n",
       "11      3543         1000003         202105             0.991000   \n",
       "12      4058         1000003         202105             0.037095   \n",
       "13      5171         1000003         202105             0.569548   \n",
       "14      5198         1000003         202105             0.210552   \n",
       "15      5590         1000003         202105             0.769536   \n",
       "16      5701         1000003         202105             0.598374   \n",
       "17      6126         1000003         202105             0.104719   \n",
       "18      6201         1000003         202105             0.301913   \n",
       "19      6299         1000003         202105             0.658457   \n",
       "20      6385         1000003         202105             0.106409   \n",
       "21      7902         1000003         202105             0.067660   \n",
       "22      8109         1000003         202105             0.709401   \n",
       "23      8677         1000003         202105             0.092830   \n",
       "24      9271         1000003         202105             0.447445   \n",
       "25      9344         1000003         202105             0.462321   \n",
       "26      9913         1000003         202105             0.226498   \n",
       "27     10306         1000003         202105             0.202790   \n",
       "28     10755         1000003         202105             0.759942   \n",
       "29     11085         1000003         202105             0.733046   \n",
       "\n",
       "    cuota_max_lb_smlv  \n",
       "0            0.531937  \n",
       "1            0.312141  \n",
       "2            1.563886  \n",
       "3            0.835206  \n",
       "4            1.785160  \n",
       "5            0.225080  \n",
       "6            0.575778  \n",
       "7            1.039104  \n",
       "8            0.318537  \n",
       "9            0.367906  \n",
       "10           0.994690  \n",
       "11           1.763317  \n",
       "12           0.233786  \n",
       "13           0.593401  \n",
       "14           1.428451  \n",
       "15           0.452338  \n",
       "16           0.517314  \n",
       "17           1.159786  \n",
       "18           0.497779  \n",
       "19           0.454562  \n",
       "20           0.814892  \n",
       "21           1.976574  \n",
       "22           0.575420  \n",
       "23           0.514603  \n",
       "24           1.000035  \n",
       "25           0.634222  \n",
       "26           1.963843  \n",
       "27           0.292754  \n",
       "28           0.158292  \n",
       "29           0.366076  "
      ]
     },
     "execution_count": 20,
     "metadata": {},
     "output_type": "execute_result"
    }
   ],
   "source": [
    "data_activo.head(30)"
   ]
  },
  {
   "cell_type": "code",
   "execution_count": 21,
   "metadata": {},
   "outputs": [
    {
     "data": {
      "text/plain": [
       "Index(['nroident', 'tipo_ident_hom', 'fecha_activos', 'amortizacion_min_lb',\n",
       "       'cuota_max_lb_smlv'],\n",
       "      dtype='object')"
      ]
     },
     "execution_count": 21,
     "metadata": {},
     "output_type": "execute_result"
    }
   ],
   "source": [
    "data_activo.columns"
   ]
  },
  {
   "cell_type": "code",
   "execution_count": 22,
   "metadata": {},
   "outputs": [],
   "source": [
    "data_activo = data_activo.rename(columns={'nroident':'id_numero_cliente','tipo_ident_hom':'id_tp_cd'})"
   ]
  },
  {
   "cell_type": "markdown",
   "metadata": {},
   "source": [
    "## Lectura archivo Libranzas"
   ]
  },
  {
   "cell_type": "code",
   "execution_count": 23,
   "metadata": {},
   "outputs": [],
   "source": [
    "data_lib = spark_read_parquet(\"s3://adl-refined-dev-popular/parquet/TC_adquisicion/base_libranzas_M202106\")"
   ]
  },
  {
   "cell_type": "code",
   "execution_count": 24,
   "metadata": {},
   "outputs": [
    {
     "data": {
      "text/plain": [
       "Index(['id_numero_cliente', 'id_tp_cd', 'num_lib_solicitadas',\n",
       "       'prom_monto_novado', 'prom_n_cuotas', 'periodo'],\n",
       "      dtype='object')"
      ]
     },
     "execution_count": 24,
     "metadata": {},
     "output_type": "execute_result"
    }
   ],
   "source": [
    "data_lib.columns"
   ]
  },
  {
   "cell_type": "code",
   "execution_count": 25,
   "metadata": {},
   "outputs": [
    {
     "data": {
      "text/plain": [
       "Series([], dtype: int64)"
      ]
     },
     "execution_count": 25,
     "metadata": {},
     "output_type": "execute_result"
    }
   ],
   "source": [
    "#Revisar si tiene duplicados or id y fecha\n",
    "data_lib.groupby(['id_numero_cliente','periodo']).count().filter('count > 1').count()"
   ]
  },
  {
   "cell_type": "code",
   "execution_count": 26,
   "metadata": {},
   "outputs": [],
   "source": [
    "data_lib = data_lib.drop(columns='periodo')"
   ]
  },
  {
   "cell_type": "markdown",
   "metadata": {},
   "source": [
    "## Lectura Archivo Pasivos"
   ]
  },
  {
   "cell_type": "code",
   "execution_count": 27,
   "metadata": {},
   "outputs": [],
   "source": [
    "data_pasv = spark_read_parquet(\"s3://adl-refined-dev-popular/parquet/TC_adquisicion/base_pasivos_M202105\")"
   ]
  },
  {
   "cell_type": "code",
   "execution_count": 28,
   "metadata": {},
   "outputs": [
    {
     "data": {
      "text/plain": [
       "Index(['tipo_id', 'identificacion', 'fecha_pasivo', 'pasv_antig_total',\n",
       "       'pasv_num_meses_ult_apertura', 'pasv_dias_desde_ultima_trans',\n",
       "       'pasv_saldo_total_1mes_atras', 'pasv_saldo_ca_1mes_atras'],\n",
       "      dtype='object')"
      ]
     },
     "execution_count": 28,
     "metadata": {},
     "output_type": "execute_result"
    }
   ],
   "source": [
    "data_pasv.columns"
   ]
  },
  {
   "cell_type": "code",
   "execution_count": 29,
   "metadata": {},
   "outputs": [
    {
     "data": {
      "text/html": [
       "<div>\n",
       "<style scoped>\n",
       "    .dataframe tbody tr th:only-of-type {\n",
       "        vertical-align: middle;\n",
       "    }\n",
       "\n",
       "    .dataframe tbody tr th {\n",
       "        vertical-align: top;\n",
       "    }\n",
       "\n",
       "    .dataframe thead th {\n",
       "        text-align: right;\n",
       "    }\n",
       "</style>\n",
       "<table border=\"1\" class=\"dataframe\">\n",
       "  <thead>\n",
       "    <tr style=\"text-align: right;\">\n",
       "      <th></th>\n",
       "      <th>tipo_id</th>\n",
       "      <th>identificacion</th>\n",
       "      <th>fecha_pasivo</th>\n",
       "      <th>pasv_antig_total</th>\n",
       "      <th>pasv_num_meses_ult_apertura</th>\n",
       "      <th>pasv_dias_desde_ultima_trans</th>\n",
       "      <th>pasv_saldo_total_1mes_atras</th>\n",
       "      <th>pasv_saldo_ca_1mes_atras</th>\n",
       "    </tr>\n",
       "  </thead>\n",
       "  <tbody>\n",
       "    <tr>\n",
       "      <th>0</th>\n",
       "      <td>1</td>\n",
       "      <td>946</td>\n",
       "      <td>202103</td>\n",
       "      <td>38.466667</td>\n",
       "      <td>38.466667</td>\n",
       "      <td>13.0</td>\n",
       "      <td>2.815430</td>\n",
       "      <td>2.815430</td>\n",
       "    </tr>\n",
       "    <tr>\n",
       "      <th>1</th>\n",
       "      <td>1</td>\n",
       "      <td>946</td>\n",
       "      <td>202104</td>\n",
       "      <td>39.500000</td>\n",
       "      <td>39.500000</td>\n",
       "      <td>44.0</td>\n",
       "      <td>5.221767</td>\n",
       "      <td>5.221767</td>\n",
       "    </tr>\n",
       "    <tr>\n",
       "      <th>2</th>\n",
       "      <td>1</td>\n",
       "      <td>946</td>\n",
       "      <td>202105</td>\n",
       "      <td>40.500000</td>\n",
       "      <td>40.500000</td>\n",
       "      <td>14.0</td>\n",
       "      <td>2.407694</td>\n",
       "      <td>2.407694</td>\n",
       "    </tr>\n",
       "    <tr>\n",
       "      <th>3</th>\n",
       "      <td>1</td>\n",
       "      <td>1131</td>\n",
       "      <td>202103</td>\n",
       "      <td>2.800000</td>\n",
       "      <td>2.800000</td>\n",
       "      <td>NaN</td>\n",
       "      <td>0.383694</td>\n",
       "      <td>0.000000</td>\n",
       "    </tr>\n",
       "    <tr>\n",
       "      <th>4</th>\n",
       "      <td>1</td>\n",
       "      <td>1131</td>\n",
       "      <td>202104</td>\n",
       "      <td>0.833333</td>\n",
       "      <td>0.833333</td>\n",
       "      <td>NaN</td>\n",
       "      <td>0.383694</td>\n",
       "      <td>0.000000</td>\n",
       "    </tr>\n",
       "  </tbody>\n",
       "</table>\n",
       "</div>"
      ],
      "text/plain": [
       "   tipo_id  identificacion  fecha_pasivo  pasv_antig_total  \\\n",
       "0        1             946        202103         38.466667   \n",
       "1        1             946        202104         39.500000   \n",
       "2        1             946        202105         40.500000   \n",
       "3        1            1131        202103          2.800000   \n",
       "4        1            1131        202104          0.833333   \n",
       "\n",
       "   pasv_num_meses_ult_apertura  pasv_dias_desde_ultima_trans  \\\n",
       "0                    38.466667                          13.0   \n",
       "1                    39.500000                          44.0   \n",
       "2                    40.500000                          14.0   \n",
       "3                     2.800000                           NaN   \n",
       "4                     0.833333                           NaN   \n",
       "\n",
       "   pasv_saldo_total_1mes_atras  pasv_saldo_ca_1mes_atras  \n",
       "0                     2.815430                  2.815430  \n",
       "1                     5.221767                  5.221767  \n",
       "2                     2.407694                  2.407694  \n",
       "3                     0.383694                  0.000000  \n",
       "4                     0.383694                  0.000000  "
      ]
     },
     "execution_count": 29,
     "metadata": {},
     "output_type": "execute_result"
    }
   ],
   "source": [
    "data_pasv.head()"
   ]
  },
  {
   "cell_type": "code",
   "execution_count": 30,
   "metadata": {},
   "outputs": [
    {
     "data": {
      "text/html": [
       "<div>\n",
       "<style scoped>\n",
       "    .dataframe tbody tr th:only-of-type {\n",
       "        vertical-align: middle;\n",
       "    }\n",
       "\n",
       "    .dataframe tbody tr th {\n",
       "        vertical-align: top;\n",
       "    }\n",
       "\n",
       "    .dataframe thead th {\n",
       "        text-align: right;\n",
       "    }\n",
       "</style>\n",
       "<table border=\"1\" class=\"dataframe\">\n",
       "  <thead>\n",
       "    <tr style=\"text-align: right;\">\n",
       "      <th></th>\n",
       "      <th>tipo_id</th>\n",
       "      <th>identificacion</th>\n",
       "      <th>pasv_antig_total</th>\n",
       "      <th>pasv_num_meses_ult_apertura</th>\n",
       "      <th>pasv_dias_desde_ultima_trans</th>\n",
       "      <th>pasv_saldo_total_1mes_atras</th>\n",
       "      <th>pasv_saldo_ca_1mes_atras</th>\n",
       "    </tr>\n",
       "    <tr>\n",
       "      <th>fecha_pasivo</th>\n",
       "      <th></th>\n",
       "      <th></th>\n",
       "      <th></th>\n",
       "      <th></th>\n",
       "      <th></th>\n",
       "      <th></th>\n",
       "      <th></th>\n",
       "    </tr>\n",
       "  </thead>\n",
       "  <tbody>\n",
       "    <tr>\n",
       "      <th>202103</th>\n",
       "      <td>641963</td>\n",
       "      <td>641963</td>\n",
       "      <td>641960</td>\n",
       "      <td>641960</td>\n",
       "      <td>638317</td>\n",
       "      <td>641963</td>\n",
       "      <td>641963</td>\n",
       "    </tr>\n",
       "    <tr>\n",
       "      <th>202104</th>\n",
       "      <td>638496</td>\n",
       "      <td>638496</td>\n",
       "      <td>638493</td>\n",
       "      <td>638493</td>\n",
       "      <td>635007</td>\n",
       "      <td>638496</td>\n",
       "      <td>638496</td>\n",
       "    </tr>\n",
       "    <tr>\n",
       "      <th>202105</th>\n",
       "      <td>631278</td>\n",
       "      <td>631278</td>\n",
       "      <td>631275</td>\n",
       "      <td>631275</td>\n",
       "      <td>627881</td>\n",
       "      <td>631278</td>\n",
       "      <td>631278</td>\n",
       "    </tr>\n",
       "  </tbody>\n",
       "</table>\n",
       "</div>"
      ],
      "text/plain": [
       "              tipo_id  identificacion  pasv_antig_total  \\\n",
       "fecha_pasivo                                              \n",
       "202103         641963          641963            641960   \n",
       "202104         638496          638496            638493   \n",
       "202105         631278          631278            631275   \n",
       "\n",
       "              pasv_num_meses_ult_apertura  pasv_dias_desde_ultima_trans  \\\n",
       "fecha_pasivo                                                              \n",
       "202103                             641960                        638317   \n",
       "202104                             638493                        635007   \n",
       "202105                             631275                        627881   \n",
       "\n",
       "              pasv_saldo_total_1mes_atras  pasv_saldo_ca_1mes_atras  \n",
       "fecha_pasivo                                                         \n",
       "202103                             641963                    641963  \n",
       "202104                             638496                    638496  \n",
       "202105                             631278                    631278  "
      ]
     },
     "execution_count": 30,
     "metadata": {},
     "output_type": "execute_result"
    }
   ],
   "source": [
    "data_pasv.groupby(['fecha_pasivo']).count().head(30)"
   ]
  },
  {
   "cell_type": "code",
   "execution_count": 31,
   "metadata": {},
   "outputs": [
    {
     "data": {
      "text/plain": [
       "pasv_saldo_ca_1mes_atras\n",
       "-0.579744    1\n",
       "-0.292527    1\n",
       "-0.276482    3\n",
       "-0.206433    1\n",
       "-0.128036    1\n",
       "-0.126009    1\n",
       "-0.112906    1\n",
       "-0.111103    1\n",
       "-0.089704    1\n",
       "-0.085896    1\n",
       "-0.083504    1\n",
       "-0.082573    4\n",
       "-0.082554    1\n",
       "-0.082500    1\n",
       "-0.082463    1\n",
       "-0.081882    1\n",
       "-0.069365    1\n",
       "-0.066727    1\n",
       "-0.065631    1\n",
       "-0.063182    1\n",
       "-0.058703    1\n",
       "-0.050308    1\n",
       "-0.048135    1\n",
       "-0.047989    1\n",
       "-0.045889    1\n",
       "-0.045081    1\n",
       "-0.044409    1\n",
       "-0.043515    1\n",
       "-0.043245    1\n",
       "-0.043120    1\n",
       "Name: identificacion, dtype: int64"
      ]
     },
     "execution_count": 31,
     "metadata": {},
     "output_type": "execute_result"
    }
   ],
   "source": [
    "data_pasv.groupby(['pasv_saldo_ca_1mes_atras'])['identificacion'].count().head(30)"
   ]
  },
  {
   "cell_type": "code",
   "execution_count": 32,
   "metadata": {},
   "outputs": [
    {
     "data": {
      "text/plain": [
       "Series([], dtype: int64)"
      ]
     },
     "execution_count": 32,
     "metadata": {},
     "output_type": "execute_result"
    }
   ],
   "source": [
    "#Revisar si tiene duplicados or id y fecha\n",
    "data_pasv.groupby(['identificacion','fecha_pasivo']).count().filter('count > 1').count()"
   ]
  },
  {
   "cell_type": "code",
   "execution_count": 33,
   "metadata": {},
   "outputs": [],
   "source": [
    "data_pasv = data_pasv.rename(columns={'identificacion':'id_numero_cliente','tipo_id':'id_tp_cd'})"
   ]
  },
  {
   "cell_type": "markdown",
   "metadata": {},
   "source": [
    "## Cargando TX Pasivo"
   ]
  },
  {
   "cell_type": "code",
   "execution_count": 34,
   "metadata": {},
   "outputs": [],
   "source": [
    "data_tx_pasvtot = spark_read_parquet(\"s3://adl-refined-dev-popular/parquet/TC_adquisicion/tx_pasivo_202101_vars_finales_model_ambos2\")"
   ]
  },
  {
   "cell_type": "code",
   "execution_count": 35,
   "metadata": {},
   "outputs": [],
   "source": [
    "data_tx_pasvtot['ID_CLI'] = data_tx_pasvtot['ID_CLI'].astype('int')\n",
    "data_tx_pasvtot['PERIODO'] = data_tx_pasvtot['PERIODO'].astype('int')\n",
    "\n",
    "data_tx_pasvtot = data_tx_pasvtot.rename(columns={'ID_CLIENTE':'id_cliente','ID_CLI':'no_identificacion',\n",
    "                                         'PERIODO':'fecha_tx_pav'})\n"
   ]
  },
  {
   "cell_type": "code",
   "execution_count": 36,
   "metadata": {},
   "outputs": [
    {
     "data": {
      "text/plain": [
       "Index(['id_cliente', 'fecha_tx_pav', 'no_identificacion',\n",
       "       'TIPO_DE_IDENTIFICACION', 'num_tx_ult_1mes', 'num_tx_ult_2meses',\n",
       "       'num_tx_ult_6meses', 'sum_tx_linea', 'sum_tx_nolinea', 'fecha_ult_tx',\n",
       "       'dias_desde_ult_tx', 'num_tx_ult_1mes_ahr', 'num_tx_ult_4meses_ahr',\n",
       "       'sum_tx_linea_ahr', 'sum_tx_nolinea_ahr', 'dias_desde_ult_tx_ahr'],\n",
       "      dtype='object')"
      ]
     },
     "execution_count": 36,
     "metadata": {},
     "output_type": "execute_result"
    }
   ],
   "source": [
    "data_tx_pasvtot.columns"
   ]
  },
  {
   "cell_type": "code",
   "execution_count": 37,
   "metadata": {},
   "outputs": [
    {
     "data": {
      "text/html": [
       "<div>\n",
       "<style scoped>\n",
       "    .dataframe tbody tr th:only-of-type {\n",
       "        vertical-align: middle;\n",
       "    }\n",
       "\n",
       "    .dataframe tbody tr th {\n",
       "        vertical-align: top;\n",
       "    }\n",
       "\n",
       "    .dataframe thead th {\n",
       "        text-align: right;\n",
       "    }\n",
       "</style>\n",
       "<table border=\"1\" class=\"dataframe\">\n",
       "  <thead>\n",
       "    <tr style=\"text-align: right;\">\n",
       "      <th></th>\n",
       "      <th>id_cliente</th>\n",
       "      <th>fecha_tx_pav</th>\n",
       "      <th>no_identificacion</th>\n",
       "      <th>TIPO_DE_IDENTIFICACION</th>\n",
       "      <th>num_tx_ult_1mes</th>\n",
       "      <th>num_tx_ult_2meses</th>\n",
       "      <th>num_tx_ult_6meses</th>\n",
       "      <th>sum_tx_linea</th>\n",
       "      <th>sum_tx_nolinea</th>\n",
       "      <th>fecha_ult_tx</th>\n",
       "      <th>dias_desde_ult_tx</th>\n",
       "      <th>num_tx_ult_1mes_ahr</th>\n",
       "      <th>num_tx_ult_4meses_ahr</th>\n",
       "      <th>sum_tx_linea_ahr</th>\n",
       "      <th>sum_tx_nolinea_ahr</th>\n",
       "      <th>dias_desde_ult_tx_ahr</th>\n",
       "    </tr>\n",
       "  </thead>\n",
       "  <tbody>\n",
       "    <tr>\n",
       "      <th>0</th>\n",
       "      <td>102555361792516202</td>\n",
       "      <td>202101</td>\n",
       "      <td>901006889</td>\n",
       "      <td>3</td>\n",
       "      <td>0.0</td>\n",
       "      <td>0.0</td>\n",
       "      <td>1.0</td>\n",
       "      <td>1.0</td>\n",
       "      <td>NaN</td>\n",
       "      <td>2021-01-26</td>\n",
       "      <td>5.0</td>\n",
       "      <td>0.0</td>\n",
       "      <td>0.0</td>\n",
       "      <td>1.0</td>\n",
       "      <td>NaN</td>\n",
       "      <td>5.0</td>\n",
       "    </tr>\n",
       "    <tr>\n",
       "      <th>1</th>\n",
       "      <td>102652297088841901</td>\n",
       "      <td>202101</td>\n",
       "      <td>22430926</td>\n",
       "      <td>1</td>\n",
       "      <td>0.0</td>\n",
       "      <td>8.0</td>\n",
       "      <td>9.0</td>\n",
       "      <td>1.0</td>\n",
       "      <td>NaN</td>\n",
       "      <td>2021-01-07</td>\n",
       "      <td>24.0</td>\n",
       "      <td>0.0</td>\n",
       "      <td>9.0</td>\n",
       "      <td>1.0</td>\n",
       "      <td>NaN</td>\n",
       "      <td>24.0</td>\n",
       "    </tr>\n",
       "    <tr>\n",
       "      <th>2</th>\n",
       "      <td>102652298977216301</td>\n",
       "      <td>202101</td>\n",
       "      <td>40764682</td>\n",
       "      <td>1</td>\n",
       "      <td>1.5</td>\n",
       "      <td>3.0</td>\n",
       "      <td>5.5</td>\n",
       "      <td>1.0</td>\n",
       "      <td>NaN</td>\n",
       "      <td>2021-01-15</td>\n",
       "      <td>16.0</td>\n",
       "      <td>1.5</td>\n",
       "      <td>5.5</td>\n",
       "      <td>1.0</td>\n",
       "      <td>NaN</td>\n",
       "      <td>16.0</td>\n",
       "    </tr>\n",
       "    <tr>\n",
       "      <th>3</th>\n",
       "      <td>102652299297502901</td>\n",
       "      <td>202101</td>\n",
       "      <td>42757890</td>\n",
       "      <td>1</td>\n",
       "      <td>0.0</td>\n",
       "      <td>1.0</td>\n",
       "      <td>4.0</td>\n",
       "      <td>1.0</td>\n",
       "      <td>NaN</td>\n",
       "      <td>2021-01-19</td>\n",
       "      <td>12.0</td>\n",
       "      <td>0.0</td>\n",
       "      <td>4.0</td>\n",
       "      <td>1.0</td>\n",
       "      <td>NaN</td>\n",
       "      <td>12.0</td>\n",
       "    </tr>\n",
       "    <tr>\n",
       "      <th>4</th>\n",
       "      <td>102652308955238601</td>\n",
       "      <td>202101</td>\n",
       "      <td>87216252</td>\n",
       "      <td>1</td>\n",
       "      <td>0.0</td>\n",
       "      <td>1.0</td>\n",
       "      <td>5.0</td>\n",
       "      <td>1.0</td>\n",
       "      <td>NaN</td>\n",
       "      <td>2021-01-04</td>\n",
       "      <td>27.0</td>\n",
       "      <td>0.0</td>\n",
       "      <td>3.0</td>\n",
       "      <td>1.0</td>\n",
       "      <td>NaN</td>\n",
       "      <td>27.0</td>\n",
       "    </tr>\n",
       "    <tr>\n",
       "      <th>5</th>\n",
       "      <td>102652309171532601</td>\n",
       "      <td>202101</td>\n",
       "      <td>1130637495</td>\n",
       "      <td>1</td>\n",
       "      <td>0.0</td>\n",
       "      <td>1.0</td>\n",
       "      <td>4.0</td>\n",
       "      <td>1.0</td>\n",
       "      <td>NaN</td>\n",
       "      <td>2021-01-07</td>\n",
       "      <td>24.0</td>\n",
       "      <td>0.0</td>\n",
       "      <td>4.0</td>\n",
       "      <td>1.0</td>\n",
       "      <td>NaN</td>\n",
       "      <td>24.0</td>\n",
       "    </tr>\n",
       "    <tr>\n",
       "      <th>6</th>\n",
       "      <td>102652315644932501</td>\n",
       "      <td>202101</td>\n",
       "      <td>17178200</td>\n",
       "      <td>1</td>\n",
       "      <td>0.0</td>\n",
       "      <td>2.0</td>\n",
       "      <td>5.0</td>\n",
       "      <td>1.0</td>\n",
       "      <td>NaN</td>\n",
       "      <td>2021-01-07</td>\n",
       "      <td>24.0</td>\n",
       "      <td>0.0</td>\n",
       "      <td>3.0</td>\n",
       "      <td>1.0</td>\n",
       "      <td>NaN</td>\n",
       "      <td>24.0</td>\n",
       "    </tr>\n",
       "  </tbody>\n",
       "</table>\n",
       "</div>"
      ],
      "text/plain": [
       "           id_cliente  fecha_tx_pav  no_identificacion TIPO_DE_IDENTIFICACION  \\\n",
       "0  102555361792516202        202101          901006889                      3   \n",
       "1  102652297088841901        202101           22430926                      1   \n",
       "2  102652298977216301        202101           40764682                      1   \n",
       "3  102652299297502901        202101           42757890                      1   \n",
       "4  102652308955238601        202101           87216252                      1   \n",
       "5  102652309171532601        202101         1130637495                      1   \n",
       "6  102652315644932501        202101           17178200                      1   \n",
       "\n",
       "   num_tx_ult_1mes  num_tx_ult_2meses  num_tx_ult_6meses  sum_tx_linea  \\\n",
       "0              0.0                0.0                1.0           1.0   \n",
       "1              0.0                8.0                9.0           1.0   \n",
       "2              1.5                3.0                5.5           1.0   \n",
       "3              0.0                1.0                4.0           1.0   \n",
       "4              0.0                1.0                5.0           1.0   \n",
       "5              0.0                1.0                4.0           1.0   \n",
       "6              0.0                2.0                5.0           1.0   \n",
       "\n",
       "   sum_tx_nolinea fecha_ult_tx  dias_desde_ult_tx  num_tx_ult_1mes_ahr  \\\n",
       "0             NaN   2021-01-26                5.0                  0.0   \n",
       "1             NaN   2021-01-07               24.0                  0.0   \n",
       "2             NaN   2021-01-15               16.0                  1.5   \n",
       "3             NaN   2021-01-19               12.0                  0.0   \n",
       "4             NaN   2021-01-04               27.0                  0.0   \n",
       "5             NaN   2021-01-07               24.0                  0.0   \n",
       "6             NaN   2021-01-07               24.0                  0.0   \n",
       "\n",
       "   num_tx_ult_4meses_ahr  sum_tx_linea_ahr  sum_tx_nolinea_ahr  \\\n",
       "0                    0.0               1.0                 NaN   \n",
       "1                    9.0               1.0                 NaN   \n",
       "2                    5.5               1.0                 NaN   \n",
       "3                    4.0               1.0                 NaN   \n",
       "4                    3.0               1.0                 NaN   \n",
       "5                    4.0               1.0                 NaN   \n",
       "6                    3.0               1.0                 NaN   \n",
       "\n",
       "   dias_desde_ult_tx_ahr  \n",
       "0                    5.0  \n",
       "1                   24.0  \n",
       "2                   16.0  \n",
       "3                   12.0  \n",
       "4                   27.0  \n",
       "5                   24.0  \n",
       "6                   24.0  "
      ]
     },
     "execution_count": 37,
     "metadata": {},
     "output_type": "execute_result"
    }
   ],
   "source": [
    "data_tx_pasvtot.head(7)"
   ]
  },
  {
   "cell_type": "code",
   "execution_count": 38,
   "metadata": {},
   "outputs": [],
   "source": [
    "data_tx_pasvtot = data_tx_pasvtot.rename(columns={'sum_tx_linea':'sum_tx_linea_pasv', 'sum_tx_nolinea':'sum_tx_nolinea_pasv'})"
   ]
  },
  {
   "cell_type": "code",
   "execution_count": 39,
   "metadata": {},
   "outputs": [
    {
     "data": {
      "text/plain": [
       "Series([], dtype: int64)"
      ]
     },
     "execution_count": 39,
     "metadata": {},
     "output_type": "execute_result"
    }
   ],
   "source": [
    "#Revisar si tiene duplicados or id y fecha\n",
    "data_tx_pasvtot.groupby(['no_identificacion','fecha_tx_pav']).count().filter('count > 1').count()"
   ]
  },
  {
   "cell_type": "code",
   "execution_count": 40,
   "metadata": {},
   "outputs": [],
   "source": [
    "data_tx_pasvtot=data_tx_pasvtot.drop(columns=['id_cliente','TIPO_DE_IDENTIFICACION'])"
   ]
  },
  {
   "cell_type": "code",
   "execution_count": 41,
   "metadata": {},
   "outputs": [],
   "source": [
    "data_tx_pasvtot = data_tx_pasvtot.rename(columns={'no_identificacion':'id_numero_cliente'})"
   ]
  },
  {
   "cell_type": "markdown",
   "metadata": {},
   "source": [
    "## Lectura poblacion total"
   ]
  },
  {
   "cell_type": "code",
   "execution_count": 42,
   "metadata": {},
   "outputs": [],
   "source": [
    "poblacion_total = spark_read_parquet(\"s3://adl-refined-dev-popular/parquet/TC_adquisicion/base_poblacion_M202107\")"
   ]
  },
  {
   "cell_type": "code",
   "execution_count": 43,
   "metadata": {},
   "outputs": [
    {
     "data": {
      "text/plain": [
       "id_numero_cliente     int64\n",
       "id_tp_cd              int64\n",
       "fecha_camp            int64\n",
       "id_cliente            int64\n",
       "periodo              object\n",
       "data_camp             int64\n",
       "fecha_buro            int64\n",
       "fecha_activos         int64\n",
       "fecha_pasivo          int64\n",
       "fecha_lib             int64\n",
       "fecha_tx_pav          int64\n",
       "dtype: object"
      ]
     },
     "execution_count": 43,
     "metadata": {},
     "output_type": "execute_result"
    }
   ],
   "source": [
    "poblacion_total.dtypes"
   ]
  },
  {
   "cell_type": "code",
   "execution_count": 44,
   "metadata": {},
   "outputs": [
    {
     "data": {
      "text/plain": [
       "Series([], dtype: int64)"
      ]
     },
     "execution_count": 44,
     "metadata": {},
     "output_type": "execute_result"
    }
   ],
   "source": [
    "#Se valida que no haya duplicados\n",
    "poblacion_total.groupby(['id_numero_cliente','data_camp']).count().filter('count > 1').count()"
   ]
  },
  {
   "cell_type": "code",
   "execution_count": 45,
   "metadata": {},
   "outputs": [],
   "source": [
    "poblacion_total = poblacion_total.rename(columns={'standard_id':'id_tp_cd'})"
   ]
  },
  {
   "cell_type": "code",
   "execution_count": 46,
   "metadata": {},
   "outputs": [],
   "source": [
    "poblacion_total = poblacion_total.drop(columns='periodo')"
   ]
  },
  {
   "cell_type": "code",
   "execution_count": 47,
   "metadata": {},
   "outputs": [
    {
     "data": {
      "text/html": [
       "<div>\n",
       "<style scoped>\n",
       "    .dataframe tbody tr th:only-of-type {\n",
       "        vertical-align: middle;\n",
       "    }\n",
       "\n",
       "    .dataframe tbody tr th {\n",
       "        vertical-align: top;\n",
       "    }\n",
       "\n",
       "    .dataframe thead th {\n",
       "        text-align: right;\n",
       "    }\n",
       "</style>\n",
       "<table border=\"1\" class=\"dataframe\">\n",
       "  <thead>\n",
       "    <tr style=\"text-align: right;\">\n",
       "      <th></th>\n",
       "      <th>id_numero_cliente</th>\n",
       "      <th>id_tp_cd</th>\n",
       "      <th>fecha_camp</th>\n",
       "      <th>id_cliente</th>\n",
       "      <th>data_camp</th>\n",
       "      <th>fecha_activos</th>\n",
       "      <th>fecha_pasivo</th>\n",
       "      <th>fecha_lib</th>\n",
       "      <th>fecha_tx_pav</th>\n",
       "    </tr>\n",
       "    <tr>\n",
       "      <th>fecha_buro</th>\n",
       "      <th></th>\n",
       "      <th></th>\n",
       "      <th></th>\n",
       "      <th></th>\n",
       "      <th></th>\n",
       "      <th></th>\n",
       "      <th></th>\n",
       "      <th></th>\n",
       "      <th></th>\n",
       "    </tr>\n",
       "  </thead>\n",
       "  <tbody>\n",
       "    <tr>\n",
       "      <th>202101</th>\n",
       "      <td>334665</td>\n",
       "      <td>334665</td>\n",
       "      <td>334665</td>\n",
       "      <td>334665</td>\n",
       "      <td>334665</td>\n",
       "      <td>334665</td>\n",
       "      <td>334665</td>\n",
       "      <td>334665</td>\n",
       "      <td>334665</td>\n",
       "    </tr>\n",
       "  </tbody>\n",
       "</table>\n",
       "</div>"
      ],
      "text/plain": [
       "            id_numero_cliente  id_tp_cd  fecha_camp  id_cliente  data_camp  \\\n",
       "fecha_buro                                                                   \n",
       "202101                 334665    334665      334665      334665     334665   \n",
       "\n",
       "            fecha_activos  fecha_pasivo  fecha_lib  fecha_tx_pav  \n",
       "fecha_buro                                                        \n",
       "202101             334665        334665     334665        334665  "
      ]
     },
     "execution_count": 47,
     "metadata": {},
     "output_type": "execute_result"
    }
   ],
   "source": [
    "poblacion_total.groupby('fecha_buro').count()"
   ]
  },
  {
   "cell_type": "code",
   "execution_count": 48,
   "metadata": {},
   "outputs": [
    {
     "data": {
      "text/html": [
       "<div>\n",
       "<style scoped>\n",
       "    .dataframe tbody tr th:only-of-type {\n",
       "        vertical-align: middle;\n",
       "    }\n",
       "\n",
       "    .dataframe tbody tr th {\n",
       "        vertical-align: top;\n",
       "    }\n",
       "\n",
       "    .dataframe thead th {\n",
       "        text-align: right;\n",
       "    }\n",
       "</style>\n",
       "<table border=\"1\" class=\"dataframe\">\n",
       "  <thead>\n",
       "    <tr style=\"text-align: right;\">\n",
       "      <th></th>\n",
       "      <th>id_numero_cliente</th>\n",
       "      <th>id_tp_cd</th>\n",
       "      <th>fecha_camp</th>\n",
       "      <th>id_cliente</th>\n",
       "      <th>data_camp</th>\n",
       "      <th>fecha_buro</th>\n",
       "      <th>fecha_activos</th>\n",
       "      <th>fecha_pasivo</th>\n",
       "      <th>fecha_lib</th>\n",
       "      <th>fecha_tx_pav</th>\n",
       "    </tr>\n",
       "  </thead>\n",
       "  <tbody>\n",
       "    <tr>\n",
       "      <th>0</th>\n",
       "      <td>78746146</td>\n",
       "      <td>1000003</td>\n",
       "      <td>202106</td>\n",
       "      <td>102652303931898101</td>\n",
       "      <td>202106</td>\n",
       "      <td>202101</td>\n",
       "      <td>202105</td>\n",
       "      <td>202105</td>\n",
       "      <td>202106</td>\n",
       "      <td>202101</td>\n",
       "    </tr>\n",
       "    <tr>\n",
       "      <th>1</th>\n",
       "      <td>20300762</td>\n",
       "      <td>1000003</td>\n",
       "      <td>202106</td>\n",
       "      <td>102652296820136301</td>\n",
       "      <td>202106</td>\n",
       "      <td>202101</td>\n",
       "      <td>202105</td>\n",
       "      <td>202105</td>\n",
       "      <td>202106</td>\n",
       "      <td>202101</td>\n",
       "    </tr>\n",
       "    <tr>\n",
       "      <th>2</th>\n",
       "      <td>4963836</td>\n",
       "      <td>1000003</td>\n",
       "      <td>202106</td>\n",
       "      <td>102652294887775501</td>\n",
       "      <td>202106</td>\n",
       "      <td>202101</td>\n",
       "      <td>202105</td>\n",
       "      <td>202105</td>\n",
       "      <td>202106</td>\n",
       "      <td>202101</td>\n",
       "    </tr>\n",
       "    <tr>\n",
       "      <th>3</th>\n",
       "      <td>8487399</td>\n",
       "      <td>1000003</td>\n",
       "      <td>202106</td>\n",
       "      <td>102652312101686601</td>\n",
       "      <td>202106</td>\n",
       "      <td>202101</td>\n",
       "      <td>202105</td>\n",
       "      <td>202105</td>\n",
       "      <td>202106</td>\n",
       "      <td>202101</td>\n",
       "    </tr>\n",
       "    <tr>\n",
       "      <th>4</th>\n",
       "      <td>25544711</td>\n",
       "      <td>1000003</td>\n",
       "      <td>202106</td>\n",
       "      <td>102652316678657801</td>\n",
       "      <td>202106</td>\n",
       "      <td>202101</td>\n",
       "      <td>202105</td>\n",
       "      <td>202105</td>\n",
       "      <td>202106</td>\n",
       "      <td>202101</td>\n",
       "    </tr>\n",
       "  </tbody>\n",
       "</table>\n",
       "</div>"
      ],
      "text/plain": [
       "   id_numero_cliente  id_tp_cd  fecha_camp          id_cliente  data_camp  \\\n",
       "0           78746146   1000003      202106  102652303931898101     202106   \n",
       "1           20300762   1000003      202106  102652296820136301     202106   \n",
       "2            4963836   1000003      202106  102652294887775501     202106   \n",
       "3            8487399   1000003      202106  102652312101686601     202106   \n",
       "4           25544711   1000003      202106  102652316678657801     202106   \n",
       "\n",
       "   fecha_buro  fecha_activos  fecha_pasivo  fecha_lib  fecha_tx_pav  \n",
       "0      202101         202105        202105     202106        202101  \n",
       "1      202101         202105        202105     202106        202101  \n",
       "2      202101         202105        202105     202106        202101  \n",
       "3      202101         202105        202105     202106        202101  \n",
       "4      202101         202105        202105     202106        202101  "
      ]
     },
     "execution_count": 48,
     "metadata": {},
     "output_type": "execute_result"
    }
   ],
   "source": [
    "poblacion_total.head()"
   ]
  },
  {
   "cell_type": "code",
   "execution_count": 49,
   "metadata": {},
   "outputs": [
    {
     "data": {
      "text/html": [
       "<div>\n",
       "<style scoped>\n",
       "    .dataframe tbody tr th:only-of-type {\n",
       "        vertical-align: middle;\n",
       "    }\n",
       "\n",
       "    .dataframe tbody tr th {\n",
       "        vertical-align: top;\n",
       "    }\n",
       "\n",
       "    .dataframe thead th {\n",
       "        text-align: right;\n",
       "    }\n",
       "</style>\n",
       "<table border=\"1\" class=\"dataframe\">\n",
       "  <thead>\n",
       "    <tr style=\"text-align: right;\">\n",
       "      <th></th>\n",
       "      <th>id_tp_cd</th>\n",
       "      <th>id_numero_cliente</th>\n",
       "      <th>fecha_pasivo</th>\n",
       "      <th>pasv_antig_total</th>\n",
       "      <th>pasv_num_meses_ult_apertura</th>\n",
       "      <th>pasv_dias_desde_ultima_trans</th>\n",
       "      <th>pasv_saldo_total_1mes_atras</th>\n",
       "      <th>pasv_saldo_ca_1mes_atras</th>\n",
       "    </tr>\n",
       "  </thead>\n",
       "  <tbody>\n",
       "    <tr>\n",
       "      <th>0</th>\n",
       "      <td>1</td>\n",
       "      <td>946</td>\n",
       "      <td>202103</td>\n",
       "      <td>38.466667</td>\n",
       "      <td>38.466667</td>\n",
       "      <td>13.0</td>\n",
       "      <td>2.815430</td>\n",
       "      <td>2.815430</td>\n",
       "    </tr>\n",
       "    <tr>\n",
       "      <th>1</th>\n",
       "      <td>1</td>\n",
       "      <td>946</td>\n",
       "      <td>202104</td>\n",
       "      <td>39.500000</td>\n",
       "      <td>39.500000</td>\n",
       "      <td>44.0</td>\n",
       "      <td>5.221767</td>\n",
       "      <td>5.221767</td>\n",
       "    </tr>\n",
       "    <tr>\n",
       "      <th>2</th>\n",
       "      <td>1</td>\n",
       "      <td>946</td>\n",
       "      <td>202105</td>\n",
       "      <td>40.500000</td>\n",
       "      <td>40.500000</td>\n",
       "      <td>14.0</td>\n",
       "      <td>2.407694</td>\n",
       "      <td>2.407694</td>\n",
       "    </tr>\n",
       "    <tr>\n",
       "      <th>3</th>\n",
       "      <td>1</td>\n",
       "      <td>1131</td>\n",
       "      <td>202103</td>\n",
       "      <td>2.800000</td>\n",
       "      <td>2.800000</td>\n",
       "      <td>NaN</td>\n",
       "      <td>0.383694</td>\n",
       "      <td>0.000000</td>\n",
       "    </tr>\n",
       "    <tr>\n",
       "      <th>4</th>\n",
       "      <td>1</td>\n",
       "      <td>1131</td>\n",
       "      <td>202104</td>\n",
       "      <td>0.833333</td>\n",
       "      <td>0.833333</td>\n",
       "      <td>NaN</td>\n",
       "      <td>0.383694</td>\n",
       "      <td>0.000000</td>\n",
       "    </tr>\n",
       "  </tbody>\n",
       "</table>\n",
       "</div>"
      ],
      "text/plain": [
       "   id_tp_cd  id_numero_cliente  fecha_pasivo  pasv_antig_total  \\\n",
       "0         1                946        202103         38.466667   \n",
       "1         1                946        202104         39.500000   \n",
       "2         1                946        202105         40.500000   \n",
       "3         1               1131        202103          2.800000   \n",
       "4         1               1131        202104          0.833333   \n",
       "\n",
       "   pasv_num_meses_ult_apertura  pasv_dias_desde_ultima_trans  \\\n",
       "0                    38.466667                          13.0   \n",
       "1                    39.500000                          44.0   \n",
       "2                    40.500000                          14.0   \n",
       "3                     2.800000                           NaN   \n",
       "4                     0.833333                           NaN   \n",
       "\n",
       "   pasv_saldo_total_1mes_atras  pasv_saldo_ca_1mes_atras  \n",
       "0                     2.815430                  2.815430  \n",
       "1                     5.221767                  5.221767  \n",
       "2                     2.407694                  2.407694  \n",
       "3                     0.383694                  0.000000  \n",
       "4                     0.383694                  0.000000  "
      ]
     },
     "execution_count": 49,
     "metadata": {},
     "output_type": "execute_result"
    }
   ],
   "source": [
    "data_pasv.head()"
   ]
  },
  {
   "cell_type": "code",
   "execution_count": 50,
   "metadata": {},
   "outputs": [
    {
     "data": {
      "text/plain": [
       "id_tp_cd                          int64\n",
       "id_numero_cliente                 int64\n",
       "fecha_pasivo                      int64\n",
       "pasv_antig_total                float64\n",
       "pasv_num_meses_ult_apertura     float64\n",
       "pasv_dias_desde_ultima_trans    float64\n",
       "pasv_saldo_total_1mes_atras     float64\n",
       "pasv_saldo_ca_1mes_atras        float64\n",
       "dtype: object"
      ]
     },
     "execution_count": 50,
     "metadata": {},
     "output_type": "execute_result"
    }
   ],
   "source": [
    "data_pasv.dtypes"
   ]
  },
  {
   "cell_type": "markdown",
   "metadata": {},
   "source": [
    "## Union de todas las bases"
   ]
  },
  {
   "cell_type": "code",
   "execution_count": 51,
   "metadata": {},
   "outputs": [],
   "source": [
    "# Union muestra con base buro"
   ]
  },
  {
   "cell_type": "code",
   "execution_count": 52,
   "metadata": {},
   "outputs": [],
   "source": [
    "sqlDF1 = pd.merge(poblacion_total, data_camp, on=['id_numero_cliente','fecha_camp'], how=\"left\")\n",
    "sqlDF1 = pd.merge(sqlDF1, data_buro, on=['id_numero_cliente','id_tp_cd','fecha_buro'], how=\"left\")"
   ]
  },
  {
   "cell_type": "code",
   "execution_count": 53,
   "metadata": {},
   "outputs": [],
   "source": [
    "#sqlDF1 = sqlDF1.drop(columns='__index_level_0__')"
   ]
  },
  {
   "cell_type": "code",
   "execution_count": 54,
   "metadata": {},
   "outputs": [],
   "source": [
    "# Union con archivo activos"
   ]
  },
  {
   "cell_type": "code",
   "execution_count": 55,
   "metadata": {},
   "outputs": [],
   "source": [
    "sqlDF2=pd.merge(sqlDF1, data_activo, on=['id_numero_cliente','id_tp_cd','fecha_activos'],how=\"left\")"
   ]
  },
  {
   "cell_type": "code",
   "execution_count": 56,
   "metadata": {},
   "outputs": [],
   "source": [
    "#sqlDF2.createOrReplaceTempView(\"sqlDF2\")"
   ]
  },
  {
   "cell_type": "code",
   "execution_count": 57,
   "metadata": {},
   "outputs": [],
   "source": [
    "#sqlDF2=sqlDF2.drop('__index_level_0__')"
   ]
  },
  {
   "cell_type": "code",
   "execution_count": 58,
   "metadata": {},
   "outputs": [],
   "source": [
    "#Union con los demas fuentes"
   ]
  },
  {
   "cell_type": "code",
   "execution_count": 59,
   "metadata": {},
   "outputs": [],
   "source": [
    "# Uniendo libranzas\n",
    "sqlDF3=pd.merge(sqlDF2, data_lib, on=['id_numero_cliente','id_tp_cd'],how=\"left\")\n",
    "#sqlDF3.createOrReplaceTempView(\"sqlDF3\")\n",
    "#sqlDF3=sqlDF3.drop('__index_level_0__')"
   ]
  },
  {
   "cell_type": "code",
   "execution_count": 60,
   "metadata": {},
   "outputs": [],
   "source": [
    "# Uniendo Pasivos\n",
    "sqlDF4=pd.merge(sqlDF3, data_pasv, on=['id_numero_cliente','fecha_pasivo'],how=\"left\")\n",
    "#sqlDF4.createOrReplaceTempView(\"sqlDF4\")\n",
    "#sqlDF4=sqlDF4.drop('__index_level_0__')"
   ]
  },
  {
   "cell_type": "code",
   "execution_count": 61,
   "metadata": {},
   "outputs": [],
   "source": [
    "# Uniendo TX Pasivo\n",
    "sqlDF5 = pd.merge(sqlDF4,data_tx_pasvtot,on=['id_numero_cliente','fecha_tx_pav'],how=\"left\")\n",
    "\n",
    "#sqlDF5.createOrReplaceTempView(\"sqlDF5\")\n",
    "#sqlDF5=sqlDF5.drop('__index_level_0__')"
   ]
  },
  {
   "cell_type": "code",
   "execution_count": 62,
   "metadata": {},
   "outputs": [],
   "source": [
    "total_tdc_paprob = sqlDF5"
   ]
  },
  {
   "cell_type": "code",
   "execution_count": 63,
   "metadata": {},
   "outputs": [],
   "source": [
    "# del sqlDF5, sqlDF4, sqlDF3, sqlDF2, sqlDF1 \n",
    "# del data_tx_pasvtot, data_pasv, data_lib, data_activo, data_buro\n",
    "# #del data_tx_pasvca, data_tx_pasvcdt, data_tx_pasvcc, data_tx_pasvtot,data_pasv, data_lib, data_activo, data_buro\n"
   ]
  },
  {
   "cell_type": "code",
   "execution_count": 64,
   "metadata": {},
   "outputs": [
    {
     "data": {
      "text/plain": [
       "id_numero_cliente                 334676\n",
       "id_tp_cd_x                        334676\n",
       "fecha_camp                        334676\n",
       "id_cliente                        334676\n",
       "data_camp                         334676\n",
       "fecha_buro                        334676\n",
       "fecha_activos                     334676\n",
       "fecha_pasivo                      334676\n",
       "fecha_lib                         334676\n",
       "fecha_tx_pav                      334676\n",
       "acep_oferta_prev                    9009\n",
       "num_act_utl_meses                   9009\n",
       "num_camp_ult_meses                  9009\n",
       "num_meses_ult_actv                    19\n",
       "num_meses_ult_camp                  9009\n",
       "num_no_aceptado                     9009\n",
       "tipo_id                           299155\n",
       "numero_obligaciones_activasdif    299155\n",
       "porcentaje_utilizacion            299155\n",
       "quanto_mod                        299155\n",
       "valor_cuotas_codeudores_smlv      299155\n",
       "valor_utilizado_smlv              299155\n",
       "amortizacion_min_lb               314356\n",
       "cuota_max_lb_smlv                 314356\n",
       "num_lib_solicitadas               314702\n",
       "prom_monto_novado                 314702\n",
       "prom_n_cuotas                     314702\n",
       "id_tp_cd_y                        198378\n",
       "pasv_antig_total                  198376\n",
       "pasv_num_meses_ult_apertura       198376\n",
       "pasv_dias_desde_ultima_trans      198284\n",
       "pasv_saldo_total_1mes_atras       198378\n",
       "pasv_saldo_ca_1mes_atras          198378\n",
       "num_tx_ult_1mes                    68140\n",
       "num_tx_ult_2meses                  68140\n",
       "num_tx_ult_6meses                  68140\n",
       "sum_tx_linea_pasv                  66274\n",
       "sum_tx_nolinea_pasv                  390\n",
       "fecha_ult_tx                       68140\n",
       "dias_desde_ult_tx                  68140\n",
       "num_tx_ult_1mes_ahr                67963\n",
       "num_tx_ult_4meses_ahr              67963\n",
       "sum_tx_linea_ahr                   66116\n",
       "sum_tx_nolinea_ahr                   355\n",
       "dias_desde_ult_tx_ahr              67963\n",
       "dtype: int64"
      ]
     },
     "execution_count": 64,
     "metadata": {},
     "output_type": "execute_result"
    }
   ],
   "source": [
    "total_tdc_paprob.count()"
   ]
  },
  {
   "cell_type": "markdown",
   "metadata": {},
   "source": [
    "## Se exportan las bases"
   ]
  },
  {
   "cell_type": "code",
   "execution_count": 65,
   "metadata": {},
   "outputs": [],
   "source": [
    "path = \"s3://adl-refined-dev-popular/parquet/TC_adquisicion/total_tdc_M202107\"\n",
    "#total_tdc_paprob.write.format(\"parquet\").mode(\"overwrite\").save(\"s3://adl-refined-dev-popular/parquet/TC_adquisicion/total_tdc_M202104\")\n",
    "\n",
    "total_tdc_paprob.to_parquet(path, engine='pyarrow',index=False)"
   ]
  },
  {
   "cell_type": "code",
   "execution_count": null,
   "metadata": {},
   "outputs": [],
   "source": []
  },
  {
   "cell_type": "code",
   "execution_count": null,
   "metadata": {},
   "outputs": [],
   "source": []
  }
 ],
 "metadata": {
  "kernelspec": {
   "display_name": "Python 3",
   "language": "python",
   "name": "python3"
  },
  "language_info": {
   "codemirror_mode": {
    "name": "ipython",
    "version": 3
   },
   "file_extension": ".py",
   "mimetype": "text/x-python",
   "name": "python",
   "nbconvert_exporter": "python",
   "pygments_lexer": "ipython3",
   "version": "3.7.3"
  }
 },
 "nbformat": 4,
 "nbformat_minor": 2
}
