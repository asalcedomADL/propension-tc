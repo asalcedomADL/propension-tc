{
 "cells": [
  {
   "cell_type": "markdown",
   "metadata": {},
   "source": [
    "# Creando variables Campañas"
   ]
  },
  {
   "cell_type": "markdown",
   "metadata": {},
   "source": [
    "Código para validar cruces y crear la variable respuesta"
   ]
  },
  {
   "cell_type": "code",
   "execution_count": 1,
   "metadata": {},
   "outputs": [],
   "source": [
    "import boto3\n",
    "import pandas as pd\n",
    "import numpy as np\n",
    "import pickle\n",
    "import seaborn as sns; sns.set()\n",
    "import matplotlib.pyplot as plt\n",
    "import pandas_profiling\n",
    "import os\n",
    "from datetime import datetime, timedelta\n",
    "import dateutil.relativedelta\n",
    "import gc\n",
    "\n",
    "pd.set_option('display.max_columns',None)"
   ]
  },
  {
   "cell_type": "code",
   "execution_count": 2,
   "metadata": {},
   "outputs": [],
   "source": [
    "import s3fs\n",
    "import pyarrow.parquet as pq\n",
    "\n",
    "def spark_read_parquet(s3_url: str, **args):\n",
    "    fs = s3fs.S3FileSystem()\n",
    "    # Leyendo base\n",
    "    dataset = pq.ParquetDataset(s3_url, filesystem=fs)\n",
    "    table = dataset.read()\n",
    "    dataframe = table.to_pandas()\n",
    "\n",
    "    del dataset, table\n",
    "\n",
    "    return dataframe"
   ]
  },
  {
   "cell_type": "code",
   "execution_count": 3,
   "metadata": {},
   "outputs": [],
   "source": [
    "def func_activa(base,date,n_mes,nom_col):\n",
    "    if len(base)>0:\n",
    "        date_fin = date + relativedelta(months=n_mes)\n",
    "\n",
    "        data_act_temp = data_act.loc[(data_act['mes_activacion']>=date) & (data_act['mes_activacion']<=date_fin),['cedula','numero_cuenta','fecha_activacion','mes_activacion']].drop_duplicates()\n",
    "        ids_mes = data_act_temp['cedula'].unique()\n",
    "        \n",
    "        base.loc[base['cedula'].isin(ids_mes),'venta'] = 1    \n",
    "        base.loc[base['venta'].isnull(),'venta'] = 0\n",
    "        \n",
    "        base.loc[:,nom_col] = 1   \n",
    "        #base = pd.merge(base,data_act_temp,on=['cedula','ID_CLIENTE'],how='left')\n",
    "        base = pd.merge(base,data_act_temp,on=['cedula'],how='left')\n",
    "    \n",
    "    return base"
   ]
  },
  {
   "cell_type": "markdown",
   "metadata": {},
   "source": [
    "# Cargando bases de campañas"
   ]
  },
  {
   "cell_type": "markdown",
   "metadata": {},
   "source": [
    "## Oficinas"
   ]
  },
  {
   "cell_type": "code",
   "execution_count": 4,
   "metadata": {},
   "outputs": [],
   "source": [
    "def _key_files__list(client, bucket, key):\n",
    "    \"\"\"return the key's size if it exist, else None\"\"\"\n",
    "    response = client.list_objects_v2(Bucket=bucket, Prefix=key)\n",
    "    return response.get(\"Contents\", [])\n",
    "\n",
    "def get_s3_files(s3_url):\n",
    "    session = boto3.session.Session()\n",
    "    s3 = session.client(\"s3\")\n",
    "    bucket = s3_url.split(\"/\")[2]\n",
    "    key = s3_url.split(\"/\")[3:]\n",
    "    key = \"/\".join(key)\n",
    "    objects = _key_files__list(s3, bucket, key)\n",
    "    files = [\"s3://\" + bucket + \"/\" + file[\"Key\"] for file in objects]\n",
    "    return files\n",
    "\n",
    "\n",
    "def get_s3_parquet(s3_url, flag):\n",
    "    \"\"\"\n",
    "    s3_url: path donde se desea buscar\n",
    "    flag: permite identificar por cual camino entrar: 1: buscar archivo especifico, 0: buscar carpeta, ejemplo las std\n",
    "    \"\"\"\n",
    "    session = boto3.session.Session()\n",
    "    s3 = session.client(\"s3\")\n",
    "    bucket = s3_url.split(\"/\")[2]\n",
    "    print('bucket_last_file: ', bucket)\n",
    "    key = s3_url.split(\"/\")[3:]\n",
    "    key = \"/\".join(key)\n",
    "    print('key_last_file: ', key)\n",
    "#     if flag == \"1\":\n",
    "#         objects = _key_files__list(s3, bucket, key)\n",
    "#         #files = [\"s3://\" + bucket + \"/\" + file[\"Key\"] for file in objects]\n",
    "#         files = [\"s3://\" + bucket + \"/\" + file[\"Key\"][:-9] for file in objects if\n",
    "#                  file[\"Key\"].split(\"/\")[-1] == \"_SUCCESS\"]\n",
    "#     elif flag == \"0\":\n",
    "#         objects = _key_files__list(s3, bucket, key)\n",
    "#         files = [\"s3://\" + bucket + \"/\" + file[\"Prefix\"] for file in objects]\n",
    "#     else:\n",
    "#         files = []\n",
    "    files = _key_files__list(s3, bucket, key)\n",
    "    return files"
   ]
  },
  {
   "cell_type": "code",
   "execution_count": 5,
   "metadata": {},
   "outputs": [],
   "source": [
    "path = 's3://data-bpop-dev-refined/gestion-campanas/preaprobado-tc/'\n",
    "bucket = 'data-bpop-dev-refined'"
   ]
  },
  {
   "cell_type": "code",
   "execution_count": 6,
   "metadata": {},
   "outputs": [
    {
     "name": "stdout",
     "output_type": "stream",
     "text": [
      "bucket_last_file:  adl-refined-dev-popular\n",
      "key_last_file:  data_orig/transacciones/pasivo/\n"
     ]
    },
    {
     "data": {
      "text/plain": [
       "[{'Key': 'data_orig/transacciones/pasivo/.ipynb_checkpoints/',\n",
       "  'LastModified': datetime.datetime(2020, 3, 30, 16, 31, 38, tzinfo=tzutc()),\n",
       "  'ETag': '\"d41d8cd98f00b204e9800998ecf8427e\"',\n",
       "  'Size': 0,\n",
       "  'StorageClass': 'STANDARD'},\n",
       " {'Key': 'data_orig/transacciones/pasivo/init.txt',\n",
       "  'LastModified': datetime.datetime(2020, 6, 16, 15, 14, 9, tzinfo=tzutc()),\n",
       "  'ETag': '\"5c10cead8be617459b5165f5600285f1\"',\n",
       "  'Size': 55,\n",
       "  'StorageClass': 'STANDARD'},\n",
       " {'Key': 'data_orig/transacciones/pasivo/tmpg_prevencion-fraudes_tx-alertamiento-expres_credibanco_H20190105-20200131.csv',\n",
       "  'LastModified': datetime.datetime(2020, 7, 23, 21, 21, 49, tzinfo=tzutc()),\n",
       "  'ETag': '\"d8ef52867750f5d96dbf79518e210e2c\"',\n",
       "  'Size': 1894302,\n",
       "  'StorageClass': 'STANDARD'},\n",
       " {'Key': 'data_orig/transacciones/pasivo/tmpg_transacciones_pasivo_aaatr_M201912.csv',\n",
       "  'LastModified': datetime.datetime(2020, 7, 23, 21, 22, 45, tzinfo=tzutc()),\n",
       "  'ETag': '\"7f2f8794e3d5b87fbfb14f7f7b286396-1136\"',\n",
       "  'Size': 9526510047,\n",
       "  'StorageClass': 'STANDARD'},\n",
       " {'Key': 'data_orig/transacciones/pasivo/transacciones_pasivo_aaatr_M201806.csv',\n",
       "  'LastModified': datetime.datetime(2020, 6, 19, 20, 17, 36, tzinfo=tzutc()),\n",
       "  'ETag': '\"5dea3e514ef3d8d034a4e3f636579f69-878\"',\n",
       "  'Size': 7360611290,\n",
       "  'StorageClass': 'STANDARD'},\n",
       " {'Key': 'data_orig/transacciones/pasivo/transacciones_pasivo_aaatr_M201807.csv',\n",
       "  'LastModified': datetime.datetime(2020, 6, 16, 15, 14, 9, tzinfo=tzutc()),\n",
       "  'ETag': '\"815fb9b2a6f75144a4718359b00ac1fd-1012\"',\n",
       "  'Size': 8484014579,\n",
       "  'StorageClass': 'STANDARD'},\n",
       " {'Key': 'data_orig/transacciones/pasivo/transacciones_pasivo_aaatr_M201808.csv',\n",
       "  'LastModified': datetime.datetime(2020, 6, 16, 15, 14, 9, tzinfo=tzutc()),\n",
       "  'ETag': '\"96489916c16d720d48c165fa77663597-870\"',\n",
       "  'Size': 7292136682,\n",
       "  'StorageClass': 'STANDARD'},\n",
       " {'Key': 'data_orig/transacciones/pasivo/transacciones_pasivo_aaatr_M201809.csv',\n",
       "  'LastModified': datetime.datetime(2020, 6, 16, 15, 14, 10, tzinfo=tzutc()),\n",
       "  'ETag': '\"fadc0e0052c10b640853c72d5e2ce393-852\"',\n",
       "  'Size': 7141277463,\n",
       "  'StorageClass': 'STANDARD'},\n",
       " {'Key': 'data_orig/transacciones/pasivo/transacciones_pasivo_aaatr_M201810.csv',\n",
       "  'LastModified': datetime.datetime(2020, 6, 16, 15, 14, 10, tzinfo=tzutc()),\n",
       "  'ETag': '\"4e2c612a39b62ffa02b6ddc63a1384de-892\"',\n",
       "  'Size': 7481904059,\n",
       "  'StorageClass': 'STANDARD'},\n",
       " {'Key': 'data_orig/transacciones/pasivo/transacciones_pasivo_aaatr_M201811.csv',\n",
       "  'LastModified': datetime.datetime(2020, 6, 16, 15, 14, 9, tzinfo=tzutc()),\n",
       "  'ETag': '\"63fb59decce913dc86075f251d26bea7-840\"',\n",
       "  'Size': 7044235657,\n",
       "  'StorageClass': 'STANDARD'},\n",
       " {'Key': 'data_orig/transacciones/pasivo/transacciones_pasivo_aaatr_M201812.csv',\n",
       "  'LastModified': datetime.datetime(2020, 6, 24, 19, 4, 18, tzinfo=tzutc()),\n",
       "  'ETag': '\"2d03e977b4518cac6b1fe84edcbcca99-1097\"',\n",
       "  'Size': 9196867281,\n",
       "  'StorageClass': 'STANDARD'},\n",
       " {'Key': 'data_orig/transacciones/pasivo/transacciones_pasivo_aaatr_M201901.csv',\n",
       "  'LastModified': datetime.datetime(2020, 6, 9, 14, 1, 2, tzinfo=tzutc()),\n",
       "  'ETag': '\"4affc971e847cbb49a45da607558c4e5-865\"',\n",
       "  'Size': 7251115213,\n",
       "  'StorageClass': 'STANDARD'},\n",
       " {'Key': 'data_orig/transacciones/pasivo/transacciones_pasivo_aaatr_M201901.json',\n",
       "  'LastModified': datetime.datetime(2020, 6, 16, 15, 16, 8, tzinfo=tzutc()),\n",
       "  'ETag': '\"bd8a5c5d1ca21553f103dc2c20c70d8d\"',\n",
       "  'Size': 157,\n",
       "  'StorageClass': 'STANDARD'},\n",
       " {'Key': 'data_orig/transacciones/pasivo/transacciones_pasivo_aaatr_M201902.csv',\n",
       "  'LastModified': datetime.datetime(2020, 6, 9, 14, 1, 1, tzinfo=tzutc()),\n",
       "  'ETag': '\"a6080d8ad84b8efcc408d803958dd972-776\"',\n",
       "  'Size': 6505048372,\n",
       "  'StorageClass': 'STANDARD'},\n",
       " {'Key': 'data_orig/transacciones/pasivo/transacciones_pasivo_aaatr_M201902.json',\n",
       "  'LastModified': datetime.datetime(2020, 6, 16, 15, 16, 8, tzinfo=tzutc()),\n",
       "  'ETag': '\"f7dd279b125bc3d9216647bf0162df42\"',\n",
       "  'Size': 157,\n",
       "  'StorageClass': 'STANDARD'},\n",
       " {'Key': 'data_orig/transacciones/pasivo/transacciones_pasivo_aaatr_M201903.csv',\n",
       "  'LastModified': datetime.datetime(2020, 6, 9, 14, 0, 45, tzinfo=tzutc()),\n",
       "  'ETag': '\"d50b455c37aa8ae57998d5467ab0cc67-886\"',\n",
       "  'Size': 7426061607,\n",
       "  'StorageClass': 'STANDARD'},\n",
       " {'Key': 'data_orig/transacciones/pasivo/transacciones_pasivo_aaatr_M201903.json',\n",
       "  'LastModified': datetime.datetime(2020, 6, 16, 15, 16, 8, tzinfo=tzutc()),\n",
       "  'ETag': '\"fd7ab9b395dadbef74c40f985d72ac2e\"',\n",
       "  'Size': 157,\n",
       "  'StorageClass': 'STANDARD'},\n",
       " {'Key': 'data_orig/transacciones/pasivo/transacciones_pasivo_aaatr_M201904.csv',\n",
       "  'LastModified': datetime.datetime(2020, 6, 9, 14, 0, 49, tzinfo=tzutc()),\n",
       "  'ETag': '\"f87132a17a9ac0c838997563ada8d389-853\"',\n",
       "  'Size': 7152101406,\n",
       "  'StorageClass': 'STANDARD'},\n",
       " {'Key': 'data_orig/transacciones/pasivo/transacciones_pasivo_aaatr_M201905.csv',\n",
       "  'LastModified': datetime.datetime(2020, 6, 16, 15, 16, 8, tzinfo=tzutc()),\n",
       "  'ETag': '\"061a28ecddbd7e1cabc18ebfcca315cc-116\"',\n",
       "  'Size': 968638420,\n",
       "  'StorageClass': 'STANDARD'},\n",
       " {'Key': 'data_orig/transacciones/pasivo/transacciones_pasivo_aaatr_M201906.csv',\n",
       "  'LastModified': datetime.datetime(2020, 6, 9, 14, 2, 23, tzinfo=tzutc()),\n",
       "  'ETag': '\"de68c04d48be558accce0b8ba147220e-884\"',\n",
       "  'Size': 7408085986,\n",
       "  'StorageClass': 'STANDARD'},\n",
       " {'Key': 'data_orig/transacciones/pasivo/transacciones_pasivo_aaatr_M201907.csv',\n",
       "  'LastModified': datetime.datetime(2020, 6, 9, 14, 2, 32, tzinfo=tzutc()),\n",
       "  'ETag': '\"815fb9b2a6f75144a4718359b00ac1fd-1012\"',\n",
       "  'Size': 8484014579,\n",
       "  'StorageClass': 'STANDARD'},\n",
       " {'Key': 'data_orig/transacciones/pasivo/transacciones_pasivo_aaatr_M201908.csv',\n",
       "  'LastModified': datetime.datetime(2020, 6, 16, 15, 16, 10, tzinfo=tzutc()),\n",
       "  'ETag': '\"00b59e618483f57a5de080ac6a5f6772-174\"',\n",
       "  'Size': 1459249108,\n",
       "  'StorageClass': 'STANDARD'},\n",
       " {'Key': 'data_orig/transacciones/pasivo/transacciones_pasivo_aaatr_M201909.csv',\n",
       "  'LastModified': datetime.datetime(2020, 7, 10, 16, 40, 46, tzinfo=tzutc()),\n",
       "  'ETag': '\"bb8d0676154be3c3b5eac13fa57cd6ca-900\"',\n",
       "  'Size': 7547305576,\n",
       "  'StorageClass': 'STANDARD'},\n",
       " {'Key': 'data_orig/transacciones/pasivo/transacciones_pasivo_aaatr_M201910.csv',\n",
       "  'LastModified': datetime.datetime(2020, 6, 9, 14, 3, 16, tzinfo=tzutc()),\n",
       "  'ETag': '\"39bb04e8165c7998b7a483e739d0d7b6-896\"',\n",
       "  'Size': 7508581921,\n",
       "  'StorageClass': 'STANDARD'},\n",
       " {'Key': 'data_orig/transacciones/pasivo/transacciones_pasivo_aaatr_M201911.csv',\n",
       "  'LastModified': datetime.datetime(2020, 6, 9, 14, 4, 36, tzinfo=tzutc()),\n",
       "  'ETag': '\"bb40b21929b4499426abb4830b9a6ac5-857\"',\n",
       "  'Size': 7185417547,\n",
       "  'StorageClass': 'STANDARD'},\n",
       " {'Key': 'data_orig/transacciones/pasivo/transacciones_pasivo_aaatr_M201912.csv',\n",
       "  'LastModified': datetime.datetime(2020, 7, 24, 15, 23, 9, tzinfo=tzutc()),\n",
       "  'ETag': '\"7f2f8794e3d5b87fbfb14f7f7b286396-1136\"',\n",
       "  'Size': 9526510047,\n",
       "  'StorageClass': 'STANDARD'},\n",
       " {'Key': 'data_orig/transacciones/pasivo/transacciones_pasivo_aaatr_M202001.csv',\n",
       "  'LastModified': datetime.datetime(2020, 6, 9, 14, 5, 2, tzinfo=tzutc()),\n",
       "  'ETag': '\"d51e367f593f4cd918d309ef014fc584-890\"',\n",
       "  'Size': 7464540913,\n",
       "  'StorageClass': 'STANDARD'},\n",
       " {'Key': 'data_orig/transacciones/pasivo/transacciones_pasivo_aaatr_M202002.csv',\n",
       "  'LastModified': datetime.datetime(2020, 6, 9, 14, 5, 14, tzinfo=tzutc()),\n",
       "  'ETag': '\"7f3ba6fa729fe4333b313fd056ab4498-808\"',\n",
       "  'Size': 6772536056,\n",
       "  'StorageClass': 'STANDARD'},\n",
       " {'Key': 'data_orig/transacciones/pasivo/transacciones_pasivo_aaatr_M202003.csv',\n",
       "  'LastModified': datetime.datetime(2020, 7, 10, 14, 57, 12, tzinfo=tzutc()),\n",
       "  'ETag': '\"d30eacc4f1d177e38ba05ba01ff1d206-924\"',\n",
       "  'Size': 7743922442,\n",
       "  'StorageClass': 'STANDARD'},\n",
       " {'Key': 'data_orig/transacciones/pasivo/transacciones_pasivo_aaatr_M202004.csv',\n",
       "  'LastModified': datetime.datetime(2020, 7, 15, 17, 1, 11, tzinfo=tzutc()),\n",
       "  'ETag': '\"76db45f86ed9b929d95e1eefab83fac7-839\"',\n",
       "  'Size': 7036909115,\n",
       "  'StorageClass': 'STANDARD'},\n",
       " {'Key': 'data_orig/transacciones/pasivo/transacciones_pasivo_aaatr_M202005.csv',\n",
       "  'LastModified': datetime.datetime(2020, 7, 21, 20, 41, 30, tzinfo=tzutc()),\n",
       "  'ETag': '\"d644f80ff842a255b3c9828982ccf1da-842\"',\n",
       "  'Size': 7058164660,\n",
       "  'StorageClass': 'STANDARD'},\n",
       " {'Key': 'data_orig/transacciones/pasivo/transacciones_pasivo_aaatr_M202006.csv',\n",
       "  'LastModified': datetime.datetime(2021, 3, 18, 21, 44, 2, tzinfo=tzutc()),\n",
       "  'ETag': '\"f930c4b9b1e12602389fa41b2d2db23c-443\"',\n",
       "  'Size': 7417461984,\n",
       "  'StorageClass': 'STANDARD'},\n",
       " {'Key': 'data_orig/transacciones/pasivo/transacciones_pasivo_aaatr_M202007.csv',\n",
       "  'LastModified': datetime.datetime(2020, 11, 10, 16, 21, 55, tzinfo=tzutc()),\n",
       "  'ETag': '\"1d546f81ecc5b5e049b5655bba961564-944\"',\n",
       "  'Size': 7912848138,\n",
       "  'StorageClass': 'STANDARD'},\n",
       " {'Key': 'data_orig/transacciones/pasivo/transacciones_pasivo_aaatr_M202008.csv',\n",
       "  'LastModified': datetime.datetime(2021, 3, 18, 21, 44, 2, tzinfo=tzutc()),\n",
       "  'ETag': '\"c5d45291ab1f962dd15b4dfe885d93fb-356\"',\n",
       "  'Size': 5960006335,\n",
       "  'StorageClass': 'STANDARD'},\n",
       " {'Key': 'data_orig/transacciones/pasivo/transacciones_pasivo_aaatr_M202009.csv',\n",
       "  'LastModified': datetime.datetime(2021, 3, 18, 21, 44, 2, tzinfo=tzutc()),\n",
       "  'ETag': '\"99d35f565c036e7ece6bfb74d0334ef9-355\"',\n",
       "  'Size': 5952963657,\n",
       "  'StorageClass': 'STANDARD'},\n",
       " {'Key': 'data_orig/transacciones/pasivo/transacciones_pasivo_aaatr_M202010.csv',\n",
       "  'LastModified': datetime.datetime(2021, 3, 18, 21, 44, 2, tzinfo=tzutc()),\n",
       "  'ETag': '\"491db54b691ba01d078a9cdd2facfee9-354\"',\n",
       "  'Size': 5934147159,\n",
       "  'StorageClass': 'STANDARD'},\n",
       " {'Key': 'data_orig/transacciones/pasivo/transacciones_pasivo_aaatr_M202011.csv',\n",
       "  'LastModified': datetime.datetime(2021, 3, 18, 21, 44, 2, tzinfo=tzutc()),\n",
       "  'ETag': '\"6dbbb9d8e10b82dfd246802781560d45-387\"',\n",
       "  'Size': 6491111964,\n",
       "  'StorageClass': 'STANDARD'},\n",
       " {'Key': 'data_orig/transacciones/pasivo/transacciones_pasivo_aaatr_M202012.csv',\n",
       "  'LastModified': datetime.datetime(2021, 3, 18, 21, 44, 2, tzinfo=tzutc()),\n",
       "  'ETag': '\"b6404d0cad023942ff8d3113174f98d3-420\"',\n",
       "  'Size': 7032677400,\n",
       "  'StorageClass': 'STANDARD'},\n",
       " {'Key': 'data_orig/transacciones/pasivo/transacciones_pasivo_aaatr_M202101.csv',\n",
       "  'LastModified': datetime.datetime(2021, 3, 18, 21, 44, 2, tzinfo=tzutc()),\n",
       "  'ETag': '\"03818c1df8d391f94e2b7a552007386a-349\"',\n",
       "  'Size': 5841922614,\n",
       "  'StorageClass': 'STANDARD'}]"
      ]
     },
     "execution_count": 6,
     "metadata": {},
     "output_type": "execute_result"
    }
   ],
   "source": [
    "pt = 's3://adl-refined-dev-popular/data_orig/transacciones/pasivo/'\n",
    "objects = get_s3_parquet(pt,0)\n",
    "objects"
   ]
  },
  {
   "cell_type": "code",
   "execution_count": null,
   "metadata": {},
   "outputs": [],
   "source": []
  },
  {
   "cell_type": "code",
   "execution_count": 7,
   "metadata": {},
   "outputs": [
    {
     "name": "stdout",
     "output_type": "stream",
     "text": [
      "bucket_last_file:  data-bpop-dev-refined\n",
      "key_last_file:  gestion-campanas/preaprobado-tc/\n"
     ]
    }
   ],
   "source": [
    "objects = get_s3_parquet(path,0)\n",
    "files = [\"s3://\" + bucket + \"/\" + file[\"Key\"] for file in objects]\n",
    "\n",
    "path_file = files[-1]"
   ]
  },
  {
   "cell_type": "code",
   "execution_count": 8,
   "metadata": {},
   "outputs": [],
   "source": [
    "data_temp = pd.read_csv(path_file, sep='|', dtype={'ID_CLIENTE':str,'NUM_DOC':str}) "
   ]
  },
  {
   "cell_type": "code",
   "execution_count": 9,
   "metadata": {},
   "outputs": [
    {
     "data": {
      "text/html": [
       "<div>\n",
       "<style scoped>\n",
       "    .dataframe tbody tr th:only-of-type {\n",
       "        vertical-align: middle;\n",
       "    }\n",
       "\n",
       "    .dataframe tbody tr th {\n",
       "        vertical-align: top;\n",
       "    }\n",
       "\n",
       "    .dataframe thead th {\n",
       "        text-align: right;\n",
       "    }\n",
       "</style>\n",
       "<table border=\"1\" class=\"dataframe\">\n",
       "  <thead>\n",
       "    <tr style=\"text-align: right;\">\n",
       "      <th></th>\n",
       "      <th>date</th>\n",
       "      <th>act_date</th>\n",
       "      <th>base_name</th>\n",
       "      <th>clientid</th>\n",
       "      <th>office_code</th>\n",
       "    </tr>\n",
       "  </thead>\n",
       "  <tbody>\n",
       "    <tr>\n",
       "      <th>0</th>\n",
       "      <td>2020-07-03</td>\n",
       "      <td>20200630</td>\n",
       "      <td>CALL_ATENTO_20200702.csv</td>\n",
       "      <td>10002878</td>\n",
       "      <td>470</td>\n",
       "    </tr>\n",
       "    <tr>\n",
       "      <th>1</th>\n",
       "      <td>2020-07-03</td>\n",
       "      <td>20200630</td>\n",
       "      <td>CALL_ATENTO_20200702.csv</td>\n",
       "      <td>10002898</td>\n",
       "      <td>660</td>\n",
       "    </tr>\n",
       "    <tr>\n",
       "      <th>2</th>\n",
       "      <td>2020-07-03</td>\n",
       "      <td>20200630</td>\n",
       "      <td>CALL_ATENTO_20200702.csv</td>\n",
       "      <td>10009775</td>\n",
       "      <td>470</td>\n",
       "    </tr>\n",
       "    <tr>\n",
       "      <th>3</th>\n",
       "      <td>2020-07-03</td>\n",
       "      <td>20200630</td>\n",
       "      <td>CALL_ATENTO_20200702.csv</td>\n",
       "      <td>10012869</td>\n",
       "      <td>470</td>\n",
       "    </tr>\n",
       "    <tr>\n",
       "      <th>4</th>\n",
       "      <td>2020-07-03</td>\n",
       "      <td>20200630</td>\n",
       "      <td>CALL_ATENTO_20200702.csv</td>\n",
       "      <td>10020225</td>\n",
       "      <td>470</td>\n",
       "    </tr>\n",
       "  </tbody>\n",
       "</table>\n",
       "</div>"
      ],
      "text/plain": [
       "         date  act_date                 base_name  clientid  office_code\n",
       "0  2020-07-03  20200630  CALL_ATENTO_20200702.csv  10002878          470\n",
       "1  2020-07-03  20200630  CALL_ATENTO_20200702.csv  10002898          660\n",
       "2  2020-07-03  20200630  CALL_ATENTO_20200702.csv  10009775          470\n",
       "3  2020-07-03  20200630  CALL_ATENTO_20200702.csv  10012869          470\n",
       "4  2020-07-03  20200630  CALL_ATENTO_20200702.csv  10020225          470"
      ]
     },
     "execution_count": 9,
     "metadata": {},
     "output_type": "execute_result"
    }
   ],
   "source": [
    "data_temp.head()"
   ]
  },
  {
   "cell_type": "code",
   "execution_count": 10,
   "metadata": {},
   "outputs": [
    {
     "data": {
      "text/html": [
       "<div>\n",
       "<style scoped>\n",
       "    .dataframe tbody tr th:only-of-type {\n",
       "        vertical-align: middle;\n",
       "    }\n",
       "\n",
       "    .dataframe tbody tr th {\n",
       "        vertical-align: top;\n",
       "    }\n",
       "\n",
       "    .dataframe thead th {\n",
       "        text-align: right;\n",
       "    }\n",
       "</style>\n",
       "<table border=\"1\" class=\"dataframe\">\n",
       "  <thead>\n",
       "    <tr style=\"text-align: right;\">\n",
       "      <th></th>\n",
       "      <th>date</th>\n",
       "      <th>act_date</th>\n",
       "      <th>base_name</th>\n",
       "      <th>clientid</th>\n",
       "      <th>office_code</th>\n",
       "    </tr>\n",
       "  </thead>\n",
       "  <tbody>\n",
       "    <tr>\n",
       "      <th>278861</th>\n",
       "      <td>2022-02-03</td>\n",
       "      <td>20220201</td>\n",
       "      <td>OFICINA_BOGOTA_20220202.csv</td>\n",
       "      <td>9514630</td>\n",
       "      <td>270</td>\n",
       "    </tr>\n",
       "    <tr>\n",
       "      <th>278862</th>\n",
       "      <td>2022-02-03</td>\n",
       "      <td>20220201</td>\n",
       "      <td>OFICINA_BOGOTA_20220202.csv</td>\n",
       "      <td>9530597</td>\n",
       "      <td>270</td>\n",
       "    </tr>\n",
       "    <tr>\n",
       "      <th>278863</th>\n",
       "      <td>2022-02-03</td>\n",
       "      <td>20220201</td>\n",
       "      <td>OFICINA_BOGOTA_20220202.csv</td>\n",
       "      <td>9651735</td>\n",
       "      <td>270</td>\n",
       "    </tr>\n",
       "    <tr>\n",
       "      <th>278864</th>\n",
       "      <td>2022-02-03</td>\n",
       "      <td>20220201</td>\n",
       "      <td>OFICINA_BOGOTA_20220202.csv</td>\n",
       "      <td>9653868</td>\n",
       "      <td>88</td>\n",
       "    </tr>\n",
       "    <tr>\n",
       "      <th>278865</th>\n",
       "      <td>2022-02-03</td>\n",
       "      <td>20220201</td>\n",
       "      <td>OFICINA_BOGOTA_20220202.csv</td>\n",
       "      <td>9778378</td>\n",
       "      <td>460</td>\n",
       "    </tr>\n",
       "  </tbody>\n",
       "</table>\n",
       "</div>"
      ],
      "text/plain": [
       "              date  act_date                    base_name  clientid  \\\n",
       "278861  2022-02-03  20220201  OFICINA_BOGOTA_20220202.csv   9514630   \n",
       "278862  2022-02-03  20220201  OFICINA_BOGOTA_20220202.csv   9530597   \n",
       "278863  2022-02-03  20220201  OFICINA_BOGOTA_20220202.csv   9651735   \n",
       "278864  2022-02-03  20220201  OFICINA_BOGOTA_20220202.csv   9653868   \n",
       "278865  2022-02-03  20220201  OFICINA_BOGOTA_20220202.csv   9778378   \n",
       "\n",
       "        office_code  \n",
       "278861          270  \n",
       "278862          270  \n",
       "278863          270  \n",
       "278864           88  \n",
       "278865          460  "
      ]
     },
     "execution_count": 10,
     "metadata": {},
     "output_type": "execute_result"
    }
   ],
   "source": [
    "data_temp.tail()"
   ]
  },
  {
   "cell_type": "code",
   "execution_count": 11,
   "metadata": {},
   "outputs": [
    {
     "name": "stdout",
     "output_type": "stream",
     "text": [
      "(278866, 5)\n",
      "(237134, 3)\n"
     ]
    }
   ],
   "source": [
    "data_temp = data_temp.sort_values(['base_name','date','clientid'])\n",
    "print(data_temp.shape)\n",
    "data_temp = data_temp.groupby(['clientid','base_name']).first()\n",
    "print(data_temp.shape)\n",
    "data_temp.reset_index(inplace=True)"
   ]
  },
  {
   "cell_type": "code",
   "execution_count": 12,
   "metadata": {},
   "outputs": [
    {
     "name": "stderr",
     "output_type": "stream",
     "text": [
      "/home/jupyter/anaconda3/lib/python3.7/site-packages/ipykernel_launcher.py:11: SettingWithCopyWarning: \n",
      "A value is trying to be set on a copy of a slice from a DataFrame.\n",
      "Try using .loc[row_indexer,col_indexer] = value instead\n",
      "\n",
      "See the caveats in the documentation: https://pandas.pydata.org/pandas-docs/stable/user_guide/indexing.html#returning-a-view-versus-a-copy\n",
      "  # This is added back by InteractiveShellApp.init_path()\n",
      "/home/jupyter/anaconda3/lib/python3.7/site-packages/ipykernel_launcher.py:12: SettingWithCopyWarning: \n",
      "A value is trying to be set on a copy of a slice from a DataFrame.\n",
      "Try using .loc[row_indexer,col_indexer] = value instead\n",
      "\n",
      "See the caveats in the documentation: https://pandas.pydata.org/pandas-docs/stable/user_guide/indexing.html#returning-a-view-versus-a-copy\n",
      "  if sys.path[0] == '':\n",
      "/home/jupyter/anaconda3/lib/python3.7/site-packages/ipykernel_launcher.py:14: SettingWithCopyWarning: \n",
      "A value is trying to be set on a copy of a slice from a DataFrame.\n",
      "Try using .loc[row_indexer,col_indexer] = value instead\n",
      "\n",
      "See the caveats in the documentation: https://pandas.pydata.org/pandas-docs/stable/user_guide/indexing.html#returning-a-view-versus-a-copy\n",
      "  \n",
      "/home/jupyter/anaconda3/lib/python3.7/site-packages/ipykernel_launcher.py:17: SettingWithCopyWarning: \n",
      "A value is trying to be set on a copy of a slice from a DataFrame.\n",
      "Try using .loc[row_indexer,col_indexer] = value instead\n",
      "\n",
      "See the caveats in the documentation: https://pandas.pydata.org/pandas-docs/stable/user_guide/indexing.html#returning-a-view-versus-a-copy\n",
      "/home/jupyter/anaconda3/lib/python3.7/site-packages/ipykernel_launcher.py:18: SettingWithCopyWarning: \n",
      "A value is trying to be set on a copy of a slice from a DataFrame.\n",
      "Try using .loc[row_indexer,col_indexer] = value instead\n",
      "\n",
      "See the caveats in the documentation: https://pandas.pydata.org/pandas-docs/stable/user_guide/indexing.html#returning-a-view-versus-a-copy\n",
      "/home/jupyter/anaconda3/lib/python3.7/site-packages/ipykernel_launcher.py:19: SettingWithCopyWarning: \n",
      "A value is trying to be set on a copy of a slice from a DataFrame.\n",
      "Try using .loc[row_indexer,col_indexer] = value instead\n",
      "\n",
      "See the caveats in the documentation: https://pandas.pydata.org/pandas-docs/stable/user_guide/indexing.html#returning-a-view-versus-a-copy\n",
      "/home/jupyter/anaconda3/lib/python3.7/site-packages/ipykernel_launcher.py:26: SettingWithCopyWarning: \n",
      "A value is trying to be set on a copy of a slice from a DataFrame.\n",
      "Try using .loc[row_indexer,col_indexer] = value instead\n",
      "\n",
      "See the caveats in the documentation: https://pandas.pydata.org/pandas-docs/stable/user_guide/indexing.html#returning-a-view-versus-a-copy\n",
      "/home/jupyter/anaconda3/lib/python3.7/site-packages/ipykernel_launcher.py:27: SettingWithCopyWarning: \n",
      "A value is trying to be set on a copy of a slice from a DataFrame.\n",
      "Try using .loc[row_indexer,col_indexer] = value instead\n",
      "\n",
      "See the caveats in the documentation: https://pandas.pydata.org/pandas-docs/stable/user_guide/indexing.html#returning-a-view-versus-a-copy\n",
      "/home/jupyter/anaconda3/lib/python3.7/site-packages/ipykernel_launcher.py:28: SettingWithCopyWarning: \n",
      "A value is trying to be set on a copy of a slice from a DataFrame.\n",
      "Try using .loc[row_indexer,col_indexer] = value instead\n",
      "\n",
      "See the caveats in the documentation: https://pandas.pydata.org/pandas-docs/stable/user_guide/indexing.html#returning-a-view-versus-a-copy\n",
      "/home/jupyter/anaconda3/lib/python3.7/site-packages/ipykernel_launcher.py:29: SettingWithCopyWarning: \n",
      "A value is trying to be set on a copy of a slice from a DataFrame.\n",
      "Try using .loc[row_indexer,col_indexer] = value instead\n",
      "\n",
      "See the caveats in the documentation: https://pandas.pydata.org/pandas-docs/stable/user_guide/indexing.html#returning-a-view-versus-a-copy\n"
     ]
    }
   ],
   "source": [
    "## Filtrar express-la14\n",
    "\n",
    "data_temp = data_temp.loc[~data_temp['base_name'].str.contains('EXPRES_LA14')]\n",
    "data_temp = data_temp.rename(columns={'clientid':'NUM_DOC'})\n",
    "\n",
    "## Separando:\n",
    "## Oficinas\n",
    "\n",
    "data_crm = data_temp.loc[~data_temp['base_name'].str.contains('OFICINA_BOGOTA')]\n",
    "## tipo campaña\n",
    "data_crm['TIPO CAMPAÑA'] = 'Preaprobados'\n",
    "data_crm['tipo_camp'] = 'of-preaprobados'\n",
    "# Casting variables\n",
    "data_crm['FECHA'] = pd.to_datetime(data_crm['date'],format='%Y-%m-%d')\n",
    "data_crm['mes_campaña'] = pd.to_datetime(np.where(data_crm['FECHA'].dt.day>=25, \n",
    "                                                              data_crm['FECHA']+timedelta(days=10),\n",
    "                                                              data_crm['FECHA']),format='%Y-%m-%d')\n",
    "data_crm['mes_campaña2'] = pd.to_datetime(data_crm['FECHA'].dt.strftime('%Y-%m'),format='%Y-%m')\n",
    "data_crm['mes_campaña'] = pd.to_datetime(data_crm['mes_campaña'].dt.strftime('%Y-%m'),format='%Y-%m')\n",
    "data_crm1 = data_crm.copy()\n",
    "\n",
    "## Atento\n",
    "\n",
    "data_vend = data_temp.loc[~data_temp['base_name'].str.contains('CALL_ATENTO')]\n",
    "# Casting variables\n",
    "data_vend['TIPO CAMPAÑA'] = 'Preaprobados'\n",
    "data_vend['tipo_camp'] = 'at-preaprobados'\n",
    "data_vend['FECHA'] = pd.to_datetime(data_vend['date'],format='%Y-%m-%d')\n",
    "data_vend['mes_campaña'] = pd.to_datetime(data_vend['FECHA'].dt.strftime('%Y-%m'),format='%Y-%m')\n",
    "data_vend1 = data_vend.copy()"
   ]
  },
  {
   "cell_type": "markdown",
   "metadata": {},
   "source": [
    "# Ya no"
   ]
  },
  {
   "cell_type": "code",
   "execution_count": 13,
   "metadata": {},
   "outputs": [],
   "source": [
    "input_paths = {'crm':[\n",
    "#                       's3://data-bpop-dev-sandbox/landing/tmp/tmpg_campanas-tc-nuevas-proc-crm_M202103.csv',\n",
    "#                      's3://data-bpop-dev-sandbox/landing/tmp/tmpg_campanas-tc-nuevas-proc-crm_H20200801-20210201.csv',\n",
    "                       's3://adl-refined-dev-popular/data_orig/campanas/tc-nuevas-proc-crm/campanas-tc-nuevas-proc-crm_H20200228-20200601.csv',\n",
    "                      's3://adl-refined-dev-popular/data_orig/campanas/tc-nuevas-proc-crm/campanas-tc-nuevas-proc-crm_H20190801-20200201.csv',\n",
    "                      's3://adl-refined-dev-popular/data_orig/campanas/tc-nuevas-proc-crm/campanas-tc-nuevas-proc-crm_H20190104-20190702.csv'\n",
    "                    ],\n",
    "               'vendors':[\n",
    "#                         's3://data-bpop-dev-sandbox/landing/tmp/tmpg_campanas-tc-nuevas-proc-vendors_H20201201-20210301.csv',\n",
    "#                         's3://data-bpop-dev-sandbox/landing/tmp/tmpg_campanas-tc-nuevas-proc-vendors_H20200801-20210101.csv',\n",
    "                          's3://adl-refined-dev-popular/data_orig/campanas/tc-nuevas-proc-vend/campanas-tc-nuevas-proc-vendors_H20200401-20200601.csv',\n",
    "                         's3://adl-refined-dev-popular/data_orig/campanas/tc-nuevas-proc-vend/campanas-tc-nuevas-proc-vendors_H20190101-20200301.csv'\n",
    "                ]}"
   ]
  },
  {
   "cell_type": "code",
   "execution_count": 14,
   "metadata": {},
   "outputs": [
    {
     "name": "stdout",
     "output_type": "stream",
     "text": [
      "File: s3://adl-refined-dev-popular/data_orig/campanas/tc-nuevas-proc-crm/campanas-tc-nuevas-proc-crm_H20200228-20200601.csv\n",
      "File: s3://adl-refined-dev-popular/data_orig/campanas/tc-nuevas-proc-crm/campanas-tc-nuevas-proc-crm_H20190801-20200201.csv\n",
      "File: s3://adl-refined-dev-popular/data_orig/campanas/tc-nuevas-proc-crm/campanas-tc-nuevas-proc-crm_H20190104-20190702.csv\n"
     ]
    }
   ],
   "source": [
    "obj = 'crm'\n",
    "\n",
    "files = input_paths[obj]\n",
    "\n",
    "for ix, file in enumerate(files):\n",
    "    print('File:', file)\n",
    "    \n",
    "    data_temp = pd.read_csv(file, sep='|', dtype={'ID_CLIENTE':str,'NUM_DOC':str}) \n",
    "    \n",
    "    if ix == 0:\n",
    "        data_crm = data_temp\n",
    "    else:\n",
    "        data_crm = pd.concat([data_crm,data_temp], ignore_index=True)\n",
    "        \n",
    "    del data_temp"
   ]
  },
  {
   "cell_type": "code",
   "execution_count": 15,
   "metadata": {},
   "outputs": [
    {
     "data": {
      "text/html": [
       "<div>\n",
       "<style scoped>\n",
       "    .dataframe tbody tr th:only-of-type {\n",
       "        vertical-align: middle;\n",
       "    }\n",
       "\n",
       "    .dataframe tbody tr th {\n",
       "        vertical-align: top;\n",
       "    }\n",
       "\n",
       "    .dataframe thead th {\n",
       "        text-align: right;\n",
       "    }\n",
       "</style>\n",
       "<table border=\"1\" class=\"dataframe\">\n",
       "  <thead>\n",
       "    <tr style=\"text-align: right;\">\n",
       "      <th></th>\n",
       "      <th>NUM_DOC</th>\n",
       "      <th>ID_CLIENTE</th>\n",
       "      <th>FECHA</th>\n",
       "    </tr>\n",
       "  </thead>\n",
       "  <tbody>\n",
       "    <tr>\n",
       "      <th>0</th>\n",
       "      <td>11331659</td>\n",
       "      <td>728652315426013901</td>\n",
       "      <td>28/02/2020</td>\n",
       "    </tr>\n",
       "    <tr>\n",
       "      <th>1</th>\n",
       "      <td>20287021</td>\n",
       "      <td>971552296816188702</td>\n",
       "      <td>28/02/2020</td>\n",
       "    </tr>\n",
       "    <tr>\n",
       "      <th>2</th>\n",
       "      <td>32445739</td>\n",
       "      <td>227552309591472601</td>\n",
       "      <td>28/02/2020</td>\n",
       "    </tr>\n",
       "    <tr>\n",
       "      <th>3</th>\n",
       "      <td>2999236</td>\n",
       "      <td>122252294553987002</td>\n",
       "      <td>28/02/2020</td>\n",
       "    </tr>\n",
       "    <tr>\n",
       "      <th>4</th>\n",
       "      <td>5710110</td>\n",
       "      <td>758052310452202501</td>\n",
       "      <td>28/02/2020</td>\n",
       "    </tr>\n",
       "  </tbody>\n",
       "</table>\n",
       "</div>"
      ],
      "text/plain": [
       "    NUM_DOC          ID_CLIENTE       FECHA\n",
       "0  11331659  728652315426013901  28/02/2020\n",
       "1  20287021  971552296816188702  28/02/2020\n",
       "2  32445739  227552309591472601  28/02/2020\n",
       "3   2999236  122252294553987002  28/02/2020\n",
       "4   5710110  758052310452202501  28/02/2020"
      ]
     },
     "execution_count": 15,
     "metadata": {},
     "output_type": "execute_result"
    }
   ],
   "source": [
    "data_crm.head()"
   ]
  },
  {
   "cell_type": "code",
   "execution_count": 16,
   "metadata": {},
   "outputs": [],
   "source": [
    "## tipo campaña\n",
    "data_crm['TIPO CAMPAÑA'] = 'Preaprobados'\n",
    "data_crm['tipo_camp'] = 'of-preaprobados'"
   ]
  },
  {
   "cell_type": "code",
   "execution_count": 17,
   "metadata": {},
   "outputs": [],
   "source": [
    "# Casting variables\n",
    "data_crm['FECHA'] = pd.to_datetime(data_crm['FECHA'],format='%d/%m/%Y')\n",
    "data_crm['mes_campaña'] = pd.to_datetime(np.where(data_crm['FECHA'].dt.day>=28, \n",
    "                                                              data_crm['FECHA']+timedelta(days=10),\n",
    "                                                              data_crm['FECHA']),format='%Y-%m-%d')\n",
    "data_crm['mes_campaña2'] = pd.to_datetime(data_crm['FECHA'].dt.strftime('%Y-%m'),format='%Y-%m')\n",
    "data_crm['mes_campaña'] = pd.to_datetime(data_crm['mes_campaña'].dt.strftime('%Y-%m'),format='%Y-%m')"
   ]
  },
  {
   "cell_type": "code",
   "execution_count": 18,
   "metadata": {},
   "outputs": [],
   "source": [
    "data_crm = pd.concat([data_crm1,data_crm], ignore_index=True)"
   ]
  },
  {
   "cell_type": "markdown",
   "metadata": {},
   "source": [
    "## Atento"
   ]
  },
  {
   "cell_type": "code",
   "execution_count": 19,
   "metadata": {},
   "outputs": [],
   "source": [
    "obj = 'vendors'\n",
    "\n",
    "files = input_paths[obj]"
   ]
  },
  {
   "cell_type": "code",
   "execution_count": 20,
   "metadata": {},
   "outputs": [
    {
     "name": "stdout",
     "output_type": "stream",
     "text": [
      "File: s3://adl-refined-dev-popular/data_orig/campanas/tc-nuevas-proc-vend/campanas-tc-nuevas-proc-vendors_H20200401-20200601.csv\n",
      "File: s3://adl-refined-dev-popular/data_orig/campanas/tc-nuevas-proc-vend/campanas-tc-nuevas-proc-vendors_H20190101-20200301.csv\n"
     ]
    }
   ],
   "source": [
    "obj = 'vendors'\n",
    "\n",
    "files = input_paths[obj]\n",
    "\n",
    "for ix, file in enumerate(files):\n",
    "    print('File:', file)\n",
    "    \n",
    "    data_temp = pd.read_csv(file, sep='|', encoding='ISO8859-1',quoting=1, dtype={'ID_CLIENTE':str,'NUM_DOC':str})\n",
    "    if ix == 0:\n",
    "        data_vend = data_temp.copy()\n",
    "    else:\n",
    "        data_vend = pd.concat([data_vend,data_temp], ignore_index=True)\n",
    "        \n",
    "    del data_temp"
   ]
  },
  {
   "cell_type": "code",
   "execution_count": 21,
   "metadata": {},
   "outputs": [
    {
     "data": {
      "text/html": [
       "<div>\n",
       "<style scoped>\n",
       "    .dataframe tbody tr th:only-of-type {\n",
       "        vertical-align: middle;\n",
       "    }\n",
       "\n",
       "    .dataframe tbody tr th {\n",
       "        vertical-align: top;\n",
       "    }\n",
       "\n",
       "    .dataframe thead th {\n",
       "        text-align: right;\n",
       "    }\n",
       "</style>\n",
       "<table border=\"1\" class=\"dataframe\">\n",
       "  <thead>\n",
       "    <tr style=\"text-align: right;\">\n",
       "      <th></th>\n",
       "      <th>TIP_DOC</th>\n",
       "      <th>NUM_DOC</th>\n",
       "      <th>ID_CLIENTE</th>\n",
       "      <th>CUPO_APROBADO</th>\n",
       "      <th>FECHA</th>\n",
       "      <th>TIPO CAMPAÑA</th>\n",
       "    </tr>\n",
       "  </thead>\n",
       "  <tbody>\n",
       "    <tr>\n",
       "      <th>0</th>\n",
       "      <td>1.0</td>\n",
       "      <td>7332107</td>\n",
       "      <td>234952295182773302</td>\n",
       "      <td>NaN</td>\n",
       "      <td>01/05/2020</td>\n",
       "      <td>Perfilados Activos</td>\n",
       "    </tr>\n",
       "    <tr>\n",
       "      <th>1</th>\n",
       "      <td>1.0</td>\n",
       "      <td>2919898</td>\n",
       "      <td>268152294536287301</td>\n",
       "      <td>NaN</td>\n",
       "      <td>01/05/2020</td>\n",
       "      <td>Perfilados Activos</td>\n",
       "    </tr>\n",
       "    <tr>\n",
       "      <th>2</th>\n",
       "      <td>1.0</td>\n",
       "      <td>41386486</td>\n",
       "      <td>102652313123946401</td>\n",
       "      <td>NaN</td>\n",
       "      <td>01/05/2020</td>\n",
       "      <td>Perfilados Activos</td>\n",
       "    </tr>\n",
       "    <tr>\n",
       "      <th>3</th>\n",
       "      <td>1.0</td>\n",
       "      <td>19233476</td>\n",
       "      <td>248852314626474002</td>\n",
       "      <td>NaN</td>\n",
       "      <td>01/05/2020</td>\n",
       "      <td>Perfilados Activos</td>\n",
       "    </tr>\n",
       "    <tr>\n",
       "      <th>4</th>\n",
       "      <td>1.0</td>\n",
       "      <td>399382</td>\n",
       "      <td>183452294188281002</td>\n",
       "      <td>NaN</td>\n",
       "      <td>01/05/2020</td>\n",
       "      <td>Perfilados Activos</td>\n",
       "    </tr>\n",
       "  </tbody>\n",
       "</table>\n",
       "</div>"
      ],
      "text/plain": [
       "   TIP_DOC   NUM_DOC          ID_CLIENTE  CUPO_APROBADO        FECHA  \\\n",
       "0      1.0   7332107  234952295182773302             NaN  01/05/2020   \n",
       "1      1.0   2919898  268152294536287301             NaN  01/05/2020   \n",
       "2      1.0  41386486  102652313123946401             NaN  01/05/2020   \n",
       "3      1.0  19233476  248852314626474002             NaN  01/05/2020   \n",
       "4      1.0    399382  183452294188281002             NaN  01/05/2020   \n",
       "\n",
       "         TIPO CAMPAÑA  \n",
       "0  Perfilados Activos  \n",
       "1  Perfilados Activos  \n",
       "2  Perfilados Activos  \n",
       "3  Perfilados Activos  \n",
       "4  Perfilados Activos  "
      ]
     },
     "execution_count": 21,
     "metadata": {},
     "output_type": "execute_result"
    }
   ],
   "source": [
    "data_vend.head()"
   ]
  },
  {
   "cell_type": "code",
   "execution_count": 22,
   "metadata": {},
   "outputs": [
    {
     "data": {
      "text/plain": [
       "Preaprobados            61502\n",
       "Perfilados Activos      26931\n",
       "Perfilados inactivos    16072\n",
       "Perfilados Inactivos     1000\n",
       "Name: TIPO CAMPAÑA, dtype: int64"
      ]
     },
     "execution_count": 22,
     "metadata": {},
     "output_type": "execute_result"
    }
   ],
   "source": [
    "data_vend['TIPO CAMPAÑA'].value_counts()"
   ]
  },
  {
   "cell_type": "code",
   "execution_count": 23,
   "metadata": {},
   "outputs": [],
   "source": [
    "# Casting variables\n",
    "data_vend['tipo_camp'] = np.where(data_vend['TIPO CAMPAÑA'] == 'Preaprobados','at-preaprobados','at-perfilados')\n",
    "data_vend['FECHA'] = pd.to_datetime(data_vend['FECHA'], format='%d/%m/%Y')\n",
    "data_vend['mes_campaña'] = pd.to_datetime(data_vend['FECHA'].dt.strftime('%Y-%m'),format='%Y-%m')"
   ]
  },
  {
   "cell_type": "code",
   "execution_count": null,
   "metadata": {},
   "outputs": [],
   "source": [
    "data_vend = pd.concat([data_vend1,data_vend], ignore_index=True)"
   ]
  },
  {
   "cell_type": "markdown",
   "metadata": {},
   "source": [
    "### Uniendo bases "
   ]
  },
  {
   "cell_type": "code",
   "execution_count": null,
   "metadata": {},
   "outputs": [],
   "source": [
    "cols = ['NUM_DOC', 'FECHA', 'mes_campaña', 'TIPO CAMPAÑA', 'tipo_camp']"
   ]
  },
  {
   "cell_type": "code",
   "execution_count": null,
   "metadata": {},
   "outputs": [],
   "source": [
    "data_vend.columns = data_vend.columns.str.strip()"
   ]
  },
  {
   "cell_type": "code",
   "execution_count": null,
   "metadata": {},
   "outputs": [
    {
     "name": "stdout",
     "output_type": "stream",
     "text": [
      "(339489, 5)\n"
     ]
    },
    {
     "data": {
      "text/html": [
       "<div>\n",
       "<style scoped>\n",
       "    .dataframe tbody tr th:only-of-type {\n",
       "        vertical-align: middle;\n",
       "    }\n",
       "\n",
       "    .dataframe tbody tr th {\n",
       "        vertical-align: top;\n",
       "    }\n",
       "\n",
       "    .dataframe thead th {\n",
       "        text-align: right;\n",
       "    }\n",
       "</style>\n",
       "<table border=\"1\" class=\"dataframe\">\n",
       "  <thead>\n",
       "    <tr style=\"text-align: right;\">\n",
       "      <th></th>\n",
       "      <th>NUM_DOC</th>\n",
       "      <th>FECHA</th>\n",
       "      <th>mes_campaña</th>\n",
       "      <th>TIPO CAMPAÑA</th>\n",
       "      <th>tipo_camp</th>\n",
       "    </tr>\n",
       "  </thead>\n",
       "  <tbody>\n",
       "    <tr>\n",
       "      <th>0</th>\n",
       "      <td>93442</td>\n",
       "      <td>2021-09-06</td>\n",
       "      <td>2021-09-01</td>\n",
       "      <td>Preaprobados</td>\n",
       "      <td>of-preaprobados</td>\n",
       "    </tr>\n",
       "    <tr>\n",
       "      <th>1</th>\n",
       "      <td>96681</td>\n",
       "      <td>2021-04-30</td>\n",
       "      <td>2021-05-01</td>\n",
       "      <td>Preaprobados</td>\n",
       "      <td>of-preaprobados</td>\n",
       "    </tr>\n",
       "    <tr>\n",
       "      <th>2</th>\n",
       "      <td>96681</td>\n",
       "      <td>2021-09-06</td>\n",
       "      <td>2021-09-01</td>\n",
       "      <td>Preaprobados</td>\n",
       "      <td>of-preaprobados</td>\n",
       "    </tr>\n",
       "    <tr>\n",
       "      <th>3</th>\n",
       "      <td>98362</td>\n",
       "      <td>2020-07-03</td>\n",
       "      <td>2020-07-01</td>\n",
       "      <td>Preaprobados</td>\n",
       "      <td>of-preaprobados</td>\n",
       "    </tr>\n",
       "    <tr>\n",
       "      <th>4</th>\n",
       "      <td>100090</td>\n",
       "      <td>2021-04-30</td>\n",
       "      <td>2021-05-01</td>\n",
       "      <td>Preaprobados</td>\n",
       "      <td>of-preaprobados</td>\n",
       "    </tr>\n",
       "    <tr>\n",
       "      <th>...</th>\n",
       "      <td>...</td>\n",
       "      <td>...</td>\n",
       "      <td>...</td>\n",
       "      <td>...</td>\n",
       "      <td>...</td>\n",
       "    </tr>\n",
       "    <tr>\n",
       "      <th>339484</th>\n",
       "      <td>17007499</td>\n",
       "      <td>2020-03-01</td>\n",
       "      <td>2020-03-01</td>\n",
       "      <td>Preaprobados</td>\n",
       "      <td>at-preaprobados</td>\n",
       "    </tr>\n",
       "    <tr>\n",
       "      <th>339485</th>\n",
       "      <td>17112493</td>\n",
       "      <td>2020-03-01</td>\n",
       "      <td>2020-03-01</td>\n",
       "      <td>Preaprobados</td>\n",
       "      <td>at-preaprobados</td>\n",
       "    </tr>\n",
       "    <tr>\n",
       "      <th>339486</th>\n",
       "      <td>3362730</td>\n",
       "      <td>2020-03-01</td>\n",
       "      <td>2020-03-01</td>\n",
       "      <td>Preaprobados</td>\n",
       "      <td>at-preaprobados</td>\n",
       "    </tr>\n",
       "    <tr>\n",
       "      <th>339487</th>\n",
       "      <td>3430980</td>\n",
       "      <td>2020-03-01</td>\n",
       "      <td>2020-03-01</td>\n",
       "      <td>Preaprobados</td>\n",
       "      <td>at-preaprobados</td>\n",
       "    </tr>\n",
       "    <tr>\n",
       "      <th>339488</th>\n",
       "      <td>16465690</td>\n",
       "      <td>2020-03-01</td>\n",
       "      <td>2020-03-01</td>\n",
       "      <td>Preaprobados</td>\n",
       "      <td>at-preaprobados</td>\n",
       "    </tr>\n",
       "  </tbody>\n",
       "</table>\n",
       "<p>339489 rows × 5 columns</p>\n",
       "</div>"
      ],
      "text/plain": [
       "         NUM_DOC      FECHA mes_campaña  TIPO CAMPAÑA        tipo_camp\n",
       "0          93442 2021-09-06  2021-09-01  Preaprobados  of-preaprobados\n",
       "1          96681 2021-04-30  2021-05-01  Preaprobados  of-preaprobados\n",
       "2          96681 2021-09-06  2021-09-01  Preaprobados  of-preaprobados\n",
       "3          98362 2020-07-03  2020-07-01  Preaprobados  of-preaprobados\n",
       "4         100090 2021-04-30  2021-05-01  Preaprobados  of-preaprobados\n",
       "...          ...        ...         ...           ...              ...\n",
       "339484  17007499 2020-03-01  2020-03-01  Preaprobados  at-preaprobados\n",
       "339485  17112493 2020-03-01  2020-03-01  Preaprobados  at-preaprobados\n",
       "339486   3362730 2020-03-01  2020-03-01  Preaprobados  at-preaprobados\n",
       "339487   3430980 2020-03-01  2020-03-01  Preaprobados  at-preaprobados\n",
       "339488  16465690 2020-03-01  2020-03-01  Preaprobados  at-preaprobados\n",
       "\n",
       "[339489 rows x 5 columns]"
      ]
     },
     "execution_count": 27,
     "metadata": {},
     "output_type": "execute_result"
    }
   ],
   "source": [
    "#data_camp = pd.concat([data_crm[cols1], data_vend[cols2]], ignore_index=True)[cols2]\n",
    "data_camp = pd.concat([data_crm[cols], data_vend[cols]], ignore_index=True)[cols]\n",
    "print(data_camp.shape)\n",
    "data_camp "
   ]
  },
  {
   "cell_type": "code",
   "execution_count": null,
   "metadata": {},
   "outputs": [],
   "source": [
    "data_camp['NUM_DOC'] = data_camp['NUM_DOC'].astype(np.int64)\n",
    "data_camp['FECHA'] = pd.to_datetime(data_camp['FECHA'])\n",
    "data_camp['mes_campaña'] = pd.to_datetime(data_camp['mes_campaña'])"
   ]
  },
  {
   "cell_type": "code",
   "execution_count": null,
   "metadata": {},
   "outputs": [
    {
     "data": {
      "text/plain": [
       "NUM_DOC         339489\n",
       "FECHA           339489\n",
       "mes_campaña     339489\n",
       "TIPO CAMPAÑA    339489\n",
       "tipo_camp       339489\n",
       "dtype: int64"
      ]
     },
     "execution_count": 29,
     "metadata": {},
     "output_type": "execute_result"
    }
   ],
   "source": [
    "data_camp.count()"
   ]
  },
  {
   "cell_type": "markdown",
   "metadata": {},
   "source": [
    "# Conteos"
   ]
  },
  {
   "cell_type": "code",
   "execution_count": null,
   "metadata": {},
   "outputs": [
    {
     "data": {
      "text/plain": [
       "2019-01-01      457\n",
       "2019-02-01     6370\n",
       "2019-03-01     5001\n",
       "2019-04-01     6662\n",
       "2019-05-01     6761\n",
       "2019-06-01     6749\n",
       "2019-07-01     5857\n",
       "2019-08-01     7045\n",
       "2019-09-01     7212\n",
       "2019-10-01     6952\n",
       "2019-11-01     7235\n",
       "2019-12-01     5472\n",
       "2020-01-01     7332\n",
       "2020-02-01     8338\n",
       "2020-03-01    11126\n",
       "2020-04-01     7503\n",
       "2020-05-01    12749\n",
       "2020-06-01     9727\n",
       "2020-07-01    11755\n",
       "2020-08-01    12903\n",
       "2020-09-01    13456\n",
       "2020-10-01    14364\n",
       "2020-11-01    11712\n",
       "2020-12-01    11789\n",
       "2021-01-01     9975\n",
       "2021-02-01    12056\n",
       "2021-03-01     8712\n",
       "2021-04-01    13412\n",
       "2021-05-01     9336\n",
       "2021-06-01    10952\n",
       "2021-07-01     9391\n",
       "2021-08-01     8830\n",
       "2021-09-01     9955\n",
       "2021-10-01     2346\n",
       "2021-11-01     9977\n",
       "2021-12-01     9967\n",
       "2022-01-01     9126\n",
       "2022-02-01    10927\n",
       "Name: mes_campaña, dtype: int64"
      ]
     },
     "execution_count": 30,
     "metadata": {},
     "output_type": "execute_result"
    }
   ],
   "source": [
    "data_camp['mes_campaña'].value_counts().sort_index()"
   ]
  },
  {
   "cell_type": "code",
   "execution_count": null,
   "metadata": {},
   "outputs": [
    {
     "data": {
      "text/html": [
       "<div>\n",
       "<style scoped>\n",
       "    .dataframe tbody tr th:only-of-type {\n",
       "        vertical-align: middle;\n",
       "    }\n",
       "\n",
       "    .dataframe tbody tr th {\n",
       "        vertical-align: top;\n",
       "    }\n",
       "\n",
       "    .dataframe thead th {\n",
       "        text-align: right;\n",
       "    }\n",
       "</style>\n",
       "<table border=\"1\" class=\"dataframe\">\n",
       "  <thead>\n",
       "    <tr style=\"text-align: right;\">\n",
       "      <th>TIPO CAMPAÑA</th>\n",
       "      <th>Perfilados Activos</th>\n",
       "      <th>Perfilados Inactivos</th>\n",
       "      <th>Perfilados inactivos</th>\n",
       "      <th>Preaprobados</th>\n",
       "    </tr>\n",
       "    <tr>\n",
       "      <th>mes_campaña</th>\n",
       "      <th></th>\n",
       "      <th></th>\n",
       "      <th></th>\n",
       "      <th></th>\n",
       "    </tr>\n",
       "  </thead>\n",
       "  <tbody>\n",
       "    <tr>\n",
       "      <th>2019-02-01</th>\n",
       "      <td>1500</td>\n",
       "      <td>0</td>\n",
       "      <td>2439</td>\n",
       "      <td>777</td>\n",
       "    </tr>\n",
       "    <tr>\n",
       "      <th>2019-03-01</th>\n",
       "      <td>2000</td>\n",
       "      <td>0</td>\n",
       "      <td>1250</td>\n",
       "      <td>1751</td>\n",
       "    </tr>\n",
       "    <tr>\n",
       "      <th>2019-04-01</th>\n",
       "      <td>2000</td>\n",
       "      <td>0</td>\n",
       "      <td>1250</td>\n",
       "      <td>1753</td>\n",
       "    </tr>\n",
       "    <tr>\n",
       "      <th>2019-05-01</th>\n",
       "      <td>2002</td>\n",
       "      <td>0</td>\n",
       "      <td>1252</td>\n",
       "      <td>1752</td>\n",
       "    </tr>\n",
       "    <tr>\n",
       "      <th>2019-06-01</th>\n",
       "      <td>2002</td>\n",
       "      <td>0</td>\n",
       "      <td>1251</td>\n",
       "      <td>1756</td>\n",
       "    </tr>\n",
       "    <tr>\n",
       "      <th>2019-07-01</th>\n",
       "      <td>2001</td>\n",
       "      <td>0</td>\n",
       "      <td>172</td>\n",
       "      <td>1756</td>\n",
       "    </tr>\n",
       "    <tr>\n",
       "      <th>2019-08-01</th>\n",
       "      <td>2000</td>\n",
       "      <td>0</td>\n",
       "      <td>1250</td>\n",
       "      <td>1751</td>\n",
       "    </tr>\n",
       "    <tr>\n",
       "      <th>2019-09-01</th>\n",
       "      <td>2000</td>\n",
       "      <td>0</td>\n",
       "      <td>1250</td>\n",
       "      <td>1750</td>\n",
       "    </tr>\n",
       "    <tr>\n",
       "      <th>2019-10-01</th>\n",
       "      <td>2001</td>\n",
       "      <td>0</td>\n",
       "      <td>1251</td>\n",
       "      <td>1443</td>\n",
       "    </tr>\n",
       "    <tr>\n",
       "      <th>2019-11-01</th>\n",
       "      <td>3251</td>\n",
       "      <td>0</td>\n",
       "      <td>0</td>\n",
       "      <td>2250</td>\n",
       "    </tr>\n",
       "    <tr>\n",
       "      <th>2019-12-01</th>\n",
       "      <td>2021</td>\n",
       "      <td>0</td>\n",
       "      <td>1250</td>\n",
       "      <td>2201</td>\n",
       "    </tr>\n",
       "    <tr>\n",
       "      <th>2020-01-01</th>\n",
       "      <td>1753</td>\n",
       "      <td>0</td>\n",
       "      <td>1250</td>\n",
       "      <td>3000</td>\n",
       "    </tr>\n",
       "    <tr>\n",
       "      <th>2020-02-01</th>\n",
       "      <td>0</td>\n",
       "      <td>0</td>\n",
       "      <td>1207</td>\n",
       "      <td>7000</td>\n",
       "    </tr>\n",
       "    <tr>\n",
       "      <th>2020-03-01</th>\n",
       "      <td>1200</td>\n",
       "      <td>0</td>\n",
       "      <td>1000</td>\n",
       "      <td>7000</td>\n",
       "    </tr>\n",
       "    <tr>\n",
       "      <th>2020-04-01</th>\n",
       "      <td>0</td>\n",
       "      <td>0</td>\n",
       "      <td>0</td>\n",
       "      <td>7503</td>\n",
       "    </tr>\n",
       "    <tr>\n",
       "      <th>2020-05-01</th>\n",
       "      <td>1200</td>\n",
       "      <td>1000</td>\n",
       "      <td>0</td>\n",
       "      <td>9056</td>\n",
       "    </tr>\n",
       "    <tr>\n",
       "      <th>2020-06-01</th>\n",
       "      <td>0</td>\n",
       "      <td>0</td>\n",
       "      <td>0</td>\n",
       "      <td>9003</td>\n",
       "    </tr>\n",
       "    <tr>\n",
       "      <th>2020-07-01</th>\n",
       "      <td>0</td>\n",
       "      <td>0</td>\n",
       "      <td>0</td>\n",
       "      <td>1050</td>\n",
       "    </tr>\n",
       "    <tr>\n",
       "      <th>2020-08-01</th>\n",
       "      <td>0</td>\n",
       "      <td>0</td>\n",
       "      <td>0</td>\n",
       "      <td>1144</td>\n",
       "    </tr>\n",
       "    <tr>\n",
       "      <th>2020-09-01</th>\n",
       "      <td>0</td>\n",
       "      <td>0</td>\n",
       "      <td>0</td>\n",
       "      <td>1514</td>\n",
       "    </tr>\n",
       "    <tr>\n",
       "      <th>2020-10-01</th>\n",
       "      <td>0</td>\n",
       "      <td>0</td>\n",
       "      <td>0</td>\n",
       "      <td>2680</td>\n",
       "    </tr>\n",
       "    <tr>\n",
       "      <th>2020-11-01</th>\n",
       "      <td>0</td>\n",
       "      <td>0</td>\n",
       "      <td>0</td>\n",
       "      <td>1224</td>\n",
       "    </tr>\n",
       "    <tr>\n",
       "      <th>2020-12-01</th>\n",
       "      <td>0</td>\n",
       "      <td>0</td>\n",
       "      <td>0</td>\n",
       "      <td>2927</td>\n",
       "    </tr>\n",
       "    <tr>\n",
       "      <th>2021-01-01</th>\n",
       "      <td>0</td>\n",
       "      <td>0</td>\n",
       "      <td>0</td>\n",
       "      <td>2002</td>\n",
       "    </tr>\n",
       "    <tr>\n",
       "      <th>2021-02-01</th>\n",
       "      <td>0</td>\n",
       "      <td>0</td>\n",
       "      <td>0</td>\n",
       "      <td>2514</td>\n",
       "    </tr>\n",
       "    <tr>\n",
       "      <th>2021-04-01</th>\n",
       "      <td>0</td>\n",
       "      <td>0</td>\n",
       "      <td>0</td>\n",
       "      <td>4388</td>\n",
       "    </tr>\n",
       "    <tr>\n",
       "      <th>2021-06-01</th>\n",
       "      <td>0</td>\n",
       "      <td>0</td>\n",
       "      <td>0</td>\n",
       "      <td>2973</td>\n",
       "    </tr>\n",
       "    <tr>\n",
       "      <th>2021-07-01</th>\n",
       "      <td>0</td>\n",
       "      <td>0</td>\n",
       "      <td>0</td>\n",
       "      <td>1496</td>\n",
       "    </tr>\n",
       "    <tr>\n",
       "      <th>2021-08-01</th>\n",
       "      <td>0</td>\n",
       "      <td>0</td>\n",
       "      <td>0</td>\n",
       "      <td>699</td>\n",
       "    </tr>\n",
       "    <tr>\n",
       "      <th>2021-09-01</th>\n",
       "      <td>0</td>\n",
       "      <td>0</td>\n",
       "      <td>0</td>\n",
       "      <td>1148</td>\n",
       "    </tr>\n",
       "    <tr>\n",
       "      <th>2021-11-01</th>\n",
       "      <td>0</td>\n",
       "      <td>0</td>\n",
       "      <td>0</td>\n",
       "      <td>1524</td>\n",
       "    </tr>\n",
       "    <tr>\n",
       "      <th>2021-12-01</th>\n",
       "      <td>0</td>\n",
       "      <td>0</td>\n",
       "      <td>0</td>\n",
       "      <td>1524</td>\n",
       "    </tr>\n",
       "    <tr>\n",
       "      <th>2022-01-01</th>\n",
       "      <td>0</td>\n",
       "      <td>0</td>\n",
       "      <td>0</td>\n",
       "      <td>1651</td>\n",
       "    </tr>\n",
       "    <tr>\n",
       "      <th>2022-02-01</th>\n",
       "      <td>0</td>\n",
       "      <td>0</td>\n",
       "      <td>0</td>\n",
       "      <td>1767</td>\n",
       "    </tr>\n",
       "  </tbody>\n",
       "</table>\n",
       "</div>"
      ],
      "text/plain": [
       "TIPO CAMPAÑA  Perfilados Activos  Perfilados Inactivos  Perfilados inactivos  \\\n",
       "mes_campaña                                                                    \n",
       "2019-02-01                  1500                     0                  2439   \n",
       "2019-03-01                  2000                     0                  1250   \n",
       "2019-04-01                  2000                     0                  1250   \n",
       "2019-05-01                  2002                     0                  1252   \n",
       "2019-06-01                  2002                     0                  1251   \n",
       "2019-07-01                  2001                     0                   172   \n",
       "2019-08-01                  2000                     0                  1250   \n",
       "2019-09-01                  2000                     0                  1250   \n",
       "2019-10-01                  2001                     0                  1251   \n",
       "2019-11-01                  3251                     0                     0   \n",
       "2019-12-01                  2021                     0                  1250   \n",
       "2020-01-01                  1753                     0                  1250   \n",
       "2020-02-01                     0                     0                  1207   \n",
       "2020-03-01                  1200                     0                  1000   \n",
       "2020-04-01                     0                     0                     0   \n",
       "2020-05-01                  1200                  1000                     0   \n",
       "2020-06-01                     0                     0                     0   \n",
       "2020-07-01                     0                     0                     0   \n",
       "2020-08-01                     0                     0                     0   \n",
       "2020-09-01                     0                     0                     0   \n",
       "2020-10-01                     0                     0                     0   \n",
       "2020-11-01                     0                     0                     0   \n",
       "2020-12-01                     0                     0                     0   \n",
       "2021-01-01                     0                     0                     0   \n",
       "2021-02-01                     0                     0                     0   \n",
       "2021-04-01                     0                     0                     0   \n",
       "2021-06-01                     0                     0                     0   \n",
       "2021-07-01                     0                     0                     0   \n",
       "2021-08-01                     0                     0                     0   \n",
       "2021-09-01                     0                     0                     0   \n",
       "2021-11-01                     0                     0                     0   \n",
       "2021-12-01                     0                     0                     0   \n",
       "2022-01-01                     0                     0                     0   \n",
       "2022-02-01                     0                     0                     0   \n",
       "\n",
       "TIPO CAMPAÑA  Preaprobados  \n",
       "mes_campaña                 \n",
       "2019-02-01             777  \n",
       "2019-03-01            1751  \n",
       "2019-04-01            1753  \n",
       "2019-05-01            1752  \n",
       "2019-06-01            1756  \n",
       "2019-07-01            1756  \n",
       "2019-08-01            1751  \n",
       "2019-09-01            1750  \n",
       "2019-10-01            1443  \n",
       "2019-11-01            2250  \n",
       "2019-12-01            2201  \n",
       "2020-01-01            3000  \n",
       "2020-02-01            7000  \n",
       "2020-03-01            7000  \n",
       "2020-04-01            7503  \n",
       "2020-05-01            9056  \n",
       "2020-06-01            9003  \n",
       "2020-07-01            1050  \n",
       "2020-08-01            1144  \n",
       "2020-09-01            1514  \n",
       "2020-10-01            2680  \n",
       "2020-11-01            1224  \n",
       "2020-12-01            2927  \n",
       "2021-01-01            2002  \n",
       "2021-02-01            2514  \n",
       "2021-04-01            4388  \n",
       "2021-06-01            2973  \n",
       "2021-07-01            1496  \n",
       "2021-08-01             699  \n",
       "2021-09-01            1148  \n",
       "2021-11-01            1524  \n",
       "2021-12-01            1524  \n",
       "2022-01-01            1651  \n",
       "2022-02-01            1767  "
      ]
     },
     "execution_count": 31,
     "metadata": {},
     "output_type": "execute_result"
    }
   ],
   "source": [
    "pd.crosstab(data_vend['mes_campaña'] ,data_vend['TIPO CAMPAÑA'])"
   ]
  },
  {
   "cell_type": "code",
   "execution_count": null,
   "metadata": {},
   "outputs": [
    {
     "data": {
      "text/html": [
       "<div>\n",
       "<style scoped>\n",
       "    .dataframe tbody tr th:only-of-type {\n",
       "        vertical-align: middle;\n",
       "    }\n",
       "\n",
       "    .dataframe tbody tr th {\n",
       "        vertical-align: top;\n",
       "    }\n",
       "\n",
       "    .dataframe thead th {\n",
       "        text-align: right;\n",
       "    }\n",
       "</style>\n",
       "<table border=\"1\" class=\"dataframe\">\n",
       "  <thead>\n",
       "    <tr style=\"text-align: right;\">\n",
       "      <th>TIPO CAMPAÑA</th>\n",
       "      <th>Preaprobados</th>\n",
       "    </tr>\n",
       "    <tr>\n",
       "      <th>mes_campaña</th>\n",
       "      <th></th>\n",
       "    </tr>\n",
       "  </thead>\n",
       "  <tbody>\n",
       "    <tr>\n",
       "      <th>2019-01-01</th>\n",
       "      <td>457</td>\n",
       "    </tr>\n",
       "    <tr>\n",
       "      <th>2019-02-01</th>\n",
       "      <td>1654</td>\n",
       "    </tr>\n",
       "    <tr>\n",
       "      <th>2019-04-01</th>\n",
       "      <td>1659</td>\n",
       "    </tr>\n",
       "    <tr>\n",
       "      <th>2019-05-01</th>\n",
       "      <td>1755</td>\n",
       "    </tr>\n",
       "    <tr>\n",
       "      <th>2019-06-01</th>\n",
       "      <td>1740</td>\n",
       "    </tr>\n",
       "    <tr>\n",
       "      <th>2019-07-01</th>\n",
       "      <td>1928</td>\n",
       "    </tr>\n",
       "    <tr>\n",
       "      <th>2019-08-01</th>\n",
       "      <td>2044</td>\n",
       "    </tr>\n",
       "    <tr>\n",
       "      <th>2019-09-01</th>\n",
       "      <td>2212</td>\n",
       "    </tr>\n",
       "    <tr>\n",
       "      <th>2019-10-01</th>\n",
       "      <td>2257</td>\n",
       "    </tr>\n",
       "    <tr>\n",
       "      <th>2019-11-01</th>\n",
       "      <td>1734</td>\n",
       "    </tr>\n",
       "    <tr>\n",
       "      <th>2020-01-01</th>\n",
       "      <td>1329</td>\n",
       "    </tr>\n",
       "    <tr>\n",
       "      <th>2020-02-01</th>\n",
       "      <td>131</td>\n",
       "    </tr>\n",
       "    <tr>\n",
       "      <th>2020-03-01</th>\n",
       "      <td>1926</td>\n",
       "    </tr>\n",
       "    <tr>\n",
       "      <th>2020-05-01</th>\n",
       "      <td>1493</td>\n",
       "    </tr>\n",
       "    <tr>\n",
       "      <th>2020-06-01</th>\n",
       "      <td>724</td>\n",
       "    </tr>\n",
       "    <tr>\n",
       "      <th>2020-07-01</th>\n",
       "      <td>10705</td>\n",
       "    </tr>\n",
       "    <tr>\n",
       "      <th>2020-08-01</th>\n",
       "      <td>11759</td>\n",
       "    </tr>\n",
       "    <tr>\n",
       "      <th>2020-09-01</th>\n",
       "      <td>11942</td>\n",
       "    </tr>\n",
       "    <tr>\n",
       "      <th>2020-10-01</th>\n",
       "      <td>11684</td>\n",
       "    </tr>\n",
       "    <tr>\n",
       "      <th>2020-11-01</th>\n",
       "      <td>10488</td>\n",
       "    </tr>\n",
       "    <tr>\n",
       "      <th>2020-12-01</th>\n",
       "      <td>8862</td>\n",
       "    </tr>\n",
       "    <tr>\n",
       "      <th>2021-01-01</th>\n",
       "      <td>7973</td>\n",
       "    </tr>\n",
       "    <tr>\n",
       "      <th>2021-02-01</th>\n",
       "      <td>9542</td>\n",
       "    </tr>\n",
       "    <tr>\n",
       "      <th>2021-03-01</th>\n",
       "      <td>8712</td>\n",
       "    </tr>\n",
       "    <tr>\n",
       "      <th>2021-04-01</th>\n",
       "      <td>9024</td>\n",
       "    </tr>\n",
       "    <tr>\n",
       "      <th>2021-05-01</th>\n",
       "      <td>9336</td>\n",
       "    </tr>\n",
       "    <tr>\n",
       "      <th>2021-06-01</th>\n",
       "      <td>7979</td>\n",
       "    </tr>\n",
       "    <tr>\n",
       "      <th>2021-07-01</th>\n",
       "      <td>7895</td>\n",
       "    </tr>\n",
       "    <tr>\n",
       "      <th>2021-08-01</th>\n",
       "      <td>8131</td>\n",
       "    </tr>\n",
       "    <tr>\n",
       "      <th>2021-09-01</th>\n",
       "      <td>8807</td>\n",
       "    </tr>\n",
       "    <tr>\n",
       "      <th>2021-10-01</th>\n",
       "      <td>2346</td>\n",
       "    </tr>\n",
       "    <tr>\n",
       "      <th>2021-11-01</th>\n",
       "      <td>8453</td>\n",
       "    </tr>\n",
       "    <tr>\n",
       "      <th>2021-12-01</th>\n",
       "      <td>8443</td>\n",
       "    </tr>\n",
       "    <tr>\n",
       "      <th>2022-01-01</th>\n",
       "      <td>7475</td>\n",
       "    </tr>\n",
       "    <tr>\n",
       "      <th>2022-02-01</th>\n",
       "      <td>9160</td>\n",
       "    </tr>\n",
       "  </tbody>\n",
       "</table>\n",
       "</div>"
      ],
      "text/plain": [
       "TIPO CAMPAÑA  Preaprobados\n",
       "mes_campaña               \n",
       "2019-01-01             457\n",
       "2019-02-01            1654\n",
       "2019-04-01            1659\n",
       "2019-05-01            1755\n",
       "2019-06-01            1740\n",
       "2019-07-01            1928\n",
       "2019-08-01            2044\n",
       "2019-09-01            2212\n",
       "2019-10-01            2257\n",
       "2019-11-01            1734\n",
       "2020-01-01            1329\n",
       "2020-02-01             131\n",
       "2020-03-01            1926\n",
       "2020-05-01            1493\n",
       "2020-06-01             724\n",
       "2020-07-01           10705\n",
       "2020-08-01           11759\n",
       "2020-09-01           11942\n",
       "2020-10-01           11684\n",
       "2020-11-01           10488\n",
       "2020-12-01            8862\n",
       "2021-01-01            7973\n",
       "2021-02-01            9542\n",
       "2021-03-01            8712\n",
       "2021-04-01            9024\n",
       "2021-05-01            9336\n",
       "2021-06-01            7979\n",
       "2021-07-01            7895\n",
       "2021-08-01            8131\n",
       "2021-09-01            8807\n",
       "2021-10-01            2346\n",
       "2021-11-01            8453\n",
       "2021-12-01            8443\n",
       "2022-01-01            7475\n",
       "2022-02-01            9160"
      ]
     },
     "execution_count": 32,
     "metadata": {},
     "output_type": "execute_result"
    }
   ],
   "source": [
    "pd.crosstab(data_crm['mes_campaña'] ,data_crm['TIPO CAMPAÑA'])"
   ]
  },
  {
   "cell_type": "markdown",
   "metadata": {},
   "source": [
    "## Activaciones"
   ]
  },
  {
   "cell_type": "code",
   "execution_count": null,
   "metadata": {},
   "outputs": [],
   "source": [
    "path_act = ['s3://adl-refined-dev-popular/data_orig/productos/activo-tarjeta-credito-activadas/productos_activos-tarjeta-credito-activadas_H202003-202005.csv',\n",
    "            's3://adl-refined-dev-popular/data_orig/productos/activo-tarjeta-credito-activadas/productos_activos-tarjeta-credito-activadas_H20180101-20200327.csv'\n",
    "           ]\n",
    "path = 's3://data-bpop-dev-sandbox/estandarizado/productos/activo-tarjeta-credito-nueva/Productos_Activo-Tarjeta-credito-nueva_Masterfile_D'"
   ]
  },
  {
   "cell_type": "code",
   "execution_count": null,
   "metadata": {},
   "outputs": [
    {
     "name": "stdout",
     "output_type": "stream",
     "text": [
      "(3157, 6)\n"
     ]
    }
   ],
   "source": [
    "data_act2 = pd.read_csv(path_act[0], sep = '|', dtype={'ID_CLIENTE':str,'Numero_cuenta':str,'Identificacion':str})\n",
    "data_act2 = data_act2.drop_duplicates()\n",
    "\n",
    "print(data_act2.shape)"
   ]
  },
  {
   "cell_type": "code",
   "execution_count": null,
   "metadata": {},
   "outputs": [
    {
     "name": "stdout",
     "output_type": "stream",
     "text": [
      "(40411, 6)\n"
     ]
    }
   ],
   "source": [
    "data_act1 = pd.read_csv(path_act[1], sep = '|', dtype={'ID_CLIENTE':str,'Numero_cuenta':str,'Identificacion':str})\n",
    "data_act1 = data_act1.drop_duplicates()\n",
    "\n",
    "print(data_act1.shape)"
   ]
  },
  {
   "cell_type": "code",
   "execution_count": null,
   "metadata": {},
   "outputs": [],
   "source": [
    "## Uniendo bases\n",
    "data_act2['fecha_activacion'] = data_act2['fecha_activacion'].str.replace('/20','/2020')\n",
    "data_act1 = pd.concat([data_act2, data_act1], ignore_index=True)\n",
    "\n",
    "# Casting variables\n",
    "data_act1['fecha_activacion'] = pd.to_datetime(data_act1['fecha_activacion'],format='%d/%m/%Y')\n",
    "data_act1['mes_activacion'] = pd.to_datetime(data_act1['fecha_activacion'].dt.strftime('%Y-%m'),format='%Y-%m')\n",
    "\n",
    "del data_act2"
   ]
  },
  {
   "cell_type": "code",
   "execution_count": null,
   "metadata": {},
   "outputs": [
    {
     "data": {
      "text/plain": [
       "Index(['numero_cuenta', 'numero_tarjeta', 'identificacion',\n",
       "       'tipo_identificacion', 'fecha_activacion', 'id_cliente',\n",
       "       'mes_activacion'],\n",
       "      dtype='object')"
      ]
     },
     "execution_count": 37,
     "metadata": {},
     "output_type": "execute_result"
    }
   ],
   "source": [
    "data_act1.columns = data_act1.columns.str.lower()\n",
    "data_act1.columns"
   ]
  },
  {
   "cell_type": "code",
   "execution_count": null,
   "metadata": {},
   "outputs": [],
   "source": [
    "import boto3\n",
    "import boto3.session\n",
    "\n",
    "def _key_existing_size__list(client, bucket, key):\n",
    "    \"\"\"return the key's size if it exist, else None\"\"\"\n",
    "    response = client.list_objects_v2(Bucket=bucket, Prefix=key)\n",
    "    for obj in response.get(\"Contents\", []):\n",
    "        if obj[\"Key\"] == key:\n",
    "            return obj[\"Size\"]\n",
    "        \n",
    "def _key_files__list(client, bucket, key):\n",
    "    \"\"\"return the key's size if it exist, else None\"\"\"\n",
    "    response = client.list_objects_v2(Bucket=bucket, Prefix=key)\n",
    "    return response.get(\"Contents\", [])\n",
    "\n",
    "def parquet_exists(s3_url):\n",
    "    session = boto3.session.Session()\n",
    "    s3 = session.client(\"s3\")\n",
    "    bucket = s3_url.split(\"/\")[2]\n",
    "    key = s3_url.split(\"/\")[3:]\n",
    "    key = \"/\".join(key)+ \"/_SUCCESS\"\n",
    "    size = _key_existing_size__list(s3, bucket, key)\n",
    "    if size is not None:\n",
    "        print(\"File exists:\", s3_url)\n",
    "        return True\n",
    "    return False\n",
    "\n",
    "def get_s3_parquets(s3_url):\n",
    "    session = boto3.session.Session()\n",
    "    s3 = session.client(\"s3\")\n",
    "    bucket = s3_url.split(\"/\")[2]\n",
    "    key = s3_url.split(\"/\")[3:]\n",
    "    key = \"/\".join(key)\n",
    "    objects = _key_files__list(s3, bucket, key)\n",
    "    files = [\"s3://\" + bucket + \"/\" + file[\"Key\"][:-9] for file in objects if file[\"Key\"].split(\"/\")[-1]==\"_SUCCESS\"]\n",
    "    return files"
   ]
  },
  {
   "cell_type": "code",
   "execution_count": null,
   "metadata": {},
   "outputs": [],
   "source": [
    "s3_url = 's3://data-bpop-dev-sandbox/estandarizado/productos/activo-tarjeta-credito-nueva'\n",
    "files = get_s3_parquets(s3_url)"
   ]
  },
  {
   "cell_type": "code",
   "execution_count": null,
   "metadata": {},
   "outputs": [
    {
     "name": "stdout",
     "output_type": "stream",
     "text": [
      "File: s3://data-bpop-dev-sandbox/estandarizado/productos/activo-tarjeta-credito-nueva/productos_activo-tarjeta-credito-nueva_masterfile_D20200511\n",
      "File: s3://data-bpop-dev-sandbox/estandarizado/productos/activo-tarjeta-credito-nueva/productos_activo-tarjeta-credito-nueva_masterfile_D20200512\n",
      "File: s3://data-bpop-dev-sandbox/estandarizado/productos/activo-tarjeta-credito-nueva/productos_activo-tarjeta-credito-nueva_masterfile_D20200513\n",
      "File: s3://data-bpop-dev-sandbox/estandarizado/productos/activo-tarjeta-credito-nueva/productos_activo-tarjeta-credito-nueva_masterfile_D20200514\n",
      "File: s3://data-bpop-dev-sandbox/estandarizado/productos/activo-tarjeta-credito-nueva/productos_activo-tarjeta-credito-nueva_masterfile_D20200518\n",
      "File: s3://data-bpop-dev-sandbox/estandarizado/productos/activo-tarjeta-credito-nueva/productos_activo-tarjeta-credito-nueva_masterfile_D20200519\n",
      "File: s3://data-bpop-dev-sandbox/estandarizado/productos/activo-tarjeta-credito-nueva/productos_activo-tarjeta-credito-nueva_masterfile_D20200520\n",
      "File: s3://data-bpop-dev-sandbox/estandarizado/productos/activo-tarjeta-credito-nueva/productos_activo-tarjeta-credito-nueva_masterfile_D20200521\n",
      "File: s3://data-bpop-dev-sandbox/estandarizado/productos/activo-tarjeta-credito-nueva/productos_activo-tarjeta-credito-nueva_masterfile_D20200522\n",
      "File: s3://data-bpop-dev-sandbox/estandarizado/productos/activo-tarjeta-credito-nueva/productos_activo-tarjeta-credito-nueva_masterfile_D20200526\n",
      "File: s3://data-bpop-dev-sandbox/estandarizado/productos/activo-tarjeta-credito-nueva/productos_activo-tarjeta-credito-nueva_masterfile_D20200527\n",
      "File: s3://data-bpop-dev-sandbox/estandarizado/productos/activo-tarjeta-credito-nueva/productos_activo-tarjeta-credito-nueva_masterfile_D20200528\n",
      "File: s3://data-bpop-dev-sandbox/estandarizado/productos/activo-tarjeta-credito-nueva/productos_activo-tarjeta-credito-nueva_masterfile_D20200529\n",
      "File: s3://data-bpop-dev-sandbox/estandarizado/productos/activo-tarjeta-credito-nueva/productos_activo-tarjeta-credito-nueva_masterfile_D20200601\n",
      "File: s3://data-bpop-dev-sandbox/estandarizado/productos/activo-tarjeta-credito-nueva/productos_activo-tarjeta-credito-nueva_masterfile_D20200602\n",
      "File: s3://data-bpop-dev-sandbox/estandarizado/productos/activo-tarjeta-credito-nueva/productos_activo-tarjeta-credito-nueva_masterfile_D20200603\n",
      "File: s3://data-bpop-dev-sandbox/estandarizado/productos/activo-tarjeta-credito-nueva/productos_activo-tarjeta-credito-nueva_masterfile_D20200604\n",
      "File: s3://data-bpop-dev-sandbox/estandarizado/productos/activo-tarjeta-credito-nueva/productos_activo-tarjeta-credito-nueva_masterfile_D20200605\n",
      "File: s3://data-bpop-dev-sandbox/estandarizado/productos/activo-tarjeta-credito-nueva/productos_activo-tarjeta-credito-nueva_masterfile_D20200608\n",
      "File: s3://data-bpop-dev-sandbox/estandarizado/productos/activo-tarjeta-credito-nueva/productos_activo-tarjeta-credito-nueva_masterfile_D20200609\n",
      "File: s3://data-bpop-dev-sandbox/estandarizado/productos/activo-tarjeta-credito-nueva/productos_activo-tarjeta-credito-nueva_masterfile_D20200611\n",
      "File: s3://data-bpop-dev-sandbox/estandarizado/productos/activo-tarjeta-credito-nueva/productos_activo-tarjeta-credito-nueva_masterfile_D20200612\n",
      "File: s3://data-bpop-dev-sandbox/estandarizado/productos/activo-tarjeta-credito-nueva/productos_activo-tarjeta-credito-nueva_masterfile_D20200616\n",
      "File: s3://data-bpop-dev-sandbox/estandarizado/productos/activo-tarjeta-credito-nueva/productos_activo-tarjeta-credito-nueva_masterfile_D20200617\n",
      "File: s3://data-bpop-dev-sandbox/estandarizado/productos/activo-tarjeta-credito-nueva/productos_activo-tarjeta-credito-nueva_masterfile_D20200618\n",
      "File: s3://data-bpop-dev-sandbox/estandarizado/productos/activo-tarjeta-credito-nueva/productos_activo-tarjeta-credito-nueva_masterfile_D20200619\n",
      "File: s3://data-bpop-dev-sandbox/estandarizado/productos/activo-tarjeta-credito-nueva/productos_activo-tarjeta-credito-nueva_masterfile_D20200623\n",
      "File: s3://data-bpop-dev-sandbox/estandarizado/productos/activo-tarjeta-credito-nueva/productos_activo-tarjeta-credito-nueva_masterfile_D20200624\n",
      "File: s3://data-bpop-dev-sandbox/estandarizado/productos/activo-tarjeta-credito-nueva/productos_activo-tarjeta-credito-nueva_masterfile_D20200625\n",
      "File: s3://data-bpop-dev-sandbox/estandarizado/productos/activo-tarjeta-credito-nueva/productos_activo-tarjeta-credito-nueva_masterfile_D20200626\n",
      "File: s3://data-bpop-dev-sandbox/estandarizado/productos/activo-tarjeta-credito-nueva/productos_activo-tarjeta-credito-nueva_masterfile_D20200627\n",
      "File: s3://data-bpop-dev-sandbox/estandarizado/productos/activo-tarjeta-credito-nueva/productos_activo-tarjeta-credito-nueva_masterfile_D20200630\n",
      "File: s3://data-bpop-dev-sandbox/estandarizado/productos/activo-tarjeta-credito-nueva/productos_activo-tarjeta-credito-nueva_masterfile_D20200702\n",
      "File: s3://data-bpop-dev-sandbox/estandarizado/productos/activo-tarjeta-credito-nueva/productos_activo-tarjeta-credito-nueva_masterfile_D20200703\n",
      "File: s3://data-bpop-dev-sandbox/estandarizado/productos/activo-tarjeta-credito-nueva/productos_activo-tarjeta-credito-nueva_masterfile_D20200704\n",
      "File: s3://data-bpop-dev-sandbox/estandarizado/productos/activo-tarjeta-credito-nueva/productos_activo-tarjeta-credito-nueva_masterfile_D20200705\n",
      "File: s3://data-bpop-dev-sandbox/estandarizado/productos/activo-tarjeta-credito-nueva/productos_activo-tarjeta-credito-nueva_masterfile_D20200706\n",
      "File: s3://data-bpop-dev-sandbox/estandarizado/productos/activo-tarjeta-credito-nueva/productos_activo-tarjeta-credito-nueva_masterfile_D20200707\n",
      "File: s3://data-bpop-dev-sandbox/estandarizado/productos/activo-tarjeta-credito-nueva/productos_activo-tarjeta-credito-nueva_masterfile_D20200708\n",
      "File: s3://data-bpop-dev-sandbox/estandarizado/productos/activo-tarjeta-credito-nueva/productos_activo-tarjeta-credito-nueva_masterfile_D20200709\n",
      "File: s3://data-bpop-dev-sandbox/estandarizado/productos/activo-tarjeta-credito-nueva/productos_activo-tarjeta-credito-nueva_masterfile_D20200710\n",
      "File: s3://data-bpop-dev-sandbox/estandarizado/productos/activo-tarjeta-credito-nueva/productos_activo-tarjeta-credito-nueva_masterfile_D20200711\n",
      "File: s3://data-bpop-dev-sandbox/estandarizado/productos/activo-tarjeta-credito-nueva/productos_activo-tarjeta-credito-nueva_masterfile_D20200712\n",
      "File: s3://data-bpop-dev-sandbox/estandarizado/productos/activo-tarjeta-credito-nueva/productos_activo-tarjeta-credito-nueva_masterfile_D20200713\n",
      "File: s3://data-bpop-dev-sandbox/estandarizado/productos/activo-tarjeta-credito-nueva/productos_activo-tarjeta-credito-nueva_masterfile_D20200714\n",
      "File: s3://data-bpop-dev-sandbox/estandarizado/productos/activo-tarjeta-credito-nueva/productos_activo-tarjeta-credito-nueva_masterfile_D20200715\n",
      "File: s3://data-bpop-dev-sandbox/estandarizado/productos/activo-tarjeta-credito-nueva/productos_activo-tarjeta-credito-nueva_masterfile_D20200716\n",
      "File: s3://data-bpop-dev-sandbox/estandarizado/productos/activo-tarjeta-credito-nueva/productos_activo-tarjeta-credito-nueva_masterfile_D20200717\n",
      "File: s3://data-bpop-dev-sandbox/estandarizado/productos/activo-tarjeta-credito-nueva/productos_activo-tarjeta-credito-nueva_masterfile_D20200718\n",
      "File: s3://data-bpop-dev-sandbox/estandarizado/productos/activo-tarjeta-credito-nueva/productos_activo-tarjeta-credito-nueva_masterfile_D20200719\n",
      "File: s3://data-bpop-dev-sandbox/estandarizado/productos/activo-tarjeta-credito-nueva/productos_activo-tarjeta-credito-nueva_masterfile_D20200720\n",
      "File: s3://data-bpop-dev-sandbox/estandarizado/productos/activo-tarjeta-credito-nueva/productos_activo-tarjeta-credito-nueva_masterfile_D20200721\n",
      "File: s3://data-bpop-dev-sandbox/estandarizado/productos/activo-tarjeta-credito-nueva/productos_activo-tarjeta-credito-nueva_masterfile_D20200722\n",
      "File: s3://data-bpop-dev-sandbox/estandarizado/productos/activo-tarjeta-credito-nueva/productos_activo-tarjeta-credito-nueva_masterfile_D20200723\n",
      "File: s3://data-bpop-dev-sandbox/estandarizado/productos/activo-tarjeta-credito-nueva/productos_activo-tarjeta-credito-nueva_masterfile_D20200724\n",
      "File: s3://data-bpop-dev-sandbox/estandarizado/productos/activo-tarjeta-credito-nueva/productos_activo-tarjeta-credito-nueva_masterfile_D20200725\n",
      "File: s3://data-bpop-dev-sandbox/estandarizado/productos/activo-tarjeta-credito-nueva/productos_activo-tarjeta-credito-nueva_masterfile_D20200726\n"
     ]
    },
    {
     "name": "stdout",
     "output_type": "stream",
     "text": [
      "File: s3://data-bpop-dev-sandbox/estandarizado/productos/activo-tarjeta-credito-nueva/productos_activo-tarjeta-credito-nueva_masterfile_D20200727\n",
      "File: s3://data-bpop-dev-sandbox/estandarizado/productos/activo-tarjeta-credito-nueva/productos_activo-tarjeta-credito-nueva_masterfile_D20200728\n",
      "File: s3://data-bpop-dev-sandbox/estandarizado/productos/activo-tarjeta-credito-nueva/productos_activo-tarjeta-credito-nueva_masterfile_D20200729\n",
      "File: s3://data-bpop-dev-sandbox/estandarizado/productos/activo-tarjeta-credito-nueva/productos_activo-tarjeta-credito-nueva_masterfile_D20200730\n",
      "File: s3://data-bpop-dev-sandbox/estandarizado/productos/activo-tarjeta-credito-nueva/productos_activo-tarjeta-credito-nueva_masterfile_D20200731\n",
      "File: s3://data-bpop-dev-sandbox/estandarizado/productos/activo-tarjeta-credito-nueva/productos_activo-tarjeta-credito-nueva_masterfile_D20200801\n",
      "File: s3://data-bpop-dev-sandbox/estandarizado/productos/activo-tarjeta-credito-nueva/productos_activo-tarjeta-credito-nueva_masterfile_D20200802\n",
      "File: s3://data-bpop-dev-sandbox/estandarizado/productos/activo-tarjeta-credito-nueva/productos_activo-tarjeta-credito-nueva_masterfile_D20200803\n",
      "File: s3://data-bpop-dev-sandbox/estandarizado/productos/activo-tarjeta-credito-nueva/productos_activo-tarjeta-credito-nueva_masterfile_D20200804\n",
      "File: s3://data-bpop-dev-sandbox/estandarizado/productos/activo-tarjeta-credito-nueva/productos_activo-tarjeta-credito-nueva_masterfile_D20200805\n",
      "File: s3://data-bpop-dev-sandbox/estandarizado/productos/activo-tarjeta-credito-nueva/productos_activo-tarjeta-credito-nueva_masterfile_D20200806\n",
      "File: s3://data-bpop-dev-sandbox/estandarizado/productos/activo-tarjeta-credito-nueva/productos_activo-tarjeta-credito-nueva_masterfile_D20200807\n",
      "File: s3://data-bpop-dev-sandbox/estandarizado/productos/activo-tarjeta-credito-nueva/productos_activo-tarjeta-credito-nueva_masterfile_D20200808\n",
      "File: s3://data-bpop-dev-sandbox/estandarizado/productos/activo-tarjeta-credito-nueva/productos_activo-tarjeta-credito-nueva_masterfile_D20200809\n",
      "File: s3://data-bpop-dev-sandbox/estandarizado/productos/activo-tarjeta-credito-nueva/productos_activo-tarjeta-credito-nueva_masterfile_D20200810\n",
      "File: s3://data-bpop-dev-sandbox/estandarizado/productos/activo-tarjeta-credito-nueva/productos_activo-tarjeta-credito-nueva_masterfile_D20200811\n",
      "File: s3://data-bpop-dev-sandbox/estandarizado/productos/activo-tarjeta-credito-nueva/productos_activo-tarjeta-credito-nueva_masterfile_D20200812\n",
      "File: s3://data-bpop-dev-sandbox/estandarizado/productos/activo-tarjeta-credito-nueva/productos_activo-tarjeta-credito-nueva_masterfile_D20200813\n",
      "File: s3://data-bpop-dev-sandbox/estandarizado/productos/activo-tarjeta-credito-nueva/productos_activo-tarjeta-credito-nueva_masterfile_D20200814\n",
      "File: s3://data-bpop-dev-sandbox/estandarizado/productos/activo-tarjeta-credito-nueva/productos_activo-tarjeta-credito-nueva_masterfile_D20200815\n",
      "File: s3://data-bpop-dev-sandbox/estandarizado/productos/activo-tarjeta-credito-nueva/productos_activo-tarjeta-credito-nueva_masterfile_D20200816\n",
      "File: s3://data-bpop-dev-sandbox/estandarizado/productos/activo-tarjeta-credito-nueva/productos_activo-tarjeta-credito-nueva_masterfile_D20200817\n",
      "File: s3://data-bpop-dev-sandbox/estandarizado/productos/activo-tarjeta-credito-nueva/productos_activo-tarjeta-credito-nueva_masterfile_D20200818\n",
      "File: s3://data-bpop-dev-sandbox/estandarizado/productos/activo-tarjeta-credito-nueva/productos_activo-tarjeta-credito-nueva_masterfile_D20200819\n",
      "File: s3://data-bpop-dev-sandbox/estandarizado/productos/activo-tarjeta-credito-nueva/productos_activo-tarjeta-credito-nueva_masterfile_D20200820\n",
      "File: s3://data-bpop-dev-sandbox/estandarizado/productos/activo-tarjeta-credito-nueva/productos_activo-tarjeta-credito-nueva_masterfile_D20200821\n",
      "File: s3://data-bpop-dev-sandbox/estandarizado/productos/activo-tarjeta-credito-nueva/productos_activo-tarjeta-credito-nueva_masterfile_D20200822\n",
      "File: s3://data-bpop-dev-sandbox/estandarizado/productos/activo-tarjeta-credito-nueva/productos_activo-tarjeta-credito-nueva_masterfile_D20200823\n",
      "File: s3://data-bpop-dev-sandbox/estandarizado/productos/activo-tarjeta-credito-nueva/productos_activo-tarjeta-credito-nueva_masterfile_D20200824\n",
      "File: s3://data-bpop-dev-sandbox/estandarizado/productos/activo-tarjeta-credito-nueva/productos_activo-tarjeta-credito-nueva_masterfile_D20200825\n",
      "File: s3://data-bpop-dev-sandbox/estandarizado/productos/activo-tarjeta-credito-nueva/productos_activo-tarjeta-credito-nueva_masterfile_D20200826\n",
      "File: s3://data-bpop-dev-sandbox/estandarizado/productos/activo-tarjeta-credito-nueva/productos_activo-tarjeta-credito-nueva_masterfile_D20200827\n",
      "File: s3://data-bpop-dev-sandbox/estandarizado/productos/activo-tarjeta-credito-nueva/productos_activo-tarjeta-credito-nueva_masterfile_D20200828\n",
      "File: s3://data-bpop-dev-sandbox/estandarizado/productos/activo-tarjeta-credito-nueva/productos_activo-tarjeta-credito-nueva_masterfile_D20200829\n",
      "File: s3://data-bpop-dev-sandbox/estandarizado/productos/activo-tarjeta-credito-nueva/productos_activo-tarjeta-credito-nueva_masterfile_D20200830\n",
      "File: s3://data-bpop-dev-sandbox/estandarizado/productos/activo-tarjeta-credito-nueva/productos_activo-tarjeta-credito-nueva_masterfile_D20200831\n",
      "File: s3://data-bpop-dev-sandbox/estandarizado/productos/activo-tarjeta-credito-nueva/productos_activo-tarjeta-credito-nueva_masterfile_D20200901\n",
      "File: s3://data-bpop-dev-sandbox/estandarizado/productos/activo-tarjeta-credito-nueva/productos_activo-tarjeta-credito-nueva_masterfile_D20200902\n",
      "File: s3://data-bpop-dev-sandbox/estandarizado/productos/activo-tarjeta-credito-nueva/productos_activo-tarjeta-credito-nueva_masterfile_D20200903\n",
      "File: s3://data-bpop-dev-sandbox/estandarizado/productos/activo-tarjeta-credito-nueva/productos_activo-tarjeta-credito-nueva_masterfile_D20200904\n",
      "File: s3://data-bpop-dev-sandbox/estandarizado/productos/activo-tarjeta-credito-nueva/productos_activo-tarjeta-credito-nueva_masterfile_D20200905\n",
      "File: s3://data-bpop-dev-sandbox/estandarizado/productos/activo-tarjeta-credito-nueva/productos_activo-tarjeta-credito-nueva_masterfile_D20200906\n",
      "File: s3://data-bpop-dev-sandbox/estandarizado/productos/activo-tarjeta-credito-nueva/productos_activo-tarjeta-credito-nueva_masterfile_D20200908\n",
      "File: s3://data-bpop-dev-sandbox/estandarizado/productos/activo-tarjeta-credito-nueva/productos_activo-tarjeta-credito-nueva_masterfile_D20200909\n",
      "File: s3://data-bpop-dev-sandbox/estandarizado/productos/activo-tarjeta-credito-nueva/productos_activo-tarjeta-credito-nueva_masterfile_D20200910\n",
      "File: s3://data-bpop-dev-sandbox/estandarizado/productos/activo-tarjeta-credito-nueva/productos_activo-tarjeta-credito-nueva_masterfile_D20200911\n",
      "File: s3://data-bpop-dev-sandbox/estandarizado/productos/activo-tarjeta-credito-nueva/productos_activo-tarjeta-credito-nueva_masterfile_D20200912\n",
      "File: s3://data-bpop-dev-sandbox/estandarizado/productos/activo-tarjeta-credito-nueva/productos_activo-tarjeta-credito-nueva_masterfile_D20200913\n",
      "File: s3://data-bpop-dev-sandbox/estandarizado/productos/activo-tarjeta-credito-nueva/productos_activo-tarjeta-credito-nueva_masterfile_D20200914\n",
      "File: s3://data-bpop-dev-sandbox/estandarizado/productos/activo-tarjeta-credito-nueva/productos_activo-tarjeta-credito-nueva_masterfile_D20200915\n",
      "File: s3://data-bpop-dev-sandbox/estandarizado/productos/activo-tarjeta-credito-nueva/productos_activo-tarjeta-credito-nueva_masterfile_D20200917\n",
      "File: s3://data-bpop-dev-sandbox/estandarizado/productos/activo-tarjeta-credito-nueva/productos_activo-tarjeta-credito-nueva_masterfile_D20200918\n",
      "File: s3://data-bpop-dev-sandbox/estandarizado/productos/activo-tarjeta-credito-nueva/productos_activo-tarjeta-credito-nueva_masterfile_D20200919\n",
      "File: s3://data-bpop-dev-sandbox/estandarizado/productos/activo-tarjeta-credito-nueva/productos_activo-tarjeta-credito-nueva_masterfile_D20200920\n",
      "File: s3://data-bpop-dev-sandbox/estandarizado/productos/activo-tarjeta-credito-nueva/productos_activo-tarjeta-credito-nueva_masterfile_D20200921\n",
      "File: s3://data-bpop-dev-sandbox/estandarizado/productos/activo-tarjeta-credito-nueva/productos_activo-tarjeta-credito-nueva_masterfile_D20200922\n",
      "File: s3://data-bpop-dev-sandbox/estandarizado/productos/activo-tarjeta-credito-nueva/productos_activo-tarjeta-credito-nueva_masterfile_D20200923\n"
     ]
    },
    {
     "name": "stdout",
     "output_type": "stream",
     "text": [
      "File: s3://data-bpop-dev-sandbox/estandarizado/productos/activo-tarjeta-credito-nueva/productos_activo-tarjeta-credito-nueva_masterfile_D20200924\n",
      "File: s3://data-bpop-dev-sandbox/estandarizado/productos/activo-tarjeta-credito-nueva/productos_activo-tarjeta-credito-nueva_masterfile_D20200925\n",
      "File: s3://data-bpop-dev-sandbox/estandarizado/productos/activo-tarjeta-credito-nueva/productos_activo-tarjeta-credito-nueva_masterfile_D20200926\n",
      "File: s3://data-bpop-dev-sandbox/estandarizado/productos/activo-tarjeta-credito-nueva/productos_activo-tarjeta-credito-nueva_masterfile_D20200927\n",
      "File: s3://data-bpop-dev-sandbox/estandarizado/productos/activo-tarjeta-credito-nueva/productos_activo-tarjeta-credito-nueva_masterfile_D20200928\n",
      "File: s3://data-bpop-dev-sandbox/estandarizado/productos/activo-tarjeta-credito-nueva/productos_activo-tarjeta-credito-nueva_masterfile_D20200929\n",
      "File: s3://data-bpop-dev-sandbox/estandarizado/productos/activo-tarjeta-credito-nueva/productos_activo-tarjeta-credito-nueva_masterfile_D20200930\n",
      "File: s3://data-bpop-dev-sandbox/estandarizado/productos/activo-tarjeta-credito-nueva/productos_activo-tarjeta-credito-nueva_masterfile_D20201001\n",
      "File: s3://data-bpop-dev-sandbox/estandarizado/productos/activo-tarjeta-credito-nueva/productos_activo-tarjeta-credito-nueva_masterfile_D20201002\n",
      "File: s3://data-bpop-dev-sandbox/estandarizado/productos/activo-tarjeta-credito-nueva/productos_activo-tarjeta-credito-nueva_masterfile_D20201003\n",
      "File: s3://data-bpop-dev-sandbox/estandarizado/productos/activo-tarjeta-credito-nueva/productos_activo-tarjeta-credito-nueva_masterfile_D20201004\n",
      "File: s3://data-bpop-dev-sandbox/estandarizado/productos/activo-tarjeta-credito-nueva/productos_activo-tarjeta-credito-nueva_masterfile_D20201005\n",
      "File: s3://data-bpop-dev-sandbox/estandarizado/productos/activo-tarjeta-credito-nueva/productos_activo-tarjeta-credito-nueva_masterfile_D20201006\n",
      "File: s3://data-bpop-dev-sandbox/estandarizado/productos/activo-tarjeta-credito-nueva/productos_activo-tarjeta-credito-nueva_masterfile_D20201007\n",
      "File: s3://data-bpop-dev-sandbox/estandarizado/productos/activo-tarjeta-credito-nueva/productos_activo-tarjeta-credito-nueva_masterfile_D20201008\n",
      "File: s3://data-bpop-dev-sandbox/estandarizado/productos/activo-tarjeta-credito-nueva/productos_activo-tarjeta-credito-nueva_masterfile_D20201009\n",
      "File: s3://data-bpop-dev-sandbox/estandarizado/productos/activo-tarjeta-credito-nueva/productos_activo-tarjeta-credito-nueva_masterfile_D20201010\n",
      "File: s3://data-bpop-dev-sandbox/estandarizado/productos/activo-tarjeta-credito-nueva/productos_activo-tarjeta-credito-nueva_masterfile_D20201011\n",
      "File: s3://data-bpop-dev-sandbox/estandarizado/productos/activo-tarjeta-credito-nueva/productos_activo-tarjeta-credito-nueva_masterfile_D20201012\n",
      "File: s3://data-bpop-dev-sandbox/estandarizado/productos/activo-tarjeta-credito-nueva/productos_activo-tarjeta-credito-nueva_masterfile_D20201013\n",
      "File: s3://data-bpop-dev-sandbox/estandarizado/productos/activo-tarjeta-credito-nueva/productos_activo-tarjeta-credito-nueva_masterfile_D20201014\n",
      "File: s3://data-bpop-dev-sandbox/estandarizado/productos/activo-tarjeta-credito-nueva/productos_activo-tarjeta-credito-nueva_masterfile_D20201015\n",
      "File: s3://data-bpop-dev-sandbox/estandarizado/productos/activo-tarjeta-credito-nueva/productos_activo-tarjeta-credito-nueva_masterfile_D20201016\n",
      "File: s3://data-bpop-dev-sandbox/estandarizado/productos/activo-tarjeta-credito-nueva/productos_activo-tarjeta-credito-nueva_masterfile_D20201017\n",
      "File: s3://data-bpop-dev-sandbox/estandarizado/productos/activo-tarjeta-credito-nueva/productos_activo-tarjeta-credito-nueva_masterfile_D20201018\n",
      "File: s3://data-bpop-dev-sandbox/estandarizado/productos/activo-tarjeta-credito-nueva/productos_activo-tarjeta-credito-nueva_masterfile_D20201019\n",
      "File: s3://data-bpop-dev-sandbox/estandarizado/productos/activo-tarjeta-credito-nueva/productos_activo-tarjeta-credito-nueva_masterfile_D20201020\n",
      "File: s3://data-bpop-dev-sandbox/estandarizado/productos/activo-tarjeta-credito-nueva/productos_activo-tarjeta-credito-nueva_masterfile_D20201021\n",
      "File: s3://data-bpop-dev-sandbox/estandarizado/productos/activo-tarjeta-credito-nueva/productos_activo-tarjeta-credito-nueva_masterfile_D20201022\n",
      "File: s3://data-bpop-dev-sandbox/estandarizado/productos/activo-tarjeta-credito-nueva/productos_activo-tarjeta-credito-nueva_masterfile_D20201023\n",
      "File: s3://data-bpop-dev-sandbox/estandarizado/productos/activo-tarjeta-credito-nueva/productos_activo-tarjeta-credito-nueva_masterfile_D20201024\n",
      "File: s3://data-bpop-dev-sandbox/estandarizado/productos/activo-tarjeta-credito-nueva/productos_activo-tarjeta-credito-nueva_masterfile_D20201025\n",
      "File: s3://data-bpop-dev-sandbox/estandarizado/productos/activo-tarjeta-credito-nueva/productos_activo-tarjeta-credito-nueva_masterfile_D20201026\n",
      "File: s3://data-bpop-dev-sandbox/estandarizado/productos/activo-tarjeta-credito-nueva/productos_activo-tarjeta-credito-nueva_masterfile_D20201027\n",
      "File: s3://data-bpop-dev-sandbox/estandarizado/productos/activo-tarjeta-credito-nueva/productos_activo-tarjeta-credito-nueva_masterfile_D20201028\n",
      "File: s3://data-bpop-dev-sandbox/estandarizado/productos/activo-tarjeta-credito-nueva/productos_activo-tarjeta-credito-nueva_masterfile_D20201029\n",
      "File: s3://data-bpop-dev-sandbox/estandarizado/productos/activo-tarjeta-credito-nueva/productos_activo-tarjeta-credito-nueva_masterfile_D20201030\n",
      "File: s3://data-bpop-dev-sandbox/estandarizado/productos/activo-tarjeta-credito-nueva/productos_activo-tarjeta-credito-nueva_masterfile_D20201031\n",
      "File: s3://data-bpop-dev-sandbox/estandarizado/productos/activo-tarjeta-credito-nueva/productos_activo-tarjeta-credito-nueva_masterfile_D20201101\n",
      "File: s3://data-bpop-dev-sandbox/estandarizado/productos/activo-tarjeta-credito-nueva/productos_activo-tarjeta-credito-nueva_masterfile_D20201102\n",
      "File: s3://data-bpop-dev-sandbox/estandarizado/productos/activo-tarjeta-credito-nueva/productos_activo-tarjeta-credito-nueva_masterfile_D20201103\n",
      "File: s3://data-bpop-dev-sandbox/estandarizado/productos/activo-tarjeta-credito-nueva/productos_activo-tarjeta-credito-nueva_masterfile_D20201104\n",
      "File: s3://data-bpop-dev-sandbox/estandarizado/productos/activo-tarjeta-credito-nueva/productos_activo-tarjeta-credito-nueva_masterfile_D20201105\n",
      "File: s3://data-bpop-dev-sandbox/estandarizado/productos/activo-tarjeta-credito-nueva/productos_activo-tarjeta-credito-nueva_masterfile_D20201106\n",
      "File: s3://data-bpop-dev-sandbox/estandarizado/productos/activo-tarjeta-credito-nueva/productos_activo-tarjeta-credito-nueva_masterfile_D20201108\n",
      "File: s3://data-bpop-dev-sandbox/estandarizado/productos/activo-tarjeta-credito-nueva/productos_activo-tarjeta-credito-nueva_masterfile_D20201109\n",
      "File: s3://data-bpop-dev-sandbox/estandarizado/productos/activo-tarjeta-credito-nueva/productos_activo-tarjeta-credito-nueva_masterfile_D20201110\n",
      "File: s3://data-bpop-dev-sandbox/estandarizado/productos/activo-tarjeta-credito-nueva/productos_activo-tarjeta-credito-nueva_masterfile_D20201111\n",
      "File: s3://data-bpop-dev-sandbox/estandarizado/productos/activo-tarjeta-credito-nueva/productos_activo-tarjeta-credito-nueva_masterfile_D20201112\n",
      "File: s3://data-bpop-dev-sandbox/estandarizado/productos/activo-tarjeta-credito-nueva/productos_activo-tarjeta-credito-nueva_masterfile_D20201113\n",
      "File: s3://data-bpop-dev-sandbox/estandarizado/productos/activo-tarjeta-credito-nueva/productos_activo-tarjeta-credito-nueva_masterfile_D20201114\n",
      "File: s3://data-bpop-dev-sandbox/estandarizado/productos/activo-tarjeta-credito-nueva/productos_activo-tarjeta-credito-nueva_masterfile_D20201115\n",
      "File: s3://data-bpop-dev-sandbox/estandarizado/productos/activo-tarjeta-credito-nueva/productos_activo-tarjeta-credito-nueva_masterfile_D20201116\n",
      "File: s3://data-bpop-dev-sandbox/estandarizado/productos/activo-tarjeta-credito-nueva/productos_activo-tarjeta-credito-nueva_masterfile_D20201117\n",
      "File: s3://data-bpop-dev-sandbox/estandarizado/productos/activo-tarjeta-credito-nueva/productos_activo-tarjeta-credito-nueva_masterfile_D20201118\n",
      "File: s3://data-bpop-dev-sandbox/estandarizado/productos/activo-tarjeta-credito-nueva/productos_activo-tarjeta-credito-nueva_masterfile_D20201119\n",
      "File: s3://data-bpop-dev-sandbox/estandarizado/productos/activo-tarjeta-credito-nueva/productos_activo-tarjeta-credito-nueva_masterfile_D20201120\n"
     ]
    },
    {
     "name": "stdout",
     "output_type": "stream",
     "text": [
      "File: s3://data-bpop-dev-sandbox/estandarizado/productos/activo-tarjeta-credito-nueva/productos_activo-tarjeta-credito-nueva_masterfile_D20201121\n",
      "File: s3://data-bpop-dev-sandbox/estandarizado/productos/activo-tarjeta-credito-nueva/productos_activo-tarjeta-credito-nueva_masterfile_D20201122\n",
      "File: s3://data-bpop-dev-sandbox/estandarizado/productos/activo-tarjeta-credito-nueva/productos_activo-tarjeta-credito-nueva_masterfile_D20201123\n",
      "File: s3://data-bpop-dev-sandbox/estandarizado/productos/activo-tarjeta-credito-nueva/productos_activo-tarjeta-credito-nueva_masterfile_D20201124\n",
      "File: s3://data-bpop-dev-sandbox/estandarizado/productos/activo-tarjeta-credito-nueva/productos_activo-tarjeta-credito-nueva_masterfile_D20201125\n",
      "File: s3://data-bpop-dev-sandbox/estandarizado/productos/activo-tarjeta-credito-nueva/productos_activo-tarjeta-credito-nueva_masterfile_D20201126\n",
      "File: s3://data-bpop-dev-sandbox/estandarizado/productos/activo-tarjeta-credito-nueva/productos_activo-tarjeta-credito-nueva_masterfile_D20201127\n",
      "File: s3://data-bpop-dev-sandbox/estandarizado/productos/activo-tarjeta-credito-nueva/productos_activo-tarjeta-credito-nueva_masterfile_D20201128\n",
      "File: s3://data-bpop-dev-sandbox/estandarizado/productos/activo-tarjeta-credito-nueva/productos_activo-tarjeta-credito-nueva_masterfile_D20201129\n",
      "File: s3://data-bpop-dev-sandbox/estandarizado/productos/activo-tarjeta-credito-nueva/productos_activo-tarjeta-credito-nueva_masterfile_D20201130\n",
      "File: s3://data-bpop-dev-sandbox/estandarizado/productos/activo-tarjeta-credito-nueva/productos_activo-tarjeta-credito-nueva_masterfile_D20201201\n",
      "File: s3://data-bpop-dev-sandbox/estandarizado/productos/activo-tarjeta-credito-nueva/productos_activo-tarjeta-credito-nueva_masterfile_D20201202\n",
      "File: s3://data-bpop-dev-sandbox/estandarizado/productos/activo-tarjeta-credito-nueva/productos_activo-tarjeta-credito-nueva_masterfile_D20201203\n",
      "File: s3://data-bpop-dev-sandbox/estandarizado/productos/activo-tarjeta-credito-nueva/productos_activo-tarjeta-credito-nueva_masterfile_D20201204\n",
      "File: s3://data-bpop-dev-sandbox/estandarizado/productos/activo-tarjeta-credito-nueva/productos_activo-tarjeta-credito-nueva_masterfile_D20201205\n",
      "File: s3://data-bpop-dev-sandbox/estandarizado/productos/activo-tarjeta-credito-nueva/productos_activo-tarjeta-credito-nueva_masterfile_D20201206\n",
      "File: s3://data-bpop-dev-sandbox/estandarizado/productos/activo-tarjeta-credito-nueva/productos_activo-tarjeta-credito-nueva_masterfile_D20201207\n",
      "File: s3://data-bpop-dev-sandbox/estandarizado/productos/activo-tarjeta-credito-nueva/productos_activo-tarjeta-credito-nueva_masterfile_D20201208\n",
      "File: s3://data-bpop-dev-sandbox/estandarizado/productos/activo-tarjeta-credito-nueva/productos_activo-tarjeta-credito-nueva_masterfile_D20201209\n",
      "File: s3://data-bpop-dev-sandbox/estandarizado/productos/activo-tarjeta-credito-nueva/productos_activo-tarjeta-credito-nueva_masterfile_D20201210\n",
      "File: s3://data-bpop-dev-sandbox/estandarizado/productos/activo-tarjeta-credito-nueva/productos_activo-tarjeta-credito-nueva_masterfile_D20201211\n",
      "File: s3://data-bpop-dev-sandbox/estandarizado/productos/activo-tarjeta-credito-nueva/productos_activo-tarjeta-credito-nueva_masterfile_D20201213\n",
      "File: s3://data-bpop-dev-sandbox/estandarizado/productos/activo-tarjeta-credito-nueva/productos_activo-tarjeta-credito-nueva_masterfile_D20201214\n",
      "File: s3://data-bpop-dev-sandbox/estandarizado/productos/activo-tarjeta-credito-nueva/productos_activo-tarjeta-credito-nueva_masterfile_D20201215\n",
      "File: s3://data-bpop-dev-sandbox/estandarizado/productos/activo-tarjeta-credito-nueva/productos_activo-tarjeta-credito-nueva_masterfile_D20201216\n",
      "File: s3://data-bpop-dev-sandbox/estandarizado/productos/activo-tarjeta-credito-nueva/productos_activo-tarjeta-credito-nueva_masterfile_D20201217\n",
      "File: s3://data-bpop-dev-sandbox/estandarizado/productos/activo-tarjeta-credito-nueva/productos_activo-tarjeta-credito-nueva_masterfile_D20201218\n",
      "File: s3://data-bpop-dev-sandbox/estandarizado/productos/activo-tarjeta-credito-nueva/productos_activo-tarjeta-credito-nueva_masterfile_D20201219\n",
      "File: s3://data-bpop-dev-sandbox/estandarizado/productos/activo-tarjeta-credito-nueva/productos_activo-tarjeta-credito-nueva_masterfile_D20201220\n",
      "File: s3://data-bpop-dev-sandbox/estandarizado/productos/activo-tarjeta-credito-nueva/productos_activo-tarjeta-credito-nueva_masterfile_D20201221\n",
      "File: s3://data-bpop-dev-sandbox/estandarizado/productos/activo-tarjeta-credito-nueva/productos_activo-tarjeta-credito-nueva_masterfile_D20201222\n",
      "File: s3://data-bpop-dev-sandbox/estandarizado/productos/activo-tarjeta-credito-nueva/productos_activo-tarjeta-credito-nueva_masterfile_D20201223\n",
      "File: s3://data-bpop-dev-sandbox/estandarizado/productos/activo-tarjeta-credito-nueva/productos_activo-tarjeta-credito-nueva_masterfile_D20201224\n",
      "File: s3://data-bpop-dev-sandbox/estandarizado/productos/activo-tarjeta-credito-nueva/productos_activo-tarjeta-credito-nueva_masterfile_D20201225\n",
      "File: s3://data-bpop-dev-sandbox/estandarizado/productos/activo-tarjeta-credito-nueva/productos_activo-tarjeta-credito-nueva_masterfile_D20201226\n",
      "File: s3://data-bpop-dev-sandbox/estandarizado/productos/activo-tarjeta-credito-nueva/productos_activo-tarjeta-credito-nueva_masterfile_D20201227\n",
      "File: s3://data-bpop-dev-sandbox/estandarizado/productos/activo-tarjeta-credito-nueva/productos_activo-tarjeta-credito-nueva_masterfile_D20201228\n",
      "File: s3://data-bpop-dev-sandbox/estandarizado/productos/activo-tarjeta-credito-nueva/productos_activo-tarjeta-credito-nueva_masterfile_D20201229\n",
      "File: s3://data-bpop-dev-sandbox/estandarizado/productos/activo-tarjeta-credito-nueva/productos_activo-tarjeta-credito-nueva_masterfile_D20201230\n",
      "File: s3://data-bpop-dev-sandbox/estandarizado/productos/activo-tarjeta-credito-nueva/productos_activo-tarjeta-credito-nueva_masterfile_D20201231\n",
      "File: s3://data-bpop-dev-sandbox/estandarizado/productos/activo-tarjeta-credito-nueva/productos_activo-tarjeta-credito-nueva_masterfile_D20210101\n",
      "File: s3://data-bpop-dev-sandbox/estandarizado/productos/activo-tarjeta-credito-nueva/productos_activo-tarjeta-credito-nueva_masterfile_D20210102\n",
      "File: s3://data-bpop-dev-sandbox/estandarizado/productos/activo-tarjeta-credito-nueva/productos_activo-tarjeta-credito-nueva_masterfile_D20210103\n",
      "File: s3://data-bpop-dev-sandbox/estandarizado/productos/activo-tarjeta-credito-nueva/productos_activo-tarjeta-credito-nueva_masterfile_D20210104\n",
      "File: s3://data-bpop-dev-sandbox/estandarizado/productos/activo-tarjeta-credito-nueva/productos_activo-tarjeta-credito-nueva_masterfile_D20210105\n",
      "File: s3://data-bpop-dev-sandbox/estandarizado/productos/activo-tarjeta-credito-nueva/productos_activo-tarjeta-credito-nueva_masterfile_D20210106\n",
      "File: s3://data-bpop-dev-sandbox/estandarizado/productos/activo-tarjeta-credito-nueva/productos_activo-tarjeta-credito-nueva_masterfile_D20210107\n",
      "File: s3://data-bpop-dev-sandbox/estandarizado/productos/activo-tarjeta-credito-nueva/productos_activo-tarjeta-credito-nueva_masterfile_D20210108\n",
      "File: s3://data-bpop-dev-sandbox/estandarizado/productos/activo-tarjeta-credito-nueva/productos_activo-tarjeta-credito-nueva_masterfile_D20210109\n",
      "File: s3://data-bpop-dev-sandbox/estandarizado/productos/activo-tarjeta-credito-nueva/productos_activo-tarjeta-credito-nueva_masterfile_D20210110\n",
      "File: s3://data-bpop-dev-sandbox/estandarizado/productos/activo-tarjeta-credito-nueva/productos_activo-tarjeta-credito-nueva_masterfile_D20210111\n",
      "File: s3://data-bpop-dev-sandbox/estandarizado/productos/activo-tarjeta-credito-nueva/productos_activo-tarjeta-credito-nueva_masterfile_D20210112\n",
      "File: s3://data-bpop-dev-sandbox/estandarizado/productos/activo-tarjeta-credito-nueva/productos_activo-tarjeta-credito-nueva_masterfile_D20210113\n",
      "File: s3://data-bpop-dev-sandbox/estandarizado/productos/activo-tarjeta-credito-nueva/productos_activo-tarjeta-credito-nueva_masterfile_D20210114\n",
      "File: s3://data-bpop-dev-sandbox/estandarizado/productos/activo-tarjeta-credito-nueva/productos_activo-tarjeta-credito-nueva_masterfile_D20210115\n",
      "File: s3://data-bpop-dev-sandbox/estandarizado/productos/activo-tarjeta-credito-nueva/productos_activo-tarjeta-credito-nueva_masterfile_D20210116\n",
      "File: s3://data-bpop-dev-sandbox/estandarizado/productos/activo-tarjeta-credito-nueva/productos_activo-tarjeta-credito-nueva_masterfile_D20210117\n"
     ]
    },
    {
     "name": "stdout",
     "output_type": "stream",
     "text": [
      "File: s3://data-bpop-dev-sandbox/estandarizado/productos/activo-tarjeta-credito-nueva/productos_activo-tarjeta-credito-nueva_masterfile_D20210118\n",
      "File: s3://data-bpop-dev-sandbox/estandarizado/productos/activo-tarjeta-credito-nueva/productos_activo-tarjeta-credito-nueva_masterfile_D20210119\n",
      "File: s3://data-bpop-dev-sandbox/estandarizado/productos/activo-tarjeta-credito-nueva/productos_activo-tarjeta-credito-nueva_masterfile_D20210120\n",
      "File: s3://data-bpop-dev-sandbox/estandarizado/productos/activo-tarjeta-credito-nueva/productos_activo-tarjeta-credito-nueva_masterfile_D20210121\n",
      "File: s3://data-bpop-dev-sandbox/estandarizado/productos/activo-tarjeta-credito-nueva/productos_activo-tarjeta-credito-nueva_masterfile_D20210122\n",
      "File: s3://data-bpop-dev-sandbox/estandarizado/productos/activo-tarjeta-credito-nueva/productos_activo-tarjeta-credito-nueva_masterfile_D20210123\n",
      "File: s3://data-bpop-dev-sandbox/estandarizado/productos/activo-tarjeta-credito-nueva/productos_activo-tarjeta-credito-nueva_masterfile_D20210124\n",
      "File: s3://data-bpop-dev-sandbox/estandarizado/productos/activo-tarjeta-credito-nueva/productos_activo-tarjeta-credito-nueva_masterfile_D20210125\n",
      "File: s3://data-bpop-dev-sandbox/estandarizado/productos/activo-tarjeta-credito-nueva/productos_activo-tarjeta-credito-nueva_masterfile_D20210126\n",
      "File: s3://data-bpop-dev-sandbox/estandarizado/productos/activo-tarjeta-credito-nueva/productos_activo-tarjeta-credito-nueva_masterfile_D20210127\n",
      "File: s3://data-bpop-dev-sandbox/estandarizado/productos/activo-tarjeta-credito-nueva/productos_activo-tarjeta-credito-nueva_masterfile_D20210128\n",
      "File: s3://data-bpop-dev-sandbox/estandarizado/productos/activo-tarjeta-credito-nueva/productos_activo-tarjeta-credito-nueva_masterfile_D20210129\n",
      "File: s3://data-bpop-dev-sandbox/estandarizado/productos/activo-tarjeta-credito-nueva/productos_activo-tarjeta-credito-nueva_masterfile_D20210130\n",
      "File: s3://data-bpop-dev-sandbox/estandarizado/productos/activo-tarjeta-credito-nueva/productos_activo-tarjeta-credito-nueva_masterfile_D20210131\n",
      "File: s3://data-bpop-dev-sandbox/estandarizado/productos/activo-tarjeta-credito-nueva/productos_activo-tarjeta-credito-nueva_masterfile_D20210201\n",
      "File: s3://data-bpop-dev-sandbox/estandarizado/productos/activo-tarjeta-credito-nueva/productos_activo-tarjeta-credito-nueva_masterfile_D20210202\n",
      "File: s3://data-bpop-dev-sandbox/estandarizado/productos/activo-tarjeta-credito-nueva/productos_activo-tarjeta-credito-nueva_masterfile_D20210203\n",
      "File: s3://data-bpop-dev-sandbox/estandarizado/productos/activo-tarjeta-credito-nueva/productos_activo-tarjeta-credito-nueva_masterfile_D20210204\n",
      "File: s3://data-bpop-dev-sandbox/estandarizado/productos/activo-tarjeta-credito-nueva/productos_activo-tarjeta-credito-nueva_masterfile_D20210205\n",
      "File: s3://data-bpop-dev-sandbox/estandarizado/productos/activo-tarjeta-credito-nueva/productos_activo-tarjeta-credito-nueva_masterfile_D20210206\n",
      "File: s3://data-bpop-dev-sandbox/estandarizado/productos/activo-tarjeta-credito-nueva/productos_activo-tarjeta-credito-nueva_masterfile_D20210207\n",
      "File: s3://data-bpop-dev-sandbox/estandarizado/productos/activo-tarjeta-credito-nueva/productos_activo-tarjeta-credito-nueva_masterfile_D20210208\n",
      "File: s3://data-bpop-dev-sandbox/estandarizado/productos/activo-tarjeta-credito-nueva/productos_activo-tarjeta-credito-nueva_masterfile_D20210209\n",
      "File: s3://data-bpop-dev-sandbox/estandarizado/productos/activo-tarjeta-credito-nueva/productos_activo-tarjeta-credito-nueva_masterfile_D20210210\n",
      "File: s3://data-bpop-dev-sandbox/estandarizado/productos/activo-tarjeta-credito-nueva/productos_activo-tarjeta-credito-nueva_masterfile_D20210211\n",
      "File: s3://data-bpop-dev-sandbox/estandarizado/productos/activo-tarjeta-credito-nueva/productos_activo-tarjeta-credito-nueva_masterfile_D20210212\n",
      "File: s3://data-bpop-dev-sandbox/estandarizado/productos/activo-tarjeta-credito-nueva/productos_activo-tarjeta-credito-nueva_masterfile_D20210214\n",
      "File: s3://data-bpop-dev-sandbox/estandarizado/productos/activo-tarjeta-credito-nueva/productos_activo-tarjeta-credito-nueva_masterfile_D20210215\n",
      "File: s3://data-bpop-dev-sandbox/estandarizado/productos/activo-tarjeta-credito-nueva/productos_activo-tarjeta-credito-nueva_masterfile_D20210216\n",
      "File: s3://data-bpop-dev-sandbox/estandarizado/productos/activo-tarjeta-credito-nueva/productos_activo-tarjeta-credito-nueva_masterfile_D20210217\n",
      "File: s3://data-bpop-dev-sandbox/estandarizado/productos/activo-tarjeta-credito-nueva/productos_activo-tarjeta-credito-nueva_masterfile_D20210218\n",
      "File: s3://data-bpop-dev-sandbox/estandarizado/productos/activo-tarjeta-credito-nueva/productos_activo-tarjeta-credito-nueva_masterfile_D20210219\n",
      "File: s3://data-bpop-dev-sandbox/estandarizado/productos/activo-tarjeta-credito-nueva/productos_activo-tarjeta-credito-nueva_masterfile_D20210220\n",
      "File: s3://data-bpop-dev-sandbox/estandarizado/productos/activo-tarjeta-credito-nueva/productos_activo-tarjeta-credito-nueva_masterfile_D20210221\n",
      "File: s3://data-bpop-dev-sandbox/estandarizado/productos/activo-tarjeta-credito-nueva/productos_activo-tarjeta-credito-nueva_masterfile_D20210222\n",
      "File: s3://data-bpop-dev-sandbox/estandarizado/productos/activo-tarjeta-credito-nueva/productos_activo-tarjeta-credito-nueva_masterfile_D20210223\n",
      "File: s3://data-bpop-dev-sandbox/estandarizado/productos/activo-tarjeta-credito-nueva/productos_activo-tarjeta-credito-nueva_masterfile_D20210224\n",
      "File: s3://data-bpop-dev-sandbox/estandarizado/productos/activo-tarjeta-credito-nueva/productos_activo-tarjeta-credito-nueva_masterfile_D20210225\n",
      "File: s3://data-bpop-dev-sandbox/estandarizado/productos/activo-tarjeta-credito-nueva/productos_activo-tarjeta-credito-nueva_masterfile_D20210226\n",
      "File: s3://data-bpop-dev-sandbox/estandarizado/productos/activo-tarjeta-credito-nueva/productos_activo-tarjeta-credito-nueva_masterfile_D20210227\n",
      "File: s3://data-bpop-dev-sandbox/estandarizado/productos/activo-tarjeta-credito-nueva/productos_activo-tarjeta-credito-nueva_masterfile_D20210228\n",
      "File: s3://data-bpop-dev-sandbox/estandarizado/productos/activo-tarjeta-credito-nueva/productos_activo-tarjeta-credito-nueva_masterfile_D20210301\n",
      "File: s3://data-bpop-dev-sandbox/estandarizado/productos/activo-tarjeta-credito-nueva/productos_activo-tarjeta-credito-nueva_masterfile_D20210302\n",
      "File: s3://data-bpop-dev-sandbox/estandarizado/productos/activo-tarjeta-credito-nueva/productos_activo-tarjeta-credito-nueva_masterfile_D20210303\n",
      "File: s3://data-bpop-dev-sandbox/estandarizado/productos/activo-tarjeta-credito-nueva/productos_activo-tarjeta-credito-nueva_masterfile_D20210304\n",
      "File: s3://data-bpop-dev-sandbox/estandarizado/productos/activo-tarjeta-credito-nueva/productos_activo-tarjeta-credito-nueva_masterfile_D20210305\n",
      "File: s3://data-bpop-dev-sandbox/estandarizado/productos/activo-tarjeta-credito-nueva/productos_activo-tarjeta-credito-nueva_masterfile_D20210306\n",
      "File: s3://data-bpop-dev-sandbox/estandarizado/productos/activo-tarjeta-credito-nueva/productos_activo-tarjeta-credito-nueva_masterfile_D20210307\n",
      "File: s3://data-bpop-dev-sandbox/estandarizado/productos/activo-tarjeta-credito-nueva/productos_activo-tarjeta-credito-nueva_masterfile_D20210308\n",
      "File: s3://data-bpop-dev-sandbox/estandarizado/productos/activo-tarjeta-credito-nueva/productos_activo-tarjeta-credito-nueva_masterfile_D20210309\n",
      "File: s3://data-bpop-dev-sandbox/estandarizado/productos/activo-tarjeta-credito-nueva/productos_activo-tarjeta-credito-nueva_masterfile_D20210310\n",
      "File: s3://data-bpop-dev-sandbox/estandarizado/productos/activo-tarjeta-credito-nueva/productos_activo-tarjeta-credito-nueva_masterfile_D20210311\n",
      "File: s3://data-bpop-dev-sandbox/estandarizado/productos/activo-tarjeta-credito-nueva/productos_activo-tarjeta-credito-nueva_masterfile_D20210312\n",
      "File: s3://data-bpop-dev-sandbox/estandarizado/productos/activo-tarjeta-credito-nueva/productos_activo-tarjeta-credito-nueva_masterfile_D20210313\n",
      "File: s3://data-bpop-dev-sandbox/estandarizado/productos/activo-tarjeta-credito-nueva/productos_activo-tarjeta-credito-nueva_masterfile_D20210314\n",
      "File: s3://data-bpop-dev-sandbox/estandarizado/productos/activo-tarjeta-credito-nueva/productos_activo-tarjeta-credito-nueva_masterfile_D20210315\n",
      "File: s3://data-bpop-dev-sandbox/estandarizado/productos/activo-tarjeta-credito-nueva/productos_activo-tarjeta-credito-nueva_masterfile_D20210316\n"
     ]
    },
    {
     "name": "stdout",
     "output_type": "stream",
     "text": [
      "File: s3://data-bpop-dev-sandbox/estandarizado/productos/activo-tarjeta-credito-nueva/productos_activo-tarjeta-credito-nueva_masterfile_D20210317\n",
      "File: s3://data-bpop-dev-sandbox/estandarizado/productos/activo-tarjeta-credito-nueva/productos_activo-tarjeta-credito-nueva_masterfile_D20210318\n",
      "File: s3://data-bpop-dev-sandbox/estandarizado/productos/activo-tarjeta-credito-nueva/productos_activo-tarjeta-credito-nueva_masterfile_D20210319\n",
      "File: s3://data-bpop-dev-sandbox/estandarizado/productos/activo-tarjeta-credito-nueva/productos_activo-tarjeta-credito-nueva_masterfile_D20210320\n",
      "File: s3://data-bpop-dev-sandbox/estandarizado/productos/activo-tarjeta-credito-nueva/productos_activo-tarjeta-credito-nueva_masterfile_D20210321\n",
      "File: s3://data-bpop-dev-sandbox/estandarizado/productos/activo-tarjeta-credito-nueva/productos_activo-tarjeta-credito-nueva_masterfile_D20210322\n",
      "File: s3://data-bpop-dev-sandbox/estandarizado/productos/activo-tarjeta-credito-nueva/productos_activo-tarjeta-credito-nueva_masterfile_D20210323\n",
      "File: s3://data-bpop-dev-sandbox/estandarizado/productos/activo-tarjeta-credito-nueva/productos_activo-tarjeta-credito-nueva_masterfile_D20210324\n",
      "File: s3://data-bpop-dev-sandbox/estandarizado/productos/activo-tarjeta-credito-nueva/productos_activo-tarjeta-credito-nueva_masterfile_D20210325\n",
      "File: s3://data-bpop-dev-sandbox/estandarizado/productos/activo-tarjeta-credito-nueva/productos_activo-tarjeta-credito-nueva_masterfile_D20210326\n",
      "File: s3://data-bpop-dev-sandbox/estandarizado/productos/activo-tarjeta-credito-nueva/productos_activo-tarjeta-credito-nueva_masterfile_D20210327\n",
      "File: s3://data-bpop-dev-sandbox/estandarizado/productos/activo-tarjeta-credito-nueva/productos_activo-tarjeta-credito-nueva_masterfile_D20210328\n",
      "File: s3://data-bpop-dev-sandbox/estandarizado/productos/activo-tarjeta-credito-nueva/productos_activo-tarjeta-credito-nueva_masterfile_D20210329\n",
      "File: s3://data-bpop-dev-sandbox/estandarizado/productos/activo-tarjeta-credito-nueva/productos_activo-tarjeta-credito-nueva_masterfile_D20210330\n",
      "File: s3://data-bpop-dev-sandbox/estandarizado/productos/activo-tarjeta-credito-nueva/productos_activo-tarjeta-credito-nueva_masterfile_D20210331\n",
      "File: s3://data-bpop-dev-sandbox/estandarizado/productos/activo-tarjeta-credito-nueva/productos_activo-tarjeta-credito-nueva_masterfile_D20210401\n"
     ]
    }
   ],
   "source": [
    "for ix, file in enumerate(files):\n",
    "    print('File:', file)\n",
    "    data_temp = spark_read_parquet(file)\n",
    "    if ix == 0:\n",
    "        data_act = data_temp\n",
    "    else:\n",
    "        data_act = pd.concat([data_act,data_temp], ignore_index=True)\n",
    "        \n",
    "    del data_temp       "
   ]
  },
  {
   "cell_type": "code",
   "execution_count": null,
   "metadata": {},
   "outputs": [],
   "source": [
    "data_act.columns"
   ]
  },
  {
   "cell_type": "code",
   "execution_count": null,
   "metadata": {},
   "outputs": [],
   "source": [
    "data_act['fecha_activacion_plastico'].head(15)"
   ]
  },
  {
   "cell_type": "code",
   "execution_count": null,
   "metadata": {},
   "outputs": [],
   "source": [
    "str(data_act['fecha_activacion_plastico'][0])[:2]"
   ]
  },
  {
   "cell_type": "code",
   "execution_count": null,
   "metadata": {},
   "outputs": [],
   "source": [
    "# Casting variables\n",
    "data_act['fecha_activacion_plastico'] = pd.Series([str(x).replace('00','20') if '00' in str(x)[:2] else str(x) for x in data_act['fecha_activacion_plastico']])\n",
    "data_act['fecha_activacion_plastico'] = pd.to_datetime(data_act['fecha_activacion_plastico'], errors='coerce')\n",
    "data_act['mes_activacion'] = pd.to_datetime(data_act['fecha_activacion_plastico'].dt.strftime('%Y-%m'),format='%Y-%m')"
   ]
  },
  {
   "cell_type": "code",
   "execution_count": null,
   "metadata": {},
   "outputs": [],
   "source": [
    "## Renombrando variables\n",
    "data_act1.columns = data_act1.columns.str.lower()\n",
    "data_act1 = data_act1.rename(columns={'identificacion':'cedula'})\n",
    "data_act = data_act.rename(columns={'id_cli':'cedula',\n",
    "                                   'tipo_id_cliente':'tipo_identificacion',\n",
    "                                   'fecha_activacion_plastico':'fecha_activacion'})\n",
    "data_camp = data_camp.rename(columns={'NUM_DOC':'cedula'})"
   ]
  },
  {
   "cell_type": "code",
   "execution_count": null,
   "metadata": {},
   "outputs": [],
   "source": [
    "data_act = data_act[['numero_cuenta', 'numero_tarjeta', 'cedula',\n",
    "       'tipo_identificacion', 'fecha_activacion', 'id_cliente',\n",
    "       'mes_activacion']]"
   ]
  },
  {
   "cell_type": "code",
   "execution_count": null,
   "metadata": {},
   "outputs": [],
   "source": [
    "## Uniendo bases\n",
    "data_act = pd.concat([data_act1, data_act], ignore_index=True)\n",
    "data_act = data_act.drop_duplicates()\n",
    "\n",
    "del data_act1"
   ]
  },
  {
   "cell_type": "code",
   "execution_count": null,
   "metadata": {},
   "outputs": [],
   "source": [
    "## Cast variables\n",
    "data_act['id_cliente'] = data_act['id_cliente'].fillna('-9999').astype(np.int64)\n",
    "data_act['tipo_identificacion'] = data_act['tipo_identificacion'].fillna('-9999').astype(np.int64)\n",
    "data_act['cedula'] = data_act['cedula'].astype(np.int64)"
   ]
  },
  {
   "cell_type": "code",
   "execution_count": null,
   "metadata": {
    "scrolled": false
   },
   "outputs": [],
   "source": [
    "data_act.head(5)"
   ]
  },
  {
   "cell_type": "code",
   "execution_count": null,
   "metadata": {},
   "outputs": [],
   "source": [
    "data_act.count()"
   ]
  },
  {
   "cell_type": "code",
   "execution_count": null,
   "metadata": {},
   "outputs": [],
   "source": [
    "data_act.dtypes"
   ]
  },
  {
   "cell_type": "code",
   "execution_count": null,
   "metadata": {},
   "outputs": [],
   "source": [
    "str_dates = ['2019-01', '2019-02','2019-03','2019-04','2019-05','2019-06','2019-07','2019-08','2019-09','2019-10','2019-11',\n",
    "          '2019-12','2020-01','2020-02','2020-03','2020-04','2020-05','2020-06','2020-07','2020-08','2020-09','2020-10',\n",
    "          '2020-11','2020-12','2021-01','2021-02','2021-03','2021-04','2021-05','2021-06','2021-07','2021-08', '2021-09',\n",
    "            '2021-10', '2021-11','2021-12','2022-01']\n",
    "date = str_dates[0]\n",
    "date = pd.to_datetime(date,format='%Y-%m')\n",
    "date"
   ]
  },
  {
   "cell_type": "code",
   "execution_count": null,
   "metadata": {},
   "outputs": [],
   "source": [
    "from datetime import datetime\n",
    "from dateutil.relativedelta import relativedelta\n",
    "\n",
    "str_dates = ['2019-01', '2019-02','2019-03','2019-04','2019-05','2019-06','2019-07','2019-08','2019-09','2019-10','2019-11',\n",
    "          '2019-12','2020-01','2020-02','2020-03','2020-04','2020-05','2020-06','2020-07','2020-08','2020-09','2020-10',\n",
    "          '2020-11','2020-12','2021-01','2021-02','2021-03','2021-04','2021-05','2021-06','2021-07','2021-08', '2021-09',\n",
    "            '2021-10', '2021-11','2021-12','2022-01']\n",
    "\n",
    "n_mes = 3 # numero de meses\n",
    "\n",
    "for ix, date in enumerate(str_dates):\n",
    "    print('Fecha:',date)\n",
    "    date = pd.to_datetime(date,format='%Y-%m')\n",
    "    nom_col = 'camp_'+date.strftime('%Y%m')\n",
    "    \n",
    "    base = data_camp[data_camp['mes_campaña']==date]\n",
    "\n",
    "    if ix == 0:\n",
    "        base_final = func_activa(base,date,n_mes,nom_col)\n",
    "        del base\n",
    "    else:\n",
    "        base_temp = func_activa(base,date,n_mes,nom_col)\n",
    "        base_final = pd.concat([base_final,base_temp],ignore_index=True)\n",
    "        \n",
    "        del base, base_temp\n",
    "        "
   ]
  },
  {
   "cell_type": "code",
   "execution_count": null,
   "metadata": {},
   "outputs": [],
   "source": [
    "from dateutil.relativedelta import relativedelta\n",
    "n_mes=3\n",
    "date_fin = date + relativedelta(months=n_mes)\n",
    "date_fin"
   ]
  },
  {
   "cell_type": "code",
   "execution_count": null,
   "metadata": {},
   "outputs": [],
   "source": [
    "date"
   ]
  },
  {
   "cell_type": "code",
   "execution_count": null,
   "metadata": {},
   "outputs": [],
   "source": [
    "base_final.columns"
   ]
  },
  {
   "cell_type": "code",
   "execution_count": null,
   "metadata": {},
   "outputs": [],
   "source": [
    "# Casting variables\n",
    "base_final = base_final[base_final['cedula'].notnull()]\n",
    "\n",
    "#base_final.rename(columns={' CUPO_APROBADO ':'CUPO_APROBADO'}, inplace=True)\n",
    "#base_final['CUPO_APROBADO'] = base_final['CUPO_APROBADO'].str.strip()\n",
    "#base_final['CUPO_APROBADO'] = [str(x).replace('.','') for x in base_final['CUPO_APROBADO']]\n",
    "#base_final['CUPO_APROBADO'] = base_final['CUPO_APROBADO'].astype('float')\n",
    "\n",
    "cols = ['camp_201901','camp_201902','camp_201903','camp_201904','camp_201905','camp_201906',\n",
    "            'camp_201907','camp_201908','camp_201909','camp_201910','camp_201911','camp_201912',\n",
    "            'camp_202001','camp_202002','camp_202003','camp_202004','camp_202005','camp_202006',\n",
    "        'camp_202007','camp_202008','camp_202009','camp_202010','camp_202011','camp_202012',\n",
    "        'camp_202101','camp_202102','camp_202103','camp_202104','camp_202105','camp_202106','camp_202107',\n",
    "        'camp_202108', 'camp_202109', 'camp_202110', 'camp_202111', 'camp_202112', 'venta']\n",
    "                                                                              \n",
    "base_final.loc[:,cols] = base_final[cols].fillna(0)"
   ]
  },
  {
   "cell_type": "code",
   "execution_count": null,
   "metadata": {},
   "outputs": [],
   "source": [
    "# Casting variables\n",
    "base_final['fecha_activacion'] = pd.to_datetime(base_final['fecha_activacion'], format='%Y-%m%d')\n",
    "base_final['mes_activacion'] = pd.to_datetime(base_final['mes_activacion'], format='%Y-%m%d')\n",
    "\n",
    "base_final"
   ]
  },
  {
   "cell_type": "code",
   "execution_count": null,
   "metadata": {},
   "outputs": [],
   "source": [
    "base_final.count()"
   ]
  },
  {
   "cell_type": "code",
   "execution_count": null,
   "metadata": {},
   "outputs": [],
   "source": [
    "# Número de veces que ha sido incluido en la campaña últimos x meses\n",
    "# Número de meses desde que fue incluido en la campaña de adquisición por última vez\n",
    "# Número de activaciones de TC trad últimos x meses\n",
    "# Meses desde la última activación\n",
    "# Número de veces que ha sido incluido en la campaña y no aceptado\n",
    "# Si ya se ha aceptado anteriormente la oferta\n"
   ]
  },
  {
   "cell_type": "code",
   "execution_count": null,
   "metadata": {},
   "outputs": [],
   "source": [
    "base_final['mes_campaña'].value_counts().sort_index()"
   ]
  },
  {
   "cell_type": "code",
   "execution_count": null,
   "metadata": {},
   "outputs": [],
   "source": [
    "base_final.columns"
   ]
  },
  {
   "cell_type": "code",
   "execution_count": null,
   "metadata": {},
   "outputs": [],
   "source": [
    "base_final.dtypes"
   ]
  },
  {
   "cell_type": "code",
   "execution_count": null,
   "metadata": {},
   "outputs": [],
   "source": [
    "pd.crosstab(base_final['mes_campaña'],base_final['venta'])"
   ]
  },
  {
   "cell_type": "code",
   "execution_count": null,
   "metadata": {},
   "outputs": [],
   "source": [
    "aaa"
   ]
  },
  {
   "cell_type": "markdown",
   "metadata": {},
   "source": [
    "### Cargando base Analytics"
   ]
  },
  {
   "cell_type": "code",
   "execution_count": null,
   "metadata": {},
   "outputs": [],
   "source": [
    "base_analytics = pd.read_csv('/mnt/work/CU_adquisicionTC/Notebooks/Backtesting/Base_campañas_tc_abril_a_agosto_cc_2.csv', encoding='latin-1', sep=';')\n",
    "base_analytics.head()"
   ]
  },
  {
   "cell_type": "code",
   "execution_count": null,
   "metadata": {},
   "outputs": [],
   "source": [
    "base_analytics.columns = base_analytics.columns.str.lower()"
   ]
  },
  {
   "cell_type": "code",
   "execution_count": null,
   "metadata": {},
   "outputs": [],
   "source": [
    "base_analytics['campaña'].value_counts()"
   ]
  },
  {
   "cell_type": "code",
   "execution_count": null,
   "metadata": {},
   "outputs": [],
   "source": [
    "base = base_analytics[base_analytics['campaña'].isin(['PREAPROBADOS','PREAPROBADOS TC','PREAPROBADOS OFICINAS', 'PREAPROBADOS OFICINA'])]"
   ]
  },
  {
   "cell_type": "code",
   "execution_count": null,
   "metadata": {},
   "outputs": [],
   "source": [
    "base = base.rename(columns = {'mes campaña':'mes_campaña'})\n",
    "base.columns"
   ]
  },
  {
   "cell_type": "code",
   "execution_count": null,
   "metadata": {},
   "outputs": [],
   "source": [
    "pd.crosstab(base['mes_campaña'],base['activacion'])"
   ]
  },
  {
   "cell_type": "code",
   "execution_count": null,
   "metadata": {},
   "outputs": [],
   "source": [
    "dic_date = {'21_04_ABR':'2021-04-01',\n",
    "           '21_05_MAY':'2021-05-01',\n",
    "           '21_06_JUN':'2021-06-01',\n",
    "           '21_07_JUL':'2021-07-01',\n",
    "           '21_08_AGO':'2021-08-01',}\n",
    "\n",
    "base['mes_campaña'] = base['mes_campaña'].map(dic_date)"
   ]
  },
  {
   "cell_type": "code",
   "execution_count": null,
   "metadata": {},
   "outputs": [],
   "source": [
    "pd.crosstab(base['mes_campaña'],base['activacion'])"
   ]
  },
  {
   "cell_type": "code",
   "execution_count": null,
   "metadata": {},
   "outputs": [],
   "source": [
    "base['mes_campaña'] = pd.to_datetime(base['mes_campaña'])"
   ]
  },
  {
   "cell_type": "code",
   "execution_count": null,
   "metadata": {},
   "outputs": [],
   "source": [
    "aaaa"
   ]
  },
  {
   "cell_type": "markdown",
   "metadata": {},
   "source": [
    "## Cargando Score:"
   ]
  },
  {
   "cell_type": "code",
   "execution_count": null,
   "metadata": {},
   "outputs": [],
   "source": [
    "path = 's3://adl-refined-dev-popular/parquet/TC_adquisicion/'\n",
    "\n",
    "objects = get_s3_parquet(path,0)\n",
    "files = [\"s3://\" + bucket + \"/\" + file[\"Key\"] for file in objects]\n",
    "files"
   ]
  },
  {
   "cell_type": "code",
   "execution_count": null,
   "metadata": {},
   "outputs": [],
   "source": [
    "### Cargando Score:\n",
    "\n",
    "files = [\n",
    "'propension-tc_preaprob_M20210318.csv',\n",
    "'propension-tc_preaprob_M20210419.csv',\n",
    "'propension-tc_preaprob_M20210520.csv',\n",
    "'propension-tc_preaprob_M20210616.csv',\n",
    "'propension-tc_preaprob_M20210713.csv',\n",
    "'propension-tc_preaprob_M20210811.csv',\n",
    "'propension-tc_preaprob_M20210914.csv',\n",
    "'propension-tc_preaprob_M20211014.csv',\n",
    "'propension-tc_preaprob_M20211112.csv'\n",
    "]\n",
    "\n",
    "fechas = ['2021-04-01', '2021-05-01', '2021-06-01', '2021-07-01', '2021-08-01', '2021-09-01', '2021-10-01', '2021-11-01']"
   ]
  },
  {
   "cell_type": "code",
   "execution_count": null,
   "metadata": {},
   "outputs": [],
   "source": [
    "\n",
    "i = 0\n",
    "for file, date in zip(files, fechas):\n",
    "    if i == 0:\n",
    "        base_score = pd.read_csv(path+file, sep='|')\n",
    "        base_score['mes_campaña'] = date\n",
    "        base_score['cedula'] = base_score['id_numero_cliente'].astype('int')\n",
    "        base_score = base_score.drop(columns=['id_numero_cliente'])\n",
    "        i = i+1\n",
    "    else:\n",
    "        base_temp = pd.read_csv(path+file, sep='|')\n",
    "        base_temp['mes_campaña'] = date\n",
    "        base_temp['cedula'] = base_temp['id_numero_cliente'].astype('int')\n",
    "        base_temp = base_temp.drop(columns=['id_numero_cliente'])\n",
    "        base_score = pd.concat([base_score,base_temp])\n",
    "        \n"
   ]
  },
  {
   "cell_type": "code",
   "execution_count": null,
   "metadata": {},
   "outputs": [],
   "source": [
    "base_final.columns"
   ]
  },
  {
   "cell_type": "code",
   "execution_count": null,
   "metadata": {},
   "outputs": [],
   "source": [
    "base_final['mes_campaña'].value_counts().sort_index()"
   ]
  },
  {
   "cell_type": "code",
   "execution_count": null,
   "metadata": {},
   "outputs": [],
   "source": [
    "base_score['mes_campaña'] = pd.to_datetime(base_score['mes_campaña'])"
   ]
  },
  {
   "cell_type": "markdown",
   "metadata": {},
   "source": [
    "## Join "
   ]
  },
  {
   "cell_type": "code",
   "execution_count": null,
   "metadata": {},
   "outputs": [],
   "source": [
    "print(base_final[base_final['mes_campaña']>'2021-03-01'].shape)  \n",
    "print(base_final.shape)  "
   ]
  },
  {
   "cell_type": "code",
   "execution_count": null,
   "metadata": {},
   "outputs": [],
   "source": [
    "base_final = base_final[(base_final['mes_campaña']>'2021-03-01') & (base_final['mes_campaña']<'2021-11-01')]"
   ]
  },
  {
   "cell_type": "code",
   "execution_count": null,
   "metadata": {},
   "outputs": [],
   "source": [
    "tabla_final = pd.merge(base_final[['cedula', 'FECHA', 'mes_campaña', 'TIPO CAMPAÑA', 'tipo_camp', \n",
    "                                   'fecha_activacion', 'mes_activacion','venta']],\n",
    "                       base_score[['cedula', 'mes_campaña', 'score', 'decil']], \n",
    "                       on=['cedula', 'mes_campaña'], how='left')\n",
    "\n",
    "\n",
    "print(base_score.shape)\n",
    "print(base_final.shape)\n",
    "print(tabla_final.shape)\n",
    "\n",
    "tabla_final.head()"
   ]
  },
  {
   "cell_type": "code",
   "execution_count": null,
   "metadata": {},
   "outputs": [],
   "source": [
    "tabla_final.count()"
   ]
  },
  {
   "cell_type": "markdown",
   "metadata": {},
   "source": [
    "## Uniendo con base analytics"
   ]
  },
  {
   "cell_type": "code",
   "execution_count": null,
   "metadata": {},
   "outputs": [],
   "source": [
    "base_analyticsF = pd.merge(tabla_final, base, on=['cedula', 'mes_campaña'], how='left')\n",
    "\n",
    "print(base_analyticsF.shape)\n",
    "print(base.shape)\n",
    "print(tabla_final.shape)"
   ]
  },
  {
   "cell_type": "code",
   "execution_count": null,
   "metadata": {},
   "outputs": [],
   "source": [
    "base_analyticsF.count()"
   ]
  },
  {
   "cell_type": "code",
   "execution_count": null,
   "metadata": {},
   "outputs": [],
   "source": [
    "base_analyticsF.head()"
   ]
  },
  {
   "cell_type": "markdown",
   "metadata": {},
   "source": [
    "## Corriendo Backtesting\n"
   ]
  },
  {
   "cell_type": "code",
   "execution_count": null,
   "metadata": {},
   "outputs": [],
   "source": [
    "from sklearn.decomposition import PCA\n",
    "from sklearn.model_selection import GridSearchCV\n",
    "from sklearn.metrics import confusion_matrix, classification_report, roc_auc_score\n",
    "\n",
    "from sklearn.ensemble import RandomForestClassifier\n",
    "from sklearn.ensemble import GradientBoostingClassifier\n",
    "from sklearn.preprocessing import StandardScaler"
   ]
  },
  {
   "cell_type": "code",
   "execution_count": null,
   "metadata": {},
   "outputs": [],
   "source": [
    "## Funcion para Backtesting\n",
    "\n",
    "def backtesting(data,var_probab,var_target,cant,cutoff):\n",
    "\n",
    "    dataframe = data.copy()\n",
    "    dataframe[var_probab] = round(dataframe[var_probab]*1000)\n",
    "\n",
    "    if np.isnan(cutoff).any():\n",
    "        dataframe['rangos'] = pd.qcut(dataframe[var_probab],cant,precision=0,duplicates='drop')\n",
    "    else:\n",
    "        dataframe['rangos'] = pd.cut(dataframe[var_probab],cutoff,precision=0,include_lowest=True)\n",
    "    \n",
    "    dataframe['target'] = dataframe[var_target]\n",
    "    \n",
    "    table = pd.DataFrame(dataframe[['rangos','target']].groupby('rangos').size())\n",
    "    table = table.sort_values(by ='rangos', ascending=True)\n",
    "    table.rename(columns={0: 'total cat'}, inplace=True)\n",
    "\n",
    "    table = table.join(dataframe[['rangos','target']].groupby(['rangos']).sum())\n",
    "    table.rename(columns={'target': 'var 1'}, inplace=True)\n",
    "    table['var 0'] = table['total cat'] - table['var 1']\n",
    "    \n",
    "    table.insert(loc=1, column='% total cat', value=round((table['total cat'] / dataframe.shape[0])*100,2))\n",
    "    table.insert(loc=2, column='total acum', value=table['% total cat'].cumsum())\n",
    "    \n",
    "    table.insert(loc=4, column='tasa var 1', value=round((table['var 1']/table['total cat'])*100,2))\n",
    "    table.insert(loc=6, column='tasa var 0', value=round((table['var 0']/table['total cat'])*100,2))\n",
    "    \n",
    "    table.insert(loc=5, column='var 1 acum', value=round((table['var 1'].cumsum()/table['var 1'].sum())*100,2))\n",
    "    table.insert(loc=8, column='var 0 acum', value=round((table['var 0'].cumsum()/table['var 0'].sum())*100,2))\n",
    "    \n",
    "    table['KS'] = round(abs(table['var 1 acum']-table['var 0 acum']),2)\n",
    "    \n",
    "    table['tasa var 0 acum'] = [round((table.iloc[0+i:len(table),table.columns.get_loc('var 0')].sum()/\n",
    "                                       table.iloc[0+i:len(table),table.columns.get_loc('total cat')].sum())*100,2) for i in range(0,len(table))]\n",
    "    \n",
    "    table['odds acum'] = [round((table.iloc[0+i:len(table),table.columns.get_loc('var 1')].sum()/\n",
    "                                 table.iloc[0+i:len(table),table.columns.get_loc('var 0')].sum()),2) for i in range(0,len(table))]\n",
    "    \n",
    "    table['odds'] = round(table['var 1']/table['var 0'],2)\n",
    "    \n",
    "    comp = pd.DataFrame([int(np.where(table.iloc[1+i,table.columns.get_loc('odds')]>= \\\n",
    "                                      table.iloc[0+i,table.columns.get_loc('odds')],0,1)) for i in range(0,len(table)-1)])\n",
    "    \n",
    "    table['quiebres'] = pd.concat([pd.DataFrame([0]),comp]).set_index(table.index)\n",
    "     \n",
    "    table = table.sort_values(by ='rangos', ascending=False)\n",
    "    \n",
    "    table.reset_index(inplace=True)\n",
    "    \n",
    "    last_row = pd.DataFrame(['total',\n",
    "                             table['total cat'].sum(),\n",
    "                             round(table['% total cat'].sum()),\n",
    "                             '',\n",
    "                             table['var 1'].sum(),\n",
    "                             round((table['var 1'].sum()/table['total cat'].sum())*100,2),\n",
    "                             '',\n",
    "                             table['var 0'].sum(),\n",
    "                             round((table['var 0'].sum()/table['total cat'].sum())*100,2),\n",
    "                             '',\n",
    "                             table['KS'].max(),\n",
    "                             '',\n",
    "                             '',\n",
    "                             round(table['var 1'].sum()/table['var 0'].sum(),2),\n",
    "                             table['quiebres'].sum()]).T\n",
    "    \n",
    "    last_row.columns = table.columns\n",
    "\n",
    "    table = table.append(last_row)\n",
    "    \n",
    "    return table\n",
    "\n",
    "\n"
   ]
  },
  {
   "cell_type": "code",
   "execution_count": null,
   "metadata": {},
   "outputs": [],
   "source": [
    "pd.crosstab(tabla_final['decil'],tabla_final['venta'])"
   ]
  },
  {
   "cell_type": "code",
   "execution_count": null,
   "metadata": {},
   "outputs": [],
   "source": [
    "pd.crosstab(base_analyticsF['decil'],base_analyticsF['activacion'])"
   ]
  },
  {
   "cell_type": "code",
   "execution_count": null,
   "metadata": {
    "scrolled": true
   },
   "outputs": [],
   "source": [
    "tabla = backtesting(tabla_final,'score','venta',5,cutoff = np.nan)\n",
    "tabla"
   ]
  },
  {
   "cell_type": "code",
   "execution_count": null,
   "metadata": {},
   "outputs": [],
   "source": [
    "#tabla = backtesting(scores_dfF,'score','agendados',10,cutoff = [1,304,327,367,395,418,449,491,590,605,800])\n",
    "#tabla"
   ]
  },
  {
   "cell_type": "code",
   "execution_count": null,
   "metadata": {},
   "outputs": [],
   "source": [
    "### Estabilidad\n",
    "tabla_final['decil_mod']=pd.qcut(tabla_final['score'].rank(method='first'),10, labels=False)\n",
    "pd.crosstab(tabla_final['decil'],tabla_final['mes_campaña'])"
   ]
  },
  {
   "cell_type": "code",
   "execution_count": null,
   "metadata": {},
   "outputs": [],
   "source": [
    "pd.pivot_table(tabla_final, index='decil', columns=['mes_campaña','venta'], aggfunc='count')['FECHA']"
   ]
  },
  {
   "cell_type": "code",
   "execution_count": null,
   "metadata": {},
   "outputs": [],
   "source": [
    "pd.pivot_table(base_analyticsF, index='decil', columns=['mes_campaña','activacion'], aggfunc='count')['FECHA']"
   ]
  },
  {
   "cell_type": "markdown",
   "metadata": {},
   "source": [
    "### Agregando el primer uso"
   ]
  },
  {
   "cell_type": "code",
   "execution_count": null,
   "metadata": {},
   "outputs": [],
   "source": [
    "path_mf = r's3://data-bpop-dev-sandbox/estandarizado/transacciones/tarjeta-credito-masterfile/'\n",
    "\n",
    "def trx_masterfile(fecha):\n",
    "    \"\"\"\n",
    "    Descripcion; Función para hacer tratamiento masterfile para una única tabla\n",
    "    Parámetros: fecha (numérico) en formato yyyymm\n",
    "    Retorno: data masterfile con el tratamiento adecuado de una sóla tabla\n",
    "    ejemplo: trx_masterfile(202006)\n",
    "    \"\"\"\n",
    "    #fecha = 202108\n",
    "    day = \"01\"\n",
    "    fecha_hoy = str(fecha) + day\n",
    "    fecha_total = int(fecha_hoy)  ###Con este valor se realiza la busqueda sobre las tablas acumuladas\n",
    "    ##A continuacion, se detallan algunas fechas\n",
    "    start = datetime.strptime(str(fecha_hoy), '%Y%m%d').strftime('%m/%d/%Y')\n",
    "    start = datetime.strptime(start, \"%m/%d/%Y\")\n",
    "    ##Para obtener la ficha inicial y la fecha final dia 1 y dia final del mes\n",
    "    fecha_inicial = start\n",
    "    fecha_final = start + timedelta(days=35)  ##un mes despues\n",
    "    fecha_final = fecha_final - timedelta(days=fecha_final.day)\n",
    "    ##Para convrtir en formato fecha\n",
    "    fecha_inicial = fecha_inicial.strftime('%Y%m%d')\n",
    "    fecha_final = fecha_final.strftime('%Y%m%d')\n",
    "    ##A cotninuación, se define el nombre de la tabla\n",
    "    ##Información importante: !!!!\n",
    "    ## Dado que aún no se encuentra estandarizado los datos, entonces, se define el nombre de las tablas\n",
    "    ## de la siguiente forma:\n",
    "\n",
    "    if (fecha_total >= 20201001):\n",
    "        file = 'transacciones_tarjeta-credito-masterfile_masterfile_M' + str(fecha)\n",
    "    else:\n",
    "        if (fecha_total >= 20200701 and fecha_total <= 20200930):\n",
    "            file = \"transacciones_tarjeta-credito-masterfile_masterfile_H20200701-20200930\"\n",
    "        else:\n",
    "            if (fecha_total >= 20200101 and fecha_total <= 20200630):\n",
    "                file = \"transacciones_tarjeta-credito-masterfile_masterfile_H20200101-20200630\"\n",
    "            else:\n",
    "                if (fecha_total >= 20190701 and fecha_total <= 20191231):\n",
    "                    file = \"transacciones_tarjeta-credito-masterfile_masterfile_H20190701-20191231\"\n",
    "                else:\n",
    "                    if (fecha_total >= 20190101 and fecha_total <= 20190630):\n",
    "                        file = \"transacciones_tarjeta-credito-masterfile_masterfile_H20190101-20190630\"\n",
    "                    else:\n",
    "                        file = \"transacciones_tarjeta-credito-masterfile_masterfile_H20180701-20181231\"\n",
    "    ##Para determinar la ruta fuente de la tabla transaccional\n",
    "\n",
    "    path = path_mf\n",
    "    #list_files(path)\n",
    "    #Para definir al ruta completa\n",
    "\n",
    "    #A continuación,se construye una función que determina si la tabla existe para la fecha dada\n",
    "    if file in list_files(path):\n",
    "        print(\"Si existe la data trx masterfile para la fecha \" + str(fecha))\n",
    "        ##A continuación, se realiza una lectura de la data transaccional repgesco\n",
    "        data = spark.read.parquet(path + file)\n",
    "        # data.show()\n",
    "        # vector_columns = data.columns\n",
    "        # len(vector_columns)\n",
    "        # data.count()\n",
    "        ##Para seleccionar únicamente las transacciones asociadas a compras y avances\n",
    "        ##Para seleccionar únicamente las transacciones asociadas a compras y avances\n",
    "        vector = ['2021', '2043', '5002', '5006', '5013', '5015',\n",
    "                  '5022', '8001', '8003', '8004', '8006', '8007',\n",
    "                  '8008', '8109', '2332', '2321', '2362', '8511',\n",
    "                  '8509', '8511', '2024', '2025', '2026', '2041',\n",
    "                  '2324', '2334', '2363', '5075', '2333', '2328',\n",
    "                  '8011', '8017']\n",
    "        data = data.filter(data.cod_unico_trx.isin(vector))\n",
    "        data = data.withColumn(\"FECHA_COMPROBANTE\", col(\"FECHA_PROCESO\"))\n",
    "        old_names = ['TIPO_ID',\n",
    "                     'IDENTIFICACION_CLIENTE',\n",
    "                     'NRO_CUENTA',\n",
    "                     'NUMERO_TARJETA',\n",
    "                     'COD_UNICO_TRX',\n",
    "                     'FECHA_COMPROBANTE',\n",
    "                     'VALOR_TOTAL',\n",
    "                     'NOMBRE_COMERCIO',\n",
    "                     'CIUDAD_COMERCIO',\n",
    "                     'FECHA_TRANSACCION',\n",
    "                     'COD_MONEDA_ORIGEN',\n",
    "                     'CUOTAS',\n",
    "                     'FECHA_PROCESO',\n",
    "                     'MCC',\n",
    "                     'BIN']\n",
    "        data = data.select(*old_names)\n",
    "        ##A continuación, se realiza el cambio de nombre de variables\n",
    "        new_names = ['TIPO_ID',\n",
    "                     'IDENTIFICACION_CLIENTE',\n",
    "                     'NRO_CUENTA',\n",
    "                     'NUMERO_TARJETA',\n",
    "                     'COD_TRX',\n",
    "                     'FECHA_COMPROBANTE',\n",
    "                     'VALOR_TOTAL',\n",
    "                     'NOMBRE_COMERCIO',\n",
    "                     'CIUDAD_COMERCIO',\n",
    "                     'FECHA_TRANSACCION',\n",
    "                     'COD_MONEDA_ORIGEN',\n",
    "                     'CUOTAS',\n",
    "                     'FECHA_PROCESO',\n",
    "                     'MCC',\n",
    "                     'BIN']\n",
    "        mapping = dict(zip(old_names, new_names))\n",
    "        data = data.select([col(c).alias(mapping.get(c, c)) for c in data.columns])\n",
    "        ##Para construir la variable tipo de TC\n",
    "        data = data.withColumn(\"Tipo_TC\", when(col(\"BIN\") == 474638, \"Express\").\n",
    "                               when(col(\"BIN\") == 434761, \"La 14\").\n",
    "                               when(col(\"BIN\") == 409648, \"La 14\").\n",
    "                               when(col(\"BIN\") == 409649, \"La 14\").\n",
    "                               otherwise(\"Tradicional\"))\n",
    "        ##Seleccionar únicamente tarjetas de crédito tradicional\n",
    "        data = data.filter(col(\"Tipo_TC\") == \"Tradicional\")\n",
    "        ##Para no seleccionar las tarjetas de creditos empresariales\n",
    "        data = data.filter(col(\"BIN\") != 454476)\n",
    "        ##Para seleccionar las variables importantes\n",
    "        variables_importantes = ['TIPO_ID',\n",
    "                                 'IDENTIFICACION_CLIENTE',\n",
    "                                 'NRO_CUENTA',\n",
    "                                 'NUMERO_TARJETA',\n",
    "                                 'FECHA_TRANSACCION',\n",
    "                                 'VALOR_TOTAL',\n",
    "                                 'NOMBRE_COMERCIO',\n",
    "                                 'CUOTAS',\n",
    "                                 'Tipo_TC',\n",
    "                                 \"MCC\"]\n",
    "        data = data.select(*variables_importantes)\n",
    "        data = data.withColumn(\n",
    "            'FECHA_TRANSACCION',\n",
    "            from_unixtime(unix_timestamp('FECHA_TRANSACCION', 'dd/MM/yyy')).alias('FECHA_TRANSACCION'))\n",
    "        ##Para seleccionar las transacciones asociadas al mes de interés\n",
    "        fecha_inicial = fecha_inicial[0:4] + \"-\" + fecha_inicial[4:6] + \"-\" + fecha_inicial[6:9] + \" 00:00:00\"\n",
    "        fecha_final = fecha_final[0:4] + \"-\" + fecha_final[4:6] + \"-\" + fecha_final[6:9] + \" 00:00:00\"\n",
    "        data = data.filter(\n",
    "            (col('FECHA_TRANSACCION') >= fecha_inicial) & (col('FECHA_TRANSACCION') <= fecha_final))\n",
    "        data = data.withColumn(\"periodo\", lit(fecha))\n",
    "        data = data.dropDuplicates()\n",
    "        # data.show()\n",
    "        # express_la_14 = data.filter(col(\"Tipo_TC\") != \"Tradicional\")\n",
    "        # express_la_14.show()\n",
    "        # express_la_14.count()\n",
    "        # data.count()\n",
    "        print(\"Se ha realizado el correcto tratamiento de la data masterfile periodo \" + str(fecha))\n",
    "        # data.show()\n",
    "        return (data)\n",
    "    else:\n",
    "        print(\"No existe la data trx masterfile para la fecha \" + str(fecha))\n"
   ]
  },
  {
   "cell_type": "code",
   "execution_count": null,
   "metadata": {},
   "outputs": [],
   "source": [
    "dates = [202103,202104,202105,202105,202106,202107,202108,202109,\n",
    "         202110,202111,202112]\n",
    "\n",
    "for ix, date in enumerate(dates):\n",
    "    print(\"Fecha:\", date)\n",
    "    if ix==0:\n",
    "        data_trx = trx_masterfile(date)\n",
    "        gc.collect()\n",
    "    else:\n",
    "        data_temp = trx_masterfile(date)\n",
    "        data_trx = pd.concat([data_trx,data_temp],ignore_index=True)\n",
    "        \n",
    "        del data_temp\n",
    "        gc.collect()\n",
    "    "
   ]
  },
  {
   "cell_type": "code",
   "execution_count": null,
   "metadata": {},
   "outputs": [],
   "source": []
  },
  {
   "cell_type": "code",
   "execution_count": null,
   "metadata": {},
   "outputs": [],
   "source": []
  },
  {
   "cell_type": "code",
   "execution_count": null,
   "metadata": {},
   "outputs": [],
   "source": []
  },
  {
   "cell_type": "code",
   "execution_count": null,
   "metadata": {},
   "outputs": [],
   "source": [
    "aaaaaa"
   ]
  },
  {
   "cell_type": "code",
   "execution_count": null,
   "metadata": {},
   "outputs": [],
   "source": [
    "## Crear variable meses\n",
    "def func_var_camp_act(gp_temp, ids):\n",
    "    \n",
    "    #producing the first dataframe\n",
    "    base_out = pd.DataFrame(index=ids) # this is different from the actual prod code\n",
    "    base_out['mes_campaña'] = date.strftime('%Y-%m-%d')\n",
    "    \n",
    "    ## Calculando días primer uso\n",
    "    base_out['mes_ult_camp'] =  gp_temp['mes_campaña'].max()\n",
    "    base_out['mes_ult_act'] =  gp_temp['fecha_activacion'].max()\n",
    "    base_out.loc[base_out['mes_ult_camp'].notnull(),'num_meses_ult_camp'] = (date - base_out.loc[base_out['mes_ult_camp'].notnull(),'mes_ult_camp'])/pd.offsets.Day(30)\n",
    "    base_out.loc[base_out['mes_ult_act'].notnull(),'num_meses_ult_actv'] = (date - base_out.loc[base_out['mes_ult_act'].notnull(),'mes_ult_act'])/pd.offsets.Day(30)\n",
    "    \n",
    "    base_out['num_camp_ult_meses'] = gp_temp['mes_campaña'].count()\n",
    "    base_out['num_act_utl_meses'] = gp_temp['venta'].sum()\n",
    "    base_out['num_no_aceptado'] = gp_temp['venta'].value_counts().unstack()[0].fillna(0).astype(int)\n",
    "    base_out['acep_oferta_prev'] = gp_temp['venta'].max()\n",
    "    \n",
    "    return base_out"
   ]
  },
  {
   "cell_type": "code",
   "execution_count": null,
   "metadata": {},
   "outputs": [],
   "source": [
    "\n",
    "\n",
    "for ix, dates in enumerate(str_dates[1:]):\n",
    "    print('Periodo:', dates)\n",
    "    date = pd.to_datetime(dates,format='%Y-%m')\n",
    "    \n",
    "    ids = list(base_final.loc[base_final['mes_campaña']==date,'cedula'].unique())\n",
    "    gp_temp = base_final[base_final['mes_campaña']<date].groupby('cedula')\n",
    "    #gp_temp_ap = base_final[(base_final['mes_campaña']<date)&(base_final['CUPO_APROBADO'].notnull())].groupby('cedula')\n",
    "    \n",
    "    if ix == 0:\n",
    "        tabla_final = func_var_camp_act(gp_temp, ids)\n",
    "        \n",
    "     #   if len(gp_temp_ap)>0:\n",
    "     #       tabla_final['prom_cupo_aprob'] = gp_temp_ap['CUPO_APROBADO'].mean()\n",
    "    \n",
    "        tabla_final.index.rename('cedula', inplace=True)\n",
    "        tabla_final.reset_index(inplace = True)\n",
    "    else:\n",
    "        base_temp = func_var_camp_act(gp_temp, ids)\n",
    "        \n",
    "     #   if len(gp_temp_ap)>0:\n",
    "     #       base_temp['prom_cupo_aprob'] = gp_temp_ap['CUPO_APROBADO'].mean()\n",
    "    \n",
    "        base_temp.index.rename('cedula', inplace=True)\n",
    "        base_temp.reset_index(inplace = True)\n",
    "        \n",
    "        tabla_final = pd.concat([tabla_final, base_temp], ignore_index=True)\n",
    "        \n",
    "        del base_temp\n",
    "    del gp_temp, date\n",
    "\n",
    "## Cast index        \n",
    "tabla_final['cedula'] = tabla_final['cedula'].fillna('-999') \n",
    "tabla_final['cedula'] = tabla_final['cedula'].astype('int')    "
   ]
  },
  {
   "cell_type": "code",
   "execution_count": null,
   "metadata": {},
   "outputs": [],
   "source": [
    "tabla_final= tabla_final[['cedula', 'mes_campaña','acep_oferta_prev', 'mes_ult_act',\n",
    "       'mes_ult_camp', 'num_act_utl_meses', 'num_camp_ult_meses',\n",
    "       'num_meses_ult_actv', 'num_meses_ult_camp', 'num_no_aceptado']]"
   ]
  },
  {
   "cell_type": "code",
   "execution_count": null,
   "metadata": {},
   "outputs": [],
   "source": [
    "tabla_final.count()"
   ]
  },
  {
   "cell_type": "code",
   "execution_count": null,
   "metadata": {},
   "outputs": [],
   "source": [
    "tabla_final"
   ]
  },
  {
   "cell_type": "code",
   "execution_count": null,
   "metadata": {},
   "outputs": [],
   "source": [
    "tabla_final.describe()"
   ]
  },
  {
   "cell_type": "code",
   "execution_count": null,
   "metadata": {},
   "outputs": [],
   "source": [
    "tabla_final.dtypes"
   ]
  },
  {
   "cell_type": "code",
   "execution_count": null,
   "metadata": {},
   "outputs": [],
   "source": [
    "tabla_final = tabla_final[(tabla_final['cedula'].notnull()) & (tabla_final['mes_campaña'].notnull())]\n",
    "tabla_final = tabla_final.drop_duplicates()"
   ]
  },
  {
   "cell_type": "code",
   "execution_count": null,
   "metadata": {},
   "outputs": [],
   "source": [
    "tabla_final['data_camp'] = pd.to_datetime(tabla_final['mes_campaña'], format='%Y-%m-%d').dt.strftime('%Y%m').astype('int')\n",
    "tabla_final"
   ]
  },
  {
   "cell_type": "code",
   "execution_count": null,
   "metadata": {},
   "outputs": [],
   "source": [
    "tabla_final.shape"
   ]
  },
  {
   "cell_type": "code",
   "execution_count": null,
   "metadata": {},
   "outputs": [],
   "source": [
    "tabla_final.count()"
   ]
  },
  {
   "cell_type": "code",
   "execution_count": null,
   "metadata": {},
   "outputs": [],
   "source": [
    "base_final[base_final['cedula']==23132562]"
   ]
  },
  {
   "cell_type": "code",
   "execution_count": null,
   "metadata": {},
   "outputs": [],
   "source": [
    "tabla_final[tabla_final['cedula']==23132562]"
   ]
  },
  {
   "cell_type": "code",
   "execution_count": null,
   "metadata": {},
   "outputs": [],
   "source": [
    "tabla_final['mes_campaña'].value_counts()"
   ]
  },
  {
   "cell_type": "code",
   "execution_count": null,
   "metadata": {},
   "outputs": [],
   "source": [
    "tabla_final = tabla_final.sort_values(['cedula', 'mes_campaña'])\n",
    "#tabla_final = tabla_final.drop_duplicates(subset=['id_cliente'], keep='first')"
   ]
  },
  {
   "cell_type": "code",
   "execution_count": null,
   "metadata": {},
   "outputs": [],
   "source": [
    "tabla_final.head(20)"
   ]
  },
  {
   "cell_type": "markdown",
   "metadata": {},
   "source": [
    "### Guardando Base:"
   ]
  },
  {
   "cell_type": "code",
   "execution_count": null,
   "metadata": {},
   "outputs": [],
   "source": [
    "periodo = '202106'\n",
    "path_final = 's3://adl-refined-dev-popular/parquet/TC_adquisicion/data_camp_act_M'\n",
    "\n",
    "tabla_final.to_parquet(path_final+periodo, engine = 'pyarrow', index = False)"
   ]
  },
  {
   "cell_type": "code",
   "execution_count": null,
   "metadata": {},
   "outputs": [],
   "source": [
    "path_final+periodo"
   ]
  },
  {
   "cell_type": "code",
   "execution_count": null,
   "metadata": {},
   "outputs": [],
   "source": [
    "aaaaaa"
   ]
  },
  {
   "cell_type": "code",
   "execution_count": null,
   "metadata": {},
   "outputs": [],
   "source": []
  },
  {
   "cell_type": "markdown",
   "metadata": {},
   "source": [
    "### Process"
   ]
  },
  {
   "cell_type": "code",
   "execution_count": null,
   "metadata": {},
   "outputs": [],
   "source": [
    "path = \"s3://data-bpop-dev-sandbox/estandarizado/productos/libranzas/productos_libranzas_dwh_M202112\"\n",
    "data = spark_read_parquet(path)\n",
    "\n",
    "data.head()"
   ]
  }
 ],
 "metadata": {
  "kernelspec": {
   "display_name": "Python 3",
   "language": "python",
   "name": "python3"
  },
  "language_info": {
   "codemirror_mode": {
    "name": "ipython",
    "version": 3
   },
   "file_extension": ".py",
   "mimetype": "text/x-python",
   "name": "python",
   "nbconvert_exporter": "python",
   "pygments_lexer": "ipython3",
   "version": "3.7.3"
  }
 },
 "nbformat": 4,
 "nbformat_minor": 2
}
