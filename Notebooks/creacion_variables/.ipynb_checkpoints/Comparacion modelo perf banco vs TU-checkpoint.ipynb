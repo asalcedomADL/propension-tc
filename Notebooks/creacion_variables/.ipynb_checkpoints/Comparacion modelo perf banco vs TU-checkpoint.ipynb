{
 "cells": [
  {
   "cell_type": "code",
   "execution_count": 1,
   "metadata": {},
   "outputs": [],
   "source": [
    "# Paquetes\n",
    "import pandas as pd\n",
    "import numpy as np\n",
    "import os\n",
    "from datetime import datetime, timedelta\n",
    "import dateutil.relativedelta\n",
    "import gc\n",
    "\n",
    "pd.set_option('display.max_columns',None)\n",
    "pd.set_option('display.max_rows',400)"
   ]
  },
  {
   "cell_type": "markdown",
   "metadata": {},
   "source": [
    "# Cargando TU"
   ]
  },
  {
   "cell_type": "code",
   "execution_count": 2,
   "metadata": {},
   "outputs": [
    {
     "name": "stdout",
     "output_type": "stream",
     "text": [
      "(13565, 14)\n"
     ]
    },
    {
     "data": {
      "text/html": [
       "<div>\n",
       "<style scoped>\n",
       "    .dataframe tbody tr th:only-of-type {\n",
       "        vertical-align: middle;\n",
       "    }\n",
       "\n",
       "    .dataframe tbody tr th {\n",
       "        vertical-align: top;\n",
       "    }\n",
       "\n",
       "    .dataframe thead th {\n",
       "        text-align: right;\n",
       "    }\n",
       "</style>\n",
       "<table border=\"1\" class=\"dataframe\">\n",
       "  <thead>\n",
       "    <tr style=\"text-align: right;\">\n",
       "      <th></th>\n",
       "      <th>TIPO_IDENTIFICACION</th>\n",
       "      <th>NUMERO_IDENTIFICACION</th>\n",
       "      <th>NOMBRE_CAMPAÑA</th>\n",
       "      <th>FECHA_INICIO</th>\n",
       "      <th>FECHA_FIN</th>\n",
       "      <th>TIPO</th>\n",
       "      <th>CIUDAD_CRM</th>\n",
       "      <th>ID_CLIENTE</th>\n",
       "      <th>ID_NUM_IDENTIFICACION</th>\n",
       "      <th>SCORE</th>\n",
       "      <th>DECIL</th>\n",
       "      <th>GRUPO_PROB</th>\n",
       "      <th>GRUPOS</th>\n",
       "      <th>SEGMENTO</th>\n",
       "    </tr>\n",
       "  </thead>\n",
       "  <tbody>\n",
       "    <tr>\n",
       "      <th>0</th>\n",
       "      <td>1</td>\n",
       "      <td>10001108</td>\n",
       "      <td>Act_02_19_202007</td>\n",
       "      <td>44044</td>\n",
       "      <td>44135</td>\n",
       "      <td>CLIENTE ACTIVO</td>\n",
       "      <td>BOGOTA</td>\n",
       "      <td>205552310859223401</td>\n",
       "      <td>10001108</td>\n",
       "      <td>0.000330</td>\n",
       "      <td>2.0</td>\n",
       "      <td>grupo_prob_alta</td>\n",
       "      <td>grupo_mkd</td>\n",
       "      <td>seg_perfilado</td>\n",
       "    </tr>\n",
       "    <tr>\n",
       "      <th>1</th>\n",
       "      <td>1</td>\n",
       "      <td>10003005</td>\n",
       "      <td>Act_02_19_202007</td>\n",
       "      <td>44044</td>\n",
       "      <td>44135</td>\n",
       "      <td>CLIENTE ACTIVO</td>\n",
       "      <td>GIRARDOT</td>\n",
       "      <td>767952295444029901</td>\n",
       "      <td>10003005</td>\n",
       "      <td>0.001942</td>\n",
       "      <td>1.0</td>\n",
       "      <td>grupo_prob_alta</td>\n",
       "      <td>grupo_mkd</td>\n",
       "      <td>seg_perfilado</td>\n",
       "    </tr>\n",
       "    <tr>\n",
       "      <th>2</th>\n",
       "      <td>1</td>\n",
       "      <td>10011983</td>\n",
       "      <td>Act_02_19_202007</td>\n",
       "      <td>44044</td>\n",
       "      <td>44135</td>\n",
       "      <td>CLIENTE ACTIVO</td>\n",
       "      <td>CALI</td>\n",
       "      <td>521152307006793601</td>\n",
       "      <td>10011983</td>\n",
       "      <td>0.000021</td>\n",
       "      <td>5.0</td>\n",
       "      <td>grupo_prob_baja</td>\n",
       "      <td>grupo_mkd</td>\n",
       "      <td>seg_perfilado</td>\n",
       "    </tr>\n",
       "    <tr>\n",
       "      <th>3</th>\n",
       "      <td>1</td>\n",
       "      <td>10012781</td>\n",
       "      <td>Act_02_19_202007</td>\n",
       "      <td>44044</td>\n",
       "      <td>44135</td>\n",
       "      <td>CLIENTE ACTIVO</td>\n",
       "      <td>BOGOTA</td>\n",
       "      <td>158852311657703101</td>\n",
       "      <td>10012781</td>\n",
       "      <td>0.000099</td>\n",
       "      <td>3.0</td>\n",
       "      <td>grupo_prob_alta</td>\n",
       "      <td>grupo_mkd</td>\n",
       "      <td>seg_perfilado</td>\n",
       "    </tr>\n",
       "    <tr>\n",
       "      <th>4</th>\n",
       "      <td>1</td>\n",
       "      <td>10012969</td>\n",
       "      <td>Act_02_19_202007</td>\n",
       "      <td>44044</td>\n",
       "      <td>44135</td>\n",
       "      <td>CLIENTE ACTIVO</td>\n",
       "      <td>MEDELLIN</td>\n",
       "      <td>797552318205826201</td>\n",
       "      <td>10012969</td>\n",
       "      <td>0.000557</td>\n",
       "      <td>2.0</td>\n",
       "      <td>grupo_prob_alta</td>\n",
       "      <td>grupo_mkd</td>\n",
       "      <td>seg_perfilado</td>\n",
       "    </tr>\n",
       "  </tbody>\n",
       "</table>\n",
       "</div>"
      ],
      "text/plain": [
       "   TIPO_IDENTIFICACION NUMERO_IDENTIFICACION    NOMBRE_CAMPAÑA  FECHA_INICIO  \\\n",
       "0                    1              10001108  Act_02_19_202007         44044   \n",
       "1                    1              10003005  Act_02_19_202007         44044   \n",
       "2                    1              10011983  Act_02_19_202007         44044   \n",
       "3                    1              10012781  Act_02_19_202007         44044   \n",
       "4                    1              10012969  Act_02_19_202007         44044   \n",
       "\n",
       "   FECHA_FIN            TIPO CIUDAD_CRM          ID_CLIENTE  \\\n",
       "0      44135  CLIENTE ACTIVO     BOGOTA  205552310859223401   \n",
       "1      44135  CLIENTE ACTIVO   GIRARDOT  767952295444029901   \n",
       "2      44135  CLIENTE ACTIVO       CALI  521152307006793601   \n",
       "3      44135  CLIENTE ACTIVO     BOGOTA  158852311657703101   \n",
       "4      44135  CLIENTE ACTIVO   MEDELLIN  797552318205826201   \n",
       "\n",
       "  ID_NUM_IDENTIFICACION     SCORE  DECIL       GRUPO_PROB     GRUPOS  \\\n",
       "0              10001108  0.000330    2.0  grupo_prob_alta  grupo_mkd   \n",
       "1              10003005  0.001942    1.0  grupo_prob_alta  grupo_mkd   \n",
       "2              10011983  0.000021    5.0  grupo_prob_baja  grupo_mkd   \n",
       "3              10012781  0.000099    3.0  grupo_prob_alta  grupo_mkd   \n",
       "4              10012969  0.000557    2.0  grupo_prob_alta  grupo_mkd   \n",
       "\n",
       "        SEGMENTO  \n",
       "0  seg_perfilado  \n",
       "1  seg_perfilado  \n",
       "2  seg_perfilado  \n",
       "3  seg_perfilado  \n",
       "4  seg_perfilado  "
      ]
     },
     "execution_count": 2,
     "metadata": {},
     "output_type": "execute_result"
    }
   ],
   "source": [
    "# Cargando base final\n",
    "\n",
    "path = 's3://adl-refined-dev-popular/parquet/TC_adquisicion/muestra_perfiladosPiloto'\n",
    "\n",
    "data_final = pd.read_parquet(path, engine='pyarrow')\n",
    "print(data_final.shape)\n",
    "data_final.head()"
   ]
  },
  {
   "cell_type": "code",
   "execution_count": 3,
   "metadata": {},
   "outputs": [
    {
     "data": {
      "text/plain": [
       "TIPO_IDENTIFICACION        int64\n",
       "NUMERO_IDENTIFICACION     object\n",
       "NOMBRE_CAMPAÑA            object\n",
       "FECHA_INICIO               int64\n",
       "FECHA_FIN                  int64\n",
       "TIPO                      object\n",
       "CIUDAD_CRM                object\n",
       "ID_CLIENTE                object\n",
       "ID_NUM_IDENTIFICACION     object\n",
       "SCORE                    float32\n",
       "DECIL                    float64\n",
       "GRUPO_PROB                object\n",
       "GRUPOS                    object\n",
       "SEGMENTO                  object\n",
       "dtype: object"
      ]
     },
     "execution_count": 3,
     "metadata": {},
     "output_type": "execute_result"
    }
   ],
   "source": [
    "data_final.dtypes"
   ]
  },
  {
   "cell_type": "code",
   "execution_count": null,
   "metadata": {},
   "outputs": [],
   "source": [
    "data_final.columns = data_final.columns.str.lower()\n",
    "\n",
    "data_final['id_cliente'] = data_final['id_cliente'].astype('int')"
   ]
  },
  {
   "cell_type": "markdown",
   "metadata": {},
   "source": [
    "# Cargando info modelo banco"
   ]
  },
  {
   "cell_type": "markdown",
   "metadata": {},
   "source": [
    "## Cargando info libranzas"
   ]
  },
  {
   "cell_type": "code",
   "execution_count": null,
   "metadata": {},
   "outputs": [],
   "source": [
    "# Cargando base final\n",
    "\n",
    "path = 's3://adl-refined-dev-popular/parquet/TC_adquisicion/base_libranzas_202001-202007'\n",
    "\n",
    "data_lib = pd.read_parquet(path, engine='pyarrow')\n",
    "print(data_lib.shape)\n",
    "data_lib.head()"
   ]
  },
  {
   "cell_type": "code",
   "execution_count": null,
   "metadata": {},
   "outputs": [],
   "source": [
    "data_lib.dtypes"
   ]
  },
  {
   "cell_type": "code",
   "execution_count": null,
   "metadata": {},
   "outputs": [],
   "source": [
    "data_lib = data_lib[data_lib['fecha_lib'] == 202007]"
   ]
  },
  {
   "cell_type": "markdown",
   "metadata": {},
   "source": [
    "## Cargando info pasivo"
   ]
  },
  {
   "cell_type": "code",
   "execution_count": null,
   "metadata": {},
   "outputs": [],
   "source": [
    "# Cargando base final\n",
    "\n",
    "path = 's3://adl-refined-dev-popular/parquet/TC_adquisicion/pasivo_201801_202006'\n",
    "\n",
    "data_pasv = pd.read_parquet(path, engine='pyarrow')\n",
    "print(data_pasv.shape)\n",
    "data_pasv.head()"
   ]
  },
  {
   "cell_type": "code",
   "execution_count": null,
   "metadata": {},
   "outputs": [],
   "source": [
    "data_pasv.dtypes"
   ]
  },
  {
   "cell_type": "code",
   "execution_count": null,
   "metadata": {},
   "outputs": [],
   "source": [
    "data_pasv = data_pasv[data_pasv['fecha_pasivo']==202006]"
   ]
  },
  {
   "cell_type": "markdown",
   "metadata": {},
   "source": [
    "## Cargando info TX Pasivo"
   ]
  },
  {
   "cell_type": "code",
   "execution_count": null,
   "metadata": {},
   "outputs": [],
   "source": [
    "path = 's3://adl-refined-dev-popular/parquet/TC_adquisicion/tx_pasivo_202006_vars_finales_model_ambos2'\n",
    "\n",
    "data_txpasv = pd.read_parquet(path, engine='pyarrow')\n",
    "print(data_txpasv.shape)\n",
    "data_txpasv.head()"
   ]
  },
  {
   "cell_type": "code",
   "execution_count": null,
   "metadata": {},
   "outputs": [],
   "source": [
    "# # Cargando base final\n",
    "\n",
    "# path = \"s3://adl-refined-dev-popular/parquet/TC_adquisicion/tx_pasivo_202006_vars_finales_model\"\n",
    "\n",
    "# data_txpasv = pd.read_parquet(path, engine='pyarrow')\n",
    "# print(data_txpasv.shape)\n",
    "# data_txpasv.head()"
   ]
  },
  {
   "cell_type": "code",
   "execution_count": null,
   "metadata": {},
   "outputs": [],
   "source": [
    "data_txpasv['PERIODO'].value_counts()"
   ]
  },
  {
   "cell_type": "code",
   "execution_count": null,
   "metadata": {},
   "outputs": [],
   "source": [
    "data_txpasv.dtypes"
   ]
  },
  {
   "cell_type": "code",
   "execution_count": null,
   "metadata": {},
   "outputs": [],
   "source": [
    "data_txpasv = data_txpasv[data_txpasv['PERIODO']=='202006']"
   ]
  },
  {
   "cell_type": "code",
   "execution_count": null,
   "metadata": {},
   "outputs": [],
   "source": [
    "data_txpasv = data_txpasv.rename(columns={'num_tx_ult_1mes':'num_tx_ult_1mes_pasv','num_tx_ult_2meses':'num_tx_ult_2meses_pasv','num_tx_ult_6meses':'num_tx_ult_6meses_pasv',\n",
    "                                          'sum_tx_linea':'sum_tx_linea_pasv','sum_tx_nolinea':'sum_tx_nolinea_pasv','dias_desde_ult_tx':'dias_desde_ult_tx_pasv'})\n",
    "data_txpasv['id_cliente'] = data_txpasv['id_cliente'].astype('int')"
   ]
  },
  {
   "cell_type": "code",
   "execution_count": null,
   "metadata": {},
   "outputs": [],
   "source": [
    "data_txpasv.head()"
   ]
  },
  {
   "cell_type": "code",
   "execution_count": null,
   "metadata": {},
   "outputs": [],
   "source": [
    "data_finalF = pd.merge(data_final,data_lib, how='left')\n",
    "data_finalF = pd.merge(data_finalF,data_pasv, how='left')\n",
    "data_finalF = pd.merge(data_finalF,data_txpasv, how='left')\n",
    "\n",
    "print(data_final.shape)\n",
    "print(data_finalF.shape)\n",
    "\n",
    "data_finalF.head()"
   ]
  },
  {
   "cell_type": "code",
   "execution_count": null,
   "metadata": {},
   "outputs": [],
   "source": [
    "# ## Set index\n",
    "\n",
    "# data_final.set_index('id_cliente',inplace=True)\n",
    "\n",
    "# data_lib.set_index('id_cliente',inplace=True)\n",
    "# data_pasv.set_index('id_cliente',inplace=True)\n",
    "# data_txpasv.set_index('id_cliente',inplace=True)\n",
    "\n",
    "# data_finalF = data_final.join(data_lib, how='left').join(data_pasv, how='left').join(data_txpasv, how='left')\n",
    "\n",
    "# print(data_final.shape)\n",
    "# print(data_finalF.shape)\n",
    "\n",
    "# data_finalF.head()"
   ]
  },
  {
   "cell_type": "code",
   "execution_count": null,
   "metadata": {},
   "outputs": [],
   "source": [
    "data_finalF.count()/13565*100"
   ]
  },
  {
   "cell_type": "markdown",
   "metadata": {},
   "source": [
    "## Cargando Modelo banco"
   ]
  },
  {
   "cell_type": "code",
   "execution_count": null,
   "metadata": {},
   "outputs": [],
   "source": [
    "import pickle\n",
    "## Cargando Modelo\n",
    "\n",
    "fecha = '20200623' # definir fecha\n",
    "xgboost_filename = '/mnt/work/CU_adquisicionTC/Notebooks/creacion_modelo/Modelos PKL/Model_perf_'+fecha+'_VFinal.pkl'\n",
    "xgboost_pkl = open(xgboost_filename, 'rb')\n",
    "model = pickle.load(xgboost_pkl)\n"
   ]
  },
  {
   "cell_type": "code",
   "execution_count": null,
   "metadata": {},
   "outputs": [],
   "source": [
    "columns = ['sum_tx_linea_pasv','pasv_antig_total','dias_desde_ult_tx_pasv',\n",
    "    'pasv_num_meses_ult_apertura','pasv_dias_desde_ultima_trans','num_tx_ult_4meses_ahr','pasv_saldo_total_1mes_atras',\n",
    "           'num_tx_ult_2meses_pasv','num_tx_ult_1mes_pasv','min_anos_ult_lib',\n",
    "           'prom_monto_desembolsado','sum_tx_nolinea_ahr','num_tx_ult_6meses_pasv','prom_tasa']"
   ]
  },
  {
   "cell_type": "code",
   "execution_count": null,
   "metadata": {},
   "outputs": [],
   "source": [
    "data_finalF[columns].head()"
   ]
  },
  {
   "cell_type": "code",
   "execution_count": null,
   "metadata": {},
   "outputs": [],
   "source": [
    "# Score info banco\n",
    "\n",
    "data_finalF['score_info_banco'] = model.predict_proba(data_finalF[columns])[:, 1]\n"
   ]
  },
  {
   "cell_type": "code",
   "execution_count": null,
   "metadata": {},
   "outputs": [],
   "source": [
    "# decil Test\n",
    "data_finalF['decil_info_banco'] = np.where(data_finalF['score_info_banco'] <= 0.000159, 1,\n",
    "                                    np.where(data_finalF['score_info_banco'] <= 0.000282, 2,\n",
    "                                            np.where(data_finalF['score_info_banco'] <= 0.000636, 3,\n",
    "                                                    np.where(data_finalF['score_info_banco'] <= 0.001883, 4, 5))))"
   ]
  },
  {
   "cell_type": "code",
   "execution_count": null,
   "metadata": {},
   "outputs": [],
   "source": [
    "# Grupos Probabilidad\n",
    "data_finalF['grupo_prob_info_banco'] = np.where(data_finalF['decil_info_banco'] >= 3, 'grupo_prob_alta', 'grupo_prob_baja')"
   ]
  },
  {
   "cell_type": "code",
   "execution_count": null,
   "metadata": {},
   "outputs": [],
   "source": [
    "data_finalF['decil_TU'] = [6-x for x in data_finalF['decil'] if x>0] "
   ]
  },
  {
   "cell_type": "code",
   "execution_count": null,
   "metadata": {},
   "outputs": [],
   "source": [
    "data_finalF.head()"
   ]
  },
  {
   "cell_type": "code",
   "execution_count": null,
   "metadata": {},
   "outputs": [],
   "source": [
    "data_finalF.count()"
   ]
  },
  {
   "cell_type": "code",
   "execution_count": null,
   "metadata": {},
   "outputs": [],
   "source": [
    "## Comparación decil\n",
    "\n",
    "pd.crosstab(data_finalF['decil_info_banco'],data_finalF['decil_TU'])\n"
   ]
  },
  {
   "cell_type": "code",
   "execution_count": null,
   "metadata": {},
   "outputs": [],
   "source": [
    "pd.crosstab(data_finalF['grupo_prob_info_banco'],data_finalF['grupo_prob'])"
   ]
  },
  {
   "cell_type": "code",
   "execution_count": null,
   "metadata": {},
   "outputs": [],
   "source": [
    "## Guardando base\n",
    "path = '/mnt/work/CU_adquisicionTC/objects/base_compar_scores_perf.csv'\n",
    "\n",
    "data_finalF.to_csv(path, sep='|', encoding='utf-8')"
   ]
  }
 ],
 "metadata": {
  "kernelspec": {
   "display_name": "Python 3",
   "language": "python",
   "name": "python3"
  },
  "language_info": {
   "codemirror_mode": {
    "name": "ipython",
    "version": 3
   },
   "file_extension": ".py",
   "mimetype": "text/x-python",
   "name": "python",
   "nbconvert_exporter": "python",
   "pygments_lexer": "ipython3",
   "version": "3.7.3"
  }
 },
 "nbformat": 4,
 "nbformat_minor": 2
}
