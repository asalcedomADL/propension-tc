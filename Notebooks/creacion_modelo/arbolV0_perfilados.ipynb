{
 "cells": [
  {
   "cell_type": "code",
   "execution_count": 1,
   "metadata": {},
   "outputs": [],
   "source": [
    "import pandas as pd\n",
    "import numpy as np\n",
    "from sklearn.tree import DecisionTreeClassifier , export_graphviz\n",
    "from sklearn.model_selection import train_test_split # Import train_test_split function\n",
    "import os\n",
    "import s3fs\n",
    "import pyarrow.parquet as pq\n",
    "\n",
    "pd.set_option('max_rows',None)\n",
    "pd.set_option('max_columns',None)\n",
    "\n",
    "# os.chdir('/../mnt')\n",
    "\n",
    "def train_tree(mdt, y_var, params_dict):\n",
    "    \"\"\"\n",
    "    Trains the tree to produce the profile\n",
    "    :param params_dict:\n",
    "    :return:\n",
    "    \"\"\"\n",
    "    # Parameters\n",
    "    predictive_vars = params_dict['predictive_cols']\n",
    "    min_percent_leaf = params_dict['min_percent_leaf']\n",
    "\n",
    "    mdt = mdt[predictive_vars]\n",
    "\n",
    "    reg_tree = DecisionTreeClassifier(criterion=\"entropy\", max_depth=3,min_samples_leaf=int(mdt.shape[0] * min_percent_leaf))\n",
    "\n",
    "    reg_tree.fit(mdt, y_var)\n",
    "\n",
    "    return reg_tree\n",
    "\n",
    "\n",
    "def produce_dot_file(trained_tree, file_name):\n",
    "    full_path = params_dict['output_path'] + file_name\n",
    "    export_graphviz(trained_tree, feature_names=params_dict['predictive_cols'],\n",
    "                    out_file=full_path,\n",
    "                    filled=True, proportion=True,\n",
    "                    rounded=True)\n",
    "\n",
    "\n",
    "def main(mdt, y_var):\n",
    "    name = 'tree_'+params_dict['segment_name']+'_V0.dot'\n",
    "    my_tree = train_tree(mdt, y_var, params_dict)\n",
    "    produce_dot_file(my_tree, name)\n",
    "    print('Tree produced')\n",
    "    return my_tree\n",
    "\n"
   ]
  },
  {
   "cell_type": "code",
   "execution_count": 2,
   "metadata": {},
   "outputs": [],
   "source": [
    "# Definir parámetros\n",
    "params_dict = {'min_percent_leaf': 0.05,\n",
    "               'input_path':'s3://adl-refined-dev-popular/parquet/TC_adquisicion/total_tdc_perf',\n",
    "              'output_path':'/mnt/work/CU_adquisicionTC/Notebooks/creacion modelo/resultados_arbolV0/',\n",
    "              'segment_name':'perfilados'}"
   ]
  },
  {
   "cell_type": "code",
   "execution_count": 3,
   "metadata": {},
   "outputs": [],
   "source": [
    "fs = s3fs.S3FileSystem()\n",
    "\n",
    "# Leyendo base\n",
    "input = params_dict['input_path']\n",
    "dataset = pq.ParquetDataset(input, filesystem=fs)\n",
    "table = dataset.read()\n",
    "mdt = table.to_pandas()\n",
    "\n",
    "del input, dataset, table\n",
    "\n",
    "# Definiendo Var Obj'var_final'etivo\n",
    "y_var = 'var_final'\n"
   ]
  },
  {
   "cell_type": "code",
   "execution_count": 4,
   "metadata": {},
   "outputs": [
    {
     "data": {
      "text/plain": [
       "(27731, 1260)"
      ]
     },
     "execution_count": 4,
     "metadata": {},
     "output_type": "execute_result"
    }
   ],
   "source": [
    "mdt.shape"
   ]
  },
  {
   "cell_type": "code",
   "execution_count": 5,
   "metadata": {},
   "outputs": [
    {
     "data": {
      "text/plain": [
       "Index(['id_cliente', 'fecha_activo', 'fecha_buro', 'mes_campaña', 'venta',\n",
       "       '30first_use', 'var_final', 'tipo_campana', 'periodo',\n",
       "       'acierta_a_financiero',\n",
       "       ...\n",
       "       'mora_max_ult6_meses_trad', 'cupo_prom_ult7_meses_trad',\n",
       "       'util_prom_ult6_meses_trad', 'mora_cierre_ult_mes_trad',\n",
       "       'cuota_paga_prom_ult3_meses_trad', 'saldo_prom_ult6_meses_trad',\n",
       "       'cuota_paga_prom_ult7_meses_trad', 'util_prom_ult3_meses_trad',\n",
       "       'cupo_prom_ult3_meses_trad', 'saldo_prom_ult7_meses_trad'],\n",
       "      dtype='object', length=1260)"
      ]
     },
     "execution_count": 5,
     "metadata": {},
     "output_type": "execute_result"
    }
   ],
   "source": [
    "mdt.columns"
   ]
  },
  {
   "cell_type": "code",
   "execution_count": 6,
   "metadata": {},
   "outputs": [
    {
     "name": "stderr",
     "output_type": "stream",
     "text": [
      "/home/jupyter/anaconda3/lib/python3.7/site-packages/pandas/core/frame.py:4117: SettingWithCopyWarning: \n",
      "A value is trying to be set on a copy of a slice from a DataFrame\n",
      "\n",
      "See the caveats in the documentation: http://pandas.pydata.org/pandas-docs/stable/user_guide/indexing.html#returning-a-view-versus-a-copy\n",
      "  errors=errors,\n"
     ]
    }
   ],
   "source": [
    "np.random.seed(seed=1234) # Semilla\n",
    "## Muestra del 50%\n",
    "#Se generan numeros aleatorios entre 0 y 1\n",
    "mdt['ran']=np.random.random(size=mdt.shape[0])\n",
    "\n",
    "#Se seleccion train : 50% \n",
    "mdt_v0=mdt[mdt['ran']<=0.5]\n",
    "\n",
    "# quitando otras variables VO\n",
    "mdt_v0.drop(columns=['var_final','venta','id_cliente', 'fecha_activo', 'fecha_buro', 'fecha_data', 'fecha_envio',\n",
    "                     'mes_campaña','tipo_campana', 'periodo','cedulaenc','tipo_cliente','tipo_id','derogatorio',\n",
    "                    'fecha_real','fecha_mas_antigua_apertura','timestamp','lag_t_6_saldo_tot_tot_SMLV', \n",
    "                     'lag_t_1_cuota_tot_LB_SMLV', 'lag_t_6_cuota_tot_LB_SMLV', 'lag_t_6_cuota_tot_tot_SMLV', \n",
    "                     'lag_t_1_amortizacion_prom_LB', 'lag_t_6_amortizacion_prom_LB', 'lag_t_1_amortizacion_prom_tot', \n",
    "                     'lag_t_6_amortizacion_prom_tot', 'lag_t_6_saldo_tot_LB_SMLV', 'lag_t_1_saldo_tot_tot_SMLV', \n",
    "                     'lag_t_1_cuota_tot_tot_SMLV', 'lag_t_6_cupo_tot_LB_SMLV', 'lag_t_1_cupo_tot_tot_SMLV', 'lag_t_6_cupo_tot_tot_SMLV'], inplace = True)\n",
    "\n"
   ]
  },
  {
   "cell_type": "code",
   "execution_count": 7,
   "metadata": {},
   "outputs": [
    {
     "data": {
      "text/plain": [
       "['ciudad_de_expedicion',\n",
       " 'genero',\n",
       " 'peor_califi_trim_1_endeud',\n",
       " 'peor_calif_trim_2_endeud',\n",
       " 'rango_aproximado_edad',\n",
       " 'marca_derogatorio',\n",
       " 'tdc_altura_maxima_de_mora_was_is',\n",
       " 'cartera_banca_alt_max_de_mora_was_is',\n",
       " 'cartera_coope_alt_max_de_mora_was_is',\n",
       " 'cartera_hipote_alt_max_de_mora_was_is',\n",
       " 'moramax_mercado_was_is',\n",
       " 'was_is_LB',\n",
       " 'was_is_TC',\n",
       " 'was_is_NV',\n",
       " 'was_is_CH',\n",
       " 'was_is_CE',\n",
       " 'was_is_LE',\n",
       " 'was_is_ME',\n",
       " 'was_is_SO',\n",
       " 'was_is_CC',\n",
       " 'was_is_TC_X',\n",
       " 'was_is_TC_T',\n",
       " 'was_is_tot']"
      ]
     },
     "execution_count": 7,
     "metadata": {},
     "output_type": "execute_result"
    }
   ],
   "source": [
    "cat_cols = list(mdt_v0.dtypes[mdt_v0.dtypes=='object'].index)\n",
    "cat_cols"
   ]
  },
  {
   "cell_type": "code",
   "execution_count": 8,
   "metadata": {},
   "outputs": [
    {
     "name": "stderr",
     "output_type": "stream",
     "text": [
      "/home/jupyter/anaconda3/lib/python3.7/site-packages/ipykernel_launcher.py:3: SettingWithCopyWarning: \n",
      "A value is trying to be set on a copy of a slice from a DataFrame.\n",
      "Try using .loc[row_indexer,col_indexer] = value instead\n",
      "\n",
      "See the caveats in the documentation: http://pandas.pydata.org/pandas-docs/stable/user_guide/indexing.html#returning-a-view-versus-a-copy\n",
      "  This is separate from the ipykernel package so we can avoid doing imports until\n",
      "/home/jupyter/anaconda3/lib/python3.7/site-packages/ipykernel_launcher.py:4: SettingWithCopyWarning: \n",
      "A value is trying to be set on a copy of a slice from a DataFrame.\n",
      "Try using .loc[row_indexer,col_indexer] = value instead\n",
      "\n",
      "See the caveats in the documentation: http://pandas.pydata.org/pandas-docs/stable/user_guide/indexing.html#returning-a-view-versus-a-copy\n",
      "  after removing the cwd from sys.path.\n",
      "/home/jupyter/anaconda3/lib/python3.7/site-packages/ipykernel_launcher.py:5: SettingWithCopyWarning: \n",
      "A value is trying to be set on a copy of a slice from a DataFrame.\n",
      "Try using .loc[row_indexer,col_indexer] = value instead\n",
      "\n",
      "See the caveats in the documentation: http://pandas.pydata.org/pandas-docs/stable/user_guide/indexing.html#returning-a-view-versus-a-copy\n",
      "  \"\"\"\n",
      "/home/jupyter/anaconda3/lib/python3.7/site-packages/ipykernel_launcher.py:6: SettingWithCopyWarning: \n",
      "A value is trying to be set on a copy of a slice from a DataFrame.\n",
      "Try using .loc[row_indexer,col_indexer] = value instead\n",
      "\n",
      "See the caveats in the documentation: http://pandas.pydata.org/pandas-docs/stable/user_guide/indexing.html#returning-a-view-versus-a-copy\n",
      "  \n",
      "/home/jupyter/anaconda3/lib/python3.7/site-packages/ipykernel_launcher.py:7: SettingWithCopyWarning: \n",
      "A value is trying to be set on a copy of a slice from a DataFrame.\n",
      "Try using .loc[row_indexer,col_indexer] = value instead\n",
      "\n",
      "See the caveats in the documentation: http://pandas.pydata.org/pandas-docs/stable/user_guide/indexing.html#returning-a-view-versus-a-copy\n",
      "  import sys\n",
      "/home/jupyter/anaconda3/lib/python3.7/site-packages/ipykernel_launcher.py:8: SettingWithCopyWarning: \n",
      "A value is trying to be set on a copy of a slice from a DataFrame.\n",
      "Try using .loc[row_indexer,col_indexer] = value instead\n",
      "\n",
      "See the caveats in the documentation: http://pandas.pydata.org/pandas-docs/stable/user_guide/indexing.html#returning-a-view-versus-a-copy\n",
      "  \n",
      "/home/jupyter/anaconda3/lib/python3.7/site-packages/ipykernel_launcher.py:9: SettingWithCopyWarning: \n",
      "A value is trying to be set on a copy of a slice from a DataFrame.\n",
      "Try using .loc[row_indexer,col_indexer] = value instead\n",
      "\n",
      "See the caveats in the documentation: http://pandas.pydata.org/pandas-docs/stable/user_guide/indexing.html#returning-a-view-versus-a-copy\n",
      "  if __name__ == '__main__':\n",
      "/home/jupyter/anaconda3/lib/python3.7/site-packages/ipykernel_launcher.py:10: SettingWithCopyWarning: \n",
      "A value is trying to be set on a copy of a slice from a DataFrame.\n",
      "Try using .loc[row_indexer,col_indexer] = value instead\n",
      "\n",
      "See the caveats in the documentation: http://pandas.pydata.org/pandas-docs/stable/user_guide/indexing.html#returning-a-view-versus-a-copy\n",
      "  # Remove the CWD from sys.path while we load stuff.\n",
      "/home/jupyter/anaconda3/lib/python3.7/site-packages/ipykernel_launcher.py:11: SettingWithCopyWarning: \n",
      "A value is trying to be set on a copy of a slice from a DataFrame.\n",
      "Try using .loc[row_indexer,col_indexer] = value instead\n",
      "\n",
      "See the caveats in the documentation: http://pandas.pydata.org/pandas-docs/stable/user_guide/indexing.html#returning-a-view-versus-a-copy\n",
      "  # This is added back by InteractiveShellApp.init_path()\n",
      "/home/jupyter/anaconda3/lib/python3.7/site-packages/ipykernel_launcher.py:12: SettingWithCopyWarning: \n",
      "A value is trying to be set on a copy of a slice from a DataFrame.\n",
      "Try using .loc[row_indexer,col_indexer] = value instead\n",
      "\n",
      "See the caveats in the documentation: http://pandas.pydata.org/pandas-docs/stable/user_guide/indexing.html#returning-a-view-versus-a-copy\n",
      "  if sys.path[0] == '':\n",
      "/home/jupyter/anaconda3/lib/python3.7/site-packages/ipykernel_launcher.py:13: SettingWithCopyWarning: \n",
      "A value is trying to be set on a copy of a slice from a DataFrame.\n",
      "Try using .loc[row_indexer,col_indexer] = value instead\n",
      "\n",
      "See the caveats in the documentation: http://pandas.pydata.org/pandas-docs/stable/user_guide/indexing.html#returning-a-view-versus-a-copy\n",
      "  del sys.path[0]\n",
      "/home/jupyter/anaconda3/lib/python3.7/site-packages/ipykernel_launcher.py:14: SettingWithCopyWarning: \n",
      "A value is trying to be set on a copy of a slice from a DataFrame.\n",
      "Try using .loc[row_indexer,col_indexer] = value instead\n",
      "\n",
      "See the caveats in the documentation: http://pandas.pydata.org/pandas-docs/stable/user_guide/indexing.html#returning-a-view-versus-a-copy\n",
      "  \n",
      "/home/jupyter/anaconda3/lib/python3.7/site-packages/ipykernel_launcher.py:15: SettingWithCopyWarning: \n",
      "A value is trying to be set on a copy of a slice from a DataFrame.\n",
      "Try using .loc[row_indexer,col_indexer] = value instead\n",
      "\n",
      "See the caveats in the documentation: http://pandas.pydata.org/pandas-docs/stable/user_guide/indexing.html#returning-a-view-versus-a-copy\n",
      "  from ipykernel import kernelapp as app\n",
      "/home/jupyter/anaconda3/lib/python3.7/site-packages/ipykernel_launcher.py:16: SettingWithCopyWarning: \n",
      "A value is trying to be set on a copy of a slice from a DataFrame.\n",
      "Try using .loc[row_indexer,col_indexer] = value instead\n",
      "\n",
      "See the caveats in the documentation: http://pandas.pydata.org/pandas-docs/stable/user_guide/indexing.html#returning-a-view-versus-a-copy\n",
      "  app.launch_new_instance()\n",
      "/home/jupyter/anaconda3/lib/python3.7/site-packages/ipykernel_launcher.py:17: SettingWithCopyWarning: \n",
      "A value is trying to be set on a copy of a slice from a DataFrame.\n",
      "Try using .loc[row_indexer,col_indexer] = value instead\n",
      "\n",
      "See the caveats in the documentation: http://pandas.pydata.org/pandas-docs/stable/user_guide/indexing.html#returning-a-view-versus-a-copy\n",
      "/home/jupyter/anaconda3/lib/python3.7/site-packages/ipykernel_launcher.py:18: SettingWithCopyWarning: \n",
      "A value is trying to be set on a copy of a slice from a DataFrame.\n",
      "Try using .loc[row_indexer,col_indexer] = value instead\n",
      "\n",
      "See the caveats in the documentation: http://pandas.pydata.org/pandas-docs/stable/user_guide/indexing.html#returning-a-view-versus-a-copy\n",
      "/home/jupyter/anaconda3/lib/python3.7/site-packages/ipykernel_launcher.py:19: SettingWithCopyWarning: \n",
      "A value is trying to be set on a copy of a slice from a DataFrame.\n",
      "Try using .loc[row_indexer,col_indexer] = value instead\n",
      "\n",
      "See the caveats in the documentation: http://pandas.pydata.org/pandas-docs/stable/user_guide/indexing.html#returning-a-view-versus-a-copy\n",
      "/home/jupyter/anaconda3/lib/python3.7/site-packages/ipykernel_launcher.py:20: SettingWithCopyWarning: \n",
      "A value is trying to be set on a copy of a slice from a DataFrame.\n",
      "Try using .loc[row_indexer,col_indexer] = value instead\n",
      "\n",
      "See the caveats in the documentation: http://pandas.pydata.org/pandas-docs/stable/user_guide/indexing.html#returning-a-view-versus-a-copy\n",
      "/home/jupyter/anaconda3/lib/python3.7/site-packages/ipykernel_launcher.py:21: SettingWithCopyWarning: \n",
      "A value is trying to be set on a copy of a slice from a DataFrame.\n",
      "Try using .loc[row_indexer,col_indexer] = value instead\n",
      "\n",
      "See the caveats in the documentation: http://pandas.pydata.org/pandas-docs/stable/user_guide/indexing.html#returning-a-view-versus-a-copy\n",
      "/home/jupyter/anaconda3/lib/python3.7/site-packages/ipykernel_launcher.py:22: SettingWithCopyWarning: \n",
      "A value is trying to be set on a copy of a slice from a DataFrame.\n",
      "Try using .loc[row_indexer,col_indexer] = value instead\n",
      "\n",
      "See the caveats in the documentation: http://pandas.pydata.org/pandas-docs/stable/user_guide/indexing.html#returning-a-view-versus-a-copy\n",
      "/home/jupyter/anaconda3/lib/python3.7/site-packages/ipykernel_launcher.py:23: SettingWithCopyWarning: \n",
      "A value is trying to be set on a copy of a slice from a DataFrame.\n",
      "Try using .loc[row_indexer,col_indexer] = value instead\n",
      "\n",
      "See the caveats in the documentation: http://pandas.pydata.org/pandas-docs/stable/user_guide/indexing.html#returning-a-view-versus-a-copy\n",
      "/home/jupyter/anaconda3/lib/python3.7/site-packages/ipykernel_launcher.py:24: SettingWithCopyWarning: \n",
      "A value is trying to be set on a copy of a slice from a DataFrame.\n",
      "Try using .loc[row_indexer,col_indexer] = value instead\n",
      "\n",
      "See the caveats in the documentation: http://pandas.pydata.org/pandas-docs/stable/user_guide/indexing.html#returning-a-view-versus-a-copy\n",
      "/home/jupyter/anaconda3/lib/python3.7/site-packages/ipykernel_launcher.py:25: SettingWithCopyWarning: \n",
      "A value is trying to be set on a copy of a slice from a DataFrame.\n",
      "Try using .loc[row_indexer,col_indexer] = value instead\n",
      "\n",
      "See the caveats in the documentation: http://pandas.pydata.org/pandas-docs/stable/user_guide/indexing.html#returning-a-view-versus-a-copy\n"
     ]
    }
   ],
   "source": [
    "# feature engineering\n",
    "\n",
    "mdt_v0['ciudad_de_expedicion_cat'] = (mdt_v0['ciudad_de_expedicion'] == 'BOGOTA D.C.').astype('int')\n",
    "mdt_v0['genero_cat'] = (mdt_v0['genero'] == 'F').astype('int')\n",
    "mdt_v0['peor_califi_trim_1_endeud_cat'] = (mdt_v0['peor_califi_trim_1_endeud'] == 'mantiene').astype('int')\n",
    "mdt_v0['peor_calif_trim_2_endeud_cat'] = (mdt_v0['peor_calif_trim_2_endeud'] == 'mantiene').astype('int')\n",
    "mdt_v0['rango_aproximado_edad_cat'] = (mdt_v0['rango_aproximado_edad'] == 'mantiene').astype('int')\n",
    "mdt_v0['marca_derogatorio_cat'] = (mdt_v0['marca_derogatorio'] == 'aprobado').astype('int')\n",
    "mdt_v0['tdc_altura_maxima_de_mora_was_is_cat'] = (mdt_v0['tdc_altura_maxima_de_mora_was_is'] == 'mantiene').astype('int')\n",
    "mdt_v0['cartera_banca_alt_max_de_mora_was_is_cat'] = (mdt_v0['cartera_banca_alt_max_de_mora_was_is'] == 'mantiene').astype('int')\n",
    "mdt_v0['cartera_coope_alt_max_de_mora_was_is_cat'] = (mdt_v0['cartera_coope_alt_max_de_mora_was_is'] == 'mantiene').astype('int')\n",
    "mdt_v0['cartera_hipote_alt_max_de_mora_was_is_cat'] = (mdt_v0['cartera_hipote_alt_max_de_mora_was_is'] == 'mantiene').astype('int')\n",
    "mdt_v0['moramax_mercado_was_is_cat'] = (mdt_v0['moramax_mercado_was_is'] == 'mantiene').astype('int')\n",
    "mdt_v0['was_is_LB_cat'] = (mdt_v0['was_is_LB'] == 'mantiene').astype('int')\n",
    "mdt_v0['was_is_TC_cat'] = (mdt_v0['was_is_TC'] == 'mantiene').astype('int')\n",
    "mdt_v0['was_is_NV_cat'] = (mdt_v0['was_is_NV'] == 'mantiene').astype('int')\n",
    "mdt_v0['was_is_CH_cat'] = (mdt_v0['was_is_CH'] == 'mantiene').astype('int')\n",
    "mdt_v0['was_is_CE_cat'] = (mdt_v0['was_is_CE'] == 'mantiene').astype('int')\n",
    "mdt_v0['was_is_LE_cat'] = (mdt_v0['was_is_LE'] == 'mantiene').astype('int')\n",
    "mdt_v0['was_is_ME_cat'] = (mdt_v0['was_is_ME'] == 'mantiene').astype('int')\n",
    "mdt_v0['was_is_SO_cat'] = (mdt_v0['was_is_SO'] == 'mantiene').astype('int')\n",
    "mdt_v0['was_is_CC_cat'] = (mdt_v0['was_is_CC'] == 'mantiene').astype('int')\n",
    "mdt_v0['was_is_TC_X_cat'] = (mdt_v0['was_is_TC_X'] == 'mantiene').astype('int')\n",
    "mdt_v0['was_is_TC_T_cat'] = (mdt_v0['was_is_TC_T'] == 'mantiene').astype('int')\n",
    "mdt_v0['was_is_tot_cat'] = (mdt_v0['was_is_tot'] == 'mantiene').astype('int')\n"
   ]
  },
  {
   "cell_type": "code",
   "execution_count": 9,
   "metadata": {},
   "outputs": [],
   "source": [
    "mdt_v0.drop(columns=cat_cols, inplace = True)"
   ]
  },
  {
   "cell_type": "code",
   "execution_count": 10,
   "metadata": {},
   "outputs": [
    {
     "name": "stderr",
     "output_type": "stream",
     "text": [
      "/home/jupyter/anaconda3/lib/python3.7/site-packages/ipykernel_launcher.py:4: SettingWithCopyWarning: \n",
      "A value is trying to be set on a copy of a slice from a DataFrame.\n",
      "Try using .loc[row_indexer,col_indexer] = value instead\n",
      "\n",
      "See the caveats in the documentation: http://pandas.pydata.org/pandas-docs/stable/user_guide/indexing.html#returning-a-view-versus-a-copy\n",
      "  after removing the cwd from sys.path.\n"
     ]
    }
   ],
   "source": [
    "np.random.seed(seed=1234) # Semilla\n",
    "\n",
    "#Se generan numeros aleatorios entre 0 y 1\n",
    "mdt_v0['ran2']=np.random.random(size=mdt_v0.shape[0])\n",
    "\n",
    "#Se seleccion train : 50% \n",
    "mdt_train=mdt_v0[mdt_v0['ran2']<=0.8]\n",
    "mdt_test=mdt_v0[mdt_v0['ran2']>0.8]\n",
    "\n",
    "###\n",
    "y = mdt_train['30first_use']\n",
    "y_test = mdt_test['30first_use']\n",
    "\n",
    "mdt_train.drop(columns=['30first_use','ran','ran2'],inplace=True)\n",
    "mdt_test.drop(columns=['30first_use','ran','ran2'],inplace=True)"
   ]
  },
  {
   "cell_type": "code",
   "execution_count": 11,
   "metadata": {},
   "outputs": [],
   "source": [
    "cols_modelo = mdt_train.columns\n",
    "params_dict['predictive_cols'] = cols_modelo"
   ]
  },
  {
   "cell_type": "code",
   "execution_count": 12,
   "metadata": {},
   "outputs": [],
   "source": [
    "np.random.seed(seed=1234) # Semilla\n",
    "# Split dataset into training set and test set\n",
    "X_train, X_val, y_train, y_val = train_test_split(mdt_train, y, test_size=0.3, random_state=1) # 70% training and 30% test"
   ]
  },
  {
   "cell_type": "code",
   "execution_count": 13,
   "metadata": {},
   "outputs": [
    {
     "data": {
      "text/plain": [
       "0    0.998455\n",
       "1    0.001545\n",
       "Name: 30first_use, dtype: float64"
      ]
     },
     "execution_count": 13,
     "metadata": {},
     "output_type": "execute_result"
    }
   ],
   "source": [
    "y_train.value_counts(normalize=True)"
   ]
  },
  {
   "cell_type": "markdown",
   "metadata": {},
   "source": [
    "### Modelo V0 1200 variables"
   ]
  },
  {
   "cell_type": "code",
   "execution_count": 14,
   "metadata": {},
   "outputs": [
    {
     "name": "stdout",
     "output_type": "stream",
     "text": [
      "[0]\tvalidation_0-error:0.001545\tvalidation_1-error:0.000601\n",
      "Multiple eval metrics have been passed: 'validation_1-error' will be used for early stopping.\n",
      "\n",
      "Will train until validation_1-error hasn't improved in 300 rounds.\n",
      "[1]\tvalidation_0-error:0.001545\tvalidation_1-error:0.000601\n",
      "[2]\tvalidation_0-error:0.001545\tvalidation_1-error:0.000601\n",
      "[3]\tvalidation_0-error:0.001545\tvalidation_1-error:0.000601\n",
      "[4]\tvalidation_0-error:0.001545\tvalidation_1-error:0.000601\n",
      "[5]\tvalidation_0-error:0.001545\tvalidation_1-error:0.000601\n",
      "[6]\tvalidation_0-error:0.001545\tvalidation_1-error:0.000601\n",
      "[7]\tvalidation_0-error:0.001545\tvalidation_1-error:0.000601\n",
      "[8]\tvalidation_0-error:0.001545\tvalidation_1-error:0.000601\n",
      "[9]\tvalidation_0-error:0.001545\tvalidation_1-error:0.000601\n",
      "[10]\tvalidation_0-error:0.001545\tvalidation_1-error:0.000601\n",
      "[11]\tvalidation_0-error:0.001545\tvalidation_1-error:0.000601\n",
      "[12]\tvalidation_0-error:0.001545\tvalidation_1-error:0.000601\n",
      "[13]\tvalidation_0-error:0.001545\tvalidation_1-error:0.000601\n",
      "[14]\tvalidation_0-error:0.001545\tvalidation_1-error:0.000601\n",
      "[15]\tvalidation_0-error:0.001545\tvalidation_1-error:0.000601\n",
      "[16]\tvalidation_0-error:0.001545\tvalidation_1-error:0.000601\n",
      "[17]\tvalidation_0-error:0.001545\tvalidation_1-error:0.000601\n",
      "[18]\tvalidation_0-error:0.001545\tvalidation_1-error:0.000601\n",
      "[19]\tvalidation_0-error:0.001545\tvalidation_1-error:0.000601\n",
      "[20]\tvalidation_0-error:0.001545\tvalidation_1-error:0.000601\n",
      "[21]\tvalidation_0-error:0.001545\tvalidation_1-error:0.000601\n",
      "[22]\tvalidation_0-error:0.001545\tvalidation_1-error:0.000601\n",
      "[23]\tvalidation_0-error:0.001545\tvalidation_1-error:0.000601\n",
      "[24]\tvalidation_0-error:0.001545\tvalidation_1-error:0.000601\n",
      "[25]\tvalidation_0-error:0.001545\tvalidation_1-error:0.000601\n",
      "[26]\tvalidation_0-error:0.001545\tvalidation_1-error:0.000601\n",
      "[27]\tvalidation_0-error:0.001545\tvalidation_1-error:0.000601\n",
      "[28]\tvalidation_0-error:0.001545\tvalidation_1-error:0.000601\n",
      "[29]\tvalidation_0-error:0.001545\tvalidation_1-error:0.000601\n",
      "[30]\tvalidation_0-error:0.001545\tvalidation_1-error:0.000601\n",
      "[31]\tvalidation_0-error:0.001545\tvalidation_1-error:0.000601\n",
      "[32]\tvalidation_0-error:0.001545\tvalidation_1-error:0.000601\n",
      "[33]\tvalidation_0-error:0.001545\tvalidation_1-error:0.000601\n",
      "[34]\tvalidation_0-error:0.001545\tvalidation_1-error:0.000601\n",
      "[35]\tvalidation_0-error:0.001545\tvalidation_1-error:0.000601\n",
      "[36]\tvalidation_0-error:0.001545\tvalidation_1-error:0.000601\n",
      "[37]\tvalidation_0-error:0.001545\tvalidation_1-error:0.000601\n",
      "[38]\tvalidation_0-error:0.001545\tvalidation_1-error:0.000601\n",
      "[39]\tvalidation_0-error:0.001545\tvalidation_1-error:0.000601\n",
      "[40]\tvalidation_0-error:0.001545\tvalidation_1-error:0.000601\n",
      "[41]\tvalidation_0-error:0.001545\tvalidation_1-error:0.000601\n",
      "[42]\tvalidation_0-error:0.001545\tvalidation_1-error:0.000601\n",
      "[43]\tvalidation_0-error:0.001545\tvalidation_1-error:0.000601\n",
      "[44]\tvalidation_0-error:0.001545\tvalidation_1-error:0.000601\n",
      "[45]\tvalidation_0-error:0.001545\tvalidation_1-error:0.000601\n",
      "[46]\tvalidation_0-error:0.001545\tvalidation_1-error:0.000601\n",
      "[47]\tvalidation_0-error:0.001545\tvalidation_1-error:0.000601\n",
      "[48]\tvalidation_0-error:0.001545\tvalidation_1-error:0.000601\n",
      "[49]\tvalidation_0-error:0.001545\tvalidation_1-error:0.000601\n",
      "[50]\tvalidation_0-error:0.001545\tvalidation_1-error:0.000601\n",
      "[51]\tvalidation_0-error:0.001545\tvalidation_1-error:0.000601\n",
      "[52]\tvalidation_0-error:0.001545\tvalidation_1-error:0.000601\n",
      "[53]\tvalidation_0-error:0.001545\tvalidation_1-error:0.000601\n",
      "[54]\tvalidation_0-error:0.001545\tvalidation_1-error:0.000601\n",
      "[55]\tvalidation_0-error:0.001545\tvalidation_1-error:0.000601\n",
      "[56]\tvalidation_0-error:0.001545\tvalidation_1-error:0.000601\n",
      "[57]\tvalidation_0-error:0.001545\tvalidation_1-error:0.000601\n",
      "[58]\tvalidation_0-error:0.001545\tvalidation_1-error:0.000601\n",
      "[59]\tvalidation_0-error:0.001545\tvalidation_1-error:0.000601\n",
      "[60]\tvalidation_0-error:0.001545\tvalidation_1-error:0.000601\n",
      "[61]\tvalidation_0-error:0.001545\tvalidation_1-error:0.000601\n",
      "[62]\tvalidation_0-error:0.001545\tvalidation_1-error:0.000601\n",
      "[63]\tvalidation_0-error:0.001545\tvalidation_1-error:0.000601\n",
      "[64]\tvalidation_0-error:0.001545\tvalidation_1-error:0.000601\n",
      "[65]\tvalidation_0-error:0.001545\tvalidation_1-error:0.000601\n",
      "[66]\tvalidation_0-error:0.001545\tvalidation_1-error:0.000601\n",
      "[67]\tvalidation_0-error:0.001545\tvalidation_1-error:0.000601\n",
      "[68]\tvalidation_0-error:0.001545\tvalidation_1-error:0.000601\n",
      "[69]\tvalidation_0-error:0.001545\tvalidation_1-error:0.000601\n",
      "[70]\tvalidation_0-error:0.001545\tvalidation_1-error:0.000601\n",
      "[71]\tvalidation_0-error:0.001545\tvalidation_1-error:0.000601\n",
      "[72]\tvalidation_0-error:0.001545\tvalidation_1-error:0.000601\n",
      "[73]\tvalidation_0-error:0.001545\tvalidation_1-error:0.000601\n",
      "[74]\tvalidation_0-error:0.001545\tvalidation_1-error:0.000601\n",
      "[75]\tvalidation_0-error:0.001545\tvalidation_1-error:0.000601\n",
      "[76]\tvalidation_0-error:0.001545\tvalidation_1-error:0.000601\n",
      "[77]\tvalidation_0-error:0.001545\tvalidation_1-error:0.000601\n",
      "[78]\tvalidation_0-error:0.001545\tvalidation_1-error:0.000601\n",
      "[79]\tvalidation_0-error:0.001545\tvalidation_1-error:0.000601\n",
      "[80]\tvalidation_0-error:0.001545\tvalidation_1-error:0.000601\n",
      "[81]\tvalidation_0-error:0.001545\tvalidation_1-error:0.000601\n",
      "[82]\tvalidation_0-error:0.001545\tvalidation_1-error:0.000601\n",
      "[83]\tvalidation_0-error:0.001545\tvalidation_1-error:0.000601\n",
      "[84]\tvalidation_0-error:0.001545\tvalidation_1-error:0.000601\n",
      "[85]\tvalidation_0-error:0.001545\tvalidation_1-error:0.000601\n",
      "[86]\tvalidation_0-error:0.001545\tvalidation_1-error:0.000601\n",
      "[87]\tvalidation_0-error:0.001545\tvalidation_1-error:0.000601\n",
      "[88]\tvalidation_0-error:0.001545\tvalidation_1-error:0.000601\n",
      "[89]\tvalidation_0-error:0.001545\tvalidation_1-error:0.000601\n",
      "[90]\tvalidation_0-error:0.001545\tvalidation_1-error:0.000601\n",
      "[91]\tvalidation_0-error:0.001545\tvalidation_1-error:0.000601\n",
      "[92]\tvalidation_0-error:0.001545\tvalidation_1-error:0.000601\n",
      "[93]\tvalidation_0-error:0.001545\tvalidation_1-error:0.000601\n",
      "[94]\tvalidation_0-error:0.001545\tvalidation_1-error:0.000601\n",
      "[95]\tvalidation_0-error:0.001545\tvalidation_1-error:0.000601\n",
      "[96]\tvalidation_0-error:0.001545\tvalidation_1-error:0.000601\n",
      "[97]\tvalidation_0-error:0.001545\tvalidation_1-error:0.000601\n",
      "[98]\tvalidation_0-error:0.001545\tvalidation_1-error:0.000601\n",
      "[99]\tvalidation_0-error:0.001545\tvalidation_1-error:0.000601\n",
      "[100]\tvalidation_0-error:0.001545\tvalidation_1-error:0.000601\n",
      "[101]\tvalidation_0-error:0.001545\tvalidation_1-error:0.000601\n",
      "[102]\tvalidation_0-error:0.001545\tvalidation_1-error:0.000601\n",
      "[103]\tvalidation_0-error:0.001545\tvalidation_1-error:0.000601\n",
      "[104]\tvalidation_0-error:0.001545\tvalidation_1-error:0.000601\n",
      "[105]\tvalidation_0-error:0.001545\tvalidation_1-error:0.000601\n",
      "[106]\tvalidation_0-error:0.001545\tvalidation_1-error:0.000601\n",
      "[107]\tvalidation_0-error:0.001545\tvalidation_1-error:0.000601\n",
      "[108]\tvalidation_0-error:0.001545\tvalidation_1-error:0.000601\n",
      "[109]\tvalidation_0-error:0.001545\tvalidation_1-error:0.000601\n",
      "[110]\tvalidation_0-error:0.001545\tvalidation_1-error:0.000601\n",
      "[111]\tvalidation_0-error:0.001545\tvalidation_1-error:0.000601\n",
      "[112]\tvalidation_0-error:0.001545\tvalidation_1-error:0.000601\n",
      "[113]\tvalidation_0-error:0.001545\tvalidation_1-error:0.000601\n",
      "[114]\tvalidation_0-error:0.001545\tvalidation_1-error:0.000601\n",
      "[115]\tvalidation_0-error:0.001545\tvalidation_1-error:0.000601\n",
      "[116]\tvalidation_0-error:0.001545\tvalidation_1-error:0.000601\n",
      "[117]\tvalidation_0-error:0.001545\tvalidation_1-error:0.000601\n",
      "[118]\tvalidation_0-error:0.001545\tvalidation_1-error:0.000601\n",
      "[119]\tvalidation_0-error:0.001545\tvalidation_1-error:0.000601\n",
      "[120]\tvalidation_0-error:0.001545\tvalidation_1-error:0.000601\n",
      "[121]\tvalidation_0-error:0.001545\tvalidation_1-error:0.000601\n",
      "[122]\tvalidation_0-error:0.001545\tvalidation_1-error:0.000601\n",
      "[123]\tvalidation_0-error:0.001545\tvalidation_1-error:0.000601\n",
      "[124]\tvalidation_0-error:0.001545\tvalidation_1-error:0.000601\n",
      "[125]\tvalidation_0-error:0.001545\tvalidation_1-error:0.000601\n",
      "[126]\tvalidation_0-error:0.001545\tvalidation_1-error:0.000601\n",
      "[127]\tvalidation_0-error:0.001545\tvalidation_1-error:0.000601\n",
      "[128]\tvalidation_0-error:0.001545\tvalidation_1-error:0.000601\n",
      "[129]\tvalidation_0-error:0.001545\tvalidation_1-error:0.000601\n",
      "[130]\tvalidation_0-error:0.001545\tvalidation_1-error:0.000601\n",
      "[131]\tvalidation_0-error:0.001545\tvalidation_1-error:0.000601\n"
     ]
    },
    {
     "name": "stdout",
     "output_type": "stream",
     "text": [
      "[132]\tvalidation_0-error:0.001545\tvalidation_1-error:0.000601\n",
      "[133]\tvalidation_0-error:0.001545\tvalidation_1-error:0.000601\n",
      "[134]\tvalidation_0-error:0.001545\tvalidation_1-error:0.000601\n",
      "[135]\tvalidation_0-error:0.001545\tvalidation_1-error:0.000601\n",
      "[136]\tvalidation_0-error:0.001545\tvalidation_1-error:0.000601\n",
      "[137]\tvalidation_0-error:0.001545\tvalidation_1-error:0.000601\n",
      "[138]\tvalidation_0-error:0.001545\tvalidation_1-error:0.000601\n",
      "[139]\tvalidation_0-error:0.001545\tvalidation_1-error:0.000601\n",
      "[140]\tvalidation_0-error:0.001545\tvalidation_1-error:0.000601\n",
      "[141]\tvalidation_0-error:0.001545\tvalidation_1-error:0.000601\n",
      "[142]\tvalidation_0-error:0.001545\tvalidation_1-error:0.000601\n",
      "[143]\tvalidation_0-error:0.001545\tvalidation_1-error:0.000601\n",
      "[144]\tvalidation_0-error:0.001545\tvalidation_1-error:0.000601\n",
      "[145]\tvalidation_0-error:0.001545\tvalidation_1-error:0.000601\n",
      "[146]\tvalidation_0-error:0.001545\tvalidation_1-error:0.000601\n",
      "[147]\tvalidation_0-error:0.001545\tvalidation_1-error:0.000601\n",
      "[148]\tvalidation_0-error:0.001545\tvalidation_1-error:0.000601\n",
      "[149]\tvalidation_0-error:0.001545\tvalidation_1-error:0.000601\n",
      "[150]\tvalidation_0-error:0.001545\tvalidation_1-error:0.000601\n",
      "[151]\tvalidation_0-error:0.001545\tvalidation_1-error:0.000601\n",
      "[152]\tvalidation_0-error:0.001545\tvalidation_1-error:0.000601\n",
      "[153]\tvalidation_0-error:0.001545\tvalidation_1-error:0.000601\n",
      "[154]\tvalidation_0-error:0.001545\tvalidation_1-error:0.000601\n",
      "[155]\tvalidation_0-error:0.001545\tvalidation_1-error:0.000601\n",
      "[156]\tvalidation_0-error:0.001545\tvalidation_1-error:0.000601\n",
      "[157]\tvalidation_0-error:0.001545\tvalidation_1-error:0.000601\n",
      "[158]\tvalidation_0-error:0.001545\tvalidation_1-error:0.000601\n",
      "[159]\tvalidation_0-error:0.001545\tvalidation_1-error:0.000601\n",
      "[160]\tvalidation_0-error:0.001545\tvalidation_1-error:0.000601\n",
      "[161]\tvalidation_0-error:0.001545\tvalidation_1-error:0.000601\n",
      "[162]\tvalidation_0-error:0.001545\tvalidation_1-error:0.000601\n",
      "[163]\tvalidation_0-error:0.001545\tvalidation_1-error:0.000601\n",
      "[164]\tvalidation_0-error:0.001545\tvalidation_1-error:0.000601\n",
      "[165]\tvalidation_0-error:0.001545\tvalidation_1-error:0.000601\n",
      "[166]\tvalidation_0-error:0.001545\tvalidation_1-error:0.000601\n",
      "[167]\tvalidation_0-error:0.001545\tvalidation_1-error:0.000601\n",
      "[168]\tvalidation_0-error:0.001545\tvalidation_1-error:0.000601\n",
      "[169]\tvalidation_0-error:0.001545\tvalidation_1-error:0.000601\n",
      "[170]\tvalidation_0-error:0.001545\tvalidation_1-error:0.000601\n",
      "[171]\tvalidation_0-error:0.001545\tvalidation_1-error:0.000601\n",
      "[172]\tvalidation_0-error:0.001545\tvalidation_1-error:0.000601\n",
      "[173]\tvalidation_0-error:0.001545\tvalidation_1-error:0.000601\n",
      "[174]\tvalidation_0-error:0.001545\tvalidation_1-error:0.000601\n",
      "[175]\tvalidation_0-error:0.001545\tvalidation_1-error:0.000601\n",
      "[176]\tvalidation_0-error:0.001545\tvalidation_1-error:0.000601\n",
      "[177]\tvalidation_0-error:0.001545\tvalidation_1-error:0.000601\n",
      "[178]\tvalidation_0-error:0.001545\tvalidation_1-error:0.000601\n",
      "[179]\tvalidation_0-error:0.001545\tvalidation_1-error:0.000601\n",
      "[180]\tvalidation_0-error:0.001545\tvalidation_1-error:0.000601\n",
      "[181]\tvalidation_0-error:0.001545\tvalidation_1-error:0.000601\n",
      "[182]\tvalidation_0-error:0.001545\tvalidation_1-error:0.000601\n",
      "[183]\tvalidation_0-error:0.001545\tvalidation_1-error:0.000601\n",
      "[184]\tvalidation_0-error:0.001545\tvalidation_1-error:0.000601\n",
      "[185]\tvalidation_0-error:0.001545\tvalidation_1-error:0.000601\n",
      "[186]\tvalidation_0-error:0.001545\tvalidation_1-error:0.000601\n",
      "[187]\tvalidation_0-error:0.001545\tvalidation_1-error:0.000601\n",
      "[188]\tvalidation_0-error:0.001545\tvalidation_1-error:0.000601\n",
      "[189]\tvalidation_0-error:0.001545\tvalidation_1-error:0.000601\n",
      "[190]\tvalidation_0-error:0.001545\tvalidation_1-error:0.000601\n",
      "[191]\tvalidation_0-error:0.001545\tvalidation_1-error:0.000601\n",
      "[192]\tvalidation_0-error:0.001545\tvalidation_1-error:0.000601\n",
      "[193]\tvalidation_0-error:0.001545\tvalidation_1-error:0.000601\n",
      "[194]\tvalidation_0-error:0.001545\tvalidation_1-error:0.000601\n",
      "[195]\tvalidation_0-error:0.001545\tvalidation_1-error:0.000601\n",
      "[196]\tvalidation_0-error:0.001545\tvalidation_1-error:0.000601\n",
      "[197]\tvalidation_0-error:0.001545\tvalidation_1-error:0.000601\n",
      "[198]\tvalidation_0-error:0.001545\tvalidation_1-error:0.000601\n",
      "[199]\tvalidation_0-error:0.001545\tvalidation_1-error:0.000601\n",
      "[200]\tvalidation_0-error:0.001545\tvalidation_1-error:0.000601\n",
      "[201]\tvalidation_0-error:0.001545\tvalidation_1-error:0.000601\n",
      "[202]\tvalidation_0-error:0.001545\tvalidation_1-error:0.000601\n",
      "[203]\tvalidation_0-error:0.001545\tvalidation_1-error:0.000601\n",
      "[204]\tvalidation_0-error:0.001545\tvalidation_1-error:0.000601\n",
      "[205]\tvalidation_0-error:0.001545\tvalidation_1-error:0.000601\n",
      "[206]\tvalidation_0-error:0.001545\tvalidation_1-error:0.000601\n",
      "[207]\tvalidation_0-error:0.001545\tvalidation_1-error:0.000601\n",
      "[208]\tvalidation_0-error:0.001545\tvalidation_1-error:0.000601\n",
      "[209]\tvalidation_0-error:0.001545\tvalidation_1-error:0.000601\n",
      "[210]\tvalidation_0-error:0.001545\tvalidation_1-error:0.000601\n",
      "[211]\tvalidation_0-error:0.001545\tvalidation_1-error:0.000601\n",
      "[212]\tvalidation_0-error:0.001545\tvalidation_1-error:0.000601\n",
      "[213]\tvalidation_0-error:0.001545\tvalidation_1-error:0.000601\n",
      "[214]\tvalidation_0-error:0.001545\tvalidation_1-error:0.000601\n",
      "[215]\tvalidation_0-error:0.001545\tvalidation_1-error:0.000601\n",
      "[216]\tvalidation_0-error:0.001545\tvalidation_1-error:0.000601\n",
      "[217]\tvalidation_0-error:0.001545\tvalidation_1-error:0.000601\n",
      "[218]\tvalidation_0-error:0.001545\tvalidation_1-error:0.000601\n",
      "[219]\tvalidation_0-error:0.001545\tvalidation_1-error:0.000601\n",
      "[220]\tvalidation_0-error:0.001545\tvalidation_1-error:0.000601\n",
      "[221]\tvalidation_0-error:0.001545\tvalidation_1-error:0.000601\n",
      "[222]\tvalidation_0-error:0.001545\tvalidation_1-error:0.000601\n",
      "[223]\tvalidation_0-error:0.001545\tvalidation_1-error:0.000601\n",
      "[224]\tvalidation_0-error:0.001545\tvalidation_1-error:0.000601\n",
      "[225]\tvalidation_0-error:0.001545\tvalidation_1-error:0.000601\n",
      "[226]\tvalidation_0-error:0.001545\tvalidation_1-error:0.000601\n",
      "[227]\tvalidation_0-error:0.001545\tvalidation_1-error:0.000601\n",
      "[228]\tvalidation_0-error:0.001545\tvalidation_1-error:0.000601\n",
      "[229]\tvalidation_0-error:0.001545\tvalidation_1-error:0.000601\n",
      "[230]\tvalidation_0-error:0.001545\tvalidation_1-error:0.000601\n",
      "[231]\tvalidation_0-error:0.001545\tvalidation_1-error:0.000601\n",
      "[232]\tvalidation_0-error:0.001545\tvalidation_1-error:0.000601\n",
      "[233]\tvalidation_0-error:0.001545\tvalidation_1-error:0.000601\n",
      "[234]\tvalidation_0-error:0.001545\tvalidation_1-error:0.000601\n",
      "[235]\tvalidation_0-error:0.001545\tvalidation_1-error:0.000601\n",
      "[236]\tvalidation_0-error:0.001545\tvalidation_1-error:0.000601\n",
      "[237]\tvalidation_0-error:0.001545\tvalidation_1-error:0.000601\n",
      "[238]\tvalidation_0-error:0.001545\tvalidation_1-error:0.000601\n",
      "[239]\tvalidation_0-error:0.001545\tvalidation_1-error:0.000601\n",
      "[240]\tvalidation_0-error:0.001545\tvalidation_1-error:0.000601\n",
      "[241]\tvalidation_0-error:0.001545\tvalidation_1-error:0.000601\n",
      "[242]\tvalidation_0-error:0.001545\tvalidation_1-error:0.000601\n",
      "[243]\tvalidation_0-error:0.001545\tvalidation_1-error:0.000601\n",
      "[244]\tvalidation_0-error:0.001545\tvalidation_1-error:0.000601\n",
      "[245]\tvalidation_0-error:0.001545\tvalidation_1-error:0.000601\n",
      "[246]\tvalidation_0-error:0.001545\tvalidation_1-error:0.000601\n",
      "[247]\tvalidation_0-error:0.001545\tvalidation_1-error:0.000601\n",
      "[248]\tvalidation_0-error:0.001545\tvalidation_1-error:0.000601\n",
      "[249]\tvalidation_0-error:0.001545\tvalidation_1-error:0.000601\n",
      "[250]\tvalidation_0-error:0.001545\tvalidation_1-error:0.000601\n",
      "[251]\tvalidation_0-error:0.001545\tvalidation_1-error:0.000601\n",
      "[252]\tvalidation_0-error:0.001545\tvalidation_1-error:0.000601\n",
      "[253]\tvalidation_0-error:0.001545\tvalidation_1-error:0.000601\n",
      "[254]\tvalidation_0-error:0.001545\tvalidation_1-error:0.000601\n",
      "[255]\tvalidation_0-error:0.001545\tvalidation_1-error:0.000601\n",
      "[256]\tvalidation_0-error:0.001545\tvalidation_1-error:0.000601\n",
      "[257]\tvalidation_0-error:0.001545\tvalidation_1-error:0.000601\n",
      "[258]\tvalidation_0-error:0.001545\tvalidation_1-error:0.000601\n",
      "[259]\tvalidation_0-error:0.001545\tvalidation_1-error:0.000601\n",
      "[260]\tvalidation_0-error:0.001545\tvalidation_1-error:0.000601\n",
      "[261]\tvalidation_0-error:0.001545\tvalidation_1-error:0.000601\n",
      "[262]\tvalidation_0-error:0.001545\tvalidation_1-error:0.000601\n",
      "[263]\tvalidation_0-error:0.001545\tvalidation_1-error:0.000601\n",
      "[264]\tvalidation_0-error:0.001545\tvalidation_1-error:0.000601\n"
     ]
    },
    {
     "name": "stdout",
     "output_type": "stream",
     "text": [
      "[265]\tvalidation_0-error:0.001545\tvalidation_1-error:0.000601\n",
      "[266]\tvalidation_0-error:0.001545\tvalidation_1-error:0.000601\n",
      "[267]\tvalidation_0-error:0.001545\tvalidation_1-error:0.000601\n",
      "[268]\tvalidation_0-error:0.001545\tvalidation_1-error:0.000601\n",
      "[269]\tvalidation_0-error:0.001545\tvalidation_1-error:0.000601\n",
      "[270]\tvalidation_0-error:0.001545\tvalidation_1-error:0.000601\n",
      "[271]\tvalidation_0-error:0.001545\tvalidation_1-error:0.000601\n",
      "[272]\tvalidation_0-error:0.001545\tvalidation_1-error:0.000601\n",
      "[273]\tvalidation_0-error:0.001545\tvalidation_1-error:0.000601\n",
      "[274]\tvalidation_0-error:0.001545\tvalidation_1-error:0.000601\n",
      "[275]\tvalidation_0-error:0.001545\tvalidation_1-error:0.000601\n",
      "[276]\tvalidation_0-error:0.001545\tvalidation_1-error:0.000601\n",
      "[277]\tvalidation_0-error:0.001545\tvalidation_1-error:0.000601\n",
      "[278]\tvalidation_0-error:0.001545\tvalidation_1-error:0.000601\n",
      "[279]\tvalidation_0-error:0.001545\tvalidation_1-error:0.000601\n",
      "[280]\tvalidation_0-error:0.001545\tvalidation_1-error:0.000601\n",
      "[281]\tvalidation_0-error:0.001545\tvalidation_1-error:0.000601\n",
      "[282]\tvalidation_0-error:0.001545\tvalidation_1-error:0.000601\n",
      "[283]\tvalidation_0-error:0.001545\tvalidation_1-error:0.000601\n",
      "[284]\tvalidation_0-error:0.001545\tvalidation_1-error:0.000601\n",
      "[285]\tvalidation_0-error:0.001545\tvalidation_1-error:0.000601\n",
      "[286]\tvalidation_0-error:0.001545\tvalidation_1-error:0.000601\n",
      "[287]\tvalidation_0-error:0.001545\tvalidation_1-error:0.000601\n",
      "[288]\tvalidation_0-error:0.001545\tvalidation_1-error:0.000601\n",
      "[289]\tvalidation_0-error:0.001545\tvalidation_1-error:0.000601\n",
      "[290]\tvalidation_0-error:0.001545\tvalidation_1-error:0.000601\n",
      "[291]\tvalidation_0-error:0.001545\tvalidation_1-error:0.000601\n",
      "[292]\tvalidation_0-error:0.001545\tvalidation_1-error:0.000601\n",
      "[293]\tvalidation_0-error:0.001545\tvalidation_1-error:0.000601\n",
      "[294]\tvalidation_0-error:0.001545\tvalidation_1-error:0.000601\n",
      "[295]\tvalidation_0-error:0.001545\tvalidation_1-error:0.000601\n",
      "[296]\tvalidation_0-error:0.001545\tvalidation_1-error:0.000601\n",
      "[297]\tvalidation_0-error:0.001545\tvalidation_1-error:0.000601\n",
      "[298]\tvalidation_0-error:0.001545\tvalidation_1-error:0.000601\n",
      "[299]\tvalidation_0-error:0.001545\tvalidation_1-error:0.000601\n",
      "[300]\tvalidation_0-error:0.001545\tvalidation_1-error:0.000601\n",
      "Stopping. Best iteration:\n",
      "[0]\tvalidation_0-error:0.001545\tvalidation_1-error:0.000601\n",
      "\n"
     ]
    },
    {
     "data": {
      "text/plain": [
       "XGBClassifier(base_score=0.5, booster='gbtree', colsample_bylevel=1,\n",
       "       colsample_bynode=1, colsample_bytree=0.8, gamma=0,\n",
       "       learning_rate=0.1, max_delta_step=0, max_depth=3,\n",
       "       min_child_weight=3, missing=None, n_estimators=1000, n_jobs=1,\n",
       "       nthread=None, objective='binary:logistic', random_state=0,\n",
       "       reg_alpha=0, reg_lambda=1, scale_pos_weight=1, seed=1, silent=None,\n",
       "       subsample=1, verbosity=1)"
      ]
     },
     "execution_count": 14,
     "metadata": {},
     "output_type": "execute_result"
    }
   ],
   "source": [
    "import shap\n",
    "import scikitplot as skplt\n",
    "from sklearn import metrics\n",
    "from sklearn.model_selection import train_test_split\n",
    "import xgboost as xgb\n",
    "from sklearn.model_selection import GridSearchCV\n",
    "from sklearn.model_selection import StratifiedKFold\n",
    "\n",
    "#Se ajusta el modelo con las mejores variables best_20_v3\n",
    "#'multi:softmax'\n",
    "xgb_model = xgb.XGBClassifier(objective = 'binary:logistic', \n",
    "                              seed = 1,  \n",
    "                              max_depth = 3, \n",
    "                              colsample_bytree = 0.8,\n",
    "                              learning_rate = 0.1, \n",
    "                              n_estimators = 1000, min_child_weight = 3)\n",
    "\n",
    "xgb_model.fit(X_train, y_train, \n",
    "              eval_set = [(X_train, y_train), (X_val, y_val)],\n",
    "              early_stopping_rounds=300)"
   ]
  },
  {
   "cell_type": "code",
   "execution_count": 15,
   "metadata": {},
   "outputs": [
    {
     "data": {
      "text/plain": [
       "0.5"
      ]
     },
     "execution_count": 15,
     "metadata": {},
     "output_type": "execute_result"
    }
   ],
   "source": [
    "# Predecir probabilidades para data test (20%)\n",
    "\n",
    "probs_test = xgb_model.predict_proba(mdt_test)\n",
    "\n",
    "fpr, tpr, thresholds = metrics.roc_curve(y_test, probs_test[:, 1])\n",
    "\n",
    "#AUC\n",
    "metrics.auc(fpr, tpr)"
   ]
  },
  {
   "cell_type": "code",
   "execution_count": 16,
   "metadata": {},
   "outputs": [
    {
     "data": {
      "text/plain": [
       "array([[0.        , 0.99745547],\n",
       "       [0.        , 0.00254453]])"
      ]
     },
     "execution_count": 16,
     "metadata": {},
     "output_type": "execute_result"
    }
   ],
   "source": [
    "#Matriz de confusión\n",
    "predict_test = (probs_test[:, 1] > 0.045)*1\n",
    "metrics.confusion_matrix(y_test,predict_test)/len(y_test)"
   ]
  },
  {
   "cell_type": "code",
   "execution_count": 17,
   "metadata": {},
   "outputs": [
    {
     "name": "stderr",
     "output_type": "stream",
     "text": [
      "/home/jupyter/anaconda3/lib/python3.7/site-packages/ipykernel_launcher.py:2: SettingWithCopyWarning: \n",
      "A value is trying to be set on a copy of a slice from a DataFrame.\n",
      "Try using .loc[row_indexer,col_indexer] = value instead\n",
      "\n",
      "See the caveats in the documentation: http://pandas.pydata.org/pandas-docs/stable/user_guide/indexing.html#returning-a-view-versus-a-copy\n",
      "  \n"
     ]
    },
    {
     "data": {
      "text/plain": [
       "0.002544529262086514"
      ]
     },
     "execution_count": 17,
     "metadata": {},
     "output_type": "execute_result"
    }
   ],
   "source": [
    "#Accuracy\n",
    "mdt_test['probs'] = probs_test[:, 1]\n",
    "metrics.accuracy_score(y_test, predict_test)"
   ]
  },
  {
   "cell_type": "code",
   "execution_count": 18,
   "metadata": {},
   "outputs": [
    {
     "data": {
      "text/plain": [
       "1.0"
      ]
     },
     "execution_count": 18,
     "metadata": {},
     "output_type": "execute_result"
    }
   ],
   "source": [
    "#Recall\n",
    "metrics.recall_score(y_test, predict_test)"
   ]
  },
  {
   "cell_type": "code",
   "execution_count": 19,
   "metadata": {},
   "outputs": [
    {
     "data": {
      "image/png": "[encoded data removed]",
      "text/plain": [
       "<Figure size 432x288 with 1 Axes>"
      ]
     },
     "metadata": {
      "needs_background": "light"
     },
     "output_type": "display_data"
    }
   ],
   "source": [
    "import seaborn as sns\n",
    "import matplotlib.pyplot as plt\n",
    "import matplotlib.font_manager\n",
    "%matplotlib inline\n",
    "\n",
    "# Graficar probabilidades según Fraude/No Fraude observado (real)\n",
    "\n",
    "subset_si = mdt_test[y_test == 1]\n",
    "\n",
    "subset_no = mdt_test[y_test == 0]\n",
    "\n",
    "sns.distplot(subset_no[['probs']], hist = True, norm_hist = True, bins = 10, kde = False, kde_kws = {'linewidth' : 3},\n",
    "            label = 'No usa', color = 'green')\n",
    "\n",
    "sns.distplot(subset_si[['probs']], hist = True, norm_hist = True, bins = 10, kde = False, kde_kws = {'linewidth' : 3},\n",
    "            label = 'Si usa', color = 'red')\n",
    "\n",
    "plt.legend(prop = {'size' : 10})\n",
    "plt.title('Distribución de scores según Primer uso')\n",
    "plt.xlabel('Probabilidad')\n",
    "plt.ylabel('Porcentaje')\n",
    "plt.show()"
   ]
  },
  {
   "cell_type": "code",
   "execution_count": 20,
   "metadata": {},
   "outputs": [
    {
     "name": "stderr",
     "output_type": "stream",
     "text": [
      "/home/jupyter/anaconda3/lib/python3.7/site-packages/matplotlib/cbook/__init__.py:424: MatplotlibDeprecationWarning: \n",
      "Passing one of 'on', 'true', 'off', 'false' as a boolean is deprecated; use an actual boolean (True/False) instead.\n",
      "  warn_deprecated(\"2.2\", \"Passing one of 'on', 'true', 'off', 'false' as a \"\n"
     ]
    },
    {
     "data": {
      "text/plain": [
       "<matplotlib.axes._subplots.AxesSubplot at 0x7f22e2306eb8>"
      ]
     },
     "execution_count": 20,
     "metadata": {},
     "output_type": "execute_result"
    },
    {
     "data": {
      "image/png": "[encoded data removed]",
      "text/plain": [
       "<Figure size 432x288 with 1 Axes>"
      ]
     },
     "metadata": {
      "needs_background": "light"
     },
     "output_type": "display_data"
    }
   ],
   "source": [
    "skplt.metrics.plot_cumulative_gain(y_test, probs_test)"
   ]
  },
  {
   "cell_type": "code",
   "execution_count": 21,
   "metadata": {},
   "outputs": [],
   "source": [
    "#shap_values = shap.TreeExplainer(xgb_model).shap_values(mdt_test)\n",
    "#shap.summary_plot(shap_values, mdt_test)"
   ]
  },
  {
   "cell_type": "code",
   "execution_count": 22,
   "metadata": {},
   "outputs": [],
   "source": [
    "#shap.summary_plot(shap_values, test[best_20_v3], plot_type = 'bar')"
   ]
  },
  {
   "cell_type": "markdown",
   "metadata": {},
   "source": [
    "### Modelo con variables más importantes (top 60)"
   ]
  },
  {
   "cell_type": "code",
   "execution_count": 23,
   "metadata": {},
   "outputs": [],
   "source": [
    "def train_eval_xgboost(df, features, y, model_num, df_importance):\n",
    "    \n",
    "    \"\"\"\n",
    "    Función que realiza lo siguiente: \n",
    "    1. A partir de Train, realiza un sampling aleatorio 70-30 para Train y Validación\n",
    "    2. Entrena un modelo XGBoost con la data de Train, usando tanto la data Train como Validación \n",
    "        para evaluar (métrica: AUC)\n",
    "    3. Calcula mean(|SHAP Value|) por variable para base de Train y guarda el valor en df_importance\n",
    "    4. Calcula auc, accuracy y recall sobre base de Test y guarda los valores en df_metricas, utilizando\n",
    "    un threshold determinado por el usuario (0.5 por default)\n",
    "    \"\"\"\n",
    "    \n",
    "    X_train, X_val, y_train, y_val = train_test_split(df[features], y, test_size = .3)\n",
    "    \n",
    "    y_train = y_train.astype(int)\n",
    "    y_val = y_val.astype(int)\n",
    "    \n",
    "    print(model_num)\n",
    "    \n",
    "    \"Entrenar modelo XGBoost\"\n",
    "    \n",
    "    xgb_model = xgb.XGBClassifier(objective = 'binary:logistic', \n",
    "                             max_depth = 3, \n",
    "                             colsample_bytree = 0.7,\n",
    "                             learning_rate = 0.1, \n",
    "                             n_estimators = 1000)\n",
    "\n",
    "    xgb_model.fit(X_train, y_train, \n",
    "                  eval_set = [(X_train, y_train), (X_val, y_val)], \n",
    "                  early_stopping_rounds = 500, \n",
    "                  verbose = False)\n",
    "    \n",
    "    print('Modelo entrenado')\n",
    "    \n",
    "    \"Calcular y guardar SHAP Values\"\n",
    "    \n",
    "    shap_values = shap.TreeExplainer(xgb_model).shap_values(df[features])\n",
    "    shap_feature = np.abs(shap_values).mean(axis = 0)\n",
    "    \n",
    "    df_importance['mean_SHAP_'+model_num] = shap_feature\n",
    "    \n",
    "    print('SHAP Values guardados')"
   ]
  },
  {
   "cell_type": "code",
   "execution_count": 24,
   "metadata": {},
   "outputs": [],
   "source": [
    "features_x = cols_modelo\n",
    "feature_importances = pd.DataFrame({'feature_name' : features_x}, columns = ['feature_name'])"
   ]
  },
  {
   "cell_type": "code",
   "execution_count": 25,
   "metadata": {},
   "outputs": [
    {
     "name": "stdout",
     "output_type": "stream",
     "text": [
      "model_1\n",
      "Modelo entrenado\n",
      "SHAP Values guardados\n",
      "model_2\n",
      "Modelo entrenado\n",
      "SHAP Values guardados\n",
      "model_3\n",
      "Modelo entrenado\n",
      "SHAP Values guardados\n",
      "model_4\n",
      "Modelo entrenado\n",
      "SHAP Values guardados\n",
      "model_5\n",
      "Modelo entrenado\n",
      "SHAP Values guardados\n",
      "model_6\n",
      "Modelo entrenado\n",
      "SHAP Values guardados\n",
      "model_7\n",
      "Modelo entrenado\n",
      "SHAP Values guardados\n",
      "model_8\n",
      "Modelo entrenado\n",
      "SHAP Values guardados\n",
      "model_9\n",
      "Modelo entrenado\n",
      "SHAP Values guardados\n",
      "model_10\n",
      "Modelo entrenado\n",
      "SHAP Values guardados\n"
     ]
    }
   ],
   "source": [
    "#Se ejecuta 10 veces la función train_eval_xgboost para la base train (80% de la base total de desarrollo) \n",
    "# y se calculan los shap values (para las 10 iteraciones) que quedan guardados en el feature_importances\n",
    "\n",
    "#for i in range(1, 3):\n",
    "for i in range(1, 11):\n",
    "    \n",
    "    model_num = 'model_'+str(i)\n",
    "    \n",
    "    train_eval_xgboost(mdt_train, features_x, y, model_num, feature_importances)"
   ]
  },
  {
   "cell_type": "code",
   "execution_count": 26,
   "metadata": {},
   "outputs": [],
   "source": [
    "#A partir de los shap values guardados en feature_importances, se otorga un ranking a las variables y se ordenan según ese ranking\n",
    "\n",
    "for col in feature_importances.columns[1:]:\n",
    "    \n",
    "    feature_importances[col + '_rank'] = feature_importances[col].rank(ascending = False)"
   ]
  },
  {
   "cell_type": "code",
   "execution_count": 27,
   "metadata": {},
   "outputs": [],
   "source": [
    "# Se seleccionan las 20 mejores variables según ranking anterior\n",
    "# OJO!!!!!En feature_importances.columns[5:9] se debe poner la posicion de la primera variable _rank hasta la posicion de la ultima variable _rank\n",
    "principales = []\n",
    "for col in feature_importances.columns[11:]:\n",
    "    \n",
    "    best_60 = [x for x in feature_importances[feature_importances[col] < 100].feature_name.values]\n",
    "    principales.extend(best_60)"
   ]
  },
  {
   "cell_type": "code",
   "execution_count": 28,
   "metadata": {},
   "outputs": [
    {
     "data": {
      "text/html": [
       "['acierta_a_financiero', 'numero_obligaciones_activas']"
      ],
      "text/plain": [
       "['acierta_a_financiero', 'numero_obligaciones_activas']"
      ]
     },
     "execution_count": 28,
     "metadata": {},
     "output_type": "execute_result"
    }
   ],
   "source": [
    "best_60"
   ]
  },
  {
   "cell_type": "code",
   "execution_count": 29,
   "metadata": {},
   "outputs": [
    {
     "name": "stdout",
     "output_type": "stream",
     "text": [
      "[0]\tvalidation_0-error:0.001545\tvalidation_1-error:0.000601\n",
      "Multiple eval metrics have been passed: 'validation_1-error' will be used for early stopping.\n",
      "\n",
      "Will train until validation_1-error hasn't improved in 300 rounds.\n",
      "[1]\tvalidation_0-error:0.001545\tvalidation_1-error:0.000601\n",
      "[2]\tvalidation_0-error:0.001545\tvalidation_1-error:0.000601\n",
      "[3]\tvalidation_0-error:0.001545\tvalidation_1-error:0.000601\n",
      "[4]\tvalidation_0-error:0.001545\tvalidation_1-error:0.000601\n",
      "[5]\tvalidation_0-error:0.001545\tvalidation_1-error:0.000601\n",
      "[6]\tvalidation_0-error:0.001545\tvalidation_1-error:0.000601\n",
      "[7]\tvalidation_0-error:0.001545\tvalidation_1-error:0.000601\n",
      "[8]\tvalidation_0-error:0.001545\tvalidation_1-error:0.000601\n",
      "[9]\tvalidation_0-error:0.001545\tvalidation_1-error:0.000601\n",
      "[10]\tvalidation_0-error:0.001545\tvalidation_1-error:0.000601\n",
      "[11]\tvalidation_0-error:0.001545\tvalidation_1-error:0.000601\n",
      "[12]\tvalidation_0-error:0.001545\tvalidation_1-error:0.000601\n",
      "[13]\tvalidation_0-error:0.001545\tvalidation_1-error:0.000601\n",
      "[14]\tvalidation_0-error:0.001545\tvalidation_1-error:0.000601\n",
      "[15]\tvalidation_0-error:0.001545\tvalidation_1-error:0.000601\n",
      "[16]\tvalidation_0-error:0.001545\tvalidation_1-error:0.000601\n",
      "[17]\tvalidation_0-error:0.001545\tvalidation_1-error:0.000601\n",
      "[18]\tvalidation_0-error:0.001545\tvalidation_1-error:0.000601\n",
      "[19]\tvalidation_0-error:0.001545\tvalidation_1-error:0.000601\n",
      "[20]\tvalidation_0-error:0.001545\tvalidation_1-error:0.000601\n",
      "[21]\tvalidation_0-error:0.001545\tvalidation_1-error:0.000601\n",
      "[22]\tvalidation_0-error:0.001545\tvalidation_1-error:0.000601\n",
      "[23]\tvalidation_0-error:0.001545\tvalidation_1-error:0.000601\n",
      "[24]\tvalidation_0-error:0.001545\tvalidation_1-error:0.000601\n",
      "[25]\tvalidation_0-error:0.001545\tvalidation_1-error:0.000601\n",
      "[26]\tvalidation_0-error:0.001545\tvalidation_1-error:0.000601\n",
      "[27]\tvalidation_0-error:0.001545\tvalidation_1-error:0.000601\n",
      "[28]\tvalidation_0-error:0.001545\tvalidation_1-error:0.000601\n",
      "[29]\tvalidation_0-error:0.001545\tvalidation_1-error:0.000601\n",
      "[30]\tvalidation_0-error:0.001545\tvalidation_1-error:0.000601\n",
      "[31]\tvalidation_0-error:0.001545\tvalidation_1-error:0.000601\n",
      "[32]\tvalidation_0-error:0.001545\tvalidation_1-error:0.000601\n",
      "[33]\tvalidation_0-error:0.001545\tvalidation_1-error:0.000601\n",
      "[34]\tvalidation_0-error:0.001545\tvalidation_1-error:0.000601\n",
      "[35]\tvalidation_0-error:0.001545\tvalidation_1-error:0.000601\n",
      "[36]\tvalidation_0-error:0.001545\tvalidation_1-error:0.000601\n",
      "[37]\tvalidation_0-error:0.001545\tvalidation_1-error:0.000601\n",
      "[38]\tvalidation_0-error:0.001545\tvalidation_1-error:0.000601\n",
      "[39]\tvalidation_0-error:0.001545\tvalidation_1-error:0.000601\n",
      "[40]\tvalidation_0-error:0.001545\tvalidation_1-error:0.000601\n",
      "[41]\tvalidation_0-error:0.001545\tvalidation_1-error:0.000601\n",
      "[42]\tvalidation_0-error:0.001545\tvalidation_1-error:0.000601\n",
      "[43]\tvalidation_0-error:0.001545\tvalidation_1-error:0.000601\n",
      "[44]\tvalidation_0-error:0.001545\tvalidation_1-error:0.000601\n",
      "[45]\tvalidation_0-error:0.001545\tvalidation_1-error:0.000601\n",
      "[46]\tvalidation_0-error:0.001545\tvalidation_1-error:0.000601\n",
      "[47]\tvalidation_0-error:0.001545\tvalidation_1-error:0.000601\n",
      "[48]\tvalidation_0-error:0.001545\tvalidation_1-error:0.000601\n",
      "[49]\tvalidation_0-error:0.001545\tvalidation_1-error:0.000601\n",
      "[50]\tvalidation_0-error:0.001545\tvalidation_1-error:0.000601\n",
      "[51]\tvalidation_0-error:0.001545\tvalidation_1-error:0.000601\n",
      "[52]\tvalidation_0-error:0.001545\tvalidation_1-error:0.000601\n",
      "[53]\tvalidation_0-error:0.001545\tvalidation_1-error:0.000601\n",
      "[54]\tvalidation_0-error:0.001545\tvalidation_1-error:0.000601\n",
      "[55]\tvalidation_0-error:0.001545\tvalidation_1-error:0.000601\n",
      "[56]\tvalidation_0-error:0.001545\tvalidation_1-error:0.000601\n",
      "[57]\tvalidation_0-error:0.001545\tvalidation_1-error:0.000601\n",
      "[58]\tvalidation_0-error:0.001545\tvalidation_1-error:0.000601\n",
      "[59]\tvalidation_0-error:0.001545\tvalidation_1-error:0.000601\n",
      "[60]\tvalidation_0-error:0.001545\tvalidation_1-error:0.000601\n",
      "[61]\tvalidation_0-error:0.001545\tvalidation_1-error:0.000601\n",
      "[62]\tvalidation_0-error:0.001545\tvalidation_1-error:0.000601\n",
      "[63]\tvalidation_0-error:0.001545\tvalidation_1-error:0.000601\n",
      "[64]\tvalidation_0-error:0.001545\tvalidation_1-error:0.000601\n",
      "[65]\tvalidation_0-error:0.001545\tvalidation_1-error:0.000601\n",
      "[66]\tvalidation_0-error:0.001545\tvalidation_1-error:0.000601\n",
      "[67]\tvalidation_0-error:0.001545\tvalidation_1-error:0.000601\n",
      "[68]\tvalidation_0-error:0.001545\tvalidation_1-error:0.000601\n",
      "[69]\tvalidation_0-error:0.001545\tvalidation_1-error:0.000601\n",
      "[70]\tvalidation_0-error:0.001545\tvalidation_1-error:0.000601\n",
      "[71]\tvalidation_0-error:0.001545\tvalidation_1-error:0.000601\n",
      "[72]\tvalidation_0-error:0.001545\tvalidation_1-error:0.000601\n",
      "[73]\tvalidation_0-error:0.001545\tvalidation_1-error:0.000601\n",
      "[74]\tvalidation_0-error:0.001545\tvalidation_1-error:0.000601\n",
      "[75]\tvalidation_0-error:0.001545\tvalidation_1-error:0.000601\n",
      "[76]\tvalidation_0-error:0.001545\tvalidation_1-error:0.000601\n",
      "[77]\tvalidation_0-error:0.001545\tvalidation_1-error:0.000601\n",
      "[78]\tvalidation_0-error:0.001545\tvalidation_1-error:0.000601\n",
      "[79]\tvalidation_0-error:0.001545\tvalidation_1-error:0.000601\n",
      "[80]\tvalidation_0-error:0.001545\tvalidation_1-error:0.000601\n",
      "[81]\tvalidation_0-error:0.001545\tvalidation_1-error:0.000601\n",
      "[82]\tvalidation_0-error:0.001545\tvalidation_1-error:0.000601\n",
      "[83]\tvalidation_0-error:0.001545\tvalidation_1-error:0.000601\n",
      "[84]\tvalidation_0-error:0.001545\tvalidation_1-error:0.000601\n",
      "[85]\tvalidation_0-error:0.001545\tvalidation_1-error:0.000601\n",
      "[86]\tvalidation_0-error:0.001545\tvalidation_1-error:0.000601\n",
      "[87]\tvalidation_0-error:0.001545\tvalidation_1-error:0.000601\n",
      "[88]\tvalidation_0-error:0.001545\tvalidation_1-error:0.000601\n",
      "[89]\tvalidation_0-error:0.001545\tvalidation_1-error:0.000601\n",
      "[90]\tvalidation_0-error:0.001545\tvalidation_1-error:0.000601\n",
      "[91]\tvalidation_0-error:0.001545\tvalidation_1-error:0.000601\n",
      "[92]\tvalidation_0-error:0.001545\tvalidation_1-error:0.000601\n",
      "[93]\tvalidation_0-error:0.001545\tvalidation_1-error:0.000601\n",
      "[94]\tvalidation_0-error:0.001545\tvalidation_1-error:0.000601\n",
      "[95]\tvalidation_0-error:0.001545\tvalidation_1-error:0.000601\n",
      "[96]\tvalidation_0-error:0.001545\tvalidation_1-error:0.000601\n",
      "[97]\tvalidation_0-error:0.001545\tvalidation_1-error:0.000601\n",
      "[98]\tvalidation_0-error:0.001545\tvalidation_1-error:0.000601\n",
      "[99]\tvalidation_0-error:0.001545\tvalidation_1-error:0.000601\n",
      "[100]\tvalidation_0-error:0.001545\tvalidation_1-error:0.000601\n",
      "[101]\tvalidation_0-error:0.001545\tvalidation_1-error:0.000601\n",
      "[102]\tvalidation_0-error:0.001545\tvalidation_1-error:0.000601\n",
      "[103]\tvalidation_0-error:0.001545\tvalidation_1-error:0.000601\n",
      "[104]\tvalidation_0-error:0.001545\tvalidation_1-error:0.000601\n",
      "[105]\tvalidation_0-error:0.001545\tvalidation_1-error:0.000601\n",
      "[106]\tvalidation_0-error:0.001545\tvalidation_1-error:0.000601\n",
      "[107]\tvalidation_0-error:0.001545\tvalidation_1-error:0.000601\n",
      "[108]\tvalidation_0-error:0.001545\tvalidation_1-error:0.000601\n",
      "[109]\tvalidation_0-error:0.001545\tvalidation_1-error:0.000601\n",
      "[110]\tvalidation_0-error:0.001545\tvalidation_1-error:0.000601\n",
      "[111]\tvalidation_0-error:0.001545\tvalidation_1-error:0.000601\n",
      "[112]\tvalidation_0-error:0.001545\tvalidation_1-error:0.000601\n",
      "[113]\tvalidation_0-error:0.001545\tvalidation_1-error:0.000601\n",
      "[114]\tvalidation_0-error:0.001545\tvalidation_1-error:0.000601\n",
      "[115]\tvalidation_0-error:0.001545\tvalidation_1-error:0.000601\n",
      "[116]\tvalidation_0-error:0.001545\tvalidation_1-error:0.000601\n",
      "[117]\tvalidation_0-error:0.001545\tvalidation_1-error:0.000601\n",
      "[118]\tvalidation_0-error:0.001545\tvalidation_1-error:0.000601\n",
      "[119]\tvalidation_0-error:0.001545\tvalidation_1-error:0.000601\n",
      "[120]\tvalidation_0-error:0.001545\tvalidation_1-error:0.000601\n",
      "[121]\tvalidation_0-error:0.001545\tvalidation_1-error:0.000601\n",
      "[122]\tvalidation_0-error:0.001545\tvalidation_1-error:0.000601\n",
      "[123]\tvalidation_0-error:0.001545\tvalidation_1-error:0.000601\n",
      "[124]\tvalidation_0-error:0.001545\tvalidation_1-error:0.000601\n",
      "[125]\tvalidation_0-error:0.001545\tvalidation_1-error:0.000601\n",
      "[126]\tvalidation_0-error:0.001545\tvalidation_1-error:0.000601\n",
      "[127]\tvalidation_0-error:0.001545\tvalidation_1-error:0.000601\n",
      "[128]\tvalidation_0-error:0.001545\tvalidation_1-error:0.000601\n",
      "[129]\tvalidation_0-error:0.001545\tvalidation_1-error:0.000601\n",
      "[130]\tvalidation_0-error:0.001545\tvalidation_1-error:0.000601\n",
      "[131]\tvalidation_0-error:0.001545\tvalidation_1-error:0.000601\n"
     ]
    },
    {
     "name": "stdout",
     "output_type": "stream",
     "text": [
      "[132]\tvalidation_0-error:0.001545\tvalidation_1-error:0.000601\n",
      "[133]\tvalidation_0-error:0.001545\tvalidation_1-error:0.000601\n",
      "[134]\tvalidation_0-error:0.001545\tvalidation_1-error:0.000601\n",
      "[135]\tvalidation_0-error:0.001545\tvalidation_1-error:0.000601\n",
      "[136]\tvalidation_0-error:0.001545\tvalidation_1-error:0.000601\n",
      "[137]\tvalidation_0-error:0.001545\tvalidation_1-error:0.000601\n",
      "[138]\tvalidation_0-error:0.001545\tvalidation_1-error:0.000601\n",
      "[139]\tvalidation_0-error:0.001545\tvalidation_1-error:0.000601\n",
      "[140]\tvalidation_0-error:0.001545\tvalidation_1-error:0.000601\n",
      "[141]\tvalidation_0-error:0.001545\tvalidation_1-error:0.000601\n",
      "[142]\tvalidation_0-error:0.001545\tvalidation_1-error:0.000601\n",
      "[143]\tvalidation_0-error:0.001545\tvalidation_1-error:0.000601\n",
      "[144]\tvalidation_0-error:0.001545\tvalidation_1-error:0.000601\n",
      "[145]\tvalidation_0-error:0.001545\tvalidation_1-error:0.000601\n",
      "[146]\tvalidation_0-error:0.001545\tvalidation_1-error:0.000601\n",
      "[147]\tvalidation_0-error:0.001545\tvalidation_1-error:0.000601\n",
      "[148]\tvalidation_0-error:0.001545\tvalidation_1-error:0.000601\n",
      "[149]\tvalidation_0-error:0.001545\tvalidation_1-error:0.000601\n",
      "[150]\tvalidation_0-error:0.001545\tvalidation_1-error:0.000601\n",
      "[151]\tvalidation_0-error:0.001545\tvalidation_1-error:0.000601\n",
      "[152]\tvalidation_0-error:0.001545\tvalidation_1-error:0.000601\n",
      "[153]\tvalidation_0-error:0.001545\tvalidation_1-error:0.000601\n",
      "[154]\tvalidation_0-error:0.001545\tvalidation_1-error:0.000601\n",
      "[155]\tvalidation_0-error:0.001545\tvalidation_1-error:0.000601\n",
      "[156]\tvalidation_0-error:0.001545\tvalidation_1-error:0.000601\n",
      "[157]\tvalidation_0-error:0.001545\tvalidation_1-error:0.000601\n",
      "[158]\tvalidation_0-error:0.001545\tvalidation_1-error:0.000601\n",
      "[159]\tvalidation_0-error:0.001545\tvalidation_1-error:0.000601\n",
      "[160]\tvalidation_0-error:0.001545\tvalidation_1-error:0.000601\n",
      "[161]\tvalidation_0-error:0.001545\tvalidation_1-error:0.000601\n",
      "[162]\tvalidation_0-error:0.001545\tvalidation_1-error:0.000601\n",
      "[163]\tvalidation_0-error:0.001545\tvalidation_1-error:0.000601\n",
      "[164]\tvalidation_0-error:0.001545\tvalidation_1-error:0.000601\n",
      "[165]\tvalidation_0-error:0.001545\tvalidation_1-error:0.000601\n",
      "[166]\tvalidation_0-error:0.001545\tvalidation_1-error:0.000601\n",
      "[167]\tvalidation_0-error:0.001545\tvalidation_1-error:0.000601\n",
      "[168]\tvalidation_0-error:0.001545\tvalidation_1-error:0.000601\n",
      "[169]\tvalidation_0-error:0.001545\tvalidation_1-error:0.000601\n",
      "[170]\tvalidation_0-error:0.001545\tvalidation_1-error:0.000601\n",
      "[171]\tvalidation_0-error:0.001545\tvalidation_1-error:0.000601\n",
      "[172]\tvalidation_0-error:0.001545\tvalidation_1-error:0.000601\n",
      "[173]\tvalidation_0-error:0.001545\tvalidation_1-error:0.000601\n",
      "[174]\tvalidation_0-error:0.001545\tvalidation_1-error:0.000601\n",
      "[175]\tvalidation_0-error:0.001545\tvalidation_1-error:0.000601\n",
      "[176]\tvalidation_0-error:0.001545\tvalidation_1-error:0.000601\n",
      "[177]\tvalidation_0-error:0.001545\tvalidation_1-error:0.000601\n",
      "[178]\tvalidation_0-error:0.001545\tvalidation_1-error:0.000601\n",
      "[179]\tvalidation_0-error:0.001545\tvalidation_1-error:0.000601\n",
      "[180]\tvalidation_0-error:0.001545\tvalidation_1-error:0.000601\n",
      "[181]\tvalidation_0-error:0.001545\tvalidation_1-error:0.000601\n",
      "[182]\tvalidation_0-error:0.001545\tvalidation_1-error:0.000601\n",
      "[183]\tvalidation_0-error:0.001545\tvalidation_1-error:0.000601\n",
      "[184]\tvalidation_0-error:0.001545\tvalidation_1-error:0.000601\n",
      "[185]\tvalidation_0-error:0.001545\tvalidation_1-error:0.000601\n",
      "[186]\tvalidation_0-error:0.001545\tvalidation_1-error:0.000601\n",
      "[187]\tvalidation_0-error:0.001545\tvalidation_1-error:0.000601\n",
      "[188]\tvalidation_0-error:0.001545\tvalidation_1-error:0.000601\n",
      "[189]\tvalidation_0-error:0.001545\tvalidation_1-error:0.000601\n",
      "[190]\tvalidation_0-error:0.001545\tvalidation_1-error:0.000601\n",
      "[191]\tvalidation_0-error:0.001545\tvalidation_1-error:0.000601\n",
      "[192]\tvalidation_0-error:0.001545\tvalidation_1-error:0.000601\n",
      "[193]\tvalidation_0-error:0.001545\tvalidation_1-error:0.000601\n",
      "[194]\tvalidation_0-error:0.001545\tvalidation_1-error:0.000601\n",
      "[195]\tvalidation_0-error:0.001545\tvalidation_1-error:0.000601\n",
      "[196]\tvalidation_0-error:0.001545\tvalidation_1-error:0.000601\n",
      "[197]\tvalidation_0-error:0.001545\tvalidation_1-error:0.000601\n",
      "[198]\tvalidation_0-error:0.001545\tvalidation_1-error:0.000601\n",
      "[199]\tvalidation_0-error:0.001545\tvalidation_1-error:0.000601\n",
      "[200]\tvalidation_0-error:0.001545\tvalidation_1-error:0.000601\n",
      "[201]\tvalidation_0-error:0.001545\tvalidation_1-error:0.000601\n",
      "[202]\tvalidation_0-error:0.001545\tvalidation_1-error:0.000601\n",
      "[203]\tvalidation_0-error:0.001545\tvalidation_1-error:0.000601\n",
      "[204]\tvalidation_0-error:0.001545\tvalidation_1-error:0.000601\n",
      "[205]\tvalidation_0-error:0.001545\tvalidation_1-error:0.000601\n",
      "[206]\tvalidation_0-error:0.001545\tvalidation_1-error:0.000601\n",
      "[207]\tvalidation_0-error:0.001545\tvalidation_1-error:0.000601\n",
      "[208]\tvalidation_0-error:0.001545\tvalidation_1-error:0.000601\n",
      "[209]\tvalidation_0-error:0.001545\tvalidation_1-error:0.000601\n",
      "[210]\tvalidation_0-error:0.001545\tvalidation_1-error:0.000601\n",
      "[211]\tvalidation_0-error:0.001545\tvalidation_1-error:0.000601\n",
      "[212]\tvalidation_0-error:0.001545\tvalidation_1-error:0.000601\n",
      "[213]\tvalidation_0-error:0.001545\tvalidation_1-error:0.000601\n",
      "[214]\tvalidation_0-error:0.001545\tvalidation_1-error:0.000601\n",
      "[215]\tvalidation_0-error:0.001545\tvalidation_1-error:0.000601\n",
      "[216]\tvalidation_0-error:0.001545\tvalidation_1-error:0.000601\n",
      "[217]\tvalidation_0-error:0.001545\tvalidation_1-error:0.000601\n",
      "[218]\tvalidation_0-error:0.001545\tvalidation_1-error:0.000601\n",
      "[219]\tvalidation_0-error:0.001545\tvalidation_1-error:0.000601\n",
      "[220]\tvalidation_0-error:0.001545\tvalidation_1-error:0.000601\n",
      "[221]\tvalidation_0-error:0.001545\tvalidation_1-error:0.000601\n",
      "[222]\tvalidation_0-error:0.001545\tvalidation_1-error:0.000601\n",
      "[223]\tvalidation_0-error:0.001545\tvalidation_1-error:0.000601\n",
      "[224]\tvalidation_0-error:0.001545\tvalidation_1-error:0.000601\n",
      "[225]\tvalidation_0-error:0.001545\tvalidation_1-error:0.000601\n",
      "[226]\tvalidation_0-error:0.001545\tvalidation_1-error:0.000601\n",
      "[227]\tvalidation_0-error:0.001545\tvalidation_1-error:0.000601\n",
      "[228]\tvalidation_0-error:0.001545\tvalidation_1-error:0.000601\n",
      "[229]\tvalidation_0-error:0.001545\tvalidation_1-error:0.000601\n",
      "[230]\tvalidation_0-error:0.001545\tvalidation_1-error:0.000601\n",
      "[231]\tvalidation_0-error:0.001545\tvalidation_1-error:0.000601\n",
      "[232]\tvalidation_0-error:0.001545\tvalidation_1-error:0.000601\n",
      "[233]\tvalidation_0-error:0.001545\tvalidation_1-error:0.000601\n",
      "[234]\tvalidation_0-error:0.001545\tvalidation_1-error:0.000601\n",
      "[235]\tvalidation_0-error:0.001545\tvalidation_1-error:0.000601\n",
      "[236]\tvalidation_0-error:0.001545\tvalidation_1-error:0.000601\n",
      "[237]\tvalidation_0-error:0.001545\tvalidation_1-error:0.000601\n",
      "[238]\tvalidation_0-error:0.001545\tvalidation_1-error:0.000601\n",
      "[239]\tvalidation_0-error:0.001545\tvalidation_1-error:0.000601\n",
      "[240]\tvalidation_0-error:0.001545\tvalidation_1-error:0.000601\n",
      "[241]\tvalidation_0-error:0.001545\tvalidation_1-error:0.000601\n",
      "[242]\tvalidation_0-error:0.001545\tvalidation_1-error:0.000601\n",
      "[243]\tvalidation_0-error:0.001545\tvalidation_1-error:0.000601\n",
      "[244]\tvalidation_0-error:0.001545\tvalidation_1-error:0.000601\n",
      "[245]\tvalidation_0-error:0.001545\tvalidation_1-error:0.000601\n",
      "[246]\tvalidation_0-error:0.001545\tvalidation_1-error:0.000601\n",
      "[247]\tvalidation_0-error:0.001545\tvalidation_1-error:0.000601\n",
      "[248]\tvalidation_0-error:0.001545\tvalidation_1-error:0.000601\n",
      "[249]\tvalidation_0-error:0.001545\tvalidation_1-error:0.000601\n",
      "[250]\tvalidation_0-error:0.001545\tvalidation_1-error:0.000601\n",
      "[251]\tvalidation_0-error:0.001545\tvalidation_1-error:0.000601\n",
      "[252]\tvalidation_0-error:0.001545\tvalidation_1-error:0.000601\n",
      "[253]\tvalidation_0-error:0.001545\tvalidation_1-error:0.000601\n",
      "[254]\tvalidation_0-error:0.001545\tvalidation_1-error:0.000601\n",
      "[255]\tvalidation_0-error:0.001545\tvalidation_1-error:0.000601\n",
      "[256]\tvalidation_0-error:0.001545\tvalidation_1-error:0.000601\n",
      "[257]\tvalidation_0-error:0.001545\tvalidation_1-error:0.000601\n",
      "[258]\tvalidation_0-error:0.001545\tvalidation_1-error:0.000601\n",
      "[259]\tvalidation_0-error:0.001545\tvalidation_1-error:0.000601\n",
      "[260]\tvalidation_0-error:0.001545\tvalidation_1-error:0.000601\n",
      "[261]\tvalidation_0-error:0.001545\tvalidation_1-error:0.000601\n",
      "[262]\tvalidation_0-error:0.001545\tvalidation_1-error:0.000601\n",
      "[263]\tvalidation_0-error:0.001545\tvalidation_1-error:0.000601\n",
      "[264]\tvalidation_0-error:0.001545\tvalidation_1-error:0.000601\n"
     ]
    },
    {
     "name": "stdout",
     "output_type": "stream",
     "text": [
      "[265]\tvalidation_0-error:0.001545\tvalidation_1-error:0.000601\n",
      "[266]\tvalidation_0-error:0.001545\tvalidation_1-error:0.000601\n",
      "[267]\tvalidation_0-error:0.001545\tvalidation_1-error:0.000601\n",
      "[268]\tvalidation_0-error:0.001545\tvalidation_1-error:0.000601\n",
      "[269]\tvalidation_0-error:0.001545\tvalidation_1-error:0.000601\n",
      "[270]\tvalidation_0-error:0.001545\tvalidation_1-error:0.000601\n",
      "[271]\tvalidation_0-error:0.001545\tvalidation_1-error:0.000601\n",
      "[272]\tvalidation_0-error:0.001545\tvalidation_1-error:0.000601\n",
      "[273]\tvalidation_0-error:0.001545\tvalidation_1-error:0.000601\n",
      "[274]\tvalidation_0-error:0.001545\tvalidation_1-error:0.000601\n",
      "[275]\tvalidation_0-error:0.001545\tvalidation_1-error:0.000601\n",
      "[276]\tvalidation_0-error:0.001545\tvalidation_1-error:0.000601\n",
      "[277]\tvalidation_0-error:0.001545\tvalidation_1-error:0.000601\n",
      "[278]\tvalidation_0-error:0.001545\tvalidation_1-error:0.000601\n",
      "[279]\tvalidation_0-error:0.001545\tvalidation_1-error:0.000601\n",
      "[280]\tvalidation_0-error:0.001545\tvalidation_1-error:0.000601\n",
      "[281]\tvalidation_0-error:0.001545\tvalidation_1-error:0.000601\n",
      "[282]\tvalidation_0-error:0.001545\tvalidation_1-error:0.000601\n",
      "[283]\tvalidation_0-error:0.001545\tvalidation_1-error:0.000601\n",
      "[284]\tvalidation_0-error:0.001545\tvalidation_1-error:0.000601\n",
      "[285]\tvalidation_0-error:0.001545\tvalidation_1-error:0.000601\n",
      "[286]\tvalidation_0-error:0.001545\tvalidation_1-error:0.000601\n",
      "[287]\tvalidation_0-error:0.001545\tvalidation_1-error:0.000601\n",
      "[288]\tvalidation_0-error:0.001545\tvalidation_1-error:0.000601\n",
      "[289]\tvalidation_0-error:0.001545\tvalidation_1-error:0.000601\n",
      "[290]\tvalidation_0-error:0.001545\tvalidation_1-error:0.000601\n",
      "[291]\tvalidation_0-error:0.001545\tvalidation_1-error:0.000601\n",
      "[292]\tvalidation_0-error:0.001545\tvalidation_1-error:0.000601\n",
      "[293]\tvalidation_0-error:0.001545\tvalidation_1-error:0.000601\n",
      "[294]\tvalidation_0-error:0.001545\tvalidation_1-error:0.000601\n",
      "[295]\tvalidation_0-error:0.001545\tvalidation_1-error:0.000601\n",
      "[296]\tvalidation_0-error:0.001545\tvalidation_1-error:0.000601\n",
      "[297]\tvalidation_0-error:0.001545\tvalidation_1-error:0.000601\n",
      "[298]\tvalidation_0-error:0.001545\tvalidation_1-error:0.000601\n",
      "[299]\tvalidation_0-error:0.001545\tvalidation_1-error:0.000601\n",
      "[300]\tvalidation_0-error:0.001545\tvalidation_1-error:0.000601\n",
      "Stopping. Best iteration:\n",
      "[0]\tvalidation_0-error:0.001545\tvalidation_1-error:0.000601\n",
      "\n"
     ]
    },
    {
     "data": {
      "text/plain": [
       "XGBClassifier(base_score=0.5, booster='gbtree', colsample_bylevel=1,\n",
       "       colsample_bynode=1, colsample_bytree=0.8, gamma=0,\n",
       "       learning_rate=0.1, max_delta_step=0, max_depth=3,\n",
       "       min_child_weight=3, missing=None, n_estimators=1000, n_jobs=1,\n",
       "       nthread=None, objective='binary:logistic', random_state=0,\n",
       "       reg_alpha=0, reg_lambda=1, scale_pos_weight=1, seed=1, silent=None,\n",
       "       subsample=1, verbosity=1)"
      ]
     },
     "execution_count": 29,
     "metadata": {},
     "output_type": "execute_result"
    }
   ],
   "source": [
    "#Se ajusta el modelo con las mejores variables best_20_v3\n",
    "#'multi:softmax'\n",
    "xgb_model_v2 = xgb.XGBClassifier(objective = 'binary:logistic', \n",
    "                              seed = 1,  \n",
    "                              max_depth = 3, \n",
    "                              colsample_bytree = 0.8,\n",
    "                              learning_rate = 0.1, \n",
    "                              n_estimators = 1000, min_child_weight = 3)\n",
    "\n",
    "xgb_model_v2.fit(X_train[best_60], y_train, \n",
    "              eval_set = [(X_train[best_60], y_train), (X_val[best_60], y_val)],\n",
    "              early_stopping_rounds=300)"
   ]
  },
  {
   "cell_type": "code",
   "execution_count": 30,
   "metadata": {},
   "outputs": [
    {
     "data": {
      "text/plain": [
       "0.5"
      ]
     },
     "execution_count": 30,
     "metadata": {},
     "output_type": "execute_result"
    }
   ],
   "source": [
    "# Predecir probabilidades para data test (20%)\n",
    "\n",
    "probs_test = xgb_model_v2.predict_proba(mdt_test[best_60])\n",
    "\n",
    "fpr, tpr, thresholds = metrics.roc_curve(y_test, probs_test[:, 1])\n",
    "\n",
    "#AUC\n",
    "metrics.auc(fpr, tpr)"
   ]
  },
  {
   "cell_type": "code",
   "execution_count": 31,
   "metadata": {},
   "outputs": [
    {
     "data": {
      "text/plain": [
       "array([[   0, 2744],\n",
       "       [   0,    7]])"
      ]
     },
     "execution_count": 31,
     "metadata": {},
     "output_type": "execute_result"
    }
   ],
   "source": [
    "#Matriz de confusión\n",
    "predict_test = (probs_test[:, 1] > 0.045)*1\n",
    "metrics.confusion_matrix(y_test,predict_test)\n"
   ]
  },
  {
   "cell_type": "code",
   "execution_count": 32,
   "metadata": {},
   "outputs": [
    {
     "name": "stderr",
     "output_type": "stream",
     "text": [
      "/home/jupyter/anaconda3/lib/python3.7/site-packages/ipykernel_launcher.py:2: SettingWithCopyWarning: \n",
      "A value is trying to be set on a copy of a slice from a DataFrame.\n",
      "Try using .loc[row_indexer,col_indexer] = value instead\n",
      "\n",
      "See the caveats in the documentation: http://pandas.pydata.org/pandas-docs/stable/user_guide/indexing.html#returning-a-view-versus-a-copy\n",
      "  \n"
     ]
    },
    {
     "data": {
      "text/plain": [
       "0.002544529262086514"
      ]
     },
     "execution_count": 32,
     "metadata": {},
     "output_type": "execute_result"
    }
   ],
   "source": [
    "#Accuracy\n",
    "mdt_test['probs'] = probs_test[:, 1]\n",
    "metrics.accuracy_score(y_test, predict_test)\n"
   ]
  },
  {
   "cell_type": "code",
   "execution_count": 33,
   "metadata": {},
   "outputs": [
    {
     "data": {
      "text/plain": [
       "1.0"
      ]
     },
     "execution_count": 33,
     "metadata": {},
     "output_type": "execute_result"
    }
   ],
   "source": [
    "#Recall\n",
    "metrics.recall_score(y_test, predict_test)"
   ]
  },
  {
   "cell_type": "code",
   "execution_count": 34,
   "metadata": {},
   "outputs": [
    {
     "data": {
      "image/png": "[encoded data removed]",
      "text/plain": [
       "<Figure size 432x288 with 1 Axes>"
      ]
     },
     "metadata": {
      "needs_background": "light"
     },
     "output_type": "display_data"
    }
   ],
   "source": [
    "# Graficar probabilidades según Fraude/No Fraude observado (real)\n",
    "\n",
    "subset_si = mdt_test[y_test == 1]\n",
    "\n",
    "subset_no = mdt_test[y_test == 0]\n",
    "\n",
    "sns.distplot(subset_no[['probs']], hist = True, norm_hist = True, bins = 10, kde = False, kde_kws = {'linewidth' : 3},\n",
    "            label = 'No usa < 30D', color = 'green')\n",
    "\n",
    "sns.distplot(subset_si[['probs']], hist = True, norm_hist = True, bins = 10, kde = False, kde_kws = {'linewidth' : 3},\n",
    "            label = 'Si usa < 30D', color = 'red')\n",
    "\n",
    "plt.legend(prop = {'size' : 10})\n",
    "plt.title('Distribución de scores según Primer uso')\n",
    "plt.xlabel('Probabilidad')\n",
    "plt.ylabel('Porcentaje')\n",
    "plt.show()"
   ]
  },
  {
   "cell_type": "code",
   "execution_count": 35,
   "metadata": {},
   "outputs": [
    {
     "name": "stderr",
     "output_type": "stream",
     "text": [
      "/home/jupyter/anaconda3/lib/python3.7/site-packages/matplotlib/cbook/__init__.py:424: MatplotlibDeprecationWarning: \n",
      "Passing one of 'on', 'true', 'off', 'false' as a boolean is deprecated; use an actual boolean (True/False) instead.\n",
      "  warn_deprecated(\"2.2\", \"Passing one of 'on', 'true', 'off', 'false' as a \"\n"
     ]
    },
    {
     "data": {
      "text/plain": [
       "<matplotlib.axes._subplots.AxesSubplot at 0x7f22d8304cf8>"
      ]
     },
     "execution_count": 35,
     "metadata": {},
     "output_type": "execute_result"
    },
    {
     "data": {
      "image/png": "[encoded data removed]",
      "text/plain": [
       "<Figure size 432x288 with 1 Axes>"
      ]
     },
     "metadata": {
      "needs_background": "light"
     },
     "output_type": "display_data"
    }
   ],
   "source": [
    "skplt.metrics.plot_cumulative_gain(y_test, probs_test)"
   ]
  },
  {
   "cell_type": "code",
   "execution_count": 36,
   "metadata": {},
   "outputs": [
    {
     "data": {
      "image/png": "[encoded data removed]",
      "text/plain": [
       "<Figure size 576x165.6 with 2 Axes>"
      ]
     },
     "metadata": {
      "needs_background": "light"
     },
     "output_type": "display_data"
    }
   ],
   "source": [
    "shap_values = shap.TreeExplainer(xgb_model_v2).shap_values(mdt_test[best_60])\n",
    "shap.summary_plot(shap_values, mdt_test[best_60])"
   ]
  },
  {
   "cell_type": "code",
   "execution_count": 37,
   "metadata": {},
   "outputs": [
    {
     "data": {
      "image/png": "[encoded data removed]",
      "text/plain": [
       "<Figure size 576x165.6 with 1 Axes>"
      ]
     },
     "metadata": {
      "needs_background": "light"
     },
     "output_type": "display_data"
    }
   ],
   "source": [
    "shap.summary_plot(shap_values, mdt_test[best_60], plot_type = 'bar')"
   ]
  },
  {
   "cell_type": "code",
   "execution_count": null,
   "metadata": {},
   "outputs": [],
   "source": []
  },
  {
   "cell_type": "code",
   "execution_count": null,
   "metadata": {},
   "outputs": [],
   "source": []
  },
  {
   "cell_type": "code",
   "execution_count": 38,
   "metadata": {},
   "outputs": [],
   "source": [
    "## Correr arbol\n",
    "#main(X_train,y_train)\n"
   ]
  },
  {
   "cell_type": "code",
   "execution_count": 39,
   "metadata": {},
   "outputs": [
    {
     "ename": "NameError",
     "evalue": "name 'my_tree' is not defined",
     "output_type": "error",
     "traceback": [
      "\u001b[0;31m---------------------------------------------------------------------------\u001b[0m",
      "\u001b[0;31mNameError\u001b[0m                                 Traceback (most recent call last)",
      "\u001b[0;32m<ipython-input-39-099fdba67520>\u001b[0m in \u001b[0;36m<module>\u001b[0;34m\u001b[0m\n\u001b[1;32m      1\u001b[0m \u001b[0;31m# Testing tree\u001b[0m\u001b[0;34m\u001b[0m\u001b[0;34m\u001b[0m\u001b[0;34m\u001b[0m\u001b[0m\n\u001b[0;32m----> 2\u001b[0;31m \u001b[0mmy_tree\u001b[0m\u001b[0;34m(\u001b[0m\u001b[0mX_test\u001b[0m\u001b[0;34m)\u001b[0m\u001b[0;34m\u001b[0m\u001b[0;34m\u001b[0m\u001b[0m\n\u001b[0m",
      "\u001b[0;31mNameError\u001b[0m: name 'my_tree' is not defined"
     ]
    }
   ],
   "source": [
    "# Testing tree\n",
    "my_tree(X_test)"
   ]
  },
  {
   "cell_type": "code",
   "execution_count": null,
   "metadata": {},
   "outputs": [],
   "source": [
    "# Model Accuracy, how often is the classifier correct?\n",
    "print(\"Accuracy:\",metrics.accuracy_score(y_test, y_pred))"
   ]
  }
 ],
 "metadata": {
  "kernelspec": {
   "display_name": "Python 3",
   "language": "python",
   "name": "python3"
  },
  "language_info": {
   "codemirror_mode": {
    "name": "ipython",
    "version": 3
   },
   "file_extension": ".py",
   "mimetype": "text/x-python",
   "name": "python",
   "nbconvert_exporter": "python",
   "pygments_lexer": "ipython3",
   "version": "3.7.3"
  }
 },
 "nbformat": 4,
 "nbformat_minor": 2
}
