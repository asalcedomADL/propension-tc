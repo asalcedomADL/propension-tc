{
 "cells": [
  {
   "cell_type": "code",
   "execution_count": 1,
   "metadata": {},
   "outputs": [],
   "source": [
    "# Paquetes\n",
    "import pandas as pd\n",
    "import numpy as np\n",
    "import boto3\n",
    "import os\n",
    "from datetime import datetime, timedelta\n",
    "import dateutil.relativedelta\n",
    "import gc\n",
    "\n",
    "pd.set_option('display.max_columns',None)\n",
    "pd.set_option('display.max_rows',400)"
   ]
  },
  {
   "cell_type": "code",
   "execution_count": 2,
   "metadata": {},
   "outputs": [],
   "source": [
    "def get_s3_files(s3_url):\n",
    "    session = boto3.session.Session()\n",
    "    s3 = session.client(\"s3\")\n",
    "    bucket = s3_url.split(\"/\")[2]\n",
    "    key = s3_url.split(\"/\")[3:]\n",
    "    key = \"/\".join(key)\n",
    "    objects = _key_files__list(s3, bucket, key)\n",
    "    files = [\"s3://\" + bucket + \"/\" + file[\"Key\"] for file in objects]\n",
    "    return files\n",
    "\n",
    "def _key_files__list(client, bucket, key):\n",
    "    \"\"\"return the key's size if it exist, else None\"\"\"\n",
    "    response = client.list_objects_v2(Bucket=bucket, Prefix=key)\n",
    "    return response.get(\"Contents\", [])"
   ]
  },
  {
   "cell_type": "code",
   "execution_count": 2,
   "metadata": {},
   "outputs": [
    {
     "data": {
      "text/html": [
       "<div>\n",
       "<style scoped>\n",
       "    .dataframe tbody tr th:only-of-type {\n",
       "        vertical-align: middle;\n",
       "    }\n",
       "\n",
       "    .dataframe tbody tr th {\n",
       "        vertical-align: top;\n",
       "    }\n",
       "\n",
       "    .dataframe thead th {\n",
       "        text-align: right;\n",
       "    }\n",
       "</style>\n",
       "<table border=\"1\" class=\"dataframe\">\n",
       "  <thead>\n",
       "    <tr style=\"text-align: right;\">\n",
       "      <th></th>\n",
       "      <th>date</th>\n",
       "      <th>numero_identificacion</th>\n",
       "      <th>total_tarjetas</th>\n",
       "      <th>channel</th>\n",
       "      <th>grupo_prob</th>\n",
       "      <th>segmento</th>\n",
       "      <th>channel_modificado</th>\n",
       "    </tr>\n",
       "  </thead>\n",
       "  <tbody>\n",
       "    <tr>\n",
       "      <th>0</th>\n",
       "      <td>2020-10-07</td>\n",
       "      <td>10159126</td>\n",
       "      <td>1</td>\n",
       "      <td>atento</td>\n",
       "      <td>grupo_prob_baja</td>\n",
       "      <td>seg_preaprobado</td>\n",
       "      <td>atento</td>\n",
       "    </tr>\n",
       "    <tr>\n",
       "      <th>1</th>\n",
       "      <td>2020-09-21</td>\n",
       "      <td>10159462</td>\n",
       "      <td>1</td>\n",
       "      <td>oficina</td>\n",
       "      <td>grupo_prob_alta</td>\n",
       "      <td>seg_preaprobado</td>\n",
       "      <td>oficina</td>\n",
       "    </tr>\n",
       "    <tr>\n",
       "      <th>2</th>\n",
       "      <td>2020-10-06</td>\n",
       "      <td>10214423</td>\n",
       "      <td>1</td>\n",
       "      <td>atento</td>\n",
       "      <td>grupo_prob_baja</td>\n",
       "      <td>seg_preaprobado</td>\n",
       "      <td>atento</td>\n",
       "    </tr>\n",
       "    <tr>\n",
       "      <th>3</th>\n",
       "      <td>2020-10-16</td>\n",
       "      <td>10347708</td>\n",
       "      <td>1</td>\n",
       "      <td>atento</td>\n",
       "      <td>grupo_prob_alta</td>\n",
       "      <td>seg_preaprobado</td>\n",
       "      <td>atento</td>\n",
       "    </tr>\n",
       "    <tr>\n",
       "      <th>4</th>\n",
       "      <td>2020-10-09</td>\n",
       "      <td>10530015</td>\n",
       "      <td>1</td>\n",
       "      <td>atento</td>\n",
       "      <td>grupo_prob_alta</td>\n",
       "      <td>seg_preaprobado</td>\n",
       "      <td>atento</td>\n",
       "    </tr>\n",
       "  </tbody>\n",
       "</table>\n",
       "</div>"
      ],
      "text/plain": [
       "         date  numero_identificacion  total_tarjetas  channel  \\\n",
       "0  2020-10-07               10159126               1   atento   \n",
       "1  2020-09-21               10159462               1  oficina   \n",
       "2  2020-10-06               10214423               1   atento   \n",
       "3  2020-10-16               10347708               1   atento   \n",
       "4  2020-10-09               10530015               1   atento   \n",
       "\n",
       "        grupo_prob         segmento channel_modificado  \n",
       "0  grupo_prob_baja  seg_preaprobado             atento  \n",
       "1  grupo_prob_alta  seg_preaprobado            oficina  \n",
       "2  grupo_prob_baja  seg_preaprobado             atento  \n",
       "3  grupo_prob_alta  seg_preaprobado             atento  \n",
       "4  grupo_prob_alta  seg_preaprobado             atento  "
      ]
     },
     "execution_count": 2,
     "metadata": {},
     "output_type": "execute_result"
    }
   ],
   "source": [
    "path = 's3://data-bpop-dev-sandbox-de/campana_mkd/click_to_call/clic_to_call_detalle_H20200901_20201018.csv'\n",
    "data = pd.read_csv(path, encoding='latin-1')\n",
    "data.head()"
   ]
  },
  {
   "cell_type": "code",
   "execution_count": 10,
   "metadata": {},
   "outputs": [
    {
     "data": {
      "text/plain": [
       "2020-10    164\n",
       "2020-09     43\n",
       "Freq: M, Name: month, dtype: int64"
      ]
     },
     "execution_count": 10,
     "metadata": {},
     "output_type": "execute_result"
    }
   ],
   "source": [
    "data[\"date\"]  = pd.to_datetime(data[\"date\"], format='%Y-%m-%d')\n",
    "data[\"month\"] = data[\"date\"].dt.to_period(\"M\")\n",
    "data.month.value_counts()"
   ]
  },
  {
   "cell_type": "code",
   "execution_count": 20,
   "metadata": {},
   "outputs": [
    {
     "data": {
      "text/plain": [
       "segmento         grupo_prob     \n",
       "seg_perfilado    grupo_prob_alta      6\n",
       "                 grupo_prob_baja      2\n",
       "seg_preaprobado  grupo_prob_alta     95\n",
       "                 grupo_prob_baja    104\n",
       "dtype: int64"
      ]
     },
     "execution_count": 20,
     "metadata": {},
     "output_type": "execute_result"
    }
   ],
   "source": [
    "data.groupby(['segmento','grupo_prob']).size()"
   ]
  },
  {
   "cell_type": "code",
   "execution_count": 5,
   "metadata": {},
   "outputs": [
    {
     "data": {
      "text/plain": [
       "239"
      ]
     },
     "execution_count": 5,
     "metadata": {},
     "output_type": "execute_result"
    }
   ],
   "source": [
    "data.total_tarjetas.sum()"
   ]
  },
  {
   "cell_type": "code",
   "execution_count": 17,
   "metadata": {},
   "outputs": [
    {
     "data": {
      "text/plain": [
       "<matplotlib.axes._subplots.AxesSubplot at 0x7ff1e48966d8>"
      ]
     },
     "execution_count": 17,
     "metadata": {},
     "output_type": "execute_result"
    },
    {
     "data": {
      "image/png": "[encoded data removed]",
      "text/plain": [
       "<Figure size 1008x576 with 1 Axes>"
      ]
     },
     "metadata": {
      "needs_background": "light"
     },
     "output_type": "display_data"
    }
   ],
   "source": [
    "data.groupby('date').size().plot(figsize=(14,8))"
   ]
  },
  {
   "cell_type": "code",
   "execution_count": 27,
   "metadata": {},
   "outputs": [
    {
     "data": {
      "text/plain": [
       "2020-10    164\n",
       "2020-09     43\n",
       "Freq: M, Name: month, dtype: int64"
      ]
     },
     "execution_count": 27,
     "metadata": {},
     "output_type": "execute_result"
    }
   ],
   "source": [
    "data.month.value_counts()"
   ]
  },
  {
   "cell_type": "code",
   "execution_count": 28,
   "metadata": {},
   "outputs": [],
   "source": [
    "octubre = data[data[\"month\"]=='2020-10']"
   ]
  },
  {
   "cell_type": "code",
   "execution_count": 29,
   "metadata": {},
   "outputs": [
    {
     "data": {
      "text/plain": [
       "segmento         grupo_prob     \n",
       "seg_perfilado    grupo_prob_alta     2\n",
       "                 grupo_prob_baja     2\n",
       "seg_preaprobado  grupo_prob_alta    71\n",
       "                 grupo_prob_baja    89\n",
       "dtype: int64"
      ]
     },
     "execution_count": 29,
     "metadata": {},
     "output_type": "execute_result"
    }
   ],
   "source": [
    "octubre.groupby(['segmento','grupo_prob']).size()"
   ]
  },
  {
   "cell_type": "code",
   "execution_count": 31,
   "metadata": {},
   "outputs": [
    {
     "data": {
      "text/plain": [
       "20472831      1\n",
       "79496865      1\n",
       "37218997      1\n",
       "36532353      1\n",
       "41307955      1\n",
       "20437299      1\n",
       "79420079      1\n",
       "40176814      1\n",
       "8389146       1\n",
       "2570485       1\n",
       "19244200      1\n",
       "41645732      1\n",
       "3294365       1\n",
       "78024376      1\n",
       "31578570      1\n",
       "8665217       1\n",
       "18106009      1\n",
       "3110040       1\n",
       "27358981      1\n",
       "8226448       1\n",
       "94286871      1\n",
       "79120011      1\n",
       "24307336      1\n",
       "17051783      1\n",
       "91183643      1\n",
       "11785404      1\n",
       "38940803      1\n",
       "38246621      1\n",
       "26309813      1\n",
       "32421107      1\n",
       "19176690      1\n",
       "1068926190    1\n",
       "1120359299    1\n",
       "18124522      1\n",
       "66944229      1\n",
       "9090173       1\n",
       "35458786      1\n",
       "12365023      1\n",
       "43608282      1\n",
       "17146046      1\n",
       "91242201      1\n",
       "52062417      1\n",
       "9075142       1\n",
       "57436366      1\n",
       "30020301      1\n",
       "20937420      1\n",
       "39809340      1\n",
       "1064137       1\n",
       "6286717       1\n",
       "30726847      1\n",
       "42492037      1\n",
       "12268161      1\n",
       "9063158       1\n",
       "17346184      1\n",
       "79642682      1\n",
       "41707062      1\n",
       "10347708      1\n",
       "66910254      1\n",
       "17800235      1\n",
       "17623081      1\n",
       "17086504      1\n",
       "23247398      1\n",
       "41398811      1\n",
       "49651226      1\n",
       "64558237      1\n",
       "19256893      1\n",
       "10214423      1\n",
       "10159126      1\n",
       "3161621       1\n",
       "33675794      1\n",
       "34959621      1\n",
       "7400461       1\n",
       "8265740       1\n",
       "5219847       1\n",
       "79539205      1\n",
       "19158018      1\n",
       "39635004      1\n",
       "19093234      1\n",
       "31258240      1\n",
       "9517158       1\n",
       "34561151      1\n",
       "28410493      1\n",
       "43513978      1\n",
       "91345017      1\n",
       "5743734       1\n",
       "40043121      1\n",
       "27115117      1\n",
       "33199212      1\n",
       "6444138       1\n",
       "8220265       1\n",
       "38612068      1\n",
       "11294276      1\n",
       "43537507      1\n",
       "32618081      1\n",
       "70385760      1\n",
       "14202975      1\n",
       "70081630      1\n",
       "32291421      1\n",
       "19206742      1\n",
       "11803219      1\n",
       "15911501      1\n",
       "28835915      1\n",
       "34532597      1\n",
       "74752247      1\n",
       "27956733      1\n",
       "14207898      1\n",
       "8631725       1\n",
       "29501827      1\n",
       "17138091      1\n",
       "17626483      1\n",
       "37252521      1\n",
       "37925799      1\n",
       "32205732      1\n",
       "65758114      1\n",
       "32345351      1\n",
       "17174941      1\n",
       "38242201      1\n",
       "51896758      1\n",
       "41628054      1\n",
       "51598228      1\n",
       "3353491       1\n",
       "43602833      1\n",
       "20622736      1\n",
       "41540048      1\n",
       "12576131      1\n",
       "11203969      1\n",
       "17058984      1\n",
       "37226518      1\n",
       "60321711      1\n",
       "19499449      1\n",
       "4321651       1\n",
       "19169748      1\n",
       "32530251      1\n",
       "46458353      1\n",
       "8318448       1\n",
       "6185968       1\n",
       "13817838      1\n",
       "39150571      1\n",
       "19131628      1\n",
       "19137509      1\n",
       "6237840       1\n",
       "41546206      1\n",
       "30733266      1\n",
       "37792185      1\n",
       "27074134      1\n",
       "5199824       1\n",
       "39632334      1\n",
       "79993803      1\n",
       "18108362      1\n",
       "17025481      1\n",
       "3959239       1\n",
       "40795590      1\n",
       "21069559      1\n",
       "41376572      1\n",
       "20427130      1\n",
       "3045360       1\n",
       "36521212      1\n",
       "13337369      1\n",
       "14998323      1\n",
       "8744474       1\n",
       "12270379      1\n",
       "51650346      1\n",
       "9270568       1\n",
       "30740775      1\n",
       "40365346      1\n",
       "14247100      1\n",
       "25592607      1\n",
       "19119899      1\n",
       "3876118       1\n",
       "22373689      1\n",
       "15047445      1\n",
       "17327890      1\n",
       "13879057      1\n",
       "3266830       1\n",
       "19092235      1\n",
       "5127946       1\n",
       "19158279      1\n",
       "12116741      1\n",
       "17079043      1\n",
       "30685953      1\n",
       "3734323       1\n",
       "41553723      1\n",
       "6427213       1\n",
       "3266895       1\n",
       "9399262       1\n",
       "91209576      1\n",
       "10159462      1\n",
       "21231970      1\n",
       "88289631      1\n",
       "9516377       1\n",
       "19458903      1\n",
       "37807958      1\n",
       "32481108      1\n",
       "35373394      1\n",
       "41304907      1\n",
       "194364        1\n",
       "32354221      1\n",
       "7473481       1\n",
       "75082283      1\n",
       "5709639       1\n",
       "17191116      1\n",
       "4718915       1\n",
       "10530015      1\n",
       "6864903       1\n",
       "13337407      1\n",
       "11798333      1\n",
       "42745857      1\n",
       "Name: numero_identificacion, dtype: int64"
      ]
     },
     "execution_count": 31,
     "metadata": {},
     "output_type": "execute_result"
    }
   ],
   "source": [
    "data.numero_identificacion.value_counts()"
   ]
  },
  {
   "cell_type": "markdown",
   "metadata": {},
   "source": [
    "## Analizando Base Septiembre - Oct - Nov"
   ]
  },
  {
   "cell_type": "code",
   "execution_count": 27,
   "metadata": {},
   "outputs": [],
   "source": [
    "import s3fs\n",
    "import pyarrow as pa\n",
    "import pyarrow.parquet as pq\n",
    "\n",
    "def spark_read_parquet(s3_url: str, **args):\n",
    "    fs = s3fs.S3FileSystem()\n",
    "    # Leyendo base\n",
    "    dataset = pq.ParquetDataset(s3_url, filesystem=fs)\n",
    "    table = dataset.read()\n",
    "    dataframe = table.to_pandas()\n",
    "\n",
    "    del dataset, table\n",
    "\n",
    "    return dataframe\n",
    "\n",
    "fs = s3fs.S3FileSystem()"
   ]
  },
  {
   "cell_type": "code",
   "execution_count": 28,
   "metadata": {},
   "outputs": [
    {
     "data": {
      "text/html": [
       "<div>\n",
       "<style scoped>\n",
       "    .dataframe tbody tr th:only-of-type {\n",
       "        vertical-align: middle;\n",
       "    }\n",
       "\n",
       "    .dataframe tbody tr th {\n",
       "        vertical-align: top;\n",
       "    }\n",
       "\n",
       "    .dataframe thead th {\n",
       "        text-align: right;\n",
       "    }\n",
       "</style>\n",
       "<table border=\"1\" class=\"dataframe\">\n",
       "  <thead>\n",
       "    <tr style=\"text-align: right;\">\n",
       "      <th></th>\n",
       "      <th>id_numero_cliente</th>\n",
       "      <th>mes_campaña</th>\n",
       "      <th>acep_oferta_prev</th>\n",
       "      <th>mes_ult_act</th>\n",
       "      <th>mes_ult_camp</th>\n",
       "      <th>num_act_utl_meses</th>\n",
       "      <th>num_camp_ult_meses</th>\n",
       "      <th>num_meses_ult_actv</th>\n",
       "      <th>num_meses_ult_camp</th>\n",
       "      <th>num_no_aceptado</th>\n",
       "      <th>data_camp</th>\n",
       "      <th>no_nulos</th>\n",
       "    </tr>\n",
       "  </thead>\n",
       "  <tbody>\n",
       "    <tr>\n",
       "      <th>0</th>\n",
       "      <td>7330974</td>\n",
       "      <td>2019-04-01</td>\n",
       "      <td>0.0</td>\n",
       "      <td>NaT</td>\n",
       "      <td>2019-02-01</td>\n",
       "      <td>0.0</td>\n",
       "      <td>1.0</td>\n",
       "      <td>NaN</td>\n",
       "      <td>1.966667</td>\n",
       "      <td>1.0</td>\n",
       "      <td>202110</td>\n",
       "      <td>2</td>\n",
       "    </tr>\n",
       "    <tr>\n",
       "      <th>1</th>\n",
       "      <td>3178728</td>\n",
       "      <td>2019-04-01</td>\n",
       "      <td>0.0</td>\n",
       "      <td>NaT</td>\n",
       "      <td>2019-02-01</td>\n",
       "      <td>0.0</td>\n",
       "      <td>1.0</td>\n",
       "      <td>NaN</td>\n",
       "      <td>1.966667</td>\n",
       "      <td>1.0</td>\n",
       "      <td>202110</td>\n",
       "      <td>2</td>\n",
       "    </tr>\n",
       "    <tr>\n",
       "      <th>2</th>\n",
       "      <td>12715964</td>\n",
       "      <td>2019-06-01</td>\n",
       "      <td>0.0</td>\n",
       "      <td>NaT</td>\n",
       "      <td>2019-02-01</td>\n",
       "      <td>0.0</td>\n",
       "      <td>1.0</td>\n",
       "      <td>NaN</td>\n",
       "      <td>4.000000</td>\n",
       "      <td>1.0</td>\n",
       "      <td>202110</td>\n",
       "      <td>2</td>\n",
       "    </tr>\n",
       "    <tr>\n",
       "      <th>3</th>\n",
       "      <td>22127768</td>\n",
       "      <td>2019-06-01</td>\n",
       "      <td>0.0</td>\n",
       "      <td>NaT</td>\n",
       "      <td>2019-01-01</td>\n",
       "      <td>0.0</td>\n",
       "      <td>1.0</td>\n",
       "      <td>NaN</td>\n",
       "      <td>5.033333</td>\n",
       "      <td>1.0</td>\n",
       "      <td>202110</td>\n",
       "      <td>2</td>\n",
       "    </tr>\n",
       "    <tr>\n",
       "      <th>4</th>\n",
       "      <td>13823706</td>\n",
       "      <td>2019-06-01</td>\n",
       "      <td>0.0</td>\n",
       "      <td>NaT</td>\n",
       "      <td>2019-01-01</td>\n",
       "      <td>0.0</td>\n",
       "      <td>1.0</td>\n",
       "      <td>NaN</td>\n",
       "      <td>5.033333</td>\n",
       "      <td>1.0</td>\n",
       "      <td>202110</td>\n",
       "      <td>2</td>\n",
       "    </tr>\n",
       "  </tbody>\n",
       "</table>\n",
       "</div>"
      ],
      "text/plain": [
       "   id_numero_cliente mes_campaña  acep_oferta_prev mes_ult_act mes_ult_camp  \\\n",
       "0            7330974  2019-04-01               0.0         NaT   2019-02-01   \n",
       "1            3178728  2019-04-01               0.0         NaT   2019-02-01   \n",
       "2           12715964  2019-06-01               0.0         NaT   2019-02-01   \n",
       "3           22127768  2019-06-01               0.0         NaT   2019-01-01   \n",
       "4           13823706  2019-06-01               0.0         NaT   2019-01-01   \n",
       "\n",
       "   num_act_utl_meses  num_camp_ult_meses  num_meses_ult_actv  \\\n",
       "0                0.0                 1.0                 NaN   \n",
       "1                0.0                 1.0                 NaN   \n",
       "2                0.0                 1.0                 NaN   \n",
       "3                0.0                 1.0                 NaN   \n",
       "4                0.0                 1.0                 NaN   \n",
       "\n",
       "   num_meses_ult_camp  num_no_aceptado  data_camp  no_nulos  \n",
       "0            1.966667              1.0     202110         2  \n",
       "1            1.966667              1.0     202110         2  \n",
       "2            4.000000              1.0     202110         2  \n",
       "3            5.033333              1.0     202110         2  \n",
       "4            5.033333              1.0     202110         2  "
      ]
     },
     "execution_count": 28,
     "metadata": {},
     "output_type": "execute_result"
    }
   ],
   "source": [
    "## Cargando campañas\n",
    "\n",
    "path = 's3://adl-refined-dev-popular/parquet/TC_adquisicion/data_camp_act_M202111'\n",
    "\n",
    "base_camp = spark_read_parquet(path)\n",
    "base_camp = base_camp.rename(columns={'cedula':'id_numero_cliente'})\n",
    "\n",
    "base_camp.head()"
   ]
  },
  {
   "cell_type": "code",
   "execution_count": 29,
   "metadata": {},
   "outputs": [
    {
     "data": {
      "text/plain": [
       "id_numero_cliente              int64\n",
       "mes_campaña                   object\n",
       "acep_oferta_prev             float64\n",
       "mes_ult_act           datetime64[ns]\n",
       "mes_ult_camp          datetime64[ns]\n",
       "num_act_utl_meses            float64\n",
       "num_camp_ult_meses           float64\n",
       "num_meses_ult_actv           float64\n",
       "num_meses_ult_camp           float64\n",
       "num_no_aceptado              float64\n",
       "data_camp                      int64\n",
       "no_nulos                       int64\n",
       "dtype: object"
      ]
     },
     "execution_count": 29,
     "metadata": {},
     "output_type": "execute_result"
    }
   ],
   "source": [
    "base_camp.dtypes"
   ]
  },
  {
   "cell_type": "code",
   "execution_count": 30,
   "metadata": {},
   "outputs": [
    {
     "data": {
      "text/plain": [
       "['s3://adl-refined-dev-popular/parquet/TC_adquisicion/propension-tc_preaprob_M20210305.csv',\n",
       " 's3://adl-refined-dev-popular/parquet/TC_adquisicion/propension-tc_preaprob_M20210318',\n",
       " 's3://adl-refined-dev-popular/parquet/TC_adquisicion/propension-tc_preaprob_M20210318.csv',\n",
       " 's3://adl-refined-dev-popular/parquet/TC_adquisicion/propension-tc_preaprob_M20210419.csv',\n",
       " 's3://adl-refined-dev-popular/parquet/TC_adquisicion/propension-tc_preaprob_M20210520.csv',\n",
       " 's3://adl-refined-dev-popular/parquet/TC_adquisicion/propension-tc_preaprob_M20210616.csv',\n",
       " 's3://adl-refined-dev-popular/parquet/TC_adquisicion/propension-tc_preaprob_M20210713.csv',\n",
       " 's3://adl-refined-dev-popular/parquet/TC_adquisicion/propension-tc_preaprob_M20210811.csv',\n",
       " 's3://adl-refined-dev-popular/parquet/TC_adquisicion/propension-tc_preaprob_M20210914.csv',\n",
       " 's3://adl-refined-dev-popular/parquet/TC_adquisicion/propension-tc_preaprob_M20211014.csv',\n",
       " 's3://adl-refined-dev-popular/parquet/TC_adquisicion/propension-tc_preaprob_M20211112.csv',\n",
       " 's3://adl-refined-dev-popular/parquet/TC_adquisicion/tmp_propension-tc_preaprob_M20210318.csv',\n",
       " 's3://adl-refined-dev-popular/parquet/TC_adquisicion/tmp_propension-tc_preaprob_M20210419.csv',\n",
       " 's3://adl-refined-dev-popular/parquet/TC_adquisicion/tmp_propension-tc_preaprob_M20210520.csv',\n",
       " 's3://adl-refined-dev-popular/parquet/TC_adquisicion/tmp_propension-tc_preaprob_M20210616.csv',\n",
       " 's3://adl-refined-dev-popular/parquet/TC_adquisicion/tmp_propension-tc_preaprob_M20210713.csv',\n",
       " 's3://adl-refined-dev-popular/parquet/TC_adquisicion/tmp_propension-tc_preaprob_M20210914.csv',\n",
       " 's3://adl-refined-dev-popular/parquet/TC_adquisicion/tmp_propension-tc_preaprob_M20211014.csv',\n",
       " 's3://adl-refined-dev-popular/parquet/TC_adquisicion/tmp_propension-tc_preaprob_M20211112.csv']"
      ]
     },
     "execution_count": 30,
     "metadata": {},
     "output_type": "execute_result"
    }
   ],
   "source": [
    "paths_salidas = get_s3_files('s3://adl-refined-dev-popular/parquet/TC_adquisicion')\n",
    "paths_salidas = list(pd.Series(paths_salidas)[pd.Series(paths_salidas).str.contains('propension-tc_preaprob_M')])\n",
    "paths_salidas"
   ]
  },
  {
   "cell_type": "code",
   "execution_count": 31,
   "metadata": {},
   "outputs": [
    {
     "data": {
      "text/html": [
       "<div>\n",
       "<style scoped>\n",
       "    .dataframe tbody tr th:only-of-type {\n",
       "        vertical-align: middle;\n",
       "    }\n",
       "\n",
       "    .dataframe tbody tr th {\n",
       "        vertical-align: top;\n",
       "    }\n",
       "\n",
       "    .dataframe thead th {\n",
       "        text-align: right;\n",
       "    }\n",
       "</style>\n",
       "<table border=\"1\" class=\"dataframe\">\n",
       "  <thead>\n",
       "    <tr style=\"text-align: right;\">\n",
       "      <th></th>\n",
       "      <th>id_cliente</th>\n",
       "      <th>id_numero_cliente</th>\n",
       "      <th>score</th>\n",
       "      <th>decil</th>\n",
       "      <th>nivel_prob</th>\n",
       "    </tr>\n",
       "  </thead>\n",
       "  <tbody>\n",
       "    <tr>\n",
       "      <th>0</th>\n",
       "      <td>102652295584838601</td>\n",
       "      <td>11439693</td>\n",
       "      <td>0.002469</td>\n",
       "      <td>1</td>\n",
       "      <td>Bajo</td>\n",
       "    </tr>\n",
       "    <tr>\n",
       "      <th>1</th>\n",
       "      <td>102652297314584801</td>\n",
       "      <td>23823293</td>\n",
       "      <td>0.002469</td>\n",
       "      <td>1</td>\n",
       "      <td>Bajo</td>\n",
       "    </tr>\n",
       "    <tr>\n",
       "      <th>2</th>\n",
       "      <td>102652303931898101</td>\n",
       "      <td>78746146</td>\n",
       "      <td>0.011474</td>\n",
       "      <td>1</td>\n",
       "      <td>Bajo</td>\n",
       "    </tr>\n",
       "    <tr>\n",
       "      <th>3</th>\n",
       "      <td>102652296820136301</td>\n",
       "      <td>20300762</td>\n",
       "      <td>0.004604</td>\n",
       "      <td>1</td>\n",
       "      <td>Bajo</td>\n",
       "    </tr>\n",
       "    <tr>\n",
       "      <th>4</th>\n",
       "      <td>102652295962567901</td>\n",
       "      <td>14235210</td>\n",
       "      <td>0.002469</td>\n",
       "      <td>1</td>\n",
       "      <td>Bajo</td>\n",
       "    </tr>\n",
       "  </tbody>\n",
       "</table>\n",
       "</div>"
      ],
      "text/plain": [
       "           id_cliente  id_numero_cliente     score  decil nivel_prob\n",
       "0  102652295584838601           11439693  0.002469      1       Bajo\n",
       "1  102652297314584801           23823293  0.002469      1       Bajo\n",
       "2  102652303931898101           78746146  0.011474      1       Bajo\n",
       "3  102652296820136301           20300762  0.004604      1       Bajo\n",
       "4  102652295962567901           14235210  0.002469      1       Bajo"
      ]
     },
     "execution_count": 31,
     "metadata": {},
     "output_type": "execute_result"
    }
   ],
   "source": [
    "## Cargando base anterior\n",
    "path = 's3://adl-refined-dev-popular/parquet/TC_adquisicion/propension-tc_preaprob_M20210914.csv'\n",
    "\n",
    "\n",
    "base_ant_sep = pd.read_csv(path, sep='|', dtype={'id_cliente':str,\n",
    "                                            'id_numero_cliente':int,})\n",
    "base_ant_sep.head()"
   ]
  },
  {
   "cell_type": "code",
   "execution_count": 32,
   "metadata": {},
   "outputs": [
    {
     "data": {
      "text/html": [
       "<div>\n",
       "<style scoped>\n",
       "    .dataframe tbody tr th:only-of-type {\n",
       "        vertical-align: middle;\n",
       "    }\n",
       "\n",
       "    .dataframe tbody tr th {\n",
       "        vertical-align: top;\n",
       "    }\n",
       "\n",
       "    .dataframe thead th {\n",
       "        text-align: right;\n",
       "    }\n",
       "</style>\n",
       "<table border=\"1\" class=\"dataframe\">\n",
       "  <thead>\n",
       "    <tr style=\"text-align: right;\">\n",
       "      <th></th>\n",
       "      <th>id_cliente</th>\n",
       "      <th>id_numero_cliente</th>\n",
       "      <th>score</th>\n",
       "      <th>decil</th>\n",
       "      <th>nivel_prob</th>\n",
       "      <th>num_meses_ult_camp</th>\n",
       "      <th>camp_anteriores</th>\n",
       "      <th>grupo_camp</th>\n",
       "    </tr>\n",
       "  </thead>\n",
       "  <tbody>\n",
       "    <tr>\n",
       "      <th>0</th>\n",
       "      <td>102652295880533801</td>\n",
       "      <td>13544804</td>\n",
       "      <td>0.030755</td>\n",
       "      <td>3</td>\n",
       "      <td>Medio</td>\n",
       "      <td>NaN</td>\n",
       "      <td>No Tocado</td>\n",
       "      <td>3</td>\n",
       "    </tr>\n",
       "    <tr>\n",
       "      <th>1</th>\n",
       "      <td>102652297335747101</td>\n",
       "      <td>24176168</td>\n",
       "      <td>0.002469</td>\n",
       "      <td>1</td>\n",
       "      <td>Bajo</td>\n",
       "      <td>NaN</td>\n",
       "      <td>No Tocado</td>\n",
       "      <td>1</td>\n",
       "    </tr>\n",
       "    <tr>\n",
       "      <th>2</th>\n",
       "      <td>102652294446682301</td>\n",
       "      <td>2485304</td>\n",
       "      <td>0.074669</td>\n",
       "      <td>5</td>\n",
       "      <td>Alto</td>\n",
       "      <td>NaN</td>\n",
       "      <td>No Tocado</td>\n",
       "      <td>3</td>\n",
       "    </tr>\n",
       "    <tr>\n",
       "      <th>3</th>\n",
       "      <td>102652302876755501</td>\n",
       "      <td>51910738</td>\n",
       "      <td>0.002469</td>\n",
       "      <td>1</td>\n",
       "      <td>Bajo</td>\n",
       "      <td>NaN</td>\n",
       "      <td>No Tocado</td>\n",
       "      <td>1</td>\n",
       "    </tr>\n",
       "    <tr>\n",
       "      <th>4</th>\n",
       "      <td>102652304311321301</td>\n",
       "      <td>80068668</td>\n",
       "      <td>0.002469</td>\n",
       "      <td>1</td>\n",
       "      <td>Bajo</td>\n",
       "      <td>NaN</td>\n",
       "      <td>No Tocado</td>\n",
       "      <td>1</td>\n",
       "    </tr>\n",
       "  </tbody>\n",
       "</table>\n",
       "</div>"
      ],
      "text/plain": [
       "           id_cliente  id_numero_cliente     score  decil nivel_prob  \\\n",
       "0  102652295880533801           13544804  0.030755      3      Medio   \n",
       "1  102652297335747101           24176168  0.002469      1       Bajo   \n",
       "2  102652294446682301            2485304  0.074669      5       Alto   \n",
       "3  102652302876755501           51910738  0.002469      1       Bajo   \n",
       "4  102652304311321301           80068668  0.002469      1       Bajo   \n",
       "\n",
       "   num_meses_ult_camp camp_anteriores  grupo_camp  \n",
       "0                 NaN       No Tocado           3  \n",
       "1                 NaN       No Tocado           1  \n",
       "2                 NaN       No Tocado           3  \n",
       "3                 NaN       No Tocado           1  \n",
       "4                 NaN       No Tocado           1  "
      ]
     },
     "execution_count": 32,
     "metadata": {},
     "output_type": "execute_result"
    }
   ],
   "source": [
    "## Cargando base anterior\n",
    "path = 's3://adl-refined-dev-popular/parquet/TC_adquisicion/propension-tc_preaprob_M20211014.csv'\n",
    "\n",
    "\n",
    "base_ant_oct = pd.read_csv(path, sep='|', dtype={'id_cliente':str,\n",
    "                                            'id_numero_cliente':int,})\n",
    "base_ant_oct.head()"
   ]
  },
  {
   "cell_type": "code",
   "execution_count": 33,
   "metadata": {},
   "outputs": [
    {
     "data": {
      "text/html": [
       "<div>\n",
       "<style scoped>\n",
       "    .dataframe tbody tr th:only-of-type {\n",
       "        vertical-align: middle;\n",
       "    }\n",
       "\n",
       "    .dataframe tbody tr th {\n",
       "        vertical-align: top;\n",
       "    }\n",
       "\n",
       "    .dataframe thead th {\n",
       "        text-align: right;\n",
       "    }\n",
       "</style>\n",
       "<table border=\"1\" class=\"dataframe\">\n",
       "  <thead>\n",
       "    <tr style=\"text-align: right;\">\n",
       "      <th></th>\n",
       "      <th>id_cliente</th>\n",
       "      <th>id_numero_cliente</th>\n",
       "      <th>score</th>\n",
       "      <th>decil</th>\n",
       "      <th>nivel_prob</th>\n",
       "      <th>num_meses_ult_camp</th>\n",
       "      <th>camp_anteriores</th>\n",
       "      <th>grupo_camp</th>\n",
       "    </tr>\n",
       "  </thead>\n",
       "  <tbody>\n",
       "    <tr>\n",
       "      <th>0</th>\n",
       "      <td>102652295880533801</td>\n",
       "      <td>13544804</td>\n",
       "      <td>0.076767</td>\n",
       "      <td>5</td>\n",
       "      <td>Alto</td>\n",
       "      <td>NaN</td>\n",
       "      <td>No Tocado</td>\n",
       "      <td>3</td>\n",
       "    </tr>\n",
       "    <tr>\n",
       "      <th>1</th>\n",
       "      <td>102652295151150201</td>\n",
       "      <td>6880226</td>\n",
       "      <td>0.029480</td>\n",
       "      <td>3</td>\n",
       "      <td>Medio</td>\n",
       "      <td>NaN</td>\n",
       "      <td>No Tocado</td>\n",
       "      <td>3</td>\n",
       "    </tr>\n",
       "    <tr>\n",
       "      <th>2</th>\n",
       "      <td>102652314595088801</td>\n",
       "      <td>41311613</td>\n",
       "      <td>0.014120</td>\n",
       "      <td>2</td>\n",
       "      <td>Medio Bajo</td>\n",
       "      <td>NaN</td>\n",
       "      <td>No Tocado</td>\n",
       "      <td>1</td>\n",
       "    </tr>\n",
       "    <tr>\n",
       "      <th>3</th>\n",
       "      <td>102652308842687701</td>\n",
       "      <td>36695801</td>\n",
       "      <td>0.014040</td>\n",
       "      <td>2</td>\n",
       "      <td>Medio Bajo</td>\n",
       "      <td>NaN</td>\n",
       "      <td>No Tocado</td>\n",
       "      <td>1</td>\n",
       "    </tr>\n",
       "    <tr>\n",
       "      <th>4</th>\n",
       "      <td>103552297266851902</td>\n",
       "      <td>23173372</td>\n",
       "      <td>0.009694</td>\n",
       "      <td>1</td>\n",
       "      <td>Bajo</td>\n",
       "      <td>NaN</td>\n",
       "      <td>No Tocado</td>\n",
       "      <td>1</td>\n",
       "    </tr>\n",
       "  </tbody>\n",
       "</table>\n",
       "</div>"
      ],
      "text/plain": [
       "           id_cliente  id_numero_cliente     score  decil  nivel_prob  \\\n",
       "0  102652295880533801           13544804  0.076767      5        Alto   \n",
       "1  102652295151150201            6880226  0.029480      3       Medio   \n",
       "2  102652314595088801           41311613  0.014120      2  Medio Bajo   \n",
       "3  102652308842687701           36695801  0.014040      2  Medio Bajo   \n",
       "4  103552297266851902           23173372  0.009694      1        Bajo   \n",
       "\n",
       "   num_meses_ult_camp camp_anteriores  grupo_camp  \n",
       "0                 NaN       No Tocado           3  \n",
       "1                 NaN       No Tocado           3  \n",
       "2                 NaN       No Tocado           1  \n",
       "3                 NaN       No Tocado           1  \n",
       "4                 NaN       No Tocado           1  "
      ]
     },
     "execution_count": 33,
     "metadata": {},
     "output_type": "execute_result"
    }
   ],
   "source": [
    "## Cargando base anterior\n",
    "path = 's3://adl-refined-dev-popular/parquet/TC_adquisicion/propension-tc_preaprob_M20211112.csv'\n",
    "\n",
    "\n",
    "base_ant_nov = pd.read_csv(path, sep='|', dtype={'id_cliente':str,\n",
    "                                            'id_numero_cliente':int,})\n",
    "base_ant_nov.head()"
   ]
  },
  {
   "cell_type": "code",
   "execution_count": 34,
   "metadata": {},
   "outputs": [
    {
     "name": "stdout",
     "output_type": "stream",
     "text": [
      "(1043342, 5)\n",
      "(1043342, 16)\n",
      "(1046016, 8)\n",
      "(1046016, 9)\n",
      "(326740, 8)\n",
      "(326740, 9)\n"
     ]
    },
    {
     "data": {
      "text/html": [
       "<div>\n",
       "<style scoped>\n",
       "    .dataframe tbody tr th:only-of-type {\n",
       "        vertical-align: middle;\n",
       "    }\n",
       "\n",
       "    .dataframe tbody tr th {\n",
       "        vertical-align: top;\n",
       "    }\n",
       "\n",
       "    .dataframe thead th {\n",
       "        text-align: right;\n",
       "    }\n",
       "</style>\n",
       "<table border=\"1\" class=\"dataframe\">\n",
       "  <thead>\n",
       "    <tr style=\"text-align: right;\">\n",
       "      <th></th>\n",
       "      <th>id_cliente</th>\n",
       "      <th>id_numero_cliente</th>\n",
       "      <th>score</th>\n",
       "      <th>decil</th>\n",
       "      <th>nivel_prob</th>\n",
       "      <th>num_meses_ult_camp</th>\n",
       "      <th>camp_anteriores</th>\n",
       "      <th>grupo_camp</th>\n",
       "      <th>num_no_aceptado</th>\n",
       "    </tr>\n",
       "  </thead>\n",
       "  <tbody>\n",
       "    <tr>\n",
       "      <th>0</th>\n",
       "      <td>102652295880533801</td>\n",
       "      <td>13544804</td>\n",
       "      <td>0.076767</td>\n",
       "      <td>5</td>\n",
       "      <td>Alto</td>\n",
       "      <td>NaN</td>\n",
       "      <td>No Tocado</td>\n",
       "      <td>3</td>\n",
       "      <td>NaN</td>\n",
       "    </tr>\n",
       "    <tr>\n",
       "      <th>1</th>\n",
       "      <td>102652295151150201</td>\n",
       "      <td>6880226</td>\n",
       "      <td>0.029480</td>\n",
       "      <td>3</td>\n",
       "      <td>Medio</td>\n",
       "      <td>NaN</td>\n",
       "      <td>No Tocado</td>\n",
       "      <td>3</td>\n",
       "      <td>NaN</td>\n",
       "    </tr>\n",
       "    <tr>\n",
       "      <th>2</th>\n",
       "      <td>102652314595088801</td>\n",
       "      <td>41311613</td>\n",
       "      <td>0.014120</td>\n",
       "      <td>2</td>\n",
       "      <td>Medio Bajo</td>\n",
       "      <td>NaN</td>\n",
       "      <td>No Tocado</td>\n",
       "      <td>1</td>\n",
       "      <td>NaN</td>\n",
       "    </tr>\n",
       "    <tr>\n",
       "      <th>3</th>\n",
       "      <td>102652308842687701</td>\n",
       "      <td>36695801</td>\n",
       "      <td>0.014040</td>\n",
       "      <td>2</td>\n",
       "      <td>Medio Bajo</td>\n",
       "      <td>NaN</td>\n",
       "      <td>No Tocado</td>\n",
       "      <td>1</td>\n",
       "      <td>NaN</td>\n",
       "    </tr>\n",
       "    <tr>\n",
       "      <th>4</th>\n",
       "      <td>103552297266851902</td>\n",
       "      <td>23173372</td>\n",
       "      <td>0.009694</td>\n",
       "      <td>1</td>\n",
       "      <td>Bajo</td>\n",
       "      <td>NaN</td>\n",
       "      <td>No Tocado</td>\n",
       "      <td>1</td>\n",
       "      <td>NaN</td>\n",
       "    </tr>\n",
       "  </tbody>\n",
       "</table>\n",
       "</div>"
      ],
      "text/plain": [
       "           id_cliente  id_numero_cliente     score  decil  nivel_prob  \\\n",
       "0  102652295880533801           13544804  0.076767      5        Alto   \n",
       "1  102652295151150201            6880226  0.029480      3       Medio   \n",
       "2  102652314595088801           41311613  0.014120      2  Medio Bajo   \n",
       "3  102652308842687701           36695801  0.014040      2  Medio Bajo   \n",
       "4  103552297266851902           23173372  0.009694      1        Bajo   \n",
       "\n",
       "   num_meses_ult_camp camp_anteriores  grupo_camp  num_no_aceptado  \n",
       "0                 NaN       No Tocado           3              NaN  \n",
       "1                 NaN       No Tocado           3              NaN  \n",
       "2                 NaN       No Tocado           1              NaN  \n",
       "3                 NaN       No Tocado           1              NaN  \n",
       "4                 NaN       No Tocado           1              NaN  "
      ]
     },
     "execution_count": 34,
     "metadata": {},
     "output_type": "execute_result"
    }
   ],
   "source": [
    "print(base_ant_sep.shape)\n",
    "base_ant_sep = pd.merge(base_ant_sep, base_camp, on=['id_numero_cliente'], how='left')\n",
    "print(base_ant_sep.shape)\n",
    "\n",
    "print(base_ant_oct.shape)\n",
    "base_ant_oct = pd.merge(base_ant_oct, base_camp[['id_numero_cliente','num_no_aceptado']], on=['id_numero_cliente'], how='left')\n",
    "print(base_ant_oct.shape)\n",
    "\n",
    "print(base_ant_nov.shape)\n",
    "base_ant_nov = pd.merge(base_ant_nov, base_camp[['id_numero_cliente','num_no_aceptado']], on=['id_numero_cliente'], how='left')\n",
    "print(base_ant_nov.shape)\n",
    "\n",
    "base_ant_nov.head()"
   ]
  },
  {
   "cell_type": "code",
   "execution_count": 35,
   "metadata": {},
   "outputs": [
    {
     "data": {
      "text/plain": [
       "['s3://data-bpop-dev-sandbox/landing/tmp/tmpg_BASE_FINAL_TC_PREAPROBADOS_SEPTIEMBRE.xlsx',\n",
       " 's3://data-bpop-dev-sandbox/landing/tmp/tmpg_TC_PREAPROBADOS-OCT-NOV.xlsx']"
      ]
     },
     "execution_count": 35,
     "metadata": {},
     "output_type": "execute_result"
    }
   ],
   "source": [
    "paths = get_s3_files('s3://data-bpop-dev-sandbox/landing/tmp/')\n",
    "paths = list(pd.Series(paths)[pd.Series(paths).str.contains('TC_PREAPROBADOS')])\n",
    "paths"
   ]
  },
  {
   "cell_type": "code",
   "execution_count": 36,
   "metadata": {},
   "outputs": [
    {
     "data": {
      "text/html": [
       "<div>\n",
       "<style scoped>\n",
       "    .dataframe tbody tr th:only-of-type {\n",
       "        vertical-align: middle;\n",
       "    }\n",
       "\n",
       "    .dataframe tbody tr th {\n",
       "        vertical-align: top;\n",
       "    }\n",
       "\n",
       "    .dataframe thead th {\n",
       "        text-align: right;\n",
       "    }\n",
       "</style>\n",
       "<table border=\"1\" class=\"dataframe\">\n",
       "  <thead>\n",
       "    <tr style=\"text-align: right;\">\n",
       "      <th></th>\n",
       "      <th>tip_doc</th>\n",
       "      <th>id_numero_cliente</th>\n",
       "      <th>canal</th>\n",
       "    </tr>\n",
       "  </thead>\n",
       "  <tbody>\n",
       "    <tr>\n",
       "      <th>0</th>\n",
       "      <td>2</td>\n",
       "      <td>93442</td>\n",
       "      <td>ATENTO</td>\n",
       "    </tr>\n",
       "    <tr>\n",
       "      <th>1</th>\n",
       "      <td>2</td>\n",
       "      <td>96681</td>\n",
       "      <td>ATENTO</td>\n",
       "    </tr>\n",
       "    <tr>\n",
       "      <th>2</th>\n",
       "      <td>1</td>\n",
       "      <td>193093</td>\n",
       "      <td>ATENTO</td>\n",
       "    </tr>\n",
       "    <tr>\n",
       "      <th>3</th>\n",
       "      <td>1</td>\n",
       "      <td>194243</td>\n",
       "      <td>ATENTO</td>\n",
       "    </tr>\n",
       "    <tr>\n",
       "      <th>4</th>\n",
       "      <td>1</td>\n",
       "      <td>217974</td>\n",
       "      <td>ATENTO</td>\n",
       "    </tr>\n",
       "  </tbody>\n",
       "</table>\n",
       "</div>"
      ],
      "text/plain": [
       "   tip_doc  id_numero_cliente   canal\n",
       "0        2              93442  ATENTO\n",
       "1        2              96681  ATENTO\n",
       "2        1             193093  ATENTO\n",
       "3        1             194243  ATENTO\n",
       "4        1             217974  ATENTO"
      ]
     },
     "execution_count": 36,
     "metadata": {},
     "output_type": "execute_result"
    }
   ],
   "source": [
    "#path = 's3://data-bpop-dev-sandbox/landing/tmp/tmpg_BASE_FINAL_TC_PREAPROBADOS_SEPTIEMBRE.xlsx'\n",
    "path = paths[0]\n",
    "\n",
    "# , names=None, index_col=None, usecols=None, squeeze=False, dtype=None, engine=None, converters=None, true_values=None, \n",
    "# false_values=None, skiprows=None, nrows=None, na_values=None, keep_default_na=True, na_filter=True, verbose=False, \n",
    "# parse_dates=False, date_parser=None, thousands=None, comment=None, skipfooter=0, convert_float=None, mangle_dupe_cols=True, \n",
    "# storage_options=None\n",
    "\n",
    "base_sep = pd.read_excel(path, sheet_name=0, header=0, dtype={'num_doc':int})\n",
    "base_sep.columns = base_sep.columns.str.lower()\n",
    "base_sep = base_sep.rename(columns={'num_doc':'id_numero_cliente'})\n",
    "base_sep.head()\n"
   ]
  },
  {
   "cell_type": "code",
   "execution_count": 37,
   "metadata": {},
   "outputs": [],
   "source": [
    "## Oct - Nov\n",
    "path = paths[1]\n",
    "\n",
    "base_oct_nov = pd.read_excel(path, sheet_name=0, header=0, dtype={'num_doc':int})\n",
    "base_oct_nov.columns = base_oct_nov.columns.str.lower()\n",
    "base_oct_nov = base_oct_nov.rename(columns={'num_doc':'id_numero_cliente'})\n",
    "\n",
    "## base octubre\n",
    "base_oct = base_oct_nov[base_oct_nov['mes'] == 'OCTUBRE']\n",
    "## base Noviembre\n",
    "base_nov = base_oct_nov[base_oct_nov['mes'] == 'NOVIEMBRE']\n"
   ]
  },
  {
   "cell_type": "code",
   "execution_count": 38,
   "metadata": {},
   "outputs": [
    {
     "data": {
      "text/plain": [
       "NOVIEMBRE    9979\n",
       "OCTUBRE      8931\n",
       "Name: mes, dtype: int64"
      ]
     },
     "execution_count": 38,
     "metadata": {},
     "output_type": "execute_result"
    }
   ],
   "source": [
    "base_oct_nov['mes'].value_counts()"
   ]
  },
  {
   "cell_type": "code",
   "execution_count": 39,
   "metadata": {},
   "outputs": [
    {
     "name": "stdout",
     "output_type": "stream",
     "text": [
      "(1043342, 16)\n",
      "(9743, 3)\n",
      "(9745, 18)\n"
     ]
    },
    {
     "data": {
      "text/html": [
       "<div>\n",
       "<style scoped>\n",
       "    .dataframe tbody tr th:only-of-type {\n",
       "        vertical-align: middle;\n",
       "    }\n",
       "\n",
       "    .dataframe tbody tr th {\n",
       "        vertical-align: top;\n",
       "    }\n",
       "\n",
       "    .dataframe thead th {\n",
       "        text-align: right;\n",
       "    }\n",
       "</style>\n",
       "<table border=\"1\" class=\"dataframe\">\n",
       "  <thead>\n",
       "    <tr style=\"text-align: right;\">\n",
       "      <th></th>\n",
       "      <th>tip_doc</th>\n",
       "      <th>id_numero_cliente</th>\n",
       "      <th>canal</th>\n",
       "      <th>id_cliente</th>\n",
       "      <th>score</th>\n",
       "      <th>decil</th>\n",
       "      <th>nivel_prob</th>\n",
       "      <th>mes_campaña</th>\n",
       "      <th>acep_oferta_prev</th>\n",
       "      <th>mes_ult_act</th>\n",
       "      <th>mes_ult_camp</th>\n",
       "      <th>num_act_utl_meses</th>\n",
       "      <th>num_camp_ult_meses</th>\n",
       "      <th>num_meses_ult_actv</th>\n",
       "      <th>num_meses_ult_camp</th>\n",
       "      <th>num_no_aceptado</th>\n",
       "      <th>data_camp</th>\n",
       "      <th>no_nulos</th>\n",
       "    </tr>\n",
       "  </thead>\n",
       "  <tbody>\n",
       "    <tr>\n",
       "      <th>0</th>\n",
       "      <td>2</td>\n",
       "      <td>93442</td>\n",
       "      <td>ATENTO</td>\n",
       "      <td>633252309030673101</td>\n",
       "      <td>0.003815</td>\n",
       "      <td>1.0</td>\n",
       "      <td>Bajo</td>\n",
       "      <td>2021-09-01</td>\n",
       "      <td>0.0</td>\n",
       "      <td>NaT</td>\n",
       "      <td>2021-04-01</td>\n",
       "      <td>0.0</td>\n",
       "      <td>3.0</td>\n",
       "      <td>NaN</td>\n",
       "      <td>5.1</td>\n",
       "      <td>3.0</td>\n",
       "      <td>202110.0</td>\n",
       "      <td>2.0</td>\n",
       "    </tr>\n",
       "    <tr>\n",
       "      <th>1</th>\n",
       "      <td>2</td>\n",
       "      <td>96681</td>\n",
       "      <td>ATENTO</td>\n",
       "      <td>822353263230729301</td>\n",
       "      <td>0.016874</td>\n",
       "      <td>2.0</td>\n",
       "      <td>Medio Bajo</td>\n",
       "      <td>2021-09-01</td>\n",
       "      <td>0.0</td>\n",
       "      <td>NaT</td>\n",
       "      <td>2021-05-01</td>\n",
       "      <td>0.0</td>\n",
       "      <td>2.0</td>\n",
       "      <td>NaN</td>\n",
       "      <td>4.1</td>\n",
       "      <td>2.0</td>\n",
       "      <td>202110.0</td>\n",
       "      <td>2.0</td>\n",
       "    </tr>\n",
       "    <tr>\n",
       "      <th>2</th>\n",
       "      <td>1</td>\n",
       "      <td>193093</td>\n",
       "      <td>ATENTO</td>\n",
       "      <td>367155266520940202</td>\n",
       "      <td>0.006045</td>\n",
       "      <td>1.0</td>\n",
       "      <td>Bajo</td>\n",
       "      <td>2021-09-01</td>\n",
       "      <td>0.0</td>\n",
       "      <td>NaT</td>\n",
       "      <td>2020-08-01</td>\n",
       "      <td>0.0</td>\n",
       "      <td>1.0</td>\n",
       "      <td>NaN</td>\n",
       "      <td>13.2</td>\n",
       "      <td>1.0</td>\n",
       "      <td>202110.0</td>\n",
       "      <td>2.0</td>\n",
       "    </tr>\n",
       "    <tr>\n",
       "      <th>3</th>\n",
       "      <td>1</td>\n",
       "      <td>194243</td>\n",
       "      <td>ATENTO</td>\n",
       "      <td>504260104654094902</td>\n",
       "      <td>0.006028</td>\n",
       "      <td>1.0</td>\n",
       "      <td>Bajo</td>\n",
       "      <td>2021-09-01</td>\n",
       "      <td>0.0</td>\n",
       "      <td>NaT</td>\n",
       "      <td>2021-04-01</td>\n",
       "      <td>0.0</td>\n",
       "      <td>1.0</td>\n",
       "      <td>NaN</td>\n",
       "      <td>5.1</td>\n",
       "      <td>1.0</td>\n",
       "      <td>202110.0</td>\n",
       "      <td>2.0</td>\n",
       "    </tr>\n",
       "    <tr>\n",
       "      <th>4</th>\n",
       "      <td>1</td>\n",
       "      <td>217974</td>\n",
       "      <td>ATENTO</td>\n",
       "      <td>476953298350833902</td>\n",
       "      <td>0.059116</td>\n",
       "      <td>4.0</td>\n",
       "      <td>Alto</td>\n",
       "      <td>2021-09-01</td>\n",
       "      <td>0.0</td>\n",
       "      <td>NaT</td>\n",
       "      <td>2021-05-01</td>\n",
       "      <td>0.0</td>\n",
       "      <td>4.0</td>\n",
       "      <td>NaN</td>\n",
       "      <td>4.1</td>\n",
       "      <td>4.0</td>\n",
       "      <td>202110.0</td>\n",
       "      <td>2.0</td>\n",
       "    </tr>\n",
       "  </tbody>\n",
       "</table>\n",
       "</div>"
      ],
      "text/plain": [
       "   tip_doc  id_numero_cliente   canal          id_cliente     score  decil  \\\n",
       "0        2              93442  ATENTO  633252309030673101  0.003815    1.0   \n",
       "1        2              96681  ATENTO  822353263230729301  0.016874    2.0   \n",
       "2        1             193093  ATENTO  367155266520940202  0.006045    1.0   \n",
       "3        1             194243  ATENTO  504260104654094902  0.006028    1.0   \n",
       "4        1             217974  ATENTO  476953298350833902  0.059116    4.0   \n",
       "\n",
       "   nivel_prob mes_campaña  acep_oferta_prev mes_ult_act mes_ult_camp  \\\n",
       "0        Bajo  2021-09-01               0.0         NaT   2021-04-01   \n",
       "1  Medio Bajo  2021-09-01               0.0         NaT   2021-05-01   \n",
       "2        Bajo  2021-09-01               0.0         NaT   2020-08-01   \n",
       "3        Bajo  2021-09-01               0.0         NaT   2021-04-01   \n",
       "4        Alto  2021-09-01               0.0         NaT   2021-05-01   \n",
       "\n",
       "   num_act_utl_meses  num_camp_ult_meses  num_meses_ult_actv  \\\n",
       "0                0.0                 3.0                 NaN   \n",
       "1                0.0                 2.0                 NaN   \n",
       "2                0.0                 1.0                 NaN   \n",
       "3                0.0                 1.0                 NaN   \n",
       "4                0.0                 4.0                 NaN   \n",
       "\n",
       "   num_meses_ult_camp  num_no_aceptado  data_camp  no_nulos  \n",
       "0                 5.1              3.0   202110.0       2.0  \n",
       "1                 4.1              2.0   202110.0       2.0  \n",
       "2                13.2              1.0   202110.0       2.0  \n",
       "3                 5.1              1.0   202110.0       2.0  \n",
       "4                 4.1              4.0   202110.0       2.0  "
      ]
     },
     "execution_count": 39,
     "metadata": {},
     "output_type": "execute_result"
    }
   ],
   "source": [
    "base_union_sep = pd.merge(base_sep, base_ant_sep, on=['id_numero_cliente'], how='left')\n",
    "base_union_sep['id_cliente'] = base_union_sep['id_cliente'].fillna('0').astype('int')\n",
    "print(base_ant_sep.shape)\n",
    "print(base_sep.shape)\n",
    "print(base_union_sep.shape)\n",
    "base_union_sep.head()"
   ]
  },
  {
   "cell_type": "code",
   "execution_count": 40,
   "metadata": {},
   "outputs": [
    {
     "name": "stdout",
     "output_type": "stream",
     "text": [
      "(1046016, 9)\n",
      "(8931, 4)\n",
      "(8931, 12)\n"
     ]
    },
    {
     "data": {
      "text/html": [
       "<div>\n",
       "<style scoped>\n",
       "    .dataframe tbody tr th:only-of-type {\n",
       "        vertical-align: middle;\n",
       "    }\n",
       "\n",
       "    .dataframe tbody tr th {\n",
       "        vertical-align: top;\n",
       "    }\n",
       "\n",
       "    .dataframe thead th {\n",
       "        text-align: right;\n",
       "    }\n",
       "</style>\n",
       "<table border=\"1\" class=\"dataframe\">\n",
       "  <thead>\n",
       "    <tr style=\"text-align: right;\">\n",
       "      <th></th>\n",
       "      <th>tip_doc</th>\n",
       "      <th>id_numero_cliente</th>\n",
       "      <th>canal</th>\n",
       "      <th>mes</th>\n",
       "      <th>id_cliente</th>\n",
       "      <th>score</th>\n",
       "      <th>decil</th>\n",
       "      <th>nivel_prob</th>\n",
       "      <th>num_meses_ult_camp</th>\n",
       "      <th>camp_anteriores</th>\n",
       "      <th>grupo_camp</th>\n",
       "      <th>num_no_aceptado</th>\n",
       "    </tr>\n",
       "  </thead>\n",
       "  <tbody>\n",
       "    <tr>\n",
       "      <th>0</th>\n",
       "      <td>1</td>\n",
       "      <td>22632854</td>\n",
       "      <td>ATENTO</td>\n",
       "      <td>OCTUBRE</td>\n",
       "      <td>702552306336179801</td>\n",
       "      <td>0.006592</td>\n",
       "      <td>1.0</td>\n",
       "      <td>Bajo</td>\n",
       "      <td>9.200000</td>\n",
       "      <td>Tocado</td>\n",
       "      <td>2.0</td>\n",
       "      <td>1.0</td>\n",
       "    </tr>\n",
       "    <tr>\n",
       "      <th>1</th>\n",
       "      <td>1</td>\n",
       "      <td>28533142</td>\n",
       "      <td>ATENTO</td>\n",
       "      <td>OCTUBRE</td>\n",
       "      <td>336052308007054202</td>\n",
       "      <td>0.004952</td>\n",
       "      <td>1.0</td>\n",
       "      <td>Bajo</td>\n",
       "      <td>4.000000</td>\n",
       "      <td>Tocado</td>\n",
       "      <td>2.0</td>\n",
       "      <td>2.0</td>\n",
       "    </tr>\n",
       "    <tr>\n",
       "      <th>2</th>\n",
       "      <td>1</td>\n",
       "      <td>78754740</td>\n",
       "      <td>ATENTO</td>\n",
       "      <td>OCTUBRE</td>\n",
       "      <td>117152314023210701</td>\n",
       "      <td>0.005546</td>\n",
       "      <td>1.0</td>\n",
       "      <td>Bajo</td>\n",
       "      <td>NaN</td>\n",
       "      <td>No Tocado</td>\n",
       "      <td>1.0</td>\n",
       "      <td>1.0</td>\n",
       "    </tr>\n",
       "    <tr>\n",
       "      <th>3</th>\n",
       "      <td>1</td>\n",
       "      <td>41725413</td>\n",
       "      <td>ATENTO</td>\n",
       "      <td>OCTUBRE</td>\n",
       "      <td>798452299225277802</td>\n",
       "      <td>0.003920</td>\n",
       "      <td>1.0</td>\n",
       "      <td>Bajo</td>\n",
       "      <td>5.033333</td>\n",
       "      <td>Tocado</td>\n",
       "      <td>2.0</td>\n",
       "      <td>1.0</td>\n",
       "    </tr>\n",
       "    <tr>\n",
       "      <th>4</th>\n",
       "      <td>1</td>\n",
       "      <td>10221339</td>\n",
       "      <td>ATENTO</td>\n",
       "      <td>OCTUBRE</td>\n",
       "      <td>455552295473889701</td>\n",
       "      <td>0.007655</td>\n",
       "      <td>1.0</td>\n",
       "      <td>Bajo</td>\n",
       "      <td>4.000000</td>\n",
       "      <td>Tocado</td>\n",
       "      <td>2.0</td>\n",
       "      <td>3.0</td>\n",
       "    </tr>\n",
       "  </tbody>\n",
       "</table>\n",
       "</div>"
      ],
      "text/plain": [
       "   tip_doc  id_numero_cliente   canal      mes          id_cliente     score  \\\n",
       "0        1           22632854  ATENTO  OCTUBRE  702552306336179801  0.006592   \n",
       "1        1           28533142  ATENTO  OCTUBRE  336052308007054202  0.004952   \n",
       "2        1           78754740  ATENTO  OCTUBRE  117152314023210701  0.005546   \n",
       "3        1           41725413  ATENTO  OCTUBRE  798452299225277802  0.003920   \n",
       "4        1           10221339  ATENTO  OCTUBRE  455552295473889701  0.007655   \n",
       "\n",
       "   decil nivel_prob  num_meses_ult_camp camp_anteriores  grupo_camp  \\\n",
       "0    1.0       Bajo            9.200000          Tocado         2.0   \n",
       "1    1.0       Bajo            4.000000          Tocado         2.0   \n",
       "2    1.0       Bajo                 NaN       No Tocado         1.0   \n",
       "3    1.0       Bajo            5.033333          Tocado         2.0   \n",
       "4    1.0       Bajo            4.000000          Tocado         2.0   \n",
       "\n",
       "   num_no_aceptado  \n",
       "0              1.0  \n",
       "1              2.0  \n",
       "2              1.0  \n",
       "3              1.0  \n",
       "4              3.0  "
      ]
     },
     "execution_count": 40,
     "metadata": {},
     "output_type": "execute_result"
    }
   ],
   "source": [
    "base_union_oct = pd.merge(base_oct, base_ant_oct, on=['id_numero_cliente'], how='left')\n",
    "base_union_oct['id_cliente'] = base_union_oct['id_cliente'].fillna('0').astype('int')\n",
    "print(base_ant_oct.shape)\n",
    "print(base_oct.shape)\n",
    "print(base_union_oct.shape)\n",
    "base_union_oct.head()"
   ]
  },
  {
   "cell_type": "code",
   "execution_count": 41,
   "metadata": {},
   "outputs": [
    {
     "name": "stdout",
     "output_type": "stream",
     "text": [
      "(326740, 9)\n",
      "(9979, 4)\n",
      "(9979, 12)\n"
     ]
    },
    {
     "data": {
      "text/html": [
       "<div>\n",
       "<style scoped>\n",
       "    .dataframe tbody tr th:only-of-type {\n",
       "        vertical-align: middle;\n",
       "    }\n",
       "\n",
       "    .dataframe tbody tr th {\n",
       "        vertical-align: top;\n",
       "    }\n",
       "\n",
       "    .dataframe thead th {\n",
       "        text-align: right;\n",
       "    }\n",
       "</style>\n",
       "<table border=\"1\" class=\"dataframe\">\n",
       "  <thead>\n",
       "    <tr style=\"text-align: right;\">\n",
       "      <th></th>\n",
       "      <th>tip_doc</th>\n",
       "      <th>id_numero_cliente</th>\n",
       "      <th>canal</th>\n",
       "      <th>mes</th>\n",
       "      <th>id_cliente</th>\n",
       "      <th>score</th>\n",
       "      <th>decil</th>\n",
       "      <th>nivel_prob</th>\n",
       "      <th>num_meses_ult_camp</th>\n",
       "      <th>camp_anteriores</th>\n",
       "      <th>grupo_camp</th>\n",
       "      <th>num_no_aceptado</th>\n",
       "    </tr>\n",
       "  </thead>\n",
       "  <tbody>\n",
       "    <tr>\n",
       "      <th>0</th>\n",
       "      <td>1</td>\n",
       "      <td>3068589</td>\n",
       "      <td>ATENTO</td>\n",
       "      <td>NOVIEMBRE</td>\n",
       "      <td>387252313667540702</td>\n",
       "      <td>0.244072</td>\n",
       "      <td>5.0</td>\n",
       "      <td>Alto</td>\n",
       "      <td>NaN</td>\n",
       "      <td>No Tocado</td>\n",
       "      <td>3.0</td>\n",
       "      <td>NaN</td>\n",
       "    </tr>\n",
       "    <tr>\n",
       "      <th>1</th>\n",
       "      <td>1</td>\n",
       "      <td>16342052</td>\n",
       "      <td>ATENTO</td>\n",
       "      <td>NOVIEMBRE</td>\n",
       "      <td>851852305732864802</td>\n",
       "      <td>0.054856</td>\n",
       "      <td>4.0</td>\n",
       "      <td>Alto</td>\n",
       "      <td>NaN</td>\n",
       "      <td>No Tocado</td>\n",
       "      <td>3.0</td>\n",
       "      <td>NaN</td>\n",
       "    </tr>\n",
       "    <tr>\n",
       "      <th>2</th>\n",
       "      <td>1</td>\n",
       "      <td>39693028</td>\n",
       "      <td>ATENTO</td>\n",
       "      <td>NOVIEMBRE</td>\n",
       "      <td>414355242628140301</td>\n",
       "      <td>0.218896</td>\n",
       "      <td>5.0</td>\n",
       "      <td>Alto</td>\n",
       "      <td>NaN</td>\n",
       "      <td>No Tocado</td>\n",
       "      <td>3.0</td>\n",
       "      <td>NaN</td>\n",
       "    </tr>\n",
       "    <tr>\n",
       "      <th>3</th>\n",
       "      <td>1</td>\n",
       "      <td>26490417</td>\n",
       "      <td>ATENTO</td>\n",
       "      <td>NOVIEMBRE</td>\n",
       "      <td>576752297516552001</td>\n",
       "      <td>0.209247</td>\n",
       "      <td>5.0</td>\n",
       "      <td>Alto</td>\n",
       "      <td>NaN</td>\n",
       "      <td>No Tocado</td>\n",
       "      <td>3.0</td>\n",
       "      <td>NaN</td>\n",
       "    </tr>\n",
       "    <tr>\n",
       "      <th>4</th>\n",
       "      <td>1</td>\n",
       "      <td>19263565</td>\n",
       "      <td>ATENTO</td>\n",
       "      <td>NOVIEMBRE</td>\n",
       "      <td>364560493867617706</td>\n",
       "      <td>0.228388</td>\n",
       "      <td>5.0</td>\n",
       "      <td>Alto</td>\n",
       "      <td>NaN</td>\n",
       "      <td>No Tocado</td>\n",
       "      <td>3.0</td>\n",
       "      <td>NaN</td>\n",
       "    </tr>\n",
       "  </tbody>\n",
       "</table>\n",
       "</div>"
      ],
      "text/plain": [
       "   tip_doc  id_numero_cliente   canal        mes          id_cliente  \\\n",
       "0        1            3068589  ATENTO  NOVIEMBRE  387252313667540702   \n",
       "1        1           16342052  ATENTO  NOVIEMBRE  851852305732864802   \n",
       "2        1           39693028  ATENTO  NOVIEMBRE  414355242628140301   \n",
       "3        1           26490417  ATENTO  NOVIEMBRE  576752297516552001   \n",
       "4        1           19263565  ATENTO  NOVIEMBRE  364560493867617706   \n",
       "\n",
       "      score  decil nivel_prob  num_meses_ult_camp camp_anteriores  grupo_camp  \\\n",
       "0  0.244072    5.0       Alto                 NaN       No Tocado         3.0   \n",
       "1  0.054856    4.0       Alto                 NaN       No Tocado         3.0   \n",
       "2  0.218896    5.0       Alto                 NaN       No Tocado         3.0   \n",
       "3  0.209247    5.0       Alto                 NaN       No Tocado         3.0   \n",
       "4  0.228388    5.0       Alto                 NaN       No Tocado         3.0   \n",
       "\n",
       "   num_no_aceptado  \n",
       "0              NaN  \n",
       "1              NaN  \n",
       "2              NaN  \n",
       "3              NaN  \n",
       "4              NaN  "
      ]
     },
     "execution_count": 41,
     "metadata": {},
     "output_type": "execute_result"
    }
   ],
   "source": [
    "base_union_nov = pd.merge(base_nov, base_ant_nov, on=['id_numero_cliente'], how='left')\n",
    "base_union_nov['id_cliente'] = base_union_nov['id_cliente'].fillna('0').astype('int')\n",
    "print(base_ant_nov.shape)\n",
    "print(base_nov.shape)\n",
    "print(base_union_nov.shape)\n",
    "base_union_nov.head()"
   ]
  },
  {
   "cell_type": "code",
   "execution_count": null,
   "metadata": {},
   "outputs": [],
   "source": []
  },
  {
   "cell_type": "code",
   "execution_count": 42,
   "metadata": {},
   "outputs": [],
   "source": [
    "#base_union.to_csv('base.csv', sep='|')"
   ]
  },
  {
   "cell_type": "code",
   "execution_count": 43,
   "metadata": {},
   "outputs": [],
   "source": [
    "base_union_sep['camp_anteriores'] = np.where(base_union_sep['num_meses_ult_camp'] > 0, 'Tocado', 'No Tocado')"
   ]
  },
  {
   "cell_type": "code",
   "execution_count": 44,
   "metadata": {},
   "outputs": [
    {
     "data": {
      "text/html": [
       "<div>\n",
       "<style scoped>\n",
       "    .dataframe tbody tr th:only-of-type {\n",
       "        vertical-align: middle;\n",
       "    }\n",
       "\n",
       "    .dataframe tbody tr th {\n",
       "        vertical-align: top;\n",
       "    }\n",
       "\n",
       "    .dataframe thead th {\n",
       "        text-align: right;\n",
       "    }\n",
       "</style>\n",
       "<table border=\"1\" class=\"dataframe\">\n",
       "  <thead>\n",
       "    <tr style=\"text-align: right;\">\n",
       "      <th>camp_anteriores</th>\n",
       "      <th>No Tocado</th>\n",
       "      <th>Tocado</th>\n",
       "    </tr>\n",
       "    <tr>\n",
       "      <th>nivel_prob</th>\n",
       "      <th></th>\n",
       "      <th></th>\n",
       "    </tr>\n",
       "  </thead>\n",
       "  <tbody>\n",
       "    <tr>\n",
       "      <th>Alto</th>\n",
       "      <td>462</td>\n",
       "      <td>1846</td>\n",
       "    </tr>\n",
       "    <tr>\n",
       "      <th>Bajo</th>\n",
       "      <td>742</td>\n",
       "      <td>3325</td>\n",
       "    </tr>\n",
       "    <tr>\n",
       "      <th>Medio</th>\n",
       "      <td>390</td>\n",
       "      <td>769</td>\n",
       "    </tr>\n",
       "    <tr>\n",
       "      <th>Medio Bajo</th>\n",
       "      <td>845</td>\n",
       "      <td>1349</td>\n",
       "    </tr>\n",
       "  </tbody>\n",
       "</table>\n",
       "</div>"
      ],
      "text/plain": [
       "camp_anteriores  No Tocado  Tocado\n",
       "nivel_prob                        \n",
       "Alto                   462    1846\n",
       "Bajo                   742    3325\n",
       "Medio                  390     769\n",
       "Medio Bajo             845    1349"
      ]
     },
     "execution_count": 44,
     "metadata": {},
     "output_type": "execute_result"
    }
   ],
   "source": [
    "pd.crosstab(base_union_sep['nivel_prob'], base_union_sep['camp_anteriores'])"
   ]
  },
  {
   "cell_type": "code",
   "execution_count": 45,
   "metadata": {},
   "outputs": [
    {
     "data": {
      "text/html": [
       "<div>\n",
       "<style scoped>\n",
       "    .dataframe tbody tr th:only-of-type {\n",
       "        vertical-align: middle;\n",
       "    }\n",
       "\n",
       "    .dataframe tbody tr th {\n",
       "        vertical-align: top;\n",
       "    }\n",
       "\n",
       "    .dataframe thead th {\n",
       "        text-align: right;\n",
       "    }\n",
       "</style>\n",
       "<table border=\"1\" class=\"dataframe\">\n",
       "  <thead>\n",
       "    <tr style=\"text-align: right;\">\n",
       "      <th>camp_anteriores</th>\n",
       "      <th>No Tocado</th>\n",
       "      <th>Tocado</th>\n",
       "    </tr>\n",
       "    <tr>\n",
       "      <th>nivel_prob</th>\n",
       "      <th></th>\n",
       "      <th></th>\n",
       "    </tr>\n",
       "  </thead>\n",
       "  <tbody>\n",
       "    <tr>\n",
       "      <th>Alto</th>\n",
       "      <td>672</td>\n",
       "      <td>1166</td>\n",
       "    </tr>\n",
       "    <tr>\n",
       "      <th>Bajo</th>\n",
       "      <td>1472</td>\n",
       "      <td>3081</td>\n",
       "    </tr>\n",
       "    <tr>\n",
       "      <th>Medio</th>\n",
       "      <td>403</td>\n",
       "      <td>562</td>\n",
       "    </tr>\n",
       "    <tr>\n",
       "      <th>Medio Bajo</th>\n",
       "      <td>571</td>\n",
       "      <td>995</td>\n",
       "    </tr>\n",
       "  </tbody>\n",
       "</table>\n",
       "</div>"
      ],
      "text/plain": [
       "camp_anteriores  No Tocado  Tocado\n",
       "nivel_prob                        \n",
       "Alto                   672    1166\n",
       "Bajo                  1472    3081\n",
       "Medio                  403     562\n",
       "Medio Bajo             571     995"
      ]
     },
     "execution_count": 45,
     "metadata": {},
     "output_type": "execute_result"
    }
   ],
   "source": [
    "pd.crosstab(base_union_oct['nivel_prob'], base_union_oct['camp_anteriores'])"
   ]
  },
  {
   "cell_type": "code",
   "execution_count": 46,
   "metadata": {},
   "outputs": [
    {
     "data": {
      "text/html": [
       "<div>\n",
       "<style scoped>\n",
       "    .dataframe tbody tr th:only-of-type {\n",
       "        vertical-align: middle;\n",
       "    }\n",
       "\n",
       "    .dataframe tbody tr th {\n",
       "        vertical-align: top;\n",
       "    }\n",
       "\n",
       "    .dataframe thead th {\n",
       "        text-align: right;\n",
       "    }\n",
       "</style>\n",
       "<table border=\"1\" class=\"dataframe\">\n",
       "  <thead>\n",
       "    <tr style=\"text-align: right;\">\n",
       "      <th>camp_anteriores</th>\n",
       "      <th>No Tocado</th>\n",
       "      <th>Tocado</th>\n",
       "    </tr>\n",
       "    <tr>\n",
       "      <th>nivel_prob</th>\n",
       "      <th></th>\n",
       "      <th></th>\n",
       "    </tr>\n",
       "  </thead>\n",
       "  <tbody>\n",
       "    <tr>\n",
       "      <th>Alto</th>\n",
       "      <td>2346</td>\n",
       "      <td>411</td>\n",
       "    </tr>\n",
       "    <tr>\n",
       "      <th>Bajo</th>\n",
       "      <td>2190</td>\n",
       "      <td>1262</td>\n",
       "    </tr>\n",
       "    <tr>\n",
       "      <th>Medio</th>\n",
       "      <td>1404</td>\n",
       "      <td>334</td>\n",
       "    </tr>\n",
       "    <tr>\n",
       "      <th>Medio Bajo</th>\n",
       "      <td>1292</td>\n",
       "      <td>543</td>\n",
       "    </tr>\n",
       "  </tbody>\n",
       "</table>\n",
       "</div>"
      ],
      "text/plain": [
       "camp_anteriores  No Tocado  Tocado\n",
       "nivel_prob                        \n",
       "Alto                  2346     411\n",
       "Bajo                  2190    1262\n",
       "Medio                 1404     334\n",
       "Medio Bajo            1292     543"
      ]
     },
     "execution_count": 46,
     "metadata": {},
     "output_type": "execute_result"
    }
   ],
   "source": [
    "pd.crosstab(base_union_nov['nivel_prob'], base_union_nov['camp_anteriores'])"
   ]
  },
  {
   "cell_type": "code",
   "execution_count": 47,
   "metadata": {},
   "outputs": [
    {
     "data": {
      "text/plain": [
       "1.0    1943\n",
       "2.0    1561\n",
       "4.0    1426\n",
       "3.0    1185\n",
       "5.0     687\n",
       "6.0     245\n",
       "7.0     196\n",
       "8.0      44\n",
       "0.0       2\n",
       "Name: num_no_aceptado, dtype: int64"
      ]
     },
     "execution_count": 47,
     "metadata": {},
     "output_type": "execute_result"
    }
   ],
   "source": [
    "base_union_sep['num_no_aceptado'].value_counts()"
   ]
  },
  {
   "cell_type": "code",
   "execution_count": 48,
   "metadata": {},
   "outputs": [
    {
     "data": {
      "text/plain": [
       "<matplotlib.axes._subplots.AxesSubplot at 0x7f272d355710>"
      ]
     },
     "execution_count": 48,
     "metadata": {},
     "output_type": "execute_result"
    },
    {
     "data": {
      "image/png": "[encoded data removed]",
      "text/plain": [
       "<Figure size 432x288 with 1 Axes>"
      ]
     },
     "metadata": {
      "needs_background": "light"
     },
     "output_type": "display_data"
    }
   ],
   "source": [
    "base_union_sep['num_meses_ult_camp'].plot.hist()"
   ]
  },
  {
   "cell_type": "code",
   "execution_count": 49,
   "metadata": {},
   "outputs": [
    {
     "data": {
      "text/plain": [
       "<matplotlib.axes._subplots.AxesSubplot at 0x7f272c3f66d8>"
      ]
     },
     "execution_count": 49,
     "metadata": {},
     "output_type": "execute_result"
    },
    {
     "data": {
      "image/png": "[encoded data removed]",
      "text/plain": [
       "<Figure size 432x288 with 1 Axes>"
      ]
     },
     "metadata": {
      "needs_background": "light"
     },
     "output_type": "display_data"
    }
   ],
   "source": [
    "base_union_oct['num_meses_ult_camp'].plot.hist()"
   ]
  },
  {
   "cell_type": "code",
   "execution_count": 50,
   "metadata": {},
   "outputs": [
    {
     "data": {
      "text/plain": [
       "<matplotlib.axes._subplots.AxesSubplot at 0x7f27fa910cf8>"
      ]
     },
     "execution_count": 50,
     "metadata": {},
     "output_type": "execute_result"
    },
    {
     "data": {
      "image/png": "[encoded data removed]",
      "text/plain": [
       "<Figure size 432x288 with 1 Axes>"
      ]
     },
     "metadata": {
      "needs_background": "light"
     },
     "output_type": "display_data"
    }
   ],
   "source": [
    "base_union_nov['num_meses_ult_camp'].plot.hist()"
   ]
  },
  {
   "cell_type": "code",
   "execution_count": 51,
   "metadata": {},
   "outputs": [
    {
     "name": "stdout",
     "output_type": "stream",
     "text": [
      "Promedio de no aceptados: 2.8746055700370423\n"
     ]
    },
    {
     "data": {
      "text/plain": [
       "<matplotlib.axes._subplots.AxesSubplot at 0x7f26f79f7080>"
      ]
     },
     "execution_count": 51,
     "metadata": {},
     "output_type": "execute_result"
    },
    {
     "data": {
      "image/png": "[encoded data removed]",
      "text/plain": [
       "<Figure size 432x288 with 1 Axes>"
      ]
     },
     "metadata": {
      "needs_background": "light"
     },
     "output_type": "display_data"
    }
   ],
   "source": [
    "## De los tocados:\n",
    "print(\"Promedio de no aceptados:\",base_union_sep['num_no_aceptado'].mean())\n",
    "base_union_sep['num_no_aceptado'].plot.hist()"
   ]
  },
  {
   "cell_type": "code",
   "execution_count": 52,
   "metadata": {},
   "outputs": [
    {
     "name": "stdout",
     "output_type": "stream",
     "text": [
      "Promedio de no aceptados: 2.598102766798419\n"
     ]
    },
    {
     "data": {
      "text/plain": [
       "<matplotlib.axes._subplots.AxesSubplot at 0x7f272d1ea2e8>"
      ]
     },
     "execution_count": 52,
     "metadata": {},
     "output_type": "execute_result"
    },
    {
     "data": {
      "image/png": "[encoded data removed]",
      "text/plain": [
       "<Figure size 432x288 with 1 Axes>"
      ]
     },
     "metadata": {
      "needs_background": "light"
     },
     "output_type": "display_data"
    }
   ],
   "source": [
    "## De los tocados:\n",
    "print(\"Promedio de no aceptados:\",base_union_oct['num_no_aceptado'].mean())\n",
    "base_union_oct['num_no_aceptado'].plot.hist()"
   ]
  },
  {
   "cell_type": "code",
   "execution_count": 53,
   "metadata": {},
   "outputs": [
    {
     "name": "stdout",
     "output_type": "stream",
     "text": [
      "Promedio de no aceptados: 2.123921568627451\n"
     ]
    },
    {
     "data": {
      "text/plain": [
       "<matplotlib.axes._subplots.AxesSubplot at 0x7f272d1c2908>"
      ]
     },
     "execution_count": 53,
     "metadata": {},
     "output_type": "execute_result"
    },
    {
     "data": {
      "image/png": "[encoded data removed]",
      "text/plain": [
       "<Figure size 432x288 with 1 Axes>"
      ]
     },
     "metadata": {
      "needs_background": "light"
     },
     "output_type": "display_data"
    }
   ],
   "source": [
    "## De los tocados:\n",
    "print(\"Promedio de no aceptados:\",base_union_nov['num_no_aceptado'].mean())\n",
    "base_union_nov['num_no_aceptado'].plot.hist()"
   ]
  }
 ],
 "metadata": {
  "kernelspec": {
   "display_name": "Python 3",
   "language": "python",
   "name": "python3"
  },
  "language_info": {
   "codemirror_mode": {
    "name": "ipython",
    "version": 3
   },
   "file_extension": ".py",
   "mimetype": "text/x-python",
   "name": "python",
   "nbconvert_exporter": "python",
   "pygments_lexer": "ipython3",
   "version": "3.7.3"
  }
 },
 "nbformat": 4,
 "nbformat_minor": 2
}
